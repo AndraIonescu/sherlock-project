{
 "cells": [
  {
   "cell_type": "code",
   "execution_count": 1,
   "metadata": {
    "scrolled": true
   },
   "outputs": [],
   "source": [
    "%load_ext autoreload\n",
    "%autoreload 2"
   ]
  },
  {
   "cell_type": "code",
   "execution_count": 2,
   "metadata": {},
   "outputs": [],
   "source": [
    "nn_model_id = 'retrained_sherlock'"
   ]
  },
  {
   "cell_type": "code",
   "execution_count": 3,
   "metadata": {},
   "outputs": [],
   "source": [
    "import pandas as pd\n",
    "import numpy as np\n",
    "\n",
    "from sherlock.deploy.train_sherlock import train_sherlock\n",
    "from sherlock.deploy.predict_sherlock import predict_sherlock\n",
    "from datetime import datetime\n",
    "from sklearn.metrics import f1_score, classification_report"
   ]
  },
  {
   "cell_type": "markdown",
   "metadata": {},
   "source": [
    "### Load training and validation sets"
   ]
  },
  {
   "cell_type": "code",
   "execution_count": 4,
   "metadata": {},
   "outputs": [
    {
     "name": "stdout",
     "output_type": "stream",
     "text": [
      "Started at 2022-02-07 14:19:57.111717\n",
      "Load data (train) process took 0:00:04.862089 seconds.\n"
     ]
    }
   ],
   "source": [
    "start = datetime.now()\n",
    "print(f'Started at {start}')\n",
    "\n",
    "X_train = pd.read_parquet('train.parquet')\n",
    "y_train = pd.read_parquet('../data/raw/train_labels.parquet').values.flatten()\n",
    "\n",
    "y_train = np.array([x.lower() for x in y_train])\n",
    "\n",
    "print(f'Load data (train) process took {datetime.now() - start} seconds.')"
   ]
  },
  {
   "cell_type": "code",
   "execution_count": 5,
   "metadata": {},
   "outputs": [
    {
     "name": "stdout",
     "output_type": "stream",
     "text": [
      "Distinct types for columns in the Dataframe (should be all float32):\n",
      "{dtype('float32')}\n"
     ]
    }
   ],
   "source": [
    "print('Distinct types for columns in the Dataframe (should be all float32):')\n",
    "print(set(X_train.dtypes))"
   ]
  },
  {
   "cell_type": "code",
   "execution_count": 6,
   "metadata": {},
   "outputs": [
    {
     "name": "stdout",
     "output_type": "stream",
     "text": [
      "Started at 2022-02-07 14:20:02.237587\n",
      "Load data (validation) process took 0:00:01.877156 seconds.\n"
     ]
    }
   ],
   "source": [
    "start = datetime.now()\n",
    "print(f'Started at {start}')\n",
    "\n",
    "X_validation = pd.read_parquet('validation.parquet')\n",
    "y_validation = pd.read_parquet('../data/raw/val_labels.parquet').values.flatten()\n",
    "\n",
    "y_validation = np.array([x.lower() for x in y_validation])\n",
    "\n",
    "print(f'Load data (validation) process took {datetime.now() - start} seconds.')"
   ]
  },
  {
   "cell_type": "markdown",
   "metadata": {},
   "source": [
    "### Re-train Sherlock"
   ]
  },
  {
   "cell_type": "code",
   "execution_count": 7,
   "metadata": {},
   "outputs": [
    {
     "name": "stdout",
     "output_type": "stream",
     "text": [
      "Started at 2022-02-07 14:20:04.187351\n"
     ]
    },
    {
     "name": "stderr",
     "output_type": "stream",
     "text": [
      "WARNING: Logging before flag parsing goes to stderr.\n",
      "W0207 14:20:04.670890 4557827584 deprecation.py:506] From /Users/lowecg/source/private-github/sherlock-project-1/venv/lib/python3.7/site-packages/tensorflow_core/python/ops/init_ops.py:97: calling Zeros.__init__ (from tensorflow.python.ops.init_ops) with dtype is deprecated and will be removed in a future version.\n",
      "Instructions for updating:\n",
      "Call initializer instance with the dtype argument instead of passing it to the constructor\n",
      "W0207 14:20:04.672062 4557827584 deprecation.py:506] From /Users/lowecg/source/private-github/sherlock-project-1/venv/lib/python3.7/site-packages/tensorflow_core/python/ops/init_ops.py:97: calling Ones.__init__ (from tensorflow.python.ops.init_ops) with dtype is deprecated and will be removed in a future version.\n",
      "Instructions for updating:\n",
      "Call initializer instance with the dtype argument instead of passing it to the constructor\n",
      "W0207 14:20:04.675765 4557827584 deprecation.py:506] From /Users/lowecg/source/private-github/sherlock-project-1/venv/lib/python3.7/site-packages/tensorflow_core/python/ops/init_ops.py:97: calling VarianceScaling.__init__ (from tensorflow.python.ops.init_ops) with dtype is deprecated and will be removed in a future version.\n",
      "Instructions for updating:\n",
      "Call initializer instance with the dtype argument instead of passing it to the constructor\n",
      "W0207 14:20:04.698212 4557827584 deprecation.py:506] From /Users/lowecg/source/private-github/sherlock-project-1/venv/lib/python3.7/site-packages/tensorflow_core/python/ops/resource_variable_ops.py:1630: calling BaseResourceVariable.__init__ (from tensorflow.python.ops.resource_variable_ops) with constraint is deprecated and will be removed in a future version.\n",
      "Instructions for updating:\n",
      "If using Keras pass *_constraint arguments to layers.\n"
     ]
    },
    {
     "name": "stdout",
     "output_type": "stream",
     "text": [
      "Successfully loaded and compiled model, now fitting model on data.\n",
      "Train on 412059 samples, validate on 137353 samples\n"
     ]
    },
    {
     "name": "stderr",
     "output_type": "stream",
     "text": [
      "2022-02-07 14:20:08.798394: I tensorflow/core/platform/cpu_feature_guard.cc:142] Your CPU supports instructions that this TensorFlow binary was not compiled to use: AVX2 FMA\n",
      "2022-02-07 14:20:08.845623: I tensorflow/compiler/xla/service/service.cc:168] XLA service 0x7f973e4dbe30 initialized for platform Host (this does not guarantee that XLA will be used). Devices:\n",
      "2022-02-07 14:20:08.845638: I tensorflow/compiler/xla/service/service.cc:176]   StreamExecutor device (0): Host, Default Version\n"
     ]
    },
    {
     "name": "stdout",
     "output_type": "stream",
     "text": [
      "Epoch 1/100\n",
      "412059/412059 [==============================] - 67s 162us/sample - loss: 1.6059 - categorical_accuracy: 0.6987 - val_loss: 1.0319 - val_categorical_accuracy: 0.8312\n",
      "Epoch 2/100\n",
      "412059/412059 [==============================] - 63s 153us/sample - loss: 0.9584 - categorical_accuracy: 0.8376 - val_loss: 0.9449 - val_categorical_accuracy: 0.8483\n",
      "Epoch 3/100\n",
      "412059/412059 [==============================] - 63s 153us/sample - loss: 0.8482 - categorical_accuracy: 0.8601 - val_loss: 0.8895 - val_categorical_accuracy: 0.8594\n",
      "Epoch 4/100\n",
      "412059/412059 [==============================] - 74s 179us/sample - loss: 0.7844 - categorical_accuracy: 0.8715 - val_loss: 0.8564 - val_categorical_accuracy: 0.8641\n",
      "Epoch 5/100\n",
      "412059/412059 [==============================] - 73s 178us/sample - loss: 0.7366 - categorical_accuracy: 0.8794 - val_loss: 0.8379 - val_categorical_accuracy: 0.8667\n",
      "Epoch 6/100\n",
      "412059/412059 [==============================] - 65s 158us/sample - loss: 0.6984 - categorical_accuracy: 0.8854 - val_loss: 0.8024 - val_categorical_accuracy: 0.8708\n",
      "Epoch 7/100\n",
      "412059/412059 [==============================] - 65s 157us/sample - loss: 0.6667 - categorical_accuracy: 0.8897 - val_loss: 0.7899 - val_categorical_accuracy: 0.8720\n",
      "Epoch 8/100\n",
      "412059/412059 [==============================] - 65s 157us/sample - loss: 0.6387 - categorical_accuracy: 0.8935 - val_loss: 0.7773 - val_categorical_accuracy: 0.8746\n",
      "Epoch 9/100\n",
      "412059/412059 [==============================] - 65s 157us/sample - loss: 0.6146 - categorical_accuracy: 0.8972 - val_loss: 0.7508 - val_categorical_accuracy: 0.8771\n",
      "Epoch 10/100\n",
      "412059/412059 [==============================] - 65s 157us/sample - loss: 0.5920 - categorical_accuracy: 0.8999 - val_loss: 0.7383 - val_categorical_accuracy: 0.8781\n",
      "Epoch 11/100\n",
      "412059/412059 [==============================] - 66s 159us/sample - loss: 0.5712 - categorical_accuracy: 0.9030 - val_loss: 0.7270 - val_categorical_accuracy: 0.8795\n",
      "Epoch 12/100\n",
      "412059/412059 [==============================] - 66s 160us/sample - loss: 0.5537 - categorical_accuracy: 0.9052 - val_loss: 0.7092 - val_categorical_accuracy: 0.8810\n",
      "Epoch 13/100\n",
      "412059/412059 [==============================] - 66s 160us/sample - loss: 0.5379 - categorical_accuracy: 0.9070 - val_loss: 0.7071 - val_categorical_accuracy: 0.8817\n",
      "Epoch 14/100\n",
      "412059/412059 [==============================] - 66s 160us/sample - loss: 0.5212 - categorical_accuracy: 0.9090 - val_loss: 0.6993 - val_categorical_accuracy: 0.8820\n",
      "Epoch 15/100\n",
      "412059/412059 [==============================] - 66s 161us/sample - loss: 0.5070 - categorical_accuracy: 0.9106 - val_loss: 0.6906 - val_categorical_accuracy: 0.8839\n",
      "Epoch 16/100\n",
      "412059/412059 [==============================] - 66s 160us/sample - loss: 0.4940 - categorical_accuracy: 0.9134 - val_loss: 0.6786 - val_categorical_accuracy: 0.8848\n",
      "Epoch 17/100\n",
      "412059/412059 [==============================] - 67s 163us/sample - loss: 0.4824 - categorical_accuracy: 0.9141 - val_loss: 0.6732 - val_categorical_accuracy: 0.8852\n",
      "Epoch 18/100\n",
      "412059/412059 [==============================] - 68s 164us/sample - loss: 0.4703 - categorical_accuracy: 0.9162 - val_loss: 0.6653 - val_categorical_accuracy: 0.8857\n",
      "Epoch 19/100\n",
      "412059/412059 [==============================] - 66s 161us/sample - loss: 0.4588 - categorical_accuracy: 0.9176 - val_loss: 0.6722 - val_categorical_accuracy: 0.8868\n",
      "Epoch 20/100\n",
      "412059/412059 [==============================] - 67s 162us/sample - loss: 0.4493 - categorical_accuracy: 0.9187 - val_loss: 0.6544 - val_categorical_accuracy: 0.8871\n",
      "Epoch 21/100\n",
      "412059/412059 [==============================] - 66s 160us/sample - loss: 0.4407 - categorical_accuracy: 0.9198 - val_loss: 0.6571 - val_categorical_accuracy: 0.8868\n",
      "Epoch 22/100\n",
      "412059/412059 [==============================] - 66s 160us/sample - loss: 0.4329 - categorical_accuracy: 0.9206 - val_loss: 0.6516 - val_categorical_accuracy: 0.8875\n",
      "Epoch 23/100\n",
      "412059/412059 [==============================] - 66s 160us/sample - loss: 0.4233 - categorical_accuracy: 0.9220 - val_loss: 0.6408 - val_categorical_accuracy: 0.8895\n",
      "Epoch 24/100\n",
      "412059/412059 [==============================] - 67s 162us/sample - loss: 0.4168 - categorical_accuracy: 0.9230 - val_loss: 0.6402 - val_categorical_accuracy: 0.8892\n",
      "Epoch 25/100\n",
      "412059/412059 [==============================] - 64s 155us/sample - loss: 0.4099 - categorical_accuracy: 0.9239 - val_loss: 0.6349 - val_categorical_accuracy: 0.8894\n",
      "Epoch 26/100\n",
      "412059/412059 [==============================] - 65s 157us/sample - loss: 0.4033 - categorical_accuracy: 0.9252 - val_loss: 0.6342 - val_categorical_accuracy: 0.8908\n",
      "Epoch 27/100\n",
      "412059/412059 [==============================] - 65s 158us/sample - loss: 0.3965 - categorical_accuracy: 0.9260 - val_loss: 0.6337 - val_categorical_accuracy: 0.8902\n",
      "Epoch 28/100\n",
      "412059/412059 [==============================] - 65s 158us/sample - loss: 0.3896 - categorical_accuracy: 0.9268 - val_loss: 0.6330 - val_categorical_accuracy: 0.8902\n",
      "Epoch 29/100\n",
      "412059/412059 [==============================] - 71s 173us/sample - loss: 0.3852 - categorical_accuracy: 0.9276 - val_loss: 0.6341 - val_categorical_accuracy: 0.8908\n",
      "Epoch 30/100\n",
      "412059/412059 [==============================] - 66s 160us/sample - loss: 0.3797 - categorical_accuracy: 0.9287 - val_loss: 0.6249 - val_categorical_accuracy: 0.8910\n",
      "Epoch 31/100\n",
      "412059/412059 [==============================] - 65s 157us/sample - loss: 0.3751 - categorical_accuracy: 0.9290 - val_loss: 0.6240 - val_categorical_accuracy: 0.8926\n",
      "Epoch 32/100\n",
      "412059/412059 [==============================] - 64s 156us/sample - loss: 0.3711 - categorical_accuracy: 0.9299 - val_loss: 0.6255 - val_categorical_accuracy: 0.8922\n",
      "Epoch 33/100\n",
      "412059/412059 [==============================] - 66s 159us/sample - loss: 0.3667 - categorical_accuracy: 0.9307 - val_loss: 0.6329 - val_categorical_accuracy: 0.8909\n",
      "Epoch 34/100\n",
      "412059/412059 [==============================] - 66s 159us/sample - loss: 0.3623 - categorical_accuracy: 0.9309 - val_loss: 0.6253 - val_categorical_accuracy: 0.8917\n",
      "Epoch 35/100\n",
      "412059/412059 [==============================] - 66s 159us/sample - loss: 0.3579 - categorical_accuracy: 0.9317 - val_loss: 0.6219 - val_categorical_accuracy: 0.8923\n",
      "Epoch 36/100\n",
      "412059/412059 [==============================] - 66s 159us/sample - loss: 0.3534 - categorical_accuracy: 0.9328 - val_loss: 0.6331 - val_categorical_accuracy: 0.8913\n",
      "Epoch 37/100\n",
      "412059/412059 [==============================] - 65s 157us/sample - loss: 0.3513 - categorical_accuracy: 0.9325 - val_loss: 0.6224 - val_categorical_accuracy: 0.8914\n",
      "Epoch 38/100\n",
      "412059/412059 [==============================] - 65s 157us/sample - loss: 0.3474 - categorical_accuracy: 0.9335 - val_loss: 0.6180 - val_categorical_accuracy: 0.8924\n",
      "Epoch 39/100\n",
      "412059/412059 [==============================] - 65s 158us/sample - loss: 0.3437 - categorical_accuracy: 0.9338 - val_loss: 0.6218 - val_categorical_accuracy: 0.8931\n",
      "Epoch 40/100\n",
      "412059/412059 [==============================] - 65s 157us/sample - loss: 0.3409 - categorical_accuracy: 0.9346 - val_loss: 0.6259 - val_categorical_accuracy: 0.8935\n",
      "Epoch 41/100\n",
      "412059/412059 [==============================] - 65s 157us/sample - loss: 0.3376 - categorical_accuracy: 0.9351 - val_loss: 0.6275 - val_categorical_accuracy: 0.8929\n",
      "Epoch 42/100\n",
      "412059/412059 [==============================] - 65s 158us/sample - loss: 0.3354 - categorical_accuracy: 0.9354 - val_loss: 0.6138 - val_categorical_accuracy: 0.8931\n",
      "Epoch 43/100\n",
      "412059/412059 [==============================] - 65s 157us/sample - loss: 0.3331 - categorical_accuracy: 0.9357 - val_loss: 0.6178 - val_categorical_accuracy: 0.8933\n",
      "Epoch 44/100\n",
      "412059/412059 [==============================] - 66s 159us/sample - loss: 0.3305 - categorical_accuracy: 0.9362 - val_loss: 0.6166 - val_categorical_accuracy: 0.8928\n",
      "Epoch 45/100\n",
      "412059/412059 [==============================] - 68s 164us/sample - loss: 0.3288 - categorical_accuracy: 0.9365 - val_loss: 0.6223 - val_categorical_accuracy: 0.8929\n",
      "Epoch 46/100\n",
      "412059/412059 [==============================] - 62s 152us/sample - loss: 0.3247 - categorical_accuracy: 0.9372 - val_loss: 0.6158 - val_categorical_accuracy: 0.8934\n"
     ]
    },
    {
     "name": "stdout",
     "output_type": "stream",
     "text": [
      "Epoch 47/100\n",
      "412059/412059 [==============================] - 61s 149us/sample - loss: 0.3241 - categorical_accuracy: 0.9374 - val_loss: 0.6131 - val_categorical_accuracy: 0.8938\n",
      "Epoch 48/100\n",
      "412059/412059 [==============================] - 62s 149us/sample - loss: 0.3207 - categorical_accuracy: 0.9379 - val_loss: 0.6104 - val_categorical_accuracy: 0.8945\n",
      "Epoch 49/100\n",
      "412059/412059 [==============================] - 61s 149us/sample - loss: 0.3182 - categorical_accuracy: 0.9385 - val_loss: 0.6169 - val_categorical_accuracy: 0.8943\n",
      "Epoch 50/100\n",
      "412059/412059 [==============================] - 59s 144us/sample - loss: 0.3186 - categorical_accuracy: 0.9382 - val_loss: 0.6190 - val_categorical_accuracy: 0.8947\n",
      "Epoch 51/100\n",
      "412059/412059 [==============================] - 59s 144us/sample - loss: 0.3171 - categorical_accuracy: 0.9384 - val_loss: 0.6145 - val_categorical_accuracy: 0.8948\n",
      "Epoch 52/100\n",
      "412059/412059 [==============================] - 60s 146us/sample - loss: 0.3138 - categorical_accuracy: 0.9393 - val_loss: 0.6167 - val_categorical_accuracy: 0.8945\n",
      "Epoch 53/100\n",
      "412059/412059 [==============================] - 62s 150us/sample - loss: 0.3122 - categorical_accuracy: 0.9399 - val_loss: 0.6111 - val_categorical_accuracy: 0.8943\n",
      "Retrained Sherlock.\n",
      "Trained and saved new model.\n",
      "Finished at 2022-02-07 15:17:45.203004, took 0:57:41.015671 seconds\n"
     ]
    }
   ],
   "source": [
    "start = datetime.now()\n",
    "print(f'Started at {start}')\n",
    "\n",
    "train_sherlock(X_train, y_train, X_validation, y_validation, nn_id=nn_model_id);\n",
    "\n",
    "print('Trained and saved new model.')\n",
    "print(f'Finished at {datetime.now()}, took {datetime.now() - start} seconds')"
   ]
  },
  {
   "cell_type": "markdown",
   "metadata": {},
   "source": [
    "### Load test set"
   ]
  },
  {
   "cell_type": "code",
   "execution_count": 8,
   "metadata": {},
   "outputs": [
    {
     "name": "stdout",
     "output_type": "stream",
     "text": [
      "Started at 2022-02-07 15:17:45.266596\n",
      "Trained and saved new model.\n",
      "Finished at 2022-02-07 15:17:47.026177, took 0:00:01.759595 seconds\n"
     ]
    }
   ],
   "source": [
    "start = datetime.now()\n",
    "print(f'Started at {start}')\n",
    "\n",
    "X_test = pd.read_parquet('test.parquet')\n",
    "y_test = pd.read_parquet('../data/raw/test_labels.parquet').values.flatten()\n",
    "\n",
    "y_test = np.array([x.lower() for x in y_test])\n",
    "\n",
    "print('Trained and saved new model.')\n",
    "print(f'Finished at {datetime.now()}, took {datetime.now() - start} seconds')"
   ]
  },
  {
   "cell_type": "markdown",
   "metadata": {},
   "source": [
    "### Make prediction"
   ]
  },
  {
   "cell_type": "code",
   "execution_count": 9,
   "metadata": {},
   "outputs": [],
   "source": [
    "predicted_labels = predict_sherlock(X_test, nn_id=nn_model_id)"
   ]
  },
  {
   "cell_type": "code",
   "execution_count": 10,
   "metadata": {},
   "outputs": [
    {
     "name": "stdout",
     "output_type": "stream",
     "text": [
      "prediction count 137353, type = <class 'numpy.ndarray'>\n"
     ]
    },
    {
     "data": {
      "text/plain": [
       "0.8940572197723697"
      ]
     },
     "execution_count": 10,
     "metadata": {},
     "output_type": "execute_result"
    }
   ],
   "source": [
    "print(f'prediction count {len(predicted_labels)}, type = {type(predicted_labels)}')\n",
    "\n",
    "size=len(y_test)\n",
    "\n",
    "# Should be fully deterministic too.\n",
    "f1_score(y_test[:size], predicted_labels[:size], average=\"weighted\")"
   ]
  },
  {
   "cell_type": "code",
   "execution_count": 11,
   "metadata": {},
   "outputs": [],
   "source": [
    "# Best results\n",
    "# 0.8956975031011328, adam optimiser, took 0:59:19.320310 seconds (retrained_sherlock8)\n",
    "\n",
    "# 0.8871638630500646, SGD Nesterov optimiser,  took 1:37:09.679227 seconds (retrained_sherlock9)\n",
    "\n",
    "# LAST\n",
    "# 0.8941992181577104\n",
    "# 0.8661276466591463\n",
    "# 0.8765360861865846\n",
    "# 0.8777825108666634\n",
    "# 0.8709458033528152\n",
    "# 0.8526528126158138\n",
    "# 0.836800124917518\n",
    "# 0.8590214693450329\n",
    "# 0.8583626471084315"
   ]
  },
  {
   "cell_type": "code",
   "execution_count": 12,
   "metadata": {},
   "outputs": [],
   "source": [
    "classes = np.load(f\"../sherlock/deploy/classes_{nn_model_id}.npy\", allow_pickle=True)\n",
    "\n",
    "report = classification_report(y_test, predicted_labels, output_dict=True)\n",
    "\n",
    "class_scores = list(filter(lambda x: isinstance(x, tuple) and isinstance(x[1], dict) and 'f1-score' in x[1] and x[0] in classes, list(report.items())))\n",
    "\n",
    "class_scores = sorted(class_scores, key=lambda item: item[1]['f1-score'], reverse=True)"
   ]
  },
  {
   "cell_type": "markdown",
   "metadata": {},
   "source": [
    "### Top 5 Types"
   ]
  },
  {
   "cell_type": "code",
   "execution_count": 13,
   "metadata": {},
   "outputs": [
    {
     "name": "stdout",
     "output_type": "stream",
     "text": [
      "\t\tf1-score\tprecision\trecall\t\tsupport\n",
      "grades\t\t0.992\t\t0.991\t\t0.993\t\t1765\n",
      "isbn\t\t0.990\t\t0.992\t\t0.988\t\t1430\n",
      "jockey\t\t0.986\t\t0.981\t\t0.990\t\t2819\n",
      "industry\t0.982\t\t0.979\t\t0.985\t\t2958\n",
      "birth date\t0.978\t\t0.981\t\t0.975\t\t479\n"
     ]
    }
   ],
   "source": [
    "print(f\"\\t\\tf1-score\\tprecision\\trecall\\t\\tsupport\")\n",
    "\n",
    "for key, value in class_scores[0:5]:\n",
    "    if len(key) >= 8:\n",
    "        tabs = '\\t' * 1\n",
    "    else:\n",
    "        tabs = '\\t' * 2\n",
    "\n",
    "    print(f\"{key}{tabs}{value['f1-score']:.3f}\\t\\t{value['precision']:.3f}\\t\\t{value['recall']:.3f}\\t\\t{value['support']}\")"
   ]
  },
  {
   "cell_type": "markdown",
   "metadata": {},
   "source": [
    "### Bottom 5 Types"
   ]
  },
  {
   "cell_type": "code",
   "execution_count": 14,
   "metadata": {
    "scrolled": true
   },
   "outputs": [
    {
     "name": "stdout",
     "output_type": "stream",
     "text": [
      "\t\tf1-score\tprecision\trecall\t\tsupport\n",
      "rank\t\t0.715\t\t0.691\t\t0.741\t\t2983\n",
      "person\t\t0.643\t\t0.625\t\t0.661\t\t579\n",
      "sales\t\t0.562\t\t0.689\t\t0.475\t\t322\n",
      "director\t0.562\t\t0.584\t\t0.542\t\t225\n",
      "ranking\t\t0.469\t\t0.823\t\t0.328\t\t439\n"
     ]
    }
   ],
   "source": [
    "print(f\"\\t\\tf1-score\\tprecision\\trecall\\t\\tsupport\")\n",
    "\n",
    "for key, value in class_scores[len(class_scores)-5:len(class_scores)]:\n",
    "    if len(key) >= 8:\n",
    "        tabs = '\\t' * 1\n",
    "    else:\n",
    "        tabs = '\\t' * 2\n",
    "\n",
    "    print(f\"{key}{tabs}{value['f1-score']:.3f}\\t\\t{value['precision']:.3f}\\t\\t{value['recall']:.3f}\\t\\t{value['support']}\")"
   ]
  },
  {
   "cell_type": "markdown",
   "metadata": {},
   "source": [
    "### All Scores"
   ]
  },
  {
   "cell_type": "code",
   "execution_count": 15,
   "metadata": {},
   "outputs": [
    {
     "name": "stdout",
     "output_type": "stream",
     "text": [
      "                precision    recall  f1-score   support\n",
      "\n",
      "       address      0.940     0.941     0.941      3003\n",
      "     affiliate      0.976     0.794     0.876       204\n",
      "   affiliation      0.975     0.956     0.965      1768\n",
      "           age      0.852     0.961     0.903      3033\n",
      "         album      0.879     0.898     0.889      3035\n",
      "          area      0.869     0.823     0.846      1987\n",
      "        artist      0.813     0.874     0.842      3043\n",
      "    birth date      0.981     0.975     0.978       479\n",
      "   birth place      0.959     0.907     0.932       418\n",
      "         brand      0.774     0.706     0.738       574\n",
      "      capacity      0.840     0.713     0.771       362\n",
      "      category      0.909     0.896     0.903      3087\n",
      "          city      0.846     0.908     0.876      2966\n",
      "         class      0.901     0.917     0.909      2971\n",
      "classification      0.938     0.852     0.893       587\n",
      "          club      0.969     0.960     0.965      2977\n",
      "          code      0.920     0.908     0.914      2956\n",
      "    collection      0.970     0.939     0.954       476\n",
      "       command      0.923     0.916     0.919      1045\n",
      "       company      0.886     0.899     0.892      3041\n",
      "     component      0.864     0.883     0.874      1226\n",
      "     continent      0.886     0.890     0.888       227\n",
      "       country      0.898     0.939     0.918      3038\n",
      "        county      0.938     0.960     0.949      2959\n",
      "       creator      0.839     0.839     0.839       347\n",
      "        credit      0.854     0.812     0.832       941\n",
      "      currency      0.973     0.968     0.970       405\n",
      "           day      0.938     0.899     0.918      3038\n",
      "         depth      0.955     0.918     0.936       947\n",
      "   description      0.786     0.874     0.828      3042\n",
      "      director      0.584     0.542     0.562       225\n",
      "      duration      0.938     0.945     0.941      3000\n",
      "     education      0.866     0.805     0.834       313\n",
      "     elevation      0.944     0.953     0.949      1299\n",
      "        family      0.958     0.889     0.922       746\n",
      "     file size      0.908     0.873     0.890       361\n",
      "        format      0.975     0.956     0.965      2956\n",
      "        gender      0.869     0.697     0.774      1030\n",
      "         genre      0.965     0.947     0.956      1163\n",
      "        grades      0.991     0.993     0.992      1765\n",
      "      industry      0.979     0.985     0.982      2958\n",
      "          isbn      0.992     0.988     0.990      1430\n",
      "        jockey      0.981     0.990     0.986      2819\n",
      "      language      0.932     0.950     0.941      1474\n",
      "      location      0.867     0.832     0.849      2949\n",
      "  manufacturer      0.892     0.794     0.840       945\n",
      "          name      0.783     0.705     0.742      3017\n",
      "   nationality      0.805     0.748     0.775       424\n",
      "         notes      0.734     0.827     0.778      2303\n",
      "      operator      0.825     0.842     0.833       404\n",
      "         order      0.847     0.904     0.874      1462\n",
      "  organisation      0.856     0.794     0.824       262\n",
      "        origin      0.957     0.892     0.923      1439\n",
      "         owner      0.928     0.876     0.901      1673\n",
      "        person      0.625     0.661     0.643       579\n",
      "         plays      0.784     0.917     0.845      1513\n",
      "      position      0.806     0.844     0.824      3057\n",
      "       product      0.851     0.883     0.867      2647\n",
      "     publisher      0.890     0.910     0.900       880\n",
      "         range      0.897     0.742     0.812       577\n",
      "          rank      0.691     0.741     0.715      2983\n",
      "       ranking      0.823     0.328     0.469       439\n",
      "        region      0.877     0.814     0.844      2740\n",
      "      religion      0.972     0.915     0.942       340\n",
      "   requirement      0.920     0.803     0.858       300\n",
      "        result      0.967     0.940     0.953      2920\n",
      "         sales      0.689     0.475     0.562       322\n",
      "       service      0.972     0.920     0.945      2222\n",
      "           sex      0.896     0.947     0.921      2997\n",
      "       species      0.904     0.952     0.927       819\n",
      "         state      0.941     0.957     0.949      3030\n",
      "        status      0.956     0.930     0.942      3100\n",
      "        symbol      0.958     0.948     0.953      1752\n",
      "          team      0.868     0.864     0.866      3011\n",
      "     team name      0.902     0.829     0.864      1639\n",
      "          type      0.875     0.887     0.881      2909\n",
      "        weight      0.941     0.934     0.937      2963\n",
      "          year      0.967     0.933     0.950      3015\n",
      "\n",
      "      accuracy                          0.894    137353\n",
      "     macro avg      0.890     0.866     0.875    137353\n",
      "  weighted avg      0.896     0.894     0.894    137353\n",
      "\n"
     ]
    }
   ],
   "source": [
    "print(classification_report(y_test, predicted_labels, digits=3))"
   ]
  },
  {
   "cell_type": "markdown",
   "metadata": {},
   "source": [
    "## Review errors"
   ]
  },
  {
   "cell_type": "code",
   "execution_count": 16,
   "metadata": {},
   "outputs": [
    {
     "name": "stdout",
     "output_type": "stream",
     "text": [
      "[1116] expected \"address\" but predicted \"name\"\n",
      "[2420] expected \"address\" but predicted \"location\"\n",
      "[2616] expected \"address\" but predicted \"location\"\n",
      "[3398] expected \"address\" but predicted \"city\"\n",
      "[4354] expected \"address\" but predicted \"location\"\n",
      "[5112] expected \"address\" but predicted \"location\"\n",
      "[7119] expected \"address\" but predicted \"city\"\n",
      "[8797] expected \"address\" but predicted \"location\"\n",
      "[9574] expected \"address\" but predicted \"location\"\n",
      "[9806] expected \"address\" but predicted \"city\"\n",
      "[10035] expected \"address\" but predicted \"creator\"\n",
      "[10067] expected \"address\" but predicted \"family\"\n",
      "[10665] expected \"address\" but predicted \"area\"\n",
      "[11055] expected \"address\" but predicted \"county\"\n",
      "[11902] expected \"address\" but predicted \"team\"\n",
      "[11993] expected \"address\" but predicted \"location\"\n",
      "[12072] expected \"address\" but predicted \"city\"\n",
      "[12639] expected \"address\" but predicted \"location\"\n",
      "[14677] expected \"address\" but predicted \"location\"\n",
      "[15232] expected \"address\" but predicted \"city\"\n",
      "[15461] expected \"address\" but predicted \"location\"\n",
      "[15496] expected \"address\" but predicted \"city\"\n",
      "[15987] expected \"address\" but predicted \"artist\"\n",
      "[19953] expected \"address\" but predicted \"county\"\n",
      "[20829] expected \"address\" but predicted \"notes\"\n",
      "[21408] expected \"address\" but predicted \"position\"\n",
      "[21666] expected \"address\" but predicted \"location\"\n",
      "[22148] expected \"address\" but predicted \"location\"\n",
      "[24636] expected \"address\" but predicted \"team name\"\n",
      "[24803] expected \"address\" but predicted \"day\"\n",
      "[26113] expected \"address\" but predicted \"location\"\n",
      "[26171] expected \"address\" but predicted \"command\"\n",
      "[26184] expected \"address\" but predicted \"name\"\n",
      "[26210] expected \"address\" but predicted \"notes\"\n",
      "[26296] expected \"address\" but predicted \"file size\"\n",
      "[26559] expected \"address\" but predicted \"location\"\n",
      "[26872] expected \"address\" but predicted \"command\"\n",
      "[30403] expected \"address\" but predicted \"notes\"\n",
      "[31391] expected \"address\" but predicted \"location\"\n",
      "[31830] expected \"address\" but predicted \"location\"\n",
      "[31836] expected \"address\" but predicted \"notes\"\n",
      "[32429] expected \"address\" but predicted \"artist\"\n",
      "[32551] expected \"address\" but predicted \"city\"\n",
      "[32634] expected \"address\" but predicted \"city\"\n",
      "[32762] expected \"address\" but predicted \"artist\"\n",
      "[32785] expected \"address\" but predicted \"location\"\n",
      "[33207] expected \"address\" but predicted \"family\"\n",
      "[33975] expected \"address\" but predicted \"location\"\n",
      "[34547] expected \"address\" but predicted \"location\"\n",
      "[34711] expected \"address\" but predicted \"location\"\n",
      "[34849] expected \"address\" but predicted \"location\"\n",
      "[35467] expected \"address\" but predicted \"city\"\n",
      "[35756] expected \"address\" but predicted \"city\"\n",
      "[35938] expected \"address\" but predicted \"language\"\n",
      "[36033] expected \"address\" but predicted \"city\"\n",
      "[37084] expected \"address\" but predicted \"person\"\n",
      "[37318] expected \"address\" but predicted \"notes\"\n",
      "[37441] expected \"address\" but predicted \"team\"\n",
      "[37536] expected \"address\" but predicted \"notes\"\n",
      "[38118] expected \"address\" but predicted \"location\"\n",
      "[38874] expected \"address\" but predicted \"location\"\n",
      "[40184] expected \"address\" but predicted \"notes\"\n",
      "[40457] expected \"address\" but predicted \"country\"\n",
      "[41540] expected \"address\" but predicted \"location\"\n",
      "[42439] expected \"address\" but predicted \"area\"\n",
      "[44530] expected \"address\" but predicted \"result\"\n",
      "[44906] expected \"address\" but predicted \"location\"\n",
      "[44918] expected \"address\" but predicted \"area\"\n",
      "[46430] expected \"address\" but predicted \"location\"\n",
      "[46463] expected \"address\" but predicted \"description\"\n",
      "[47140] expected \"address\" but predicted \"area\"\n",
      "[47249] expected \"address\" but predicted \"notes\"\n",
      "[47713] expected \"address\" but predicted \"city\"\n",
      "[47810] expected \"address\" but predicted \"category\"\n",
      "[48016] expected \"address\" but predicted \"location\"\n",
      "[48289] expected \"address\" but predicted \"location\"\n",
      "[48631] expected \"address\" but predicted \"location\"\n",
      "[50329] expected \"address\" but predicted \"area\"\n",
      "[50783] expected \"address\" but predicted \"city\"\n",
      "[51643] expected \"address\" but predicted \"location\"\n",
      "[51850] expected \"address\" but predicted \"product\"\n",
      "[53206] expected \"address\" but predicted \"location\"\n",
      "[53960] expected \"address\" but predicted \"service\"\n",
      "[54248] expected \"address\" but predicted \"area\"\n",
      "[56030] expected \"address\" but predicted \"capacity\"\n",
      "[56176] expected \"address\" but predicted \"product\"\n",
      "[56708] expected \"address\" but predicted \"name\"\n",
      "[57015] expected \"address\" but predicted \"symbol\"\n",
      "[57192] expected \"address\" but predicted \"location\"\n",
      "[59506] expected \"address\" but predicted \"name\"\n",
      "[59734] expected \"address\" but predicted \"elevation\"\n",
      "[60105] expected \"address\" but predicted \"location\"\n",
      "[60136] expected \"address\" but predicted \"location\"\n",
      "[60225] expected \"address\" but predicted \"notes\"\n",
      "[60441] expected \"address\" but predicted \"location\"\n",
      "[60493] expected \"address\" but predicted \"location\"\n",
      "[60565] expected \"address\" but predicted \"ranking\"\n",
      "[61894] expected \"address\" but predicted \"notes\"\n",
      "[61975] expected \"address\" but predicted \"director\"\n",
      "[62499] expected \"address\" but predicted \"location\"\n",
      "[64427] expected \"address\" but predicted \"area\"\n",
      "[67142] expected \"address\" but predicted \"area\"\n",
      "[68064] expected \"address\" but predicted \"symbol\"\n",
      "[69794] expected \"address\" but predicted \"city\"\n",
      "[71228] expected \"address\" but predicted \"location\"\n",
      "[72001] expected \"address\" but predicted \"description\"\n",
      "[72226] expected \"address\" but predicted \"notes\"\n",
      "[73573] expected \"address\" but predicted \"location\"\n",
      "[74228] expected \"address\" but predicted \"location\"\n",
      "[75861] expected \"address\" but predicted \"location\"\n",
      "[75893] expected \"address\" but predicted \"notes\"\n",
      "[76551] expected \"address\" but predicted \"language\"\n",
      "[77796] expected \"address\" but predicted \"location\"\n",
      "[80712] expected \"address\" but predicted \"category\"\n",
      "[82082] expected \"address\" but predicted \"area\"\n",
      "[83204] expected \"address\" but predicted \"company\"\n",
      "[83478] expected \"address\" but predicted \"city\"\n",
      "[84979] expected \"address\" but predicted \"birth place\"\n",
      "[85206] expected \"address\" but predicted \"location\"\n",
      "[85353] expected \"address\" but predicted \"creator\"\n",
      "[85752] expected \"address\" but predicted \"notes\"\n",
      "[85930] expected \"address\" but predicted \"language\"\n",
      "[85971] expected \"address\" but predicted \"location\"\n",
      "[86236] expected \"address\" but predicted \"description\"\n",
      "[86891] expected \"address\" but predicted \"rank\"\n",
      "[87332] expected \"address\" but predicted \"product\"\n",
      "[87413] expected \"address\" but predicted \"location\"\n",
      "[87891] expected \"address\" but predicted \"area\"\n",
      "[87958] expected \"address\" but predicted \"location\"\n",
      "[88480] expected \"address\" but predicted \"status\"\n",
      "[88808] expected \"address\" but predicted \"description\"\n",
      "[89058] expected \"address\" but predicted \"city\"\n",
      "[90054] expected \"address\" but predicted \"name\"\n",
      "[90466] expected \"address\" but predicted \"location\"\n",
      "[90582] expected \"address\" but predicted \"city\"\n",
      "[92393] expected \"address\" but predicted \"location\"\n",
      "[92424] expected \"address\" but predicted \"location\"\n",
      "[93557] expected \"address\" but predicted \"country\"\n",
      "[95220] expected \"address\" but predicted \"notes\"\n",
      "[95411] expected \"address\" but predicted \"location\"\n",
      "[95769] expected \"address\" but predicted \"city\"\n",
      "[96379] expected \"address\" but predicted \"location\"\n",
      "[96640] expected \"address\" but predicted \"code\"\n",
      "[96728] expected \"address\" but predicted \"birth place\"\n",
      "[97594] expected \"address\" but predicted \"name\"\n",
      "[99237] expected \"address\" but predicted \"location\"\n",
      "[100797] expected \"address\" but predicted \"symbol\"\n",
      "[102060] expected \"address\" but predicted \"name\"\n",
      "[102304] expected \"address\" but predicted \"location\"\n",
      "[102415] expected \"address\" but predicted \"result\"\n",
      "[103165] expected \"address\" but predicted \"notes\"\n",
      "[106763] expected \"address\" but predicted \"location\"\n",
      "[107281] expected \"address\" but predicted \"location\"\n",
      "[109367] expected \"address\" but predicted \"team\"\n",
      "[109740] expected \"address\" but predicted \"city\"\n",
      "[113034] expected \"address\" but predicted \"location\"\n",
      "[113711] expected \"address\" but predicted \"location\"\n",
      "[114356] expected \"address\" but predicted \"day\"\n",
      "[114372] expected \"address\" but predicted \"area\"\n",
      "[114485] expected \"address\" but predicted \"description\"\n",
      "[116630] expected \"address\" but predicted \"county\"\n",
      "[118623] expected \"address\" but predicted \"notes\"\n",
      "[120562] expected \"address\" but predicted \"area\"\n",
      "[122561] expected \"address\" but predicted \"notes\"\n",
      "[124794] expected \"address\" but predicted \"company\"\n",
      "[126147] expected \"address\" but predicted \"notes\"\n",
      "[126442] expected \"address\" but predicted \"weight\"\n",
      "[126729] expected \"address\" but predicted \"location\"\n",
      "[127753] expected \"address\" but predicted \"family\"\n",
      "[130045] expected \"address\" but predicted \"location\"\n",
      "[130902] expected \"address\" but predicted \"rank\"\n",
      "[131693] expected \"address\" but predicted \"location\"\n",
      "[131958] expected \"address\" but predicted \"description\"\n",
      "[132446] expected \"address\" but predicted \"artist\"\n",
      "[132881] expected \"address\" but predicted \"album\"\n",
      "[133665] expected \"address\" but predicted \"region\"\n"
     ]
    },
    {
     "name": "stdout",
     "output_type": "stream",
     "text": [
      "[137027] expected \"address\" but predicted \"location\"\n",
      "Total mismatches: 14493 (F1 score: 0.8940572197723697)\n"
     ]
    },
    {
     "data": {
      "text/plain": [
       "[('name', 891),\n",
       " ('rank', 772),\n",
       " ('region', 509),\n",
       " ('location', 496),\n",
       " ('position', 478),\n",
       " ('team', 409),\n",
       " ('notes', 398),\n",
       " ('artist', 384),\n",
       " ('description', 384),\n",
       " ('area', 351),\n",
       " ('type', 329),\n",
       " ('category', 321),\n",
       " ('gender', 312),\n",
       " ('product', 309),\n",
       " ('album', 309),\n",
       " ('company', 307),\n",
       " ('day', 306),\n",
       " ('ranking', 295),\n",
       " ('team name', 281),\n",
       " ('city', 272),\n",
       " ('code', 271),\n",
       " ('class', 246),\n",
       " ('status', 218),\n",
       " ('owner', 208),\n",
       " ('year', 201),\n",
       " ('weight', 197),\n",
       " ('person', 196),\n",
       " ('manufacturer', 195),\n",
       " ('country', 184),\n",
       " ('credit', 177),\n",
       " ('address', 177),\n",
       " ('service', 177),\n",
       " ('result', 176),\n",
       " ('brand', 169),\n",
       " ('sales', 169),\n",
       " ('duration', 165),\n",
       " ('sex', 160),\n",
       " ('origin', 155),\n",
       " ('range', 149),\n",
       " ('component', 143),\n",
       " ('order', 141),\n",
       " ('format', 131),\n",
       " ('state', 130),\n",
       " ('plays', 126),\n",
       " ('county', 119),\n",
       " ('club', 119),\n",
       " ('age', 118),\n",
       " ('nationality', 107),\n",
       " ('capacity', 104),\n",
       " ('director', 103),\n",
       " ('symbol', 91),\n",
       " ('command', 88),\n",
       " ('classification', 87),\n",
       " ('family', 83),\n",
       " ('publisher', 79),\n",
       " ('affiliation', 78),\n",
       " ('depth', 78),\n",
       " ('language', 73),\n",
       " ('operator', 64),\n",
       " ('genre', 62),\n",
       " ('education', 61),\n",
       " ('elevation', 61),\n",
       " ('requirement', 59),\n",
       " ('creator', 56),\n",
       " ('organisation', 54),\n",
       " ('file size', 46),\n",
       " ('industry', 44),\n",
       " ('affiliate', 42),\n",
       " ('birth place', 39),\n",
       " ('species', 39),\n",
       " ('collection', 29),\n",
       " ('religion', 29),\n",
       " ('jockey', 27),\n",
       " ('continent', 25),\n",
       " ('isbn', 17),\n",
       " ('grades', 13),\n",
       " ('currency', 13),\n",
       " ('birth date', 12)]"
      ]
     },
     "execution_count": 16,
     "metadata": {},
     "output_type": "execute_result"
    }
   ],
   "source": [
    "from collections import Counter\n",
    "\n",
    "size = len(y_test)\n",
    "mismatches = list()\n",
    "\n",
    "for idx, k1 in enumerate(y_test[:size]):\n",
    "    k2 = predicted_labels[idx]\n",
    "\n",
    "    if k1 != k2:\n",
    "        mismatches.append(k1)\n",
    "        \n",
    "        # zoom in to specific errors. Use the index in the next step\n",
    "        if k1 in ('address'):\n",
    "            print(f'[{idx}] expected \"{k1}\" but predicted \"{k2}\"')\n",
    "        \n",
    "f1 = f1_score(y_test[:size], predicted_labels[:size], average=\"weighted\")\n",
    "print(f'Total mismatches: {len(mismatches)} (F1 score: {f1})')\n",
    "\n",
    "data = Counter(mismatches)\n",
    "data.most_common()   # Returns all unique items and their counts"
   ]
  },
  {
   "cell_type": "code",
   "execution_count": 17,
   "metadata": {},
   "outputs": [],
   "source": [
    "test_samples = pd.read_parquet('../data/raw/test_values.parquet')"
   ]
  },
  {
   "cell_type": "code",
   "execution_count": 18,
   "metadata": {},
   "outputs": [
    {
     "name": "stdout",
     "output_type": "stream",
     "text": [
      "Predicted \"address\", actual label \"address\". Actual values:\n",
      "[['Cabot House', 'Cabot House', '5 Hill Rd.', '5 Hill Rd.', '9 Cabot Rd.', '9 Cabot Rd.', 'Cabot House', '22 Bank Rd.', '22 Bank Rd.', 'Cabot House', '31 Bank Rd.', '31 Bank Rd.', 'Bairds Hotel', '11 Cabot Rd.', '11 Cabot Rd.', '10 Hill Rd.', '10 Hill Rd.', '10 Hill Rd.', '10 Hill Rd.', '7A Church Rd.', '1 Cabot Rd.', '1 Cabot Rd.', '1 Cabot Rd.', '1 Cabot Rd.', '2 Coronation St.', '2 Coronation St.', '7A Church Rd.', '12 Hill Rd.', '12 Hill Rd.', '12 Hill Rd.', 'Cabot House', '19 Bank Rd.', '19 Bank Rd.', '19 Bank Rd.', '19 Bank Rd.', '19 Bank Rd.', '7A Church Rd.', '18 Mill Rd.', '17 Hill Rd.', '17 Hill Rd.', 'Cabot House', 'Cabot House', '25 Bank Rd.', '10 Coronation St.', '6 Cabot Rd.', '6 Cabot Rd.', '8 Hill Rd.', '8 Hill Rd.', '4 Mill Rd.', '4 Mill Rd.', '12 Sulva Rd.', '4 Haig Rd.', '13 Botwood Rd.', '13 Botwood Rd.', '8 Botwood Rd.', '8 Botwood Rd.', '16 Botwood Rd.', '16 Botwood Rd.', '16 Botwood Rd.', '16 Botwood Rd.', '56 Beaumont Ave.', '8 Botwood Rd.', '56 Beaumont Ave.', '61 Botwood Rd.', '8 Botwood Rd.', '8 Botwood Rd.', '41 Beaumont Ave.', '41 Beaumont Ave.', '1 Polygon Rd.', '1 Polygon Rd.', '1 Polygon Rd.', '8 Botwood Rd.', '8 Botwood Rd.', '40 Botwood Rd.', '40 Botwood Rd.', '11 Haig Rd.', '11 Haig Rd.', '40 Botwood Rd.', '43 Botwood Rd.', '56 Botwood Rd.', '56 Botwood Rd.', '56 Botwood Rd.', '56 Botwood Rd.', '55 Botwood Rd.', '55 Botwood Rd.', '55 Botwood Rd.', '55 Botwood Rd.', '9 Botwood Rd.', '9 Botwood Rd.', '51 Botwood Rd.', '51 Botwood Rd.', '33 Botwood Rd.', '33 Botwood Rd.', '33 Botwood Rd.', '33 Botwood Rd.', '17 Sulva Rd.', '17 Sulva Rd.', '1 Sulva Rd.', '1 Sulva Rd.', '5B Botwood Rd.', '21 Monchy Rd.', '15 Junction Rd.', '15 Junction Rd.', '15 Junction Rd.', '15 Junction Rd.', '11 Monchy Rd.', '49 Queen St.', '17 Monchy Rd.', '17 Monchy Rd.', '49 Queen St.', '49 Junction Rd.', '49 Junction Rd.', '1 Queen St.', '1 Queen St.', '37 Monchy Rd.', '37 Monchy Rd.', 'Pine Ave Apt. 5', 'Pine Ave Apt. 5', '6 Peronne Rd.', '2 Peronne Rd.', '6 Peronne Rd.', '7 Peronne Rd.', '7 Peronne Rd.', '7 Peronne Rd.', 'Pine Ave. Apt. 19', '13 Queen St.', 'Pine Ave. Apt. 19', '41 Junction Rd.', '13 Queen St.', '4 Pine Ave.', '51 Junction Rd.', '51 Junction Rd.', '6 Monchy Rd.', '6 Monchy Rd.', '1 Peronne Rd.', '1 Peronne Rd.', 'Pine Ave. Apt. 6', 'Pine Ave. Apt. 6', '50 Junction Rd.', '20 Junction Rd.', '20 Junction Rd.', '20 Junction Rd.', 'Pine Ave. Apt. 15', 'Pine Ave. Apt. 15', '23 Monchy Rd.', '23 Monchy Rd.', '5 Peronne Rd.', '15 Queen St.', '15 Queen St.', '15 Queen St.', '24 East St.', '13 East St.', '13 East St.', '4 Railway Rd.', '4 Railway Rd.', '12 Fourth Ave.', '12 Fourth Ave.', '8 Circular Rd.', '8 Circular Rd.', '8 Circular Rd.', '17 Circular Rd.', '17 Circular Rd.', '1A Valley Rd.', '28 Fourth Ave.', '28 Fourth Ave.', '22 East St.', '22 East St.', '15 Fourth Ave.', '11 Third Ave.', '15 Fourth Ave.', '15 Fourth Ave.', '15 Fourth Ave.', '11 Third Ave.', '15 Fourth Ave.', '4 Railway Rd.', '6 Valley Rd.', '4 Railway Rd.', '6 Valley Rd.', '7 West St.', '7 West St.', '22 Circular Rd.', '25 Fourth Ave.', '5 Valley Rd.', '25 Fourth Ave.', '5 Valley Rd.', '5 Fourth Ave.', '5 Fourth Ave.', '15 Valley Rd.', '1 Third Ave.', '1 Third Ave.', '1 Third Ave.', '20 Fourth Ave.', '10 Valley Rd.', '20 Fourth Ave.', '20 Fourth Ave.', '11 East St.', '20 Fourth Ave.', '11 East St.', '2 Railway Rd.', '20 Fourth Ave.', '10 Valley Rd.', '11 East St.', '2 Railway Rd.', '20 East St.', '20 East St.', '20 East St.', '20 East St.', '20 East St.', '10 East St.', '10 East St.', '10 East St.', '11 Railway Rd.', '7 Circular Rd.', '11 Railway Rd.', '11 Railway Rd.', '7 Circular Rd.', '11 Railway Rd.', '3 Fourth Ave.', '13 Fourth Ave.', '4 Third Ave.', '3 Fourth Ave.', '13 Fourth Ave.', '13 Fourth Ave.', '13 Fourth Ave.', '11 Third Ave.', '11 Third Ave.', '13 Fourth Ave.', '3 Fourth Ave.', '10 Circular Rd.', '10 Circular Rd.', '12 Third Ave.', '10 Circular Rd.', '10 Circular Rd.', '12 Third Ave.', '10 Circular Rd.', '5 Railway Rd.', '5 Railway Rd.', '7 Third Ave.', '14 Fourth Ave.', '14 Fourth Ave.', '14 Fourth Ave.', '7 Third Ave.', '14 Fourth Ave.', '14 Fourth Ave.', '14 Fourth Ave.', '26 East St.', '26 East St.', '5 East St.', '5 East St.', '5 East St.', '16 East St.', '15 Third Ave.', '7 Valley Rd.', '15 Third Ave.', '15 Third Ave.', '7 Valley Rd.', '1 Railway Rd.', '1 Railway Rd.', '33 Circular Rd.', '33 Circular Rd.', '33 Circular Rd.', '18 East St.', '18 East St.', '6 Third Ave.', '6 Third Ave.', '25 Circular Rd.', '5 Valley Rd.', '23 Fourth Ave.', '23 Fourth Ave.', '1A Valley Rd.', '37 Circular Rd.', '23 Fourth Ave.', '37 Circular Rd.', '1A Valley Rd.', '24A Fourth Ave.', '24A Fourth Ave.', '1 Fourth Ave.', '1 Fourth Ave.', '1 Fourth Ave.', '2A Valley Rd.', '2A Valley Rd.', '6 Valley Rd.', '30 Fourth Ave.', '30 Fourth Ave.', '19 Fourth Ave.', '19 Fourth Ave.', '3 Valley Rd.', '3 Valley Rd.']]\n"
     ]
    }
   ],
   "source": [
    "from ast import literal_eval\n",
    "\n",
    "idx = 1001\n",
    "original = test_samples.iloc[idx]\n",
    "converted = original.apply(literal_eval).to_list()\n",
    "\n",
    "print(f'Predicted \"{predicted_labels[idx]}\", actual label \"{y_test[idx]}\". Actual values:\\n{converted}')"
   ]
  },
  {
   "cell_type": "code",
   "execution_count": null,
   "metadata": {},
   "outputs": [],
   "source": []
  }
 ],
 "metadata": {
  "kernelspec": {
   "display_name": "Python 3 (ipykernel)",
   "language": "python",
   "name": "python3"
  },
  "language_info": {
   "codemirror_mode": {
    "name": "ipython",
    "version": 3
   },
   "file_extension": ".py",
   "mimetype": "text/x-python",
   "name": "python",
   "nbconvert_exporter": "python",
   "pygments_lexer": "ipython3",
   "version": "3.7.12"
  }
 },
 "nbformat": 4,
 "nbformat_minor": 4
}
