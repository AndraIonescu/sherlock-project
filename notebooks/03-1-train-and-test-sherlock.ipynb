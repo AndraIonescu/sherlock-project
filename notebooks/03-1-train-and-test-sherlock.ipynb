{
 "cells": [
  {
   "cell_type": "code",
   "execution_count": 1,
   "metadata": {
    "scrolled": true
   },
   "outputs": [],
   "source": [
    "%load_ext autoreload\n",
    "%autoreload 2"
   ]
  },
  {
   "cell_type": "code",
   "execution_count": 2,
   "metadata": {},
   "outputs": [],
   "source": [
    "nn_model_id = 'retrained_sherlock'"
   ]
  },
  {
   "cell_type": "code",
   "execution_count": 3,
   "metadata": {},
   "outputs": [],
   "source": [
    "from ast import literal_eval\n",
    "from collections import Counter\n",
    "from datetime import datetime\n",
    "\n",
    "import pandas as pd\n",
    "import numpy as np\n",
    "\n",
    "from sklearn.metrics import f1_score, classification_report\n",
    "\n",
    "from sherlock.deploy.predict_sherlock import predict_sherlock\n",
    "from sherlock.deploy.train_sherlock import train_sherlock"
   ]
  },
  {
   "cell_type": "markdown",
   "metadata": {},
   "source": [
    "### Load training and validation sets"
   ]
  },
  {
   "cell_type": "code",
   "execution_count": 5,
   "metadata": {},
   "outputs": [
    {
     "name": "stdout",
     "output_type": "stream",
     "text": [
      "Started at 2022-02-09 20:49:56.748214\n",
      "Load data (train) process took 0:00:07.648936 seconds.\n"
     ]
    }
   ],
   "source": [
    "start = datetime.now()\n",
    "print(f'Started at {start}')\n",
    "\n",
    "X_train = pd.read_parquet('../data/data/processed/train.parquet')\n",
    "y_train = pd.read_parquet('../data/data/raw/train_labels.parquet').values.flatten()\n",
    "\n",
    "y_train = np.array([x.lower() for x in y_train])\n",
    "\n",
    "print(f'Load data (train) process took {datetime.now() - start} seconds.')"
   ]
  },
  {
   "cell_type": "code",
   "execution_count": 6,
   "metadata": {},
   "outputs": [
    {
     "name": "stdout",
     "output_type": "stream",
     "text": [
      "Distinct types for columns in the Dataframe (should be all float32):\n",
      "{dtype('float32')}\n"
     ]
    }
   ],
   "source": [
    "print('Distinct types for columns in the Dataframe (should be all float32):')\n",
    "print(set(X_train.dtypes))"
   ]
  },
  {
   "cell_type": "code",
   "execution_count": 8,
   "metadata": {},
   "outputs": [
    {
     "name": "stdout",
     "output_type": "stream",
     "text": [
      "Started at 2022-02-09 20:50:33.639660\n",
      "Load data (validation) process took 0:00:01.923424 seconds.\n"
     ]
    }
   ],
   "source": [
    "start = datetime.now()\n",
    "print(f'Started at {start}')\n",
    "\n",
    "X_validation = pd.read_parquet('../data/data/processed/validation.parquet')\n",
    "y_validation = pd.read_parquet('../data/data/raw/val_labels.parquet').values.flatten()\n",
    "\n",
    "y_validation = np.array([x.lower() for x in y_validation])\n",
    "\n",
    "print(f'Load data (validation) process took {datetime.now() - start} seconds.')"
   ]
  },
  {
   "cell_type": "markdown",
   "metadata": {},
   "source": [
    "### Re-train Sherlock"
   ]
  },
  {
   "cell_type": "code",
   "execution_count": 9,
   "metadata": {
    "scrolled": true
   },
   "outputs": [
    {
     "name": "stdout",
     "output_type": "stream",
     "text": [
      "Started at 2022-02-09 20:50:38.331927\n"
     ]
    },
    {
     "name": "stderr",
     "output_type": "stream",
     "text": [
      "WARNING: Logging before flag parsing goes to stderr.\n",
      "W0209 20:50:38.942614 4774411776 deprecation.py:506] From /Users/madelon/miniconda3/envs/sherlock-project/lib/python3.6/site-packages/tensorflow_core/python/ops/init_ops.py:97: calling Zeros.__init__ (from tensorflow.python.ops.init_ops) with dtype is deprecated and will be removed in a future version.\n",
      "Instructions for updating:\n",
      "Call initializer instance with the dtype argument instead of passing it to the constructor\n",
      "W0209 20:50:38.945662 4774411776 deprecation.py:506] From /Users/madelon/miniconda3/envs/sherlock-project/lib/python3.6/site-packages/tensorflow_core/python/ops/init_ops.py:97: calling Ones.__init__ (from tensorflow.python.ops.init_ops) with dtype is deprecated and will be removed in a future version.\n",
      "Instructions for updating:\n",
      "Call initializer instance with the dtype argument instead of passing it to the constructor\n",
      "W0209 20:50:38.953925 4774411776 deprecation.py:506] From /Users/madelon/miniconda3/envs/sherlock-project/lib/python3.6/site-packages/tensorflow_core/python/ops/init_ops.py:97: calling VarianceScaling.__init__ (from tensorflow.python.ops.init_ops) with dtype is deprecated and will be removed in a future version.\n",
      "Instructions for updating:\n",
      "Call initializer instance with the dtype argument instead of passing it to the constructor\n",
      "W0209 20:50:38.999994 4774411776 deprecation.py:506] From /Users/madelon/miniconda3/envs/sherlock-project/lib/python3.6/site-packages/tensorflow_core/python/ops/resource_variable_ops.py:1630: calling BaseResourceVariable.__init__ (from tensorflow.python.ops.resource_variable_ops) with constraint is deprecated and will be removed in a future version.\n",
      "Instructions for updating:\n",
      "If using Keras pass *_constraint arguments to layers.\n"
     ]
    },
    {
     "name": "stdout",
     "output_type": "stream",
     "text": [
      "Successfully loaded and compiled model, now fitting model on data.\n",
      "Train on 412059 samples, validate on 137353 samples\n",
      "Epoch 1/100\n",
      "412059/412059 [==============================] - 69s 168us/sample - loss: 1.6152 - categorical_accuracy: 0.6976 - val_loss: 1.0459 - val_categorical_accuracy: 0.8278\n",
      "Epoch 2/100\n",
      "412059/412059 [==============================] - 67s 163us/sample - loss: 0.9599 - categorical_accuracy: 0.8369 - val_loss: 0.9425 - val_categorical_accuracy: 0.8484\n",
      "Epoch 3/100\n",
      "412059/412059 [==============================] - 65s 159us/sample - loss: 0.8516 - categorical_accuracy: 0.8589 - val_loss: 0.8919 - val_categorical_accuracy: 0.8584\n",
      "Epoch 4/100\n",
      "412059/412059 [==============================] - 66s 160us/sample - loss: 0.7867 - categorical_accuracy: 0.8707 - val_loss: 0.8600 - val_categorical_accuracy: 0.8622\n",
      "Epoch 5/100\n",
      "412059/412059 [==============================] - 66s 160us/sample - loss: 0.7388 - categorical_accuracy: 0.8789 - val_loss: 0.8272 - val_categorical_accuracy: 0.8662\n",
      "Epoch 6/100\n",
      "412059/412059 [==============================] - 66s 160us/sample - loss: 0.6993 - categorical_accuracy: 0.8853 - val_loss: 0.8115 - val_categorical_accuracy: 0.8701\n",
      "Epoch 7/100\n",
      "412059/412059 [==============================] - 67s 162us/sample - loss: 0.6679 - categorical_accuracy: 0.8897 - val_loss: 0.7890 - val_categorical_accuracy: 0.8722\n",
      "Epoch 8/100\n",
      "412059/412059 [==============================] - 68s 164us/sample - loss: 0.6392 - categorical_accuracy: 0.8938 - val_loss: 0.7661 - val_categorical_accuracy: 0.8751\n",
      "Epoch 9/100\n",
      "412059/412059 [==============================] - 68s 164us/sample - loss: 0.6148 - categorical_accuracy: 0.8971 - val_loss: 0.7518 - val_categorical_accuracy: 0.8769\n",
      "Epoch 10/100\n",
      "412059/412059 [==============================] - 70s 171us/sample - loss: 0.5915 - categorical_accuracy: 0.8999 - val_loss: 0.7440 - val_categorical_accuracy: 0.8782\n",
      "Epoch 11/100\n",
      "412059/412059 [==============================] - 69s 168us/sample - loss: 0.5728 - categorical_accuracy: 0.9026 - val_loss: 0.7247 - val_categorical_accuracy: 0.8789\n",
      "Epoch 12/100\n",
      "412059/412059 [==============================] - 66s 161us/sample - loss: 0.5545 - categorical_accuracy: 0.9051 - val_loss: 0.7113 - val_categorical_accuracy: 0.8806\n",
      "Epoch 13/100\n",
      "412059/412059 [==============================] - 65s 158us/sample - loss: 0.5377 - categorical_accuracy: 0.9069 - val_loss: 0.7038 - val_categorical_accuracy: 0.8820\n",
      "Epoch 14/100\n",
      "412059/412059 [==============================] - 65s 157us/sample - loss: 0.5220 - categorical_accuracy: 0.9094 - val_loss: 0.6897 - val_categorical_accuracy: 0.8836\n",
      "Epoch 15/100\n",
      "412059/412059 [==============================] - 65s 158us/sample - loss: 0.5087 - categorical_accuracy: 0.9104 - val_loss: 0.6919 - val_categorical_accuracy: 0.8838\n",
      "Epoch 16/100\n",
      "412059/412059 [==============================] - 66s 159us/sample - loss: 0.4936 - categorical_accuracy: 0.9128 - val_loss: 0.6814 - val_categorical_accuracy: 0.8840\n",
      "Epoch 17/100\n",
      "412059/412059 [==============================] - 69s 167us/sample - loss: 0.4816 - categorical_accuracy: 0.9147 - val_loss: 0.6735 - val_categorical_accuracy: 0.8852\n",
      "Epoch 18/100\n",
      "412059/412059 [==============================] - 73s 177us/sample - loss: 0.4702 - categorical_accuracy: 0.9160 - val_loss: 0.6700 - val_categorical_accuracy: 0.8858\n",
      "Epoch 19/100\n",
      "412059/412059 [==============================] - 67s 164us/sample - loss: 0.4603 - categorical_accuracy: 0.9174 - val_loss: 0.6538 - val_categorical_accuracy: 0.8863\n",
      "Epoch 20/100\n",
      "412059/412059 [==============================] - 66s 159us/sample - loss: 0.4498 - categorical_accuracy: 0.9189 - val_loss: 0.6582 - val_categorical_accuracy: 0.8879\n",
      "Epoch 21/100\n",
      "412059/412059 [==============================] - 67s 163us/sample - loss: 0.4416 - categorical_accuracy: 0.9198 - val_loss: 0.6519 - val_categorical_accuracy: 0.8883\n",
      "Epoch 22/100\n",
      "412059/412059 [==============================] - 71s 173us/sample - loss: 0.4331 - categorical_accuracy: 0.9206 - val_loss: 0.6513 - val_categorical_accuracy: 0.8884\n",
      "Epoch 23/100\n",
      "412059/412059 [==============================] - 65s 158us/sample - loss: 0.4230 - categorical_accuracy: 0.9225 - val_loss: 0.6512 - val_categorical_accuracy: 0.8892\n",
      "Epoch 24/100\n",
      "412059/412059 [==============================] - 64s 155us/sample - loss: 0.4168 - categorical_accuracy: 0.9228 - val_loss: 0.6398 - val_categorical_accuracy: 0.8900\n",
      "Epoch 25/100\n",
      "412059/412059 [==============================] - 64s 156us/sample - loss: 0.4097 - categorical_accuracy: 0.9241 - val_loss: 0.6337 - val_categorical_accuracy: 0.8898\n",
      "Epoch 26/100\n",
      "412059/412059 [==============================] - 64s 155us/sample - loss: 0.4022 - categorical_accuracy: 0.9252 - val_loss: 0.6446 - val_categorical_accuracy: 0.8907\n",
      "Epoch 27/100\n",
      "412059/412059 [==============================] - 65s 159us/sample - loss: 0.3948 - categorical_accuracy: 0.9263 - val_loss: 0.6356 - val_categorical_accuracy: 0.8897\n",
      "Epoch 28/100\n",
      "412059/412059 [==============================] - 69s 167us/sample - loss: 0.3905 - categorical_accuracy: 0.9269 - val_loss: 0.6392 - val_categorical_accuracy: 0.8912\n",
      "Epoch 29/100\n",
      "412059/412059 [==============================] - 70s 171us/sample - loss: 0.3853 - categorical_accuracy: 0.9279 - val_loss: 0.6368 - val_categorical_accuracy: 0.8909\n",
      "Epoch 30/100\n",
      "412059/412059 [==============================] - 65s 157us/sample - loss: 0.3791 - categorical_accuracy: 0.9288 - val_loss: 0.6247 - val_categorical_accuracy: 0.8909\n",
      "Epoch 31/100\n",
      "412059/412059 [==============================] - 65s 157us/sample - loss: 0.3746 - categorical_accuracy: 0.9292 - val_loss: 0.6278 - val_categorical_accuracy: 0.8915\n",
      "Epoch 32/100\n",
      "412059/412059 [==============================] - 68s 166us/sample - loss: 0.3717 - categorical_accuracy: 0.9296 - val_loss: 0.6228 - val_categorical_accuracy: 0.8914\n",
      "Epoch 33/100\n",
      "412059/412059 [==============================] - 63s 154us/sample - loss: 0.3662 - categorical_accuracy: 0.9302 - val_loss: 0.6179 - val_categorical_accuracy: 0.8919\n",
      "Epoch 34/100\n",
      "412059/412059 [==============================] - 63s 153us/sample - loss: 0.3613 - categorical_accuracy: 0.9316 - val_loss: 0.6173 - val_categorical_accuracy: 0.8918\n",
      "Epoch 35/100\n",
      "412059/412059 [==============================] - 63s 154us/sample - loss: 0.3578 - categorical_accuracy: 0.9320 - val_loss: 0.6304 - val_categorical_accuracy: 0.8926\n",
      "Epoch 36/100\n",
      "412059/412059 [==============================] - 63s 154us/sample - loss: 0.3541 - categorical_accuracy: 0.9322 - val_loss: 0.6300 - val_categorical_accuracy: 0.8930\n",
      "Epoch 37/100\n",
      "412059/412059 [==============================] - 64s 155us/sample - loss: 0.3513 - categorical_accuracy: 0.9327 - val_loss: 0.6300 - val_categorical_accuracy: 0.8927\n",
      "Epoch 38/100\n",
      "412059/412059 [==============================] - 64s 155us/sample - loss: 0.3470 - categorical_accuracy: 0.9336 - val_loss: 0.6192 - val_categorical_accuracy: 0.8939\n",
      "Epoch 39/100\n",
      "412059/412059 [==============================] - 67s 163us/sample - loss: 0.3442 - categorical_accuracy: 0.9343 - val_loss: 0.6172 - val_categorical_accuracy: 0.8931\n",
      "Epoch 40/100\n",
      "412059/412059 [==============================] - 64s 156us/sample - loss: 0.3403 - categorical_accuracy: 0.9346 - val_loss: 0.6076 - val_categorical_accuracy: 0.8938\n",
      "Epoch 41/100\n",
      "412059/412059 [==============================] - 64s 156us/sample - loss: 0.3387 - categorical_accuracy: 0.9349 - val_loss: 0.6137 - val_categorical_accuracy: 0.8934\n",
      "Epoch 42/100\n",
      "412059/412059 [==============================] - 67s 162us/sample - loss: 0.3359 - categorical_accuracy: 0.9352 - val_loss: 0.6146 - val_categorical_accuracy: 0.8933\n",
      "Epoch 43/100\n",
      "412059/412059 [==============================] - 67s 162us/sample - loss: 0.3326 - categorical_accuracy: 0.9357 - val_loss: 0.6205 - val_categorical_accuracy: 0.8940\n",
      "Epoch 44/100\n",
      "412059/412059 [==============================] - 68s 165us/sample - loss: 0.3312 - categorical_accuracy: 0.9357 - val_loss: 0.6110 - val_categorical_accuracy: 0.8936\n",
      "Epoch 45/100\n",
      "412059/412059 [==============================] - 67s 163us/sample - loss: 0.3276 - categorical_accuracy: 0.9368 - val_loss: 0.6334 - val_categorical_accuracy: 0.8943\n",
      "Retrained Sherlock.\n",
      "Trained and saved new model.\n",
      "Finished at 2022-02-09 21:40:30.886113, took 0:49:52.554223 seconds\n"
     ]
    }
   ],
   "source": [
    "start = datetime.now()\n",
    "print(f'Started at {start}')\n",
    "\n",
    "train_sherlock(X_train, y_train, X_validation, y_validation, nn_id=nn_model_id);\n",
    "\n",
    "print('Trained and saved new model.')\n",
    "print(f'Finished at {datetime.now()}, took {datetime.now() - start} seconds')"
   ]
  },
  {
   "cell_type": "markdown",
   "metadata": {},
   "source": [
    "### Load test set"
   ]
  },
  {
   "cell_type": "code",
   "execution_count": 21,
   "metadata": {},
   "outputs": [
    {
     "name": "stdout",
     "output_type": "stream",
     "text": [
      "Started at 2022-02-09 21:41:39.388852\n",
      "Trained and saved new model.\n",
      "Finished at 2022-02-09 21:41:40.845056, took 0:00:01.456216 seconds\n"
     ]
    }
   ],
   "source": [
    "start = datetime.now()\n",
    "print(f'Started at {start}')\n",
    "\n",
    "X_test = pd.read_parquet('../data/data/processed/test.parquet')\n",
    "y_test = pd.read_parquet('../data/data/raw/test_labels.parquet').values.flatten()\n",
    "\n",
    "y_test = np.array([x.lower() for x in y_test])\n",
    "\n",
    "print('Trained and saved new model.')\n",
    "print(f'Finished at {datetime.now()}, took {datetime.now() - start} seconds')"
   ]
  },
  {
   "cell_type": "markdown",
   "metadata": {},
   "source": [
    "### Make prediction"
   ]
  },
  {
   "cell_type": "code",
   "execution_count": 22,
   "metadata": {},
   "outputs": [],
   "source": [
    "predicted_labels = predict_sherlock(X_test, nn_id=nn_model_id)"
   ]
  },
  {
   "cell_type": "code",
   "execution_count": 12,
   "metadata": {},
   "outputs": [
    {
     "name": "stdout",
     "output_type": "stream",
     "text": [
      "prediction count 137353, type = <class 'numpy.ndarray'>\n"
     ]
    },
    {
     "data": {
      "text/plain": [
       "0.8933795716268179"
      ]
     },
     "execution_count": 12,
     "metadata": {},
     "output_type": "execute_result"
    }
   ],
   "source": [
    "print(f'prediction count {len(predicted_labels)}, type = {type(predicted_labels)}')\n",
    "\n",
    "size=len(y_test)\n",
    "\n",
    "# Should be fully deterministic too.\n",
    "f1_score(y_test[:size], predicted_labels[:size], average=\"weighted\")"
   ]
  },
  {
   "cell_type": "code",
   "execution_count": 23,
   "metadata": {},
   "outputs": [],
   "source": [
    "# Best results\n",
    "# 0.8956975031011328, adam optimiser, took 0:59:19.320310 seconds (retrained_sherlock8)\n",
    "\n",
    "# 0.8871638630500646, SGD Nesterov optimiser,  took 1:37:09.679227 seconds (retrained_sherlock9)\n",
    "\n",
    "# LAST\n",
    "# 0.8941992181577104\n",
    "# 0.8661276466591463\n",
    "# 0.8765360861865846\n",
    "# 0.8777825108666634\n",
    "# 0.8709458033528152\n",
    "# 0.8526528126158138\n",
    "# 0.836800124917518\n",
    "# 0.8590214693450329\n",
    "# 0.8583626471084315"
   ]
  },
  {
   "cell_type": "code",
   "execution_count": 24,
   "metadata": {},
   "outputs": [],
   "source": [
    "classes = np.load(f\"../sherlock/deploy/classes_{nn_model_id}.npy\", allow_pickle=True)\n",
    "\n",
    "report = classification_report(y_test, predicted_labels, output_dict=True)\n",
    "\n",
    "class_scores = list(filter(lambda x: isinstance(x, tuple) and isinstance(x[1], dict) and 'f1-score' in x[1] and x[0] in classes, list(report.items())))\n",
    "\n",
    "class_scores = sorted(class_scores, key=lambda item: item[1]['f1-score'], reverse=True)"
   ]
  },
  {
   "cell_type": "markdown",
   "metadata": {},
   "source": [
    "### Top 5 Types"
   ]
  },
  {
   "cell_type": "code",
   "execution_count": 25,
   "metadata": {},
   "outputs": [
    {
     "name": "stdout",
     "output_type": "stream",
     "text": [
      "\t\tf1-score\tprecision\trecall\t\tsupport\n",
      "isbn\t\t0.992\t\t0.996\t\t0.988\t\t1430\n",
      "grades\t\t0.992\t\t0.988\t\t0.995\t\t1765\n",
      "jockey\t\t0.988\t\t0.987\t\t0.988\t\t2819\n",
      "industry\t0.981\t\t0.976\t\t0.986\t\t2958\n",
      "birth date\t0.974\t\t0.983\t\t0.965\t\t479\n"
     ]
    }
   ],
   "source": [
    "print(f\"\\t\\tf1-score\\tprecision\\trecall\\t\\tsupport\")\n",
    "\n",
    "for key, value in class_scores[0:5]:\n",
    "    if len(key) >= 8:\n",
    "        tabs = '\\t' * 1\n",
    "    else:\n",
    "        tabs = '\\t' * 2\n",
    "\n",
    "    print(f\"{key}{tabs}{value['f1-score']:.3f}\\t\\t{value['precision']:.3f}\\t\\t{value['recall']:.3f}\\t\\t{value['support']}\")"
   ]
  },
  {
   "cell_type": "markdown",
   "metadata": {},
   "source": [
    "### Bottom 5 Types"
   ]
  },
  {
   "cell_type": "code",
   "execution_count": 26,
   "metadata": {
    "scrolled": true
   },
   "outputs": [
    {
     "name": "stdout",
     "output_type": "stream",
     "text": [
      "\t\tf1-score\tprecision\trecall\t\tsupport\n",
      "rank\t\t0.704\t\t0.644\t\t0.775\t\t2983\n",
      "person\t\t0.675\t\t0.742\t\t0.620\t\t579\n",
      "sales\t\t0.575\t\t0.623\t\t0.534\t\t322\n",
      "director\t0.559\t\t0.588\t\t0.533\t\t225\n",
      "ranking\t\t0.444\t\t0.884\t\t0.296\t\t439\n"
     ]
    }
   ],
   "source": [
    "print(f\"\\t\\tf1-score\\tprecision\\trecall\\t\\tsupport\")\n",
    "\n",
    "for key, value in class_scores[len(class_scores)-5:len(class_scores)]:\n",
    "    if len(key) >= 8:\n",
    "        tabs = '\\t' * 1\n",
    "    else:\n",
    "        tabs = '\\t' * 2\n",
    "\n",
    "    print(f\"{key}{tabs}{value['f1-score']:.3f}\\t\\t{value['precision']:.3f}\\t\\t{value['recall']:.3f}\\t\\t{value['support']}\")"
   ]
  },
  {
   "cell_type": "markdown",
   "metadata": {},
   "source": [
    "### All Scores"
   ]
  },
  {
   "cell_type": "code",
   "execution_count": 27,
   "metadata": {},
   "outputs": [
    {
     "name": "stdout",
     "output_type": "stream",
     "text": [
      "                precision    recall  f1-score   support\n",
      "\n",
      "       address      0.942     0.934     0.938      3003\n",
      "     affiliate      0.954     0.819     0.881       204\n",
      "   affiliation      0.984     0.953     0.968      1768\n",
      "           age      0.886     0.940     0.912      3033\n",
      "         album      0.885     0.887     0.886      3035\n",
      "          area      0.864     0.824     0.844      1987\n",
      "        artist      0.787     0.883     0.832      3043\n",
      "    birth date      0.983     0.965     0.974       479\n",
      "   birth place      0.979     0.897     0.936       418\n",
      "         brand      0.824     0.669     0.738       574\n",
      "      capacity      0.823     0.707     0.761       362\n",
      "      category      0.918     0.887     0.902      3087\n",
      "          city      0.837     0.906     0.870      2966\n",
      "         class      0.897     0.916     0.906      2971\n",
      "classification      0.956     0.857     0.904       587\n",
      "          club      0.973     0.956     0.965      2977\n",
      "          code      0.938     0.894     0.916      2956\n",
      "    collection      0.974     0.935     0.954       476\n",
      "       command      0.906     0.920     0.913      1045\n",
      "       company      0.879     0.899     0.889      3041\n",
      "     component      0.860     0.879     0.870      1226\n",
      "     continent      0.853     0.894     0.873       227\n",
      "       country      0.892     0.945     0.918      3038\n",
      "        county      0.946     0.957     0.952      2959\n",
      "       creator      0.837     0.827     0.832       347\n",
      "        credit      0.861     0.815     0.837       941\n",
      "      currency      0.975     0.970     0.973       405\n",
      "           day      0.901     0.910     0.905      3038\n",
      "         depth      0.941     0.910     0.925       947\n",
      "   description      0.838     0.840     0.839      3042\n",
      "      director      0.588     0.533     0.559       225\n",
      "      duration      0.920     0.952     0.935      3000\n",
      "     education      0.903     0.770     0.831       313\n",
      "     elevation      0.954     0.952     0.953      1299\n",
      "        family      0.972     0.895     0.932       746\n",
      "     file size      0.938     0.834     0.883       361\n",
      "        format      0.970     0.958     0.964      2956\n",
      "        gender      0.865     0.743     0.799      1030\n",
      "         genre      0.950     0.954     0.952      1163\n",
      "        grades      0.988     0.995     0.992      1765\n",
      "      industry      0.976     0.986     0.981      2958\n",
      "          isbn      0.996     0.988     0.992      1430\n",
      "        jockey      0.987     0.988     0.988      2819\n",
      "      language      0.936     0.950     0.943      1474\n",
      "      location      0.854     0.832     0.843      2949\n",
      "  manufacturer      0.865     0.804     0.833       945\n",
      "          name      0.716     0.756     0.735      3017\n",
      "   nationality      0.791     0.788     0.790       424\n",
      "         notes      0.710     0.846     0.772      2303\n",
      "      operator      0.801     0.847     0.823       404\n",
      "         order      0.953     0.829     0.887      1462\n",
      "  organisation      0.878     0.798     0.836       262\n",
      "        origin      0.954     0.892     0.922      1439\n",
      "         owner      0.948     0.864     0.904      1673\n",
      "        person      0.742     0.620     0.675       579\n",
      "         plays      0.809     0.907     0.855      1513\n",
      "      position      0.791     0.851     0.820      3057\n",
      "       product      0.859     0.884     0.871      2647\n",
      "     publisher      0.935     0.890     0.912       880\n",
      "         range      0.909     0.728     0.808       577\n",
      "          rank      0.644     0.775     0.704      2983\n",
      "       ranking      0.884     0.296     0.444       439\n",
      "        region      0.862     0.818     0.839      2740\n",
      "      religion      0.969     0.909     0.938       340\n",
      "   requirement      0.931     0.803     0.862       300\n",
      "        result      0.958     0.937     0.947      2920\n",
      "         sales      0.623     0.534     0.575       322\n",
      "       service      0.972     0.919     0.945      2222\n",
      "           sex      0.910     0.941     0.926      2997\n",
      "       species      0.931     0.944     0.938       819\n",
      "         state      0.943     0.955     0.949      3030\n",
      "        status      0.942     0.933     0.937      3100\n",
      "        symbol      0.948     0.955     0.952      1752\n",
      "          team      0.882     0.850     0.866      3011\n",
      "     team name      0.885     0.844     0.864      1639\n",
      "          type      0.913     0.861     0.886      2909\n",
      "        weight      0.956     0.923     0.939      2963\n",
      "          year      0.953     0.941     0.947      3015\n",
      "\n",
      "      accuracy                          0.893    137353\n",
      "     macro avg      0.893     0.864     0.875    137353\n",
      "  weighted avg      0.896     0.893     0.893    137353\n",
      "\n"
     ]
    }
   ],
   "source": [
    "print(classification_report(y_test, predicted_labels, digits=3))"
   ]
  },
  {
   "cell_type": "markdown",
   "metadata": {},
   "source": [
    "## Review errors"
   ]
  },
  {
   "cell_type": "code",
   "execution_count": 28,
   "metadata": {},
   "outputs": [
    {
     "name": "stdout",
     "output_type": "stream",
     "text": [
      "[1116] expected \"address\" but predicted \"name\"\n",
      "[1578] expected \"address\" but predicted \"language\"\n",
      "[2420] expected \"address\" but predicted \"location\"\n",
      "[2588] expected \"address\" but predicted \"location\"\n",
      "[2616] expected \"address\" but predicted \"city\"\n",
      "[3398] expected \"address\" but predicted \"city\"\n",
      "[4354] expected \"address\" but predicted \"location\"\n",
      "[4380] expected \"address\" but predicted \"county\"\n",
      "[4422] expected \"address\" but predicted \"city\"\n",
      "[5112] expected \"address\" but predicted \"location\"\n",
      "[5546] expected \"address\" but predicted \"name\"\n",
      "[7119] expected \"address\" but predicted \"location\"\n",
      "[8797] expected \"address\" but predicted \"location\"\n",
      "[9354] expected \"address\" but predicted \"location\"\n",
      "[9574] expected \"address\" but predicted \"location\"\n",
      "[9806] expected \"address\" but predicted \"city\"\n",
      "[10067] expected \"address\" but predicted \"rank\"\n",
      "[11055] expected \"address\" but predicted \"city\"\n",
      "[11902] expected \"address\" but predicted \"location\"\n",
      "[11993] expected \"address\" but predicted \"location\"\n",
      "[12072] expected \"address\" but predicted \"artist\"\n",
      "[12639] expected \"address\" but predicted \"location\"\n",
      "[14677] expected \"address\" but predicted \"location\"\n",
      "[15232] expected \"address\" but predicted \"location\"\n",
      "[15461] expected \"address\" but predicted \"location\"\n",
      "[15496] expected \"address\" but predicted \"city\"\n",
      "[16212] expected \"address\" but predicted \"location\"\n",
      "[19953] expected \"address\" but predicted \"county\"\n",
      "[20425] expected \"address\" but predicted \"location\"\n",
      "[20829] expected \"address\" but predicted \"notes\"\n",
      "[21408] expected \"address\" but predicted \"position\"\n",
      "[21666] expected \"address\" but predicted \"area\"\n",
      "[22148] expected \"address\" but predicted \"location\"\n",
      "[23915] expected \"address\" but predicted \"location\"\n",
      "[24636] expected \"address\" but predicted \"company\"\n",
      "[24803] expected \"address\" but predicted \"day\"\n",
      "[24886] expected \"address\" but predicted \"notes\"\n",
      "[26171] expected \"address\" but predicted \"name\"\n",
      "[26184] expected \"address\" but predicted \"name\"\n",
      "[26210] expected \"address\" but predicted \"state\"\n",
      "[26296] expected \"address\" but predicted \"file size\"\n",
      "[26559] expected \"address\" but predicted \"location\"\n",
      "[26872] expected \"address\" but predicted \"command\"\n",
      "[30403] expected \"address\" but predicted \"notes\"\n",
      "[31391] expected \"address\" but predicted \"location\"\n",
      "[31830] expected \"address\" but predicted \"location\"\n",
      "[31836] expected \"address\" but predicted \"notes\"\n",
      "[32551] expected \"address\" but predicted \"city\"\n",
      "[32634] expected \"address\" but predicted \"location\"\n",
      "[33207] expected \"address\" but predicted \"order\"\n",
      "[33975] expected \"address\" but predicted \"location\"\n",
      "[34547] expected \"address\" but predicted \"location\"\n",
      "[34711] expected \"address\" but predicted \"location\"\n",
      "[34849] expected \"address\" but predicted \"location\"\n",
      "[35467] expected \"address\" but predicted \"city\"\n",
      "[35756] expected \"address\" but predicted \"city\"\n",
      "[35938] expected \"address\" but predicted \"language\"\n",
      "[36033] expected \"address\" but predicted \"name\"\n",
      "[37084] expected \"address\" but predicted \"notes\"\n",
      "[37318] expected \"address\" but predicted \"notes\"\n",
      "[37441] expected \"address\" but predicted \"county\"\n",
      "[37536] expected \"address\" but predicted \"notes\"\n",
      "[38118] expected \"address\" but predicted \"location\"\n",
      "[40184] expected \"address\" but predicted \"notes\"\n",
      "[40457] expected \"address\" but predicted \"country\"\n",
      "[41540] expected \"address\" but predicted \"location\"\n",
      "[42439] expected \"address\" but predicted \"area\"\n",
      "[44918] expected \"address\" but predicted \"area\"\n",
      "[46430] expected \"address\" but predicted \"location\"\n",
      "[46463] expected \"address\" but predicted \"notes\"\n",
      "[47249] expected \"address\" but predicted \"notes\"\n",
      "[47497] expected \"address\" but predicted \"location\"\n",
      "[47636] expected \"address\" but predicted \"location\"\n",
      "[47713] expected \"address\" but predicted \"city\"\n",
      "[47810] expected \"address\" but predicted \"category\"\n",
      "[48016] expected \"address\" but predicted \"location\"\n",
      "[48289] expected \"address\" but predicted \"location\"\n",
      "[48631] expected \"address\" but predicted \"location\"\n",
      "[50317] expected \"address\" but predicted \"name\"\n",
      "[50329] expected \"address\" but predicted \"area\"\n",
      "[50783] expected \"address\" but predicted \"city\"\n",
      "[51643] expected \"address\" but predicted \"city\"\n",
      "[53074] expected \"address\" but predicted \"location\"\n",
      "[53206] expected \"address\" but predicted \"location\"\n",
      "[53960] expected \"address\" but predicted \"service\"\n",
      "[54248] expected \"address\" but predicted \"area\"\n",
      "[54273] expected \"address\" but predicted \"location\"\n",
      "[55535] expected \"address\" but predicted \"language\"\n",
      "[56030] expected \"address\" but predicted \"result\"\n",
      "[56085] expected \"address\" but predicted \"location\"\n",
      "[56708] expected \"address\" but predicted \"name\"\n",
      "[57015] expected \"address\" but predicted \"symbol\"\n",
      "[58524] expected \"address\" but predicted \"location\"\n",
      "[58816] expected \"address\" but predicted \"name\"\n",
      "[59506] expected \"address\" but predicted \"component\"\n",
      "[59632] expected \"address\" but predicted \"location\"\n",
      "[59734] expected \"address\" but predicted \"notes\"\n",
      "[60105] expected \"address\" but predicted \"area\"\n",
      "[60136] expected \"address\" but predicted \"location\"\n",
      "[60225] expected \"address\" but predicted \"notes\"\n",
      "[60441] expected \"address\" but predicted \"location\"\n",
      "[60565] expected \"address\" but predicted \"region\"\n",
      "[61894] expected \"address\" but predicted \"notes\"\n",
      "[61975] expected \"address\" but predicted \"capacity\"\n",
      "[62499] expected \"address\" but predicted \"location\"\n",
      "[64427] expected \"address\" but predicted \"city\"\n",
      "[66718] expected \"address\" but predicted \"location\"\n",
      "[67142] expected \"address\" but predicted \"name\"\n",
      "[68425] expected \"address\" but predicted \"location\"\n",
      "[68698] expected \"address\" but predicted \"name\"\n",
      "[69023] expected \"address\" but predicted \"location\"\n",
      "[69794] expected \"address\" but predicted \"city\"\n",
      "[70071] expected \"address\" but predicted \"location\"\n",
      "[71228] expected \"address\" but predicted \"location\"\n",
      "[71784] expected \"address\" but predicted \"location\"\n",
      "[72226] expected \"address\" but predicted \"notes\"\n",
      "[73573] expected \"address\" but predicted \"name\"\n",
      "[74228] expected \"address\" but predicted \"location\"\n",
      "[75893] expected \"address\" but predicted \"notes\"\n",
      "[76551] expected \"address\" but predicted \"language\"\n",
      "[77796] expected \"address\" but predicted \"city\"\n",
      "[81288] expected \"address\" but predicted \"city\"\n",
      "[82779] expected \"address\" but predicted \"command\"\n",
      "[83204] expected \"address\" but predicted \"name\"\n",
      "[83478] expected \"address\" but predicted \"location\"\n",
      "[83888] expected \"address\" but predicted \"name\"\n",
      "[84979] expected \"address\" but predicted \"birth place\"\n",
      "[85206] expected \"address\" but predicted \"location\"\n",
      "[85353] expected \"address\" but predicted \"creator\"\n",
      "[85752] expected \"address\" but predicted \"notes\"\n",
      "[85788] expected \"address\" but predicted \"region\"\n",
      "[85930] expected \"address\" but predicted \"language\"\n",
      "[85971] expected \"address\" but predicted \"location\"\n",
      "[86891] expected \"address\" but predicted \"rank\"\n",
      "[87332] expected \"address\" but predicted \"product\"\n",
      "[87413] expected \"address\" but predicted \"location\"\n",
      "[87891] expected \"address\" but predicted \"class\"\n",
      "[87958] expected \"address\" but predicted \"location\"\n",
      "[89058] expected \"address\" but predicted \"city\"\n",
      "[89504] expected \"address\" but predicted \"notes\"\n",
      "[89800] expected \"address\" but predicted \"location\"\n",
      "[90054] expected \"address\" but predicted \"name\"\n",
      "[90466] expected \"address\" but predicted \"location\"\n",
      "[90582] expected \"address\" but predicted \"city\"\n",
      "[90584] expected \"address\" but predicted \"location\"\n",
      "[92393] expected \"address\" but predicted \"location\"\n",
      "[93361] expected \"address\" but predicted \"location\"\n",
      "[93557] expected \"address\" but predicted \"country\"\n",
      "[95220] expected \"address\" but predicted \"notes\"\n",
      "[95411] expected \"address\" but predicted \"location\"\n",
      "[95769] expected \"address\" but predicted \"location\"\n",
      "[96379] expected \"address\" but predicted \"location\"\n",
      "[96640] expected \"address\" but predicted \"artist\"\n",
      "[96728] expected \"address\" but predicted \"publisher\"\n",
      "[99038] expected \"address\" but predicted \"location\"\n",
      "[99237] expected \"address\" but predicted \"location\"\n",
      "[100797] expected \"address\" but predicted \"symbol\"\n",
      "[103165] expected \"address\" but predicted \"notes\"\n",
      "[103681] expected \"address\" but predicted \"location\"\n",
      "[103703] expected \"address\" but predicted \"name\"\n",
      "[105085] expected \"address\" but predicted \"location\"\n",
      "[107281] expected \"address\" but predicted \"location\"\n",
      "[107567] expected \"address\" but predicted \"location\"\n",
      "[108550] expected \"address\" but predicted \"grades\"\n",
      "[109367] expected \"address\" but predicted \"city\"\n",
      "[109427] expected \"address\" but predicted \"result\"\n",
      "[109740] expected \"address\" but predicted \"city\"\n",
      "[111142] expected \"address\" but predicted \"location\"\n",
      "[112597] expected \"address\" but predicted \"location\"\n",
      "[112665] expected \"address\" but predicted \"area\"\n",
      "[113711] expected \"address\" but predicted \"location\"\n",
      "[114356] expected \"address\" but predicted \"day\"\n",
      "[114372] expected \"address\" but predicted \"area\"\n",
      "[114485] expected \"address\" but predicted \"notes\"\n",
      "[115607] expected \"address\" but predicted \"location\"\n",
      "[116630] expected \"address\" but predicted \"county\"\n",
      "[116714] expected \"address\" but predicted \"location\"\n",
      "[117109] expected \"address\" but predicted \"organisation\"\n",
      "[118623] expected \"address\" but predicted \"notes\"\n",
      "[120003] expected \"address\" but predicted \"owner\"\n",
      "[120918] expected \"address\" but predicted \"city\"\n",
      "[121275] expected \"address\" but predicted \"location\"\n",
      "[122561] expected \"address\" but predicted \"notes\"\n",
      "[123013] expected \"address\" but predicted \"position\"\n",
      "[123713] expected \"address\" but predicted \"location\"\n",
      "[124794] expected \"address\" but predicted \"company\"\n",
      "[124809] expected \"address\" but predicted \"location\"\n",
      "[126147] expected \"address\" but predicted \"region\"\n",
      "[126729] expected \"address\" but predicted \"location\"\n",
      "[127753] expected \"address\" but predicted \"rank\"\n",
      "[131254] expected \"address\" but predicted \"name\"\n",
      "[131693] expected \"address\" but predicted \"location\"\n",
      "[132446] expected \"address\" but predicted \"area\"\n",
      "[132881] expected \"address\" but predicted \"location\"\n",
      "[133805] expected \"address\" but predicted \"name\"\n",
      "[135969] expected \"address\" but predicted \"area\"\n",
      "[136727] expected \"address\" but predicted \"result\"\n",
      "[137027] expected \"address\" but predicted \"location\"\n"
     ]
    },
    {
     "name": "stdout",
     "output_type": "stream",
     "text": [
      "Total mismatches: 14652 (F1 score: 0.8933795716268179)\n"
     ]
    },
    {
     "data": {
      "text/plain": [
       "[('name', 737),\n",
       " ('rank', 670),\n",
       " ('region', 499),\n",
       " ('location', 494),\n",
       " ('description', 488),\n",
       " ('position', 455),\n",
       " ('team', 451),\n",
       " ('type', 404),\n",
       " ('artist', 357),\n",
       " ('notes', 355),\n",
       " ('area', 349),\n",
       " ('category', 349),\n",
       " ('album', 344),\n",
       " ('code', 312),\n",
       " ('ranking', 309),\n",
       " ('company', 307),\n",
       " ('product', 307),\n",
       " ('city', 278),\n",
       " ('day', 273),\n",
       " ('gender', 265),\n",
       " ('team name', 255),\n",
       " ('order', 250),\n",
       " ('class', 250),\n",
       " ('owner', 228),\n",
       " ('weight', 227),\n",
       " ('person', 220),\n",
       " ('status', 209),\n",
       " ('address', 198),\n",
       " ('brand', 190),\n",
       " ('manufacturer', 185),\n",
       " ('result', 183),\n",
       " ('age', 182),\n",
       " ('service', 180),\n",
       " ('year', 177),\n",
       " ('sex', 176),\n",
       " ('credit', 174),\n",
       " ('country', 168),\n",
       " ('range', 157),\n",
       " ('origin', 155),\n",
       " ('sales', 150),\n",
       " ('component', 148),\n",
       " ('duration', 145),\n",
       " ('plays', 140),\n",
       " ('state', 137),\n",
       " ('club', 130),\n",
       " ('county', 126),\n",
       " ('format', 124),\n",
       " ('capacity', 106),\n",
       " ('director', 105),\n",
       " ('publisher', 97),\n",
       " ('nationality', 90),\n",
       " ('depth', 85),\n",
       " ('command', 84),\n",
       " ('classification', 84),\n",
       " ('affiliation', 83),\n",
       " ('family', 78),\n",
       " ('symbol', 78),\n",
       " ('language', 73),\n",
       " ('education', 72),\n",
       " ('elevation', 63),\n",
       " ('operator', 62),\n",
       " ('creator', 60),\n",
       " ('file size', 60),\n",
       " ('requirement', 59),\n",
       " ('organisation', 53),\n",
       " ('genre', 53),\n",
       " ('species', 46),\n",
       " ('birth place', 43),\n",
       " ('industry', 40),\n",
       " ('affiliate', 37),\n",
       " ('jockey', 33),\n",
       " ('collection', 31),\n",
       " ('religion', 31),\n",
       " ('continent', 24),\n",
       " ('birth date', 17),\n",
       " ('isbn', 17),\n",
       " ('currency', 12),\n",
       " ('grades', 9)]"
      ]
     },
     "execution_count": 28,
     "metadata": {},
     "output_type": "execute_result"
    }
   ],
   "source": [
    "size = len(y_test)\n",
    "mismatches = list()\n",
    "\n",
    "for idx, k1 in enumerate(y_test[:size]):\n",
    "    k2 = predicted_labels[idx]\n",
    "\n",
    "    if k1 != k2:\n",
    "        mismatches.append(k1)\n",
    "        \n",
    "        # zoom in to specific errors. Use the index in the next step\n",
    "        if k1 in ('address'):\n",
    "            print(f'[{idx}] expected \"{k1}\" but predicted \"{k2}\"')\n",
    "        \n",
    "f1 = f1_score(y_test[:size], predicted_labels[:size], average=\"weighted\")\n",
    "print(f'Total mismatches: {len(mismatches)} (F1 score: {f1})')\n",
    "\n",
    "data = Counter(mismatches)\n",
    "data.most_common()   # Returns all unique items and their counts"
   ]
  },
  {
   "cell_type": "code",
   "execution_count": 29,
   "metadata": {},
   "outputs": [],
   "source": [
    "test_samples = pd.read_parquet('../data/data/raw/test_values.parquet')"
   ]
  },
  {
   "cell_type": "code",
   "execution_count": 30,
   "metadata": {},
   "outputs": [
    {
     "name": "stdout",
     "output_type": "stream",
     "text": [
      "Predicted \"address\", actual label \"address\". Actual values:\n",
      "[['Cabot House', 'Cabot House', '5 Hill Rd.', '5 Hill Rd.', '9 Cabot Rd.', '9 Cabot Rd.', 'Cabot House', '22 Bank Rd.', '22 Bank Rd.', 'Cabot House', '31 Bank Rd.', '31 Bank Rd.', 'Bairds Hotel', '11 Cabot Rd.', '11 Cabot Rd.', '10 Hill Rd.', '10 Hill Rd.', '10 Hill Rd.', '10 Hill Rd.', '7A Church Rd.', '1 Cabot Rd.', '1 Cabot Rd.', '1 Cabot Rd.', '1 Cabot Rd.', '2 Coronation St.', '2 Coronation St.', '7A Church Rd.', '12 Hill Rd.', '12 Hill Rd.', '12 Hill Rd.', 'Cabot House', '19 Bank Rd.', '19 Bank Rd.', '19 Bank Rd.', '19 Bank Rd.', '19 Bank Rd.', '7A Church Rd.', '18 Mill Rd.', '17 Hill Rd.', '17 Hill Rd.', 'Cabot House', 'Cabot House', '25 Bank Rd.', '10 Coronation St.', '6 Cabot Rd.', '6 Cabot Rd.', '8 Hill Rd.', '8 Hill Rd.', '4 Mill Rd.', '4 Mill Rd.', '12 Sulva Rd.', '4 Haig Rd.', '13 Botwood Rd.', '13 Botwood Rd.', '8 Botwood Rd.', '8 Botwood Rd.', '16 Botwood Rd.', '16 Botwood Rd.', '16 Botwood Rd.', '16 Botwood Rd.', '56 Beaumont Ave.', '8 Botwood Rd.', '56 Beaumont Ave.', '61 Botwood Rd.', '8 Botwood Rd.', '8 Botwood Rd.', '41 Beaumont Ave.', '41 Beaumont Ave.', '1 Polygon Rd.', '1 Polygon Rd.', '1 Polygon Rd.', '8 Botwood Rd.', '8 Botwood Rd.', '40 Botwood Rd.', '40 Botwood Rd.', '11 Haig Rd.', '11 Haig Rd.', '40 Botwood Rd.', '43 Botwood Rd.', '56 Botwood Rd.', '56 Botwood Rd.', '56 Botwood Rd.', '56 Botwood Rd.', '55 Botwood Rd.', '55 Botwood Rd.', '55 Botwood Rd.', '55 Botwood Rd.', '9 Botwood Rd.', '9 Botwood Rd.', '51 Botwood Rd.', '51 Botwood Rd.', '33 Botwood Rd.', '33 Botwood Rd.', '33 Botwood Rd.', '33 Botwood Rd.', '17 Sulva Rd.', '17 Sulva Rd.', '1 Sulva Rd.', '1 Sulva Rd.', '5B Botwood Rd.', '21 Monchy Rd.', '15 Junction Rd.', '15 Junction Rd.', '15 Junction Rd.', '15 Junction Rd.', '11 Monchy Rd.', '49 Queen St.', '17 Monchy Rd.', '17 Monchy Rd.', '49 Queen St.', '49 Junction Rd.', '49 Junction Rd.', '1 Queen St.', '1 Queen St.', '37 Monchy Rd.', '37 Monchy Rd.', 'Pine Ave Apt. 5', 'Pine Ave Apt. 5', '6 Peronne Rd.', '2 Peronne Rd.', '6 Peronne Rd.', '7 Peronne Rd.', '7 Peronne Rd.', '7 Peronne Rd.', 'Pine Ave. Apt. 19', '13 Queen St.', 'Pine Ave. Apt. 19', '41 Junction Rd.', '13 Queen St.', '4 Pine Ave.', '51 Junction Rd.', '51 Junction Rd.', '6 Monchy Rd.', '6 Monchy Rd.', '1 Peronne Rd.', '1 Peronne Rd.', 'Pine Ave. Apt. 6', 'Pine Ave. Apt. 6', '50 Junction Rd.', '20 Junction Rd.', '20 Junction Rd.', '20 Junction Rd.', 'Pine Ave. Apt. 15', 'Pine Ave. Apt. 15', '23 Monchy Rd.', '23 Monchy Rd.', '5 Peronne Rd.', '15 Queen St.', '15 Queen St.', '15 Queen St.', '24 East St.', '13 East St.', '13 East St.', '4 Railway Rd.', '4 Railway Rd.', '12 Fourth Ave.', '12 Fourth Ave.', '8 Circular Rd.', '8 Circular Rd.', '8 Circular Rd.', '17 Circular Rd.', '17 Circular Rd.', '1A Valley Rd.', '28 Fourth Ave.', '28 Fourth Ave.', '22 East St.', '22 East St.', '15 Fourth Ave.', '11 Third Ave.', '15 Fourth Ave.', '15 Fourth Ave.', '15 Fourth Ave.', '11 Third Ave.', '15 Fourth Ave.', '4 Railway Rd.', '6 Valley Rd.', '4 Railway Rd.', '6 Valley Rd.', '7 West St.', '7 West St.', '22 Circular Rd.', '25 Fourth Ave.', '5 Valley Rd.', '25 Fourth Ave.', '5 Valley Rd.', '5 Fourth Ave.', '5 Fourth Ave.', '15 Valley Rd.', '1 Third Ave.', '1 Third Ave.', '1 Third Ave.', '20 Fourth Ave.', '10 Valley Rd.', '20 Fourth Ave.', '20 Fourth Ave.', '11 East St.', '20 Fourth Ave.', '11 East St.', '2 Railway Rd.', '20 Fourth Ave.', '10 Valley Rd.', '11 East St.', '2 Railway Rd.', '20 East St.', '20 East St.', '20 East St.', '20 East St.', '20 East St.', '10 East St.', '10 East St.', '10 East St.', '11 Railway Rd.', '7 Circular Rd.', '11 Railway Rd.', '11 Railway Rd.', '7 Circular Rd.', '11 Railway Rd.', '3 Fourth Ave.', '13 Fourth Ave.', '4 Third Ave.', '3 Fourth Ave.', '13 Fourth Ave.', '13 Fourth Ave.', '13 Fourth Ave.', '11 Third Ave.', '11 Third Ave.', '13 Fourth Ave.', '3 Fourth Ave.', '10 Circular Rd.', '10 Circular Rd.', '12 Third Ave.', '10 Circular Rd.', '10 Circular Rd.', '12 Third Ave.', '10 Circular Rd.', '5 Railway Rd.', '5 Railway Rd.', '7 Third Ave.', '14 Fourth Ave.', '14 Fourth Ave.', '14 Fourth Ave.', '7 Third Ave.', '14 Fourth Ave.', '14 Fourth Ave.', '14 Fourth Ave.', '26 East St.', '26 East St.', '5 East St.', '5 East St.', '5 East St.', '16 East St.', '15 Third Ave.', '7 Valley Rd.', '15 Third Ave.', '15 Third Ave.', '7 Valley Rd.', '1 Railway Rd.', '1 Railway Rd.', '33 Circular Rd.', '33 Circular Rd.', '33 Circular Rd.', '18 East St.', '18 East St.', '6 Third Ave.', '6 Third Ave.', '25 Circular Rd.', '5 Valley Rd.', '23 Fourth Ave.', '23 Fourth Ave.', '1A Valley Rd.', '37 Circular Rd.', '23 Fourth Ave.', '37 Circular Rd.', '1A Valley Rd.', '24A Fourth Ave.', '24A Fourth Ave.', '1 Fourth Ave.', '1 Fourth Ave.', '1 Fourth Ave.', '2A Valley Rd.', '2A Valley Rd.', '6 Valley Rd.', '30 Fourth Ave.', '30 Fourth Ave.', '19 Fourth Ave.', '19 Fourth Ave.', '3 Valley Rd.', '3 Valley Rd.']]\n"
     ]
    }
   ],
   "source": [
    "idx = 1001\n",
    "original = test_samples.iloc[idx]\n",
    "converted = original.apply(literal_eval).to_list()\n",
    "\n",
    "print(f'Predicted \"{predicted_labels[idx]}\", actual label \"{y_test[idx]}\". Actual values:\\n{converted}')"
   ]
  },
  {
   "cell_type": "code",
   "execution_count": null,
   "metadata": {},
   "outputs": [],
   "source": []
  }
 ],
 "metadata": {
  "kernelspec": {
   "display_name": "Python 3",
   "language": "python",
   "name": "python3"
  },
  "language_info": {
   "codemirror_mode": {
    "name": "ipython",
    "version": 3
   },
   "file_extension": ".py",
   "mimetype": "text/x-python",
   "name": "python",
   "nbconvert_exporter": "python",
   "pygments_lexer": "ipython3",
   "version": "3.6.12"
  }
 },
 "nbformat": 4,
 "nbformat_minor": 4
}
