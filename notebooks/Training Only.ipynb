{
 "cells": [
  {
   "cell_type": "code",
   "execution_count": 1,
   "metadata": {
    "scrolled": true
   },
   "outputs": [],
   "source": [
    "%load_ext autoreload\n",
    "%autoreload 2"
   ]
  },
  {
   "cell_type": "code",
   "execution_count": 2,
   "metadata": {},
   "outputs": [],
   "source": [
    "nn_model_id = 'retrained_sherlock'"
   ]
  },
  {
   "cell_type": "code",
   "execution_count": 3,
   "metadata": {},
   "outputs": [],
   "source": [
    "import pandas as pd\n",
    "import numpy as np\n",
    "\n",
    "from sherlock.deploy.train_sherlock import train_sherlock\n",
    "from sherlock.deploy.predict_sherlock import predict_sherlock\n",
    "from datetime import datetime\n",
    "from sklearn.metrics import f1_score, classification_report"
   ]
  },
  {
   "cell_type": "markdown",
   "metadata": {},
   "source": [
    "### Load training and validation sets"
   ]
  },
  {
   "cell_type": "code",
   "execution_count": 4,
   "metadata": {},
   "outputs": [
    {
     "name": "stdout",
     "output_type": "stream",
     "text": [
      "Started at 2022-02-04 11:53:09.566836\n",
      "Load data (train) process took 0:00:03.543899 seconds.\n"
     ]
    }
   ],
   "source": [
    "start = datetime.now()\n",
    "print(f'Started at {start}')\n",
    "\n",
    "X_train = pd.read_parquet('train.parquet')\n",
    "y_train = pd.read_parquet('../data/raw/train_labels.parquet').values.flatten()\n",
    "\n",
    "y_train = np.array([x.lower() for x in y_train])\n",
    "\n",
    "print(f'Load data (train) process took {datetime.now() - start} seconds.')"
   ]
  },
  {
   "cell_type": "code",
   "execution_count": 5,
   "metadata": {},
   "outputs": [
    {
     "name": "stdout",
     "output_type": "stream",
     "text": [
      "Distinct types for columns in the Dataframe (should be all float32):\n",
      "{dtype('float32')}\n"
     ]
    }
   ],
   "source": [
    "print('Distinct types for columns in the Dataframe (should be all float32):')\n",
    "print(set(X_train.dtypes))"
   ]
  },
  {
   "cell_type": "code",
   "execution_count": 6,
   "metadata": {},
   "outputs": [
    {
     "name": "stdout",
     "output_type": "stream",
     "text": [
      "Started at 2022-02-04 11:53:13.378367\n",
      "Load data (validation) process took 0:00:01.639247 seconds.\n"
     ]
    }
   ],
   "source": [
    "start = datetime.now()\n",
    "print(f'Started at {start}')\n",
    "\n",
    "X_validation = pd.read_parquet('validation.parquet')\n",
    "y_validation = pd.read_parquet('../data/raw/val_labels.parquet').values.flatten()\n",
    "\n",
    "y_validation = np.array([x.lower() for x in y_validation])\n",
    "\n",
    "print(f'Load data (validation) process took {datetime.now() - start} seconds.')"
   ]
  },
  {
   "cell_type": "markdown",
   "metadata": {},
   "source": [
    "### Re-train Sherlock"
   ]
  },
  {
   "cell_type": "code",
   "execution_count": 7,
   "metadata": {},
   "outputs": [
    {
     "name": "stdout",
     "output_type": "stream",
     "text": [
      "Started at 2022-02-04 11:53:15.081434\n"
     ]
    },
    {
     "name": "stderr",
     "output_type": "stream",
     "text": [
      "WARNING: Logging before flag parsing goes to stderr.\n",
      "W0204 11:53:15.555608 4443889152 deprecation.py:506] From /Users/lowecg/source/private-github/sherlock-project-1/venv/lib/python3.7/site-packages/tensorflow_core/python/ops/init_ops.py:97: calling Zeros.__init__ (from tensorflow.python.ops.init_ops) with dtype is deprecated and will be removed in a future version.\n",
      "Instructions for updating:\n",
      "Call initializer instance with the dtype argument instead of passing it to the constructor\n",
      "W0204 11:53:15.556807 4443889152 deprecation.py:506] From /Users/lowecg/source/private-github/sherlock-project-1/venv/lib/python3.7/site-packages/tensorflow_core/python/ops/init_ops.py:97: calling Ones.__init__ (from tensorflow.python.ops.init_ops) with dtype is deprecated and will be removed in a future version.\n",
      "Instructions for updating:\n",
      "Call initializer instance with the dtype argument instead of passing it to the constructor\n",
      "W0204 11:53:15.561105 4443889152 deprecation.py:506] From /Users/lowecg/source/private-github/sherlock-project-1/venv/lib/python3.7/site-packages/tensorflow_core/python/ops/init_ops.py:97: calling VarianceScaling.__init__ (from tensorflow.python.ops.init_ops) with dtype is deprecated and will be removed in a future version.\n",
      "Instructions for updating:\n",
      "Call initializer instance with the dtype argument instead of passing it to the constructor\n",
      "W0204 11:53:15.580360 4443889152 deprecation.py:506] From /Users/lowecg/source/private-github/sherlock-project-1/venv/lib/python3.7/site-packages/tensorflow_core/python/ops/resource_variable_ops.py:1630: calling BaseResourceVariable.__init__ (from tensorflow.python.ops.resource_variable_ops) with constraint is deprecated and will be removed in a future version.\n",
      "Instructions for updating:\n",
      "If using Keras pass *_constraint arguments to layers.\n"
     ]
    },
    {
     "name": "stdout",
     "output_type": "stream",
     "text": [
      "Successfully loaded and compiled model, now fitting model on data.\n",
      "Train on 412059 samples, validate on 137353 samples\n"
     ]
    },
    {
     "name": "stderr",
     "output_type": "stream",
     "text": [
      "2022-02-04 11:53:18.849842: I tensorflow/core/platform/cpu_feature_guard.cc:142] Your CPU supports instructions that this TensorFlow binary was not compiled to use: AVX2 FMA\n",
      "2022-02-04 11:53:18.880937: I tensorflow/compiler/xla/service/service.cc:168] XLA service 0x7fd57ebc7030 initialized for platform Host (this does not guarantee that XLA will be used). Devices:\n",
      "2022-02-04 11:53:18.880972: I tensorflow/compiler/xla/service/service.cc:176]   StreamExecutor device (0): Host, Default Version\n"
     ]
    },
    {
     "name": "stdout",
     "output_type": "stream",
     "text": [
      "Epoch 1/100\n",
      "412059/412059 [==============================] - 80s 193us/sample - loss: 1.6102 - categorical_accuracy: 0.6984 - val_loss: 1.0352 - val_categorical_accuracy: 0.8294\n",
      "Epoch 2/100\n",
      "412059/412059 [==============================] - 84s 204us/sample - loss: 0.9596 - categorical_accuracy: 0.8368 - val_loss: 0.9416 - val_categorical_accuracy: 0.8499\n",
      "Epoch 3/100\n",
      "412059/412059 [==============================] - 78s 189us/sample - loss: 0.8494 - categorical_accuracy: 0.8597 - val_loss: 0.8910 - val_categorical_accuracy: 0.8578\n",
      "Epoch 4/100\n",
      "412059/412059 [==============================] - 80s 194us/sample - loss: 0.7843 - categorical_accuracy: 0.8711 - val_loss: 0.8555 - val_categorical_accuracy: 0.8624\n",
      "Epoch 5/100\n",
      "412059/412059 [==============================] - 79s 192us/sample - loss: 0.7363 - categorical_accuracy: 0.8798 - val_loss: 0.8280 - val_categorical_accuracy: 0.8667\n",
      "Epoch 6/100\n",
      "412059/412059 [==============================] - 78s 190us/sample - loss: 0.6994 - categorical_accuracy: 0.8854 - val_loss: 0.8052 - val_categorical_accuracy: 0.8704\n",
      "Epoch 7/100\n",
      "412059/412059 [==============================] - 80s 193us/sample - loss: 0.6672 - categorical_accuracy: 0.8900 - val_loss: 0.7822 - val_categorical_accuracy: 0.8732\n",
      "Epoch 8/100\n",
      "412059/412059 [==============================] - 81s 197us/sample - loss: 0.6391 - categorical_accuracy: 0.8939 - val_loss: 0.7698 - val_categorical_accuracy: 0.8756\n",
      "Epoch 9/100\n",
      "412059/412059 [==============================] - 80s 193us/sample - loss: 0.6136 - categorical_accuracy: 0.8975 - val_loss: 0.7498 - val_categorical_accuracy: 0.8771\n",
      "Epoch 10/100\n",
      "412059/412059 [==============================] - 80s 195us/sample - loss: 0.5920 - categorical_accuracy: 0.9003 - val_loss: 0.7333 - val_categorical_accuracy: 0.8788\n",
      "Epoch 11/100\n",
      "412059/412059 [==============================] - 81s 198us/sample - loss: 0.5725 - categorical_accuracy: 0.9025 - val_loss: 0.7272 - val_categorical_accuracy: 0.8808\n",
      "Epoch 12/100\n",
      "412059/412059 [==============================] - 75s 182us/sample - loss: 0.5539 - categorical_accuracy: 0.9053 - val_loss: 0.7137 - val_categorical_accuracy: 0.8818\n",
      "Epoch 13/100\n",
      "412059/412059 [==============================] - 75s 182us/sample - loss: 0.5366 - categorical_accuracy: 0.9076 - val_loss: 0.7059 - val_categorical_accuracy: 0.8820\n",
      "Epoch 14/100\n",
      "412059/412059 [==============================] - 75s 181us/sample - loss: 0.5224 - categorical_accuracy: 0.9092 - val_loss: 0.6969 - val_categorical_accuracy: 0.8821\n",
      "Epoch 15/100\n",
      "412059/412059 [==============================] - 75s 182us/sample - loss: 0.5077 - categorical_accuracy: 0.9115 - val_loss: 0.6845 - val_categorical_accuracy: 0.8844\n",
      "Epoch 16/100\n",
      "412059/412059 [==============================] - 76s 183us/sample - loss: 0.4946 - categorical_accuracy: 0.9123 - val_loss: 0.6805 - val_categorical_accuracy: 0.8845\n",
      "Epoch 17/100\n",
      "412059/412059 [==============================] - 75s 181us/sample - loss: 0.4818 - categorical_accuracy: 0.9144 - val_loss: 0.6751 - val_categorical_accuracy: 0.8853\n",
      "Epoch 18/100\n",
      "412059/412059 [==============================] - 75s 183us/sample - loss: 0.4713 - categorical_accuracy: 0.9157 - val_loss: 0.6701 - val_categorical_accuracy: 0.8853\n",
      "Epoch 19/100\n",
      "412059/412059 [==============================] - 75s 182us/sample - loss: 0.4591 - categorical_accuracy: 0.9174 - val_loss: 0.6592 - val_categorical_accuracy: 0.8871\n",
      "Epoch 20/100\n",
      "412059/412059 [==============================] - 76s 183us/sample - loss: 0.4508 - categorical_accuracy: 0.9180 - val_loss: 0.6620 - val_categorical_accuracy: 0.8872\n",
      "Epoch 21/100\n",
      "412059/412059 [==============================] - 75s 182us/sample - loss: 0.4401 - categorical_accuracy: 0.9204 - val_loss: 0.6577 - val_categorical_accuracy: 0.8865\n",
      "Epoch 22/100\n",
      "412059/412059 [==============================] - 75s 181us/sample - loss: 0.4325 - categorical_accuracy: 0.9213 - val_loss: 0.6512 - val_categorical_accuracy: 0.8887\n",
      "Epoch 23/100\n",
      "412059/412059 [==============================] - 75s 181us/sample - loss: 0.4248 - categorical_accuracy: 0.9221 - val_loss: 0.6423 - val_categorical_accuracy: 0.8890\n",
      "Epoch 24/100\n",
      "412059/412059 [==============================] - 75s 182us/sample - loss: 0.4169 - categorical_accuracy: 0.9229 - val_loss: 0.6432 - val_categorical_accuracy: 0.8897\n",
      "Epoch 25/100\n",
      "412059/412059 [==============================] - 75s 181us/sample - loss: 0.4088 - categorical_accuracy: 0.9243 - val_loss: 0.6379 - val_categorical_accuracy: 0.8896\n",
      "Epoch 26/100\n",
      "412059/412059 [==============================] - 74s 180us/sample - loss: 0.4019 - categorical_accuracy: 0.9251 - val_loss: 0.6348 - val_categorical_accuracy: 0.8901\n",
      "Epoch 27/100\n",
      "412059/412059 [==============================] - 74s 179us/sample - loss: 0.3975 - categorical_accuracy: 0.9258 - val_loss: 0.6322 - val_categorical_accuracy: 0.8909\n",
      "Epoch 28/100\n",
      "412059/412059 [==============================] - 74s 179us/sample - loss: 0.3906 - categorical_accuracy: 0.9269 - val_loss: 0.6378 - val_categorical_accuracy: 0.8902\n",
      "Epoch 29/100\n",
      "412059/412059 [==============================] - 73s 177us/sample - loss: 0.3851 - categorical_accuracy: 0.9277 - val_loss: 0.6350 - val_categorical_accuracy: 0.8910\n",
      "Epoch 30/100\n",
      "412059/412059 [==============================] - 73s 176us/sample - loss: 0.3796 - categorical_accuracy: 0.9287 - val_loss: 0.6257 - val_categorical_accuracy: 0.8911\n",
      "Epoch 31/100\n",
      "412059/412059 [==============================] - 73s 176us/sample - loss: 0.3749 - categorical_accuracy: 0.9292 - val_loss: 0.6264 - val_categorical_accuracy: 0.8910\n",
      "Epoch 32/100\n",
      "412059/412059 [==============================] - 73s 178us/sample - loss: 0.3706 - categorical_accuracy: 0.9294 - val_loss: 0.6259 - val_categorical_accuracy: 0.8922\n",
      "Epoch 33/100\n",
      "412059/412059 [==============================] - 73s 177us/sample - loss: 0.3663 - categorical_accuracy: 0.9302 - val_loss: 0.6224 - val_categorical_accuracy: 0.8924\n",
      "Epoch 34/100\n",
      "412059/412059 [==============================] - 73s 178us/sample - loss: 0.3617 - categorical_accuracy: 0.9313 - val_loss: 0.6169 - val_categorical_accuracy: 0.8935\n",
      "Epoch 35/100\n",
      "412059/412059 [==============================] - 73s 177us/sample - loss: 0.3577 - categorical_accuracy: 0.9319 - val_loss: 0.6202 - val_categorical_accuracy: 0.8931\n",
      "Epoch 36/100\n",
      "412059/412059 [==============================] - 74s 180us/sample - loss: 0.3541 - categorical_accuracy: 0.9323 - val_loss: 0.6247 - val_categorical_accuracy: 0.8935\n",
      "Epoch 37/100\n",
      "412059/412059 [==============================] - 73s 178us/sample - loss: 0.3512 - categorical_accuracy: 0.9328 - val_loss: 0.6285 - val_categorical_accuracy: 0.8929\n",
      "Epoch 38/100\n",
      "412059/412059 [==============================] - 73s 178us/sample - loss: 0.3459 - categorical_accuracy: 0.9337 - val_loss: 0.6193 - val_categorical_accuracy: 0.8931\n",
      "Epoch 39/100\n",
      "412059/412059 [==============================] - 73s 178us/sample - loss: 0.3441 - categorical_accuracy: 0.9339 - val_loss: 0.6140 - val_categorical_accuracy: 0.8944\n",
      "Epoch 40/100\n",
      "412059/412059 [==============================] - 74s 179us/sample - loss: 0.3397 - categorical_accuracy: 0.9349 - val_loss: 0.6269 - val_categorical_accuracy: 0.8927\n",
      "Epoch 41/100\n",
      "412059/412059 [==============================] - 73s 178us/sample - loss: 0.3381 - categorical_accuracy: 0.9350 - val_loss: 0.6233 - val_categorical_accuracy: 0.8938\n",
      "Epoch 42/100\n",
      "412059/412059 [==============================] - 74s 179us/sample - loss: 0.3354 - categorical_accuracy: 0.9355 - val_loss: 0.6177 - val_categorical_accuracy: 0.8936\n",
      "Epoch 43/100\n",
      "412059/412059 [==============================] - 74s 179us/sample - loss: 0.3333 - categorical_accuracy: 0.9353 - val_loss: 0.6210 - val_categorical_accuracy: 0.8936\n",
      "Epoch 44/100\n",
      "412059/412059 [==============================] - 75s 181us/sample - loss: 0.3304 - categorical_accuracy: 0.9363 - val_loss: 0.6191 - val_categorical_accuracy: 0.8937\n",
      "Retrained Sherlock.\n",
      "Trained and saved new model.\n",
      "Finished at 2022-02-04 12:48:46.414967, took 0:55:31.333549 seconds\n"
     ]
    }
   ],
   "source": [
    "start = datetime.now()\n",
    "print(f'Started at {start}')\n",
    "\n",
    "train_sherlock(X_train, y_train, X_validation, y_validation, nn_id=nn_model_id);\n",
    "\n",
    "print('Trained and saved new model.')\n",
    "print(f'Finished at {datetime.now()}, took {datetime.now() - start} seconds')"
   ]
  },
  {
   "cell_type": "markdown",
   "metadata": {},
   "source": [
    "### Load test set"
   ]
  },
  {
   "cell_type": "code",
   "execution_count": 8,
   "metadata": {},
   "outputs": [
    {
     "name": "stdout",
     "output_type": "stream",
     "text": [
      "Started at 2022-02-04 12:48:46.477211\n",
      "Trained and saved new model.\n",
      "Finished at 2022-02-04 12:48:48.335172, took 0:00:01.857975 seconds\n"
     ]
    }
   ],
   "source": [
    "start = datetime.now()\n",
    "print(f'Started at {start}')\n",
    "\n",
    "X_test = pd.read_parquet('test.parquet')\n",
    "y_test = pd.read_parquet('../data/raw/test_labels.parquet').values.flatten()\n",
    "\n",
    "y_test = np.array([x.lower() for x in y_test])\n",
    "\n",
    "print('Trained and saved new model.')\n",
    "print(f'Finished at {datetime.now()}, took {datetime.now() - start} seconds')"
   ]
  },
  {
   "cell_type": "markdown",
   "metadata": {},
   "source": [
    "### Make prediction"
   ]
  },
  {
   "cell_type": "code",
   "execution_count": 9,
   "metadata": {},
   "outputs": [],
   "source": [
    "predicted_labels = predict_sherlock(X_test, nn_id=nn_model_id)"
   ]
  },
  {
   "cell_type": "code",
   "execution_count": 10,
   "metadata": {},
   "outputs": [
    {
     "name": "stdout",
     "output_type": "stream",
     "text": [
      "prediction count 137353, type = <class 'numpy.ndarray'>\n"
     ]
    },
    {
     "data": {
      "text/plain": [
       "0.8936850535436299"
      ]
     },
     "execution_count": 10,
     "metadata": {},
     "output_type": "execute_result"
    }
   ],
   "source": [
    "print(f'prediction count {len(predicted_labels)}, type = {type(predicted_labels)}')\n",
    "\n",
    "size=len(y_test)\n",
    "\n",
    "# Should be fully deterministic too.\n",
    "f1_score(y_test[:size], predicted_labels[:size], average=\"weighted\")"
   ]
  },
  {
   "cell_type": "code",
   "execution_count": 11,
   "metadata": {},
   "outputs": [],
   "source": [
    "# Best results\n",
    "# 0.8956975031011328, adam optimiser, took 0:59:19.320310 seconds (retrained_sherlock8)\n",
    "\n",
    "# 0.8871638630500646, SGD Nesterov optimiser,  took 1:37:09.679227 seconds (retrained_sherlock9)\n",
    "\n",
    "# LAST\n",
    "# 0.8941992181577104\n",
    "# 0.8661276466591463\n",
    "# 0.8765360861865846\n",
    "# 0.8777825108666634\n",
    "# 0.8709458033528152\n",
    "# 0.8526528126158138\n",
    "# 0.836800124917518\n",
    "# 0.8590214693450329\n",
    "# 0.8583626471084315"
   ]
  },
  {
   "cell_type": "code",
   "execution_count": 12,
   "metadata": {},
   "outputs": [],
   "source": [
    "classes = np.load(f\"../sherlock/deploy/classes_{nn_model_id}.npy\", allow_pickle=True)\n",
    "\n",
    "report = classification_report(y_test, predicted_labels, output_dict=True)\n",
    "\n",
    "class_scores = list(filter(lambda x: isinstance(x, tuple) and isinstance(x[1], dict) and 'f1-score' in x[1] and x[0] in classes, list(report.items())))\n",
    "\n",
    "class_scores = sorted(class_scores, key=lambda item: item[1]['f1-score'], reverse=True)"
   ]
  },
  {
   "cell_type": "markdown",
   "metadata": {},
   "source": [
    "### Top 5 Types"
   ]
  },
  {
   "cell_type": "code",
   "execution_count": 13,
   "metadata": {},
   "outputs": [
    {
     "name": "stdout",
     "output_type": "stream",
     "text": [
      "\t\tf1-score\tprecision\trecall\t\tsupport\n",
      "isbn\t\t0.992\t\t0.997\t\t0.987\t\t1430\n",
      "grades\t\t0.992\t\t0.990\t\t0.993\t\t1765\n",
      "jockey\t\t0.987\t\t0.987\t\t0.987\t\t2819\n",
      "industry\t0.982\t\t0.976\t\t0.987\t\t2958\n",
      "currency\t0.978\t\t0.987\t\t0.968\t\t405\n"
     ]
    }
   ],
   "source": [
    "print(f\"\\t\\tf1-score\\tprecision\\trecall\\t\\tsupport\")\n",
    "\n",
    "for key, value in class_scores[0:5]:\n",
    "    if len(key) >= 8:\n",
    "        tabs = '\\t' * 1\n",
    "    else:\n",
    "        tabs = '\\t' * 2\n",
    "\n",
    "    print(f\"{key}{tabs}{value['f1-score']:.3f}\\t\\t{value['precision']:.3f}\\t\\t{value['recall']:.3f}\\t\\t{value['support']}\")"
   ]
  },
  {
   "cell_type": "markdown",
   "metadata": {},
   "source": [
    "### Bottom 5 Types"
   ]
  },
  {
   "cell_type": "code",
   "execution_count": 14,
   "metadata": {
    "scrolled": true
   },
   "outputs": [
    {
     "name": "stdout",
     "output_type": "stream",
     "text": [
      "\t\tf1-score\tprecision\trecall\t\tsupport\n",
      "rank\t\t0.709\t\t0.671\t\t0.751\t\t2983\n",
      "person\t\t0.663\t\t0.729\t\t0.608\t\t579\n",
      "director\t0.569\t\t0.621\t\t0.524\t\t225\n",
      "sales\t\t0.527\t\t0.711\t\t0.419\t\t322\n",
      "ranking\t\t0.517\t\t0.786\t\t0.385\t\t439\n"
     ]
    }
   ],
   "source": [
    "print(f\"\\t\\tf1-score\\tprecision\\trecall\\t\\tsupport\")\n",
    "\n",
    "for key, value in class_scores[len(class_scores)-5:len(class_scores)]:\n",
    "    if len(key) >= 8:\n",
    "        tabs = '\\t' * 1\n",
    "    else:\n",
    "        tabs = '\\t' * 2\n",
    "\n",
    "    print(f\"{key}{tabs}{value['f1-score']:.3f}\\t\\t{value['precision']:.3f}\\t\\t{value['recall']:.3f}\\t\\t{value['support']}\")"
   ]
  },
  {
   "cell_type": "markdown",
   "metadata": {},
   "source": [
    "### All Scores"
   ]
  },
  {
   "cell_type": "code",
   "execution_count": 15,
   "metadata": {},
   "outputs": [
    {
     "name": "stdout",
     "output_type": "stream",
     "text": [
      "                precision    recall  f1-score   support\n",
      "\n",
      "       address      0.936     0.938     0.937      3003\n",
      "     affiliate      0.966     0.824     0.889       204\n",
      "   affiliation      0.977     0.955     0.966      1768\n",
      "           age      0.863     0.953     0.905      3033\n",
      "         album      0.889     0.886     0.887      3035\n",
      "          area      0.887     0.819     0.852      1987\n",
      "        artist      0.822     0.868     0.844      3043\n",
      "    birth date      0.979     0.975     0.977       479\n",
      "   birth place      0.977     0.909     0.942       418\n",
      "         brand      0.751     0.716     0.733       574\n",
      "      capacity      0.826     0.693     0.754       362\n",
      "      category      0.885     0.901     0.893      3087\n",
      "          city      0.836     0.908     0.871      2966\n",
      "         class      0.878     0.918     0.897      2971\n",
      "classification      0.935     0.859     0.895       587\n",
      "          club      0.975     0.955     0.965      2977\n",
      "          code      0.929     0.904     0.916      2956\n",
      "    collection      0.978     0.935     0.956       476\n",
      "       command      0.919     0.919     0.919      1045\n",
      "       company      0.899     0.891     0.895      3041\n",
      "     component      0.875     0.884     0.880      1226\n",
      "     continent      0.878     0.859     0.869       227\n",
      "       country      0.904     0.935     0.919      3038\n",
      "        county      0.952     0.952     0.952      2959\n",
      "       creator      0.868     0.850     0.859       347\n",
      "        credit      0.891     0.787     0.836       941\n",
      "      currency      0.987     0.968     0.978       405\n",
      "           day      0.899     0.915     0.907      3038\n",
      "         depth      0.930     0.923     0.926       947\n",
      "   description      0.834     0.843     0.838      3042\n",
      "      director      0.621     0.524     0.569       225\n",
      "      duration      0.923     0.945     0.934      3000\n",
      "     education      0.872     0.786     0.827       313\n",
      "     elevation      0.941     0.955     0.948      1299\n",
      "        family      0.936     0.899     0.917       746\n",
      "     file size      0.922     0.853     0.886       361\n",
      "        format      0.968     0.958     0.963      2956\n",
      "        gender      0.854     0.732     0.788      1030\n",
      "         genre      0.950     0.955     0.953      1163\n",
      "        grades      0.990     0.993     0.992      1765\n",
      "      industry      0.976     0.987     0.982      2958\n",
      "          isbn      0.997     0.987     0.992      1430\n",
      "        jockey      0.987     0.987     0.987      2819\n",
      "      language      0.733     0.968     0.834      1474\n",
      "      location      0.860     0.830     0.845      2949\n",
      "  manufacturer      0.877     0.826     0.851       945\n",
      "          name      0.720     0.753     0.736      3017\n",
      "   nationality      0.811     0.781     0.796       424\n",
      "         notes      0.837     0.835     0.836      2303\n",
      "      operator      0.814     0.844     0.829       404\n",
      "         order      0.810     0.917     0.860      1462\n",
      "  organisation      0.888     0.817     0.851       262\n",
      "        origin      0.965     0.880     0.920      1439\n",
      "         owner      0.925     0.874     0.899      1673\n",
      "        person      0.729     0.608     0.663       579\n",
      "         plays      0.807     0.910     0.856      1513\n",
      "      position      0.844     0.818     0.831      3057\n",
      "       product      0.865     0.878     0.872      2647\n",
      "     publisher      0.924     0.900     0.912       880\n",
      "         range      0.881     0.759     0.816       577\n",
      "          rank      0.671     0.751     0.709      2983\n",
      "       ranking      0.786     0.385     0.517       439\n",
      "        region      0.848     0.817     0.832      2740\n",
      "      religion      0.978     0.906     0.940       340\n",
      "   requirement      0.944     0.783     0.856       300\n",
      "        result      0.967     0.939     0.953      2920\n",
      "         sales      0.711     0.419     0.527       322\n",
      "       service      0.971     0.924     0.947      2222\n",
      "           sex      0.907     0.941     0.924      2997\n",
      "       species      0.942     0.949     0.945       819\n",
      "         state      0.939     0.953     0.946      3030\n",
      "        status      0.952     0.931     0.941      3100\n",
      "        symbol      0.950     0.946     0.948      1752\n",
      "          team      0.859     0.871     0.865      3011\n",
      "     team name      0.897     0.833     0.864      1639\n",
      "          type      0.892     0.882     0.887      2909\n",
      "        weight      0.962     0.922     0.941      2963\n",
      "          year      0.963     0.936     0.949      3015\n",
      "\n",
      "      accuracy                          0.894    137353\n",
      "     macro avg      0.891     0.865     0.876    137353\n",
      "  weighted avg      0.896     0.894     0.894    137353\n",
      "\n"
     ]
    }
   ],
   "source": [
    "print(classification_report(y_test, predicted_labels, digits=3))"
   ]
  },
  {
   "cell_type": "markdown",
   "metadata": {},
   "source": [
    "## Review errors"
   ]
  },
  {
   "cell_type": "code",
   "execution_count": 16,
   "metadata": {},
   "outputs": [
    {
     "name": "stdout",
     "output_type": "stream",
     "text": [
      "[1116] expected \"address\" but predicted \"name\"\n",
      "[2420] expected \"address\" but predicted \"location\"\n",
      "[3398] expected \"address\" but predicted \"city\"\n",
      "[4354] expected \"address\" but predicted \"location\"\n",
      "[5112] expected \"address\" but predicted \"location\"\n",
      "[5647] expected \"address\" but predicted \"team name\"\n",
      "[6526] expected \"address\" but predicted \"location\"\n",
      "[7119] expected \"address\" but predicted \"city\"\n",
      "[8797] expected \"address\" but predicted \"area\"\n",
      "[9354] expected \"address\" but predicted \"location\"\n",
      "[9574] expected \"address\" but predicted \"location\"\n",
      "[9806] expected \"address\" but predicted \"city\"\n",
      "[10035] expected \"address\" but predicted \"creator\"\n",
      "[10067] expected \"address\" but predicted \"region\"\n",
      "[11055] expected \"address\" but predicted \"city\"\n",
      "[11902] expected \"address\" but predicted \"name\"\n",
      "[11993] expected \"address\" but predicted \"location\"\n",
      "[12072] expected \"address\" but predicted \"artist\"\n",
      "[13221] expected \"address\" but predicted \"status\"\n",
      "[14677] expected \"address\" but predicted \"location\"\n",
      "[15232] expected \"address\" but predicted \"city\"\n",
      "[15461] expected \"address\" but predicted \"location\"\n",
      "[15496] expected \"address\" but predicted \"city\"\n",
      "[15987] expected \"address\" but predicted \"artist\"\n",
      "[16212] expected \"address\" but predicted \"location\"\n",
      "[19607] expected \"address\" but predicted \"city\"\n",
      "[19953] expected \"address\" but predicted \"county\"\n",
      "[20829] expected \"address\" but predicted \"language\"\n",
      "[21408] expected \"address\" but predicted \"position\"\n",
      "[22148] expected \"address\" but predicted \"location\"\n",
      "[23915] expected \"address\" but predicted \"location\"\n",
      "[24636] expected \"address\" but predicted \"team name\"\n",
      "[24742] expected \"address\" but predicted \"product\"\n",
      "[24803] expected \"address\" but predicted \"day\"\n",
      "[24886] expected \"address\" but predicted \"notes\"\n",
      "[26113] expected \"address\" but predicted \"location\"\n",
      "[26171] expected \"address\" but predicted \"name\"\n",
      "[26184] expected \"address\" but predicted \"name\"\n",
      "[26210] expected \"address\" but predicted \"notes\"\n",
      "[26296] expected \"address\" but predicted \"file size\"\n",
      "[26559] expected \"address\" but predicted \"location\"\n",
      "[26872] expected \"address\" but predicted \"command\"\n",
      "[30403] expected \"address\" but predicted \"language\"\n",
      "[31515] expected \"address\" but predicted \"location\"\n",
      "[31830] expected \"address\" but predicted \"country\"\n",
      "[31836] expected \"address\" but predicted \"language\"\n",
      "[32429] expected \"address\" but predicted \"artist\"\n",
      "[32551] expected \"address\" but predicted \"city\"\n",
      "[32634] expected \"address\" but predicted \"notes\"\n",
      "[32762] expected \"address\" but predicted \"artist\"\n",
      "[32785] expected \"address\" but predicted \"location\"\n",
      "[33207] expected \"address\" but predicted \"region\"\n",
      "[34547] expected \"address\" but predicted \"location\"\n",
      "[34711] expected \"address\" but predicted \"location\"\n",
      "[34849] expected \"address\" but predicted \"location\"\n",
      "[35756] expected \"address\" but predicted \"city\"\n",
      "[35907] expected \"address\" but predicted \"county\"\n",
      "[35938] expected \"address\" but predicted \"language\"\n",
      "[36033] expected \"address\" but predicted \"city\"\n",
      "[37084] expected \"address\" but predicted \"person\"\n",
      "[37318] expected \"address\" but predicted \"language\"\n",
      "[37441] expected \"address\" but predicted \"county\"\n",
      "[37536] expected \"address\" but predicted \"language\"\n",
      "[38118] expected \"address\" but predicted \"name\"\n",
      "[40184] expected \"address\" but predicted \"language\"\n",
      "[40457] expected \"address\" but predicted \"country\"\n",
      "[44906] expected \"address\" but predicted \"location\"\n",
      "[44918] expected \"address\" but predicted \"area\"\n",
      "[46430] expected \"address\" but predicted \"location\"\n",
      "[46463] expected \"address\" but predicted \"affiliation\"\n",
      "[47249] expected \"address\" but predicted \"language\"\n",
      "[47497] expected \"address\" but predicted \"location\"\n",
      "[47713] expected \"address\" but predicted \"city\"\n",
      "[47810] expected \"address\" but predicted \"category\"\n",
      "[48016] expected \"address\" but predicted \"location\"\n",
      "[48631] expected \"address\" but predicted \"location\"\n",
      "[50265] expected \"address\" but predicted \"company\"\n",
      "[50329] expected \"address\" but predicted \"area\"\n",
      "[50413] expected \"address\" but predicted \"location\"\n",
      "[50783] expected \"address\" but predicted \"city\"\n",
      "[51643] expected \"address\" but predicted \"location\"\n",
      "[53074] expected \"address\" but predicted \"location\"\n",
      "[53960] expected \"address\" but predicted \"name\"\n",
      "[54248] expected \"address\" but predicted \"area\"\n",
      "[56030] expected \"address\" but predicted \"range\"\n",
      "[56085] expected \"address\" but predicted \"name\"\n",
      "[56176] expected \"address\" but predicted \"product\"\n",
      "[57015] expected \"address\" but predicted \"service\"\n",
      "[58524] expected \"address\" but predicted \"location\"\n",
      "[59506] expected \"address\" but predicted \"name\"\n",
      "[59734] expected \"address\" but predicted \"location\"\n",
      "[60017] expected \"address\" but predicted \"description\"\n",
      "[60105] expected \"address\" but predicted \"location\"\n",
      "[60136] expected \"address\" but predicted \"location\"\n",
      "[60225] expected \"address\" but predicted \"language\"\n",
      "[60441] expected \"address\" but predicted \"location\"\n",
      "[60493] expected \"address\" but predicted \"location\"\n",
      "[60565] expected \"address\" but predicted \"team\"\n",
      "[61203] expected \"address\" but predicted \"category\"\n",
      "[61783] expected \"address\" but predicted \"location\"\n",
      "[61894] expected \"address\" but predicted \"language\"\n",
      "[62499] expected \"address\" but predicted \"location\"\n",
      "[64427] expected \"address\" but predicted \"city\"\n",
      "[67142] expected \"address\" but predicted \"area\"\n",
      "[68698] expected \"address\" but predicted \"rank\"\n",
      "[69794] expected \"address\" but predicted \"city\"\n",
      "[71228] expected \"address\" but predicted \"location\"\n",
      "[71784] expected \"address\" but predicted \"location\"\n",
      "[72001] expected \"address\" but predicted \"description\"\n",
      "[73451] expected \"address\" but predicted \"name\"\n",
      "[73628] expected \"address\" but predicted \"gender\"\n",
      "[75893] expected \"address\" but predicted \"language\"\n",
      "[76551] expected \"address\" but predicted \"language\"\n",
      "[77796] expected \"address\" but predicted \"city\"\n",
      "[80712] expected \"address\" but predicted \"category\"\n",
      "[82082] expected \"address\" but predicted \"artist\"\n",
      "[84711] expected \"address\" but predicted \"description\"\n",
      "[84979] expected \"address\" but predicted \"birth place\"\n",
      "[85206] expected \"address\" but predicted \"location\"\n",
      "[85353] expected \"address\" but predicted \"class\"\n",
      "[85752] expected \"address\" but predicted \"language\"\n",
      "[85930] expected \"address\" but predicted \"language\"\n",
      "[85971] expected \"address\" but predicted \"location\"\n",
      "[86891] expected \"address\" but predicted \"rank\"\n",
      "[86983] expected \"address\" but predicted \"brand\"\n",
      "[87332] expected \"address\" but predicted \"code\"\n",
      "[87413] expected \"address\" but predicted \"location\"\n",
      "[87958] expected \"address\" but predicted \"location\"\n",
      "[88056] expected \"address\" but predicted \"city\"\n",
      "[89058] expected \"address\" but predicted \"city\"\n",
      "[89800] expected \"address\" but predicted \"location\"\n",
      "[90054] expected \"address\" but predicted \"name\"\n",
      "[90466] expected \"address\" but predicted \"location\"\n",
      "[90582] expected \"address\" but predicted \"city\"\n",
      "[92393] expected \"address\" but predicted \"location\"\n",
      "[92424] expected \"address\" but predicted \"location\"\n",
      "[93361] expected \"address\" but predicted \"location\"\n",
      "[93557] expected \"address\" but predicted \"country\"\n",
      "[95411] expected \"address\" but predicted \"location\"\n",
      "[95748] expected \"address\" but predicted \"location\"\n",
      "[95769] expected \"address\" but predicted \"city\"\n",
      "[96379] expected \"address\" but predicted \"location\"\n",
      "[96640] expected \"address\" but predicted \"class\"\n",
      "[96728] expected \"address\" but predicted \"birth place\"\n",
      "[96759] expected \"address\" but predicted \"name\"\n",
      "[99237] expected \"address\" but predicted \"location\"\n",
      "[100797] expected \"address\" but predicted \"symbol\"\n",
      "[101634] expected \"address\" but predicted \"name\"\n",
      "[102579] expected \"address\" but predicted \"location\"\n",
      "[103165] expected \"address\" but predicted \"language\"\n",
      "[103531] expected \"address\" but predicted \"notes\"\n",
      "[103681] expected \"address\" but predicted \"location\"\n",
      "[103703] expected \"address\" but predicted \"name\"\n",
      "[107281] expected \"address\" but predicted \"location\"\n",
      "[109367] expected \"address\" but predicted \"city\"\n",
      "[111142] expected \"address\" but predicted \"area\"\n",
      "[111623] expected \"address\" but predicted \"city\"\n",
      "[112597] expected \"address\" but predicted \"location\"\n",
      "[113711] expected \"address\" but predicted \"location\"\n",
      "[114356] expected \"address\" but predicted \"day\"\n",
      "[114372] expected \"address\" but predicted \"area\"\n",
      "[114485] expected \"address\" but predicted \"team\"\n",
      "[116630] expected \"address\" but predicted \"county\"\n",
      "[116714] expected \"address\" but predicted \"location\"\n",
      "[118623] expected \"address\" but predicted \"language\"\n",
      "[120180] expected \"address\" but predicted \"city\"\n",
      "[122561] expected \"address\" but predicted \"language\"\n",
      "[123013] expected \"address\" but predicted \"rank\"\n",
      "[123713] expected \"address\" but predicted \"location\"\n",
      "[124794] expected \"address\" but predicted \"company\"\n",
      "[126147] expected \"address\" but predicted \"notes\"\n",
      "[126442] expected \"address\" but predicted \"capacity\"\n",
      "[126729] expected \"address\" but predicted \"location\"\n",
      "[127753] expected \"address\" but predicted \"region\"\n",
      "[131254] expected \"address\" but predicted \"company\"\n",
      "[131471] expected \"address\" but predicted \"city\"\n",
      "[132446] expected \"address\" but predicted \"area\"\n",
      "[132881] expected \"address\" but predicted \"artist\"\n",
      "[133211] expected \"address\" but predicted \"location\"\n",
      "[133665] expected \"address\" but predicted \"region\"\n",
      "[133669] expected \"address\" but predicted \"product\"\n",
      "[135969] expected \"address\" but predicted \"area\"\n",
      "[136727] expected \"address\" but predicted \"status\"\n",
      "[137027] expected \"address\" but predicted \"location\"\n",
      "[137147] expected \"address\" but predicted \"location\"\n"
     ]
    },
    {
     "name": "stdout",
     "output_type": "stream",
     "text": [
      "Total mismatches: 14568 (F1 score: 0.8936850535436299)\n"
     ]
    },
    {
     "data": {
      "text/plain": [
       "[('name', 745),\n",
       " ('rank', 744),\n",
       " ('position', 555),\n",
       " ('region', 502),\n",
       " ('location', 500),\n",
       " ('description', 479),\n",
       " ('artist', 401),\n",
       " ('team', 387),\n",
       " ('notes', 379),\n",
       " ('area', 359),\n",
       " ('album', 345),\n",
       " ('type', 343),\n",
       " ('company', 332),\n",
       " ('product', 322),\n",
       " ('category', 305),\n",
       " ('code', 284),\n",
       " ('gender', 276),\n",
       " ('team name', 274),\n",
       " ('city', 272),\n",
       " ('ranking', 270),\n",
       " ('day', 258),\n",
       " ('class', 245),\n",
       " ('weight', 232),\n",
       " ('person', 227),\n",
       " ('status', 213),\n",
       " ('owner', 211),\n",
       " ('credit', 200),\n",
       " ('country', 196),\n",
       " ('year', 194),\n",
       " ('sales', 187),\n",
       " ('address', 185),\n",
       " ('sex', 178),\n",
       " ('result', 177),\n",
       " ('origin', 173),\n",
       " ('service', 169),\n",
       " ('duration', 166),\n",
       " ('manufacturer', 164),\n",
       " ('brand', 163),\n",
       " ('age', 144),\n",
       " ('component', 142),\n",
       " ('state', 141),\n",
       " ('county', 141),\n",
       " ('range', 139),\n",
       " ('plays', 136),\n",
       " ('club', 133),\n",
       " ('format', 123),\n",
       " ('order', 122),\n",
       " ('capacity', 111),\n",
       " ('director', 107),\n",
       " ('symbol', 94),\n",
       " ('nationality', 93),\n",
       " ('publisher', 88),\n",
       " ('command', 85),\n",
       " ('classification', 83),\n",
       " ('affiliation', 80),\n",
       " ('family', 75),\n",
       " ('depth', 73),\n",
       " ('education', 67),\n",
       " ('requirement', 65),\n",
       " ('operator', 63),\n",
       " ('elevation', 58),\n",
       " ('file size', 53),\n",
       " ('creator', 52),\n",
       " ('genre', 52),\n",
       " ('organisation', 48),\n",
       " ('language', 47),\n",
       " ('species', 42),\n",
       " ('birth place', 38),\n",
       " ('industry', 37),\n",
       " ('jockey', 36),\n",
       " ('affiliate', 36),\n",
       " ('religion', 32),\n",
       " ('continent', 32),\n",
       " ('collection', 31),\n",
       " ('isbn', 19),\n",
       " ('grades', 13),\n",
       " ('currency', 13),\n",
       " ('birth date', 12)]"
      ]
     },
     "execution_count": 16,
     "metadata": {},
     "output_type": "execute_result"
    }
   ],
   "source": [
    "from collections import Counter\n",
    "\n",
    "size = len(y_test)\n",
    "mismatches = list()\n",
    "\n",
    "for idx, k1 in enumerate(y_test[:size]):\n",
    "    k2 = predicted_labels[idx]\n",
    "\n",
    "    if k1 != k2:\n",
    "        mismatches.append(k1)\n",
    "        \n",
    "        # zoom in to specific errors. Use the index in the next step\n",
    "        if k1 in ('address'):\n",
    "            print(f'[{idx}] expected \"{k1}\" but predicted \"{k2}\"')\n",
    "        \n",
    "f1 = f1_score(y_test[:size], predicted_labels[:size], average=\"weighted\")\n",
    "print(f'Total mismatches: {len(mismatches)} (F1 score: {f1})')\n",
    "\n",
    "data = Counter(mismatches)\n",
    "data.most_common()   # Returns all unique items and their counts"
   ]
  },
  {
   "cell_type": "code",
   "execution_count": 17,
   "metadata": {},
   "outputs": [],
   "source": [
    "test_samples = pd.read_parquet('../data/raw/test_values.parquet')"
   ]
  },
  {
   "cell_type": "code",
   "execution_count": 18,
   "metadata": {},
   "outputs": [
    {
     "name": "stdout",
     "output_type": "stream",
     "text": [
      "Predicted \"address\", actual label \"address\". Actual values:\n",
      "[['Cabot House', 'Cabot House', '5 Hill Rd.', '5 Hill Rd.', '9 Cabot Rd.', '9 Cabot Rd.', 'Cabot House', '22 Bank Rd.', '22 Bank Rd.', 'Cabot House', '31 Bank Rd.', '31 Bank Rd.', 'Bairds Hotel', '11 Cabot Rd.', '11 Cabot Rd.', '10 Hill Rd.', '10 Hill Rd.', '10 Hill Rd.', '10 Hill Rd.', '7A Church Rd.', '1 Cabot Rd.', '1 Cabot Rd.', '1 Cabot Rd.', '1 Cabot Rd.', '2 Coronation St.', '2 Coronation St.', '7A Church Rd.', '12 Hill Rd.', '12 Hill Rd.', '12 Hill Rd.', 'Cabot House', '19 Bank Rd.', '19 Bank Rd.', '19 Bank Rd.', '19 Bank Rd.', '19 Bank Rd.', '7A Church Rd.', '18 Mill Rd.', '17 Hill Rd.', '17 Hill Rd.', 'Cabot House', 'Cabot House', '25 Bank Rd.', '10 Coronation St.', '6 Cabot Rd.', '6 Cabot Rd.', '8 Hill Rd.', '8 Hill Rd.', '4 Mill Rd.', '4 Mill Rd.', '12 Sulva Rd.', '4 Haig Rd.', '13 Botwood Rd.', '13 Botwood Rd.', '8 Botwood Rd.', '8 Botwood Rd.', '16 Botwood Rd.', '16 Botwood Rd.', '16 Botwood Rd.', '16 Botwood Rd.', '56 Beaumont Ave.', '8 Botwood Rd.', '56 Beaumont Ave.', '61 Botwood Rd.', '8 Botwood Rd.', '8 Botwood Rd.', '41 Beaumont Ave.', '41 Beaumont Ave.', '1 Polygon Rd.', '1 Polygon Rd.', '1 Polygon Rd.', '8 Botwood Rd.', '8 Botwood Rd.', '40 Botwood Rd.', '40 Botwood Rd.', '11 Haig Rd.', '11 Haig Rd.', '40 Botwood Rd.', '43 Botwood Rd.', '56 Botwood Rd.', '56 Botwood Rd.', '56 Botwood Rd.', '56 Botwood Rd.', '55 Botwood Rd.', '55 Botwood Rd.', '55 Botwood Rd.', '55 Botwood Rd.', '9 Botwood Rd.', '9 Botwood Rd.', '51 Botwood Rd.', '51 Botwood Rd.', '33 Botwood Rd.', '33 Botwood Rd.', '33 Botwood Rd.', '33 Botwood Rd.', '17 Sulva Rd.', '17 Sulva Rd.', '1 Sulva Rd.', '1 Sulva Rd.', '5B Botwood Rd.', '21 Monchy Rd.', '15 Junction Rd.', '15 Junction Rd.', '15 Junction Rd.', '15 Junction Rd.', '11 Monchy Rd.', '49 Queen St.', '17 Monchy Rd.', '17 Monchy Rd.', '49 Queen St.', '49 Junction Rd.', '49 Junction Rd.', '1 Queen St.', '1 Queen St.', '37 Monchy Rd.', '37 Monchy Rd.', 'Pine Ave Apt. 5', 'Pine Ave Apt. 5', '6 Peronne Rd.', '2 Peronne Rd.', '6 Peronne Rd.', '7 Peronne Rd.', '7 Peronne Rd.', '7 Peronne Rd.', 'Pine Ave. Apt. 19', '13 Queen St.', 'Pine Ave. Apt. 19', '41 Junction Rd.', '13 Queen St.', '4 Pine Ave.', '51 Junction Rd.', '51 Junction Rd.', '6 Monchy Rd.', '6 Monchy Rd.', '1 Peronne Rd.', '1 Peronne Rd.', 'Pine Ave. Apt. 6', 'Pine Ave. Apt. 6', '50 Junction Rd.', '20 Junction Rd.', '20 Junction Rd.', '20 Junction Rd.', 'Pine Ave. Apt. 15', 'Pine Ave. Apt. 15', '23 Monchy Rd.', '23 Monchy Rd.', '5 Peronne Rd.', '15 Queen St.', '15 Queen St.', '15 Queen St.', '24 East St.', '13 East St.', '13 East St.', '4 Railway Rd.', '4 Railway Rd.', '12 Fourth Ave.', '12 Fourth Ave.', '8 Circular Rd.', '8 Circular Rd.', '8 Circular Rd.', '17 Circular Rd.', '17 Circular Rd.', '1A Valley Rd.', '28 Fourth Ave.', '28 Fourth Ave.', '22 East St.', '22 East St.', '15 Fourth Ave.', '11 Third Ave.', '15 Fourth Ave.', '15 Fourth Ave.', '15 Fourth Ave.', '11 Third Ave.', '15 Fourth Ave.', '4 Railway Rd.', '6 Valley Rd.', '4 Railway Rd.', '6 Valley Rd.', '7 West St.', '7 West St.', '22 Circular Rd.', '25 Fourth Ave.', '5 Valley Rd.', '25 Fourth Ave.', '5 Valley Rd.', '5 Fourth Ave.', '5 Fourth Ave.', '15 Valley Rd.', '1 Third Ave.', '1 Third Ave.', '1 Third Ave.', '20 Fourth Ave.', '10 Valley Rd.', '20 Fourth Ave.', '20 Fourth Ave.', '11 East St.', '20 Fourth Ave.', '11 East St.', '2 Railway Rd.', '20 Fourth Ave.', '10 Valley Rd.', '11 East St.', '2 Railway Rd.', '20 East St.', '20 East St.', '20 East St.', '20 East St.', '20 East St.', '10 East St.', '10 East St.', '10 East St.', '11 Railway Rd.', '7 Circular Rd.', '11 Railway Rd.', '11 Railway Rd.', '7 Circular Rd.', '11 Railway Rd.', '3 Fourth Ave.', '13 Fourth Ave.', '4 Third Ave.', '3 Fourth Ave.', '13 Fourth Ave.', '13 Fourth Ave.', '13 Fourth Ave.', '11 Third Ave.', '11 Third Ave.', '13 Fourth Ave.', '3 Fourth Ave.', '10 Circular Rd.', '10 Circular Rd.', '12 Third Ave.', '10 Circular Rd.', '10 Circular Rd.', '12 Third Ave.', '10 Circular Rd.', '5 Railway Rd.', '5 Railway Rd.', '7 Third Ave.', '14 Fourth Ave.', '14 Fourth Ave.', '14 Fourth Ave.', '7 Third Ave.', '14 Fourth Ave.', '14 Fourth Ave.', '14 Fourth Ave.', '26 East St.', '26 East St.', '5 East St.', '5 East St.', '5 East St.', '16 East St.', '15 Third Ave.', '7 Valley Rd.', '15 Third Ave.', '15 Third Ave.', '7 Valley Rd.', '1 Railway Rd.', '1 Railway Rd.', '33 Circular Rd.', '33 Circular Rd.', '33 Circular Rd.', '18 East St.', '18 East St.', '6 Third Ave.', '6 Third Ave.', '25 Circular Rd.', '5 Valley Rd.', '23 Fourth Ave.', '23 Fourth Ave.', '1A Valley Rd.', '37 Circular Rd.', '23 Fourth Ave.', '37 Circular Rd.', '1A Valley Rd.', '24A Fourth Ave.', '24A Fourth Ave.', '1 Fourth Ave.', '1 Fourth Ave.', '1 Fourth Ave.', '2A Valley Rd.', '2A Valley Rd.', '6 Valley Rd.', '30 Fourth Ave.', '30 Fourth Ave.', '19 Fourth Ave.', '19 Fourth Ave.', '3 Valley Rd.', '3 Valley Rd.']]\n"
     ]
    }
   ],
   "source": [
    "from ast import literal_eval\n",
    "\n",
    "idx = 1001\n",
    "original = test_samples.iloc[idx]\n",
    "converted = original.apply(literal_eval).to_list()\n",
    "\n",
    "print(f'Predicted \"{predicted_labels[idx]}\", actual label \"{y_test[idx]}\". Actual values:\\n{converted}')"
   ]
  },
  {
   "cell_type": "code",
   "execution_count": null,
   "metadata": {},
   "outputs": [],
   "source": []
  }
 ],
 "metadata": {
  "kernelspec": {
   "display_name": "Python 3 (ipykernel)",
   "language": "python",
   "name": "python3"
  },
  "language_info": {
   "codemirror_mode": {
    "name": "ipython",
    "version": 3
   },
   "file_extension": ".py",
   "mimetype": "text/x-python",
   "name": "python",
   "nbconvert_exporter": "python",
   "pygments_lexer": "ipython3",
   "version": "3.7.12"
  }
 },
 "nbformat": 4,
 "nbformat_minor": 4
}
