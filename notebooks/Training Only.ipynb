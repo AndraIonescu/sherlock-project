{
 "cells": [
  {
   "cell_type": "code",
   "execution_count": 1,
   "metadata": {},
   "outputs": [],
   "source": [
    "nn_model_id = 'retrained_sherlock7'"
   ]
  },
  {
   "cell_type": "code",
   "execution_count": 2,
   "metadata": {},
   "outputs": [],
   "source": [
    "import pandas as pd\n",
    "import numpy as np\n",
    "\n",
    "from sherlock.deploy.train_sherlock import train_sherlock\n",
    "from sherlock.deploy.predict_sherlock import predict_sherlock\n",
    "from datetime import datetime\n",
    "from sklearn.metrics import f1_score"
   ]
  },
  {
   "cell_type": "markdown",
   "metadata": {},
   "source": [
    "### Load training and validation sets"
   ]
  },
  {
   "cell_type": "code",
   "execution_count": 3,
   "metadata": {},
   "outputs": [
    {
     "name": "stdout",
     "output_type": "stream",
     "text": [
      "Started at 2021-01-06 21:01:43.675077\n",
      "Load data (train) process took 0:00:05.575578 seconds.\n"
     ]
    }
   ],
   "source": [
    "start = datetime.now()\n",
    "print(f'Started at {start}')\n",
    "\n",
    "X_train = pd.read_parquet('train.parquet')\n",
    "y_train = pd.read_parquet('../data/raw/train_labels.parquet').values.flatten()\n",
    "\n",
    "print(f'Load data (train) process took {datetime.now() - start} seconds.')"
   ]
  },
  {
   "cell_type": "code",
   "execution_count": 4,
   "metadata": {},
   "outputs": [
    {
     "name": "stdout",
     "output_type": "stream",
     "text": [
      "Distinct types for columns in the Dataframe (should be all float32):\n",
      "{dtype('float32')}\n"
     ]
    }
   ],
   "source": [
    "print('Distinct types for columns in the Dataframe (should be all float32):')\n",
    "print(set(X_train.dtypes))"
   ]
  },
  {
   "cell_type": "code",
   "execution_count": 5,
   "metadata": {},
   "outputs": [
    {
     "name": "stdout",
     "output_type": "stream",
     "text": [
      "Started at 2021-01-06 21:01:49.269459\n",
      "Load data (validation) process took 0:00:01.843722 seconds.\n"
     ]
    }
   ],
   "source": [
    "start = datetime.now()\n",
    "print(f'Started at {start}')\n",
    "\n",
    "X_validation = pd.read_parquet('validation.parquet')\n",
    "y_validation = pd.read_parquet('../data/raw/val_labels.parquet').values.flatten()\n",
    "\n",
    "print(f'Load data (validation) process took {datetime.now() - start} seconds.')"
   ]
  },
  {
   "cell_type": "markdown",
   "metadata": {},
   "source": [
    "### Re-train Sherlock"
   ]
  },
  {
   "cell_type": "code",
   "execution_count": 6,
   "metadata": {},
   "outputs": [
    {
     "name": "stdout",
     "output_type": "stream",
     "text": [
      "Started at 2021-01-06 21:01:51.118531\n"
     ]
    },
    {
     "name": "stderr",
     "output_type": "stream",
     "text": [
      "WARNING: Logging before flag parsing goes to stderr.\n",
      "W0106 21:01:51.328581 4362792384 deprecation.py:506] From /Users/lowecg/source/private-github/sherlock-project/venv/lib/python3.7/site-packages/tensorflow_core/python/ops/init_ops.py:97: calling Zeros.__init__ (from tensorflow.python.ops.init_ops) with dtype is deprecated and will be removed in a future version.\n",
      "Instructions for updating:\n",
      "Call initializer instance with the dtype argument instead of passing it to the constructor\n",
      "W0106 21:01:51.329710 4362792384 deprecation.py:506] From /Users/lowecg/source/private-github/sherlock-project/venv/lib/python3.7/site-packages/tensorflow_core/python/ops/init_ops.py:97: calling Ones.__init__ (from tensorflow.python.ops.init_ops) with dtype is deprecated and will be removed in a future version.\n",
      "Instructions for updating:\n",
      "Call initializer instance with the dtype argument instead of passing it to the constructor\n",
      "W0106 21:01:51.333201 4362792384 deprecation.py:506] From /Users/lowecg/source/private-github/sherlock-project/venv/lib/python3.7/site-packages/tensorflow_core/python/ops/init_ops.py:97: calling VarianceScaling.__init__ (from tensorflow.python.ops.init_ops) with dtype is deprecated and will be removed in a future version.\n",
      "Instructions for updating:\n",
      "Call initializer instance with the dtype argument instead of passing it to the constructor\n",
      "W0106 21:01:51.356620 4362792384 deprecation.py:506] From /Users/lowecg/source/private-github/sherlock-project/venv/lib/python3.7/site-packages/tensorflow_core/python/ops/resource_variable_ops.py:1630: calling BaseResourceVariable.__init__ (from tensorflow.python.ops.resource_variable_ops) with constraint is deprecated and will be removed in a future version.\n",
      "Instructions for updating:\n",
      "If using Keras pass *_constraint arguments to layers.\n"
     ]
    },
    {
     "name": "stdout",
     "output_type": "stream",
     "text": [
      "Successfully loaded and compiled model, now fitting model on data.\n",
      "Train on 412059 samples, validate on 137353 samples\n",
      "Epoch 1/100\n",
      "412059/412059 [==============================] - 69s 167us/sample - loss: 1.6057 - categorical_accuracy: 0.6982 - val_loss: 1.0432 - val_categorical_accuracy: 0.8287\n",
      "Epoch 2/100\n",
      "412059/412059 [==============================] - 64s 154us/sample - loss: 0.9638 - categorical_accuracy: 0.8359 - val_loss: 0.9435 - val_categorical_accuracy: 0.8477\n",
      "Epoch 3/100\n",
      "412059/412059 [==============================] - 62s 151us/sample - loss: 0.8510 - categorical_accuracy: 0.8592 - val_loss: 0.8872 - val_categorical_accuracy: 0.8582\n",
      "Epoch 4/100\n",
      "412059/412059 [==============================] - 64s 154us/sample - loss: 0.7858 - categorical_accuracy: 0.8713 - val_loss: 0.8535 - val_categorical_accuracy: 0.8628\n",
      "Epoch 5/100\n",
      "412059/412059 [==============================] - 64s 155us/sample - loss: 0.7376 - categorical_accuracy: 0.8796 - val_loss: 0.8304 - val_categorical_accuracy: 0.8677\n",
      "Epoch 6/100\n",
      "412059/412059 [==============================] - 63s 154us/sample - loss: 0.6995 - categorical_accuracy: 0.8853 - val_loss: 0.8085 - val_categorical_accuracy: 0.8694\n",
      "Epoch 7/100\n",
      "412059/412059 [==============================] - 63s 153us/sample - loss: 0.6679 - categorical_accuracy: 0.8892 - val_loss: 0.7857 - val_categorical_accuracy: 0.8722\n",
      "Epoch 8/100\n",
      "412059/412059 [==============================] - 63s 153us/sample - loss: 0.6409 - categorical_accuracy: 0.8933 - val_loss: 0.7643 - val_categorical_accuracy: 0.8740\n",
      "Epoch 9/100\n",
      "412059/412059 [==============================] - 63s 152us/sample - loss: 0.6141 - categorical_accuracy: 0.8971 - val_loss: 0.7493 - val_categorical_accuracy: 0.8765\n",
      "Epoch 10/100\n",
      "412059/412059 [==============================] - 64s 154us/sample - loss: 0.5925 - categorical_accuracy: 0.9001 - val_loss: 0.7396 - val_categorical_accuracy: 0.8779\n",
      "Epoch 11/100\n",
      "412059/412059 [==============================] - 64s 155us/sample - loss: 0.5726 - categorical_accuracy: 0.9023 - val_loss: 0.7281 - val_categorical_accuracy: 0.8796\n",
      "Epoch 12/100\n",
      "412059/412059 [==============================] - 64s 156us/sample - loss: 0.5543 - categorical_accuracy: 0.9052 - val_loss: 0.7174 - val_categorical_accuracy: 0.8812\n",
      "Epoch 13/100\n",
      "412059/412059 [==============================] - 63s 154us/sample - loss: 0.5385 - categorical_accuracy: 0.9070 - val_loss: 0.7052 - val_categorical_accuracy: 0.8816\n",
      "Epoch 14/100\n",
      "412059/412059 [==============================] - 64s 154us/sample - loss: 0.5218 - categorical_accuracy: 0.9091 - val_loss: 0.6920 - val_categorical_accuracy: 0.8828\n",
      "Epoch 15/100\n",
      "412059/412059 [==============================] - 64s 154us/sample - loss: 0.5072 - categorical_accuracy: 0.9111 - val_loss: 0.6857 - val_categorical_accuracy: 0.8825\n",
      "Epoch 16/100\n",
      "412059/412059 [==============================] - 64s 156us/sample - loss: 0.4939 - categorical_accuracy: 0.9127 - val_loss: 0.6878 - val_categorical_accuracy: 0.8852\n",
      "Epoch 17/100\n",
      "412059/412059 [==============================] - 63s 154us/sample - loss: 0.4824 - categorical_accuracy: 0.9142 - val_loss: 0.6726 - val_categorical_accuracy: 0.8855\n",
      "Epoch 18/100\n",
      "412059/412059 [==============================] - 64s 155us/sample - loss: 0.4715 - categorical_accuracy: 0.9158 - val_loss: 0.6684 - val_categorical_accuracy: 0.8848\n",
      "Epoch 19/100\n",
      "412059/412059 [==============================] - 64s 155us/sample - loss: 0.4600 - categorical_accuracy: 0.9172 - val_loss: 0.6603 - val_categorical_accuracy: 0.8864\n",
      "Epoch 20/100\n",
      "412059/412059 [==============================] - 63s 154us/sample - loss: 0.4507 - categorical_accuracy: 0.9180 - val_loss: 0.6569 - val_categorical_accuracy: 0.8868\n",
      "Epoch 21/100\n",
      "412059/412059 [==============================] - 64s 156us/sample - loss: 0.4407 - categorical_accuracy: 0.9199 - val_loss: 0.6519 - val_categorical_accuracy: 0.8870\n",
      "Epoch 22/100\n",
      "412059/412059 [==============================] - 64s 155us/sample - loss: 0.4335 - categorical_accuracy: 0.9210 - val_loss: 0.6557 - val_categorical_accuracy: 0.8877\n",
      "Epoch 23/100\n",
      "412059/412059 [==============================] - 65s 157us/sample - loss: 0.4254 - categorical_accuracy: 0.9217 - val_loss: 0.6457 - val_categorical_accuracy: 0.8875\n",
      "Epoch 24/100\n",
      "412059/412059 [==============================] - 65s 157us/sample - loss: 0.4171 - categorical_accuracy: 0.9231 - val_loss: 0.6393 - val_categorical_accuracy: 0.8884\n",
      "Epoch 25/100\n",
      "412059/412059 [==============================] - 64s 154us/sample - loss: 0.4102 - categorical_accuracy: 0.9235 - val_loss: 0.6395 - val_categorical_accuracy: 0.8890\n",
      "Epoch 26/100\n",
      "412059/412059 [==============================] - 64s 156us/sample - loss: 0.4025 - categorical_accuracy: 0.9254 - val_loss: 0.6367 - val_categorical_accuracy: 0.8889\n",
      "Epoch 27/100\n",
      "412059/412059 [==============================] - 64s 155us/sample - loss: 0.3973 - categorical_accuracy: 0.9258 - val_loss: 0.6433 - val_categorical_accuracy: 0.8901\n",
      "Epoch 28/100\n",
      "412059/412059 [==============================] - 64s 154us/sample - loss: 0.3909 - categorical_accuracy: 0.9271 - val_loss: 0.6465 - val_categorical_accuracy: 0.8904\n",
      "Epoch 29/100\n",
      "412059/412059 [==============================] - 64s 155us/sample - loss: 0.3868 - categorical_accuracy: 0.9274 - val_loss: 0.6275 - val_categorical_accuracy: 0.8907\n",
      "Epoch 30/100\n",
      "412059/412059 [==============================] - 64s 155us/sample - loss: 0.3800 - categorical_accuracy: 0.9280 - val_loss: 0.6333 - val_categorical_accuracy: 0.8909\n",
      "Epoch 31/100\n",
      "412059/412059 [==============================] - 64s 156us/sample - loss: 0.3750 - categorical_accuracy: 0.9292 - val_loss: 0.6277 - val_categorical_accuracy: 0.8911\n",
      "Epoch 32/100\n",
      "412059/412059 [==============================] - 64s 155us/sample - loss: 0.3702 - categorical_accuracy: 0.9301 - val_loss: 0.6254 - val_categorical_accuracy: 0.8907\n",
      "Epoch 33/100\n",
      "412059/412059 [==============================] - 64s 156us/sample - loss: 0.3668 - categorical_accuracy: 0.9303 - val_loss: 0.6185 - val_categorical_accuracy: 0.8917\n",
      "Epoch 34/100\n",
      "412059/412059 [==============================] - 65s 158us/sample - loss: 0.3618 - categorical_accuracy: 0.9313 - val_loss: 0.6204 - val_categorical_accuracy: 0.8925\n",
      "Epoch 35/100\n",
      "412059/412059 [==============================] - 64s 156us/sample - loss: 0.3584 - categorical_accuracy: 0.9316 - val_loss: 0.6145 - val_categorical_accuracy: 0.8930\n",
      "Epoch 36/100\n",
      "412059/412059 [==============================] - 65s 157us/sample - loss: 0.3555 - categorical_accuracy: 0.9319 - val_loss: 0.6171 - val_categorical_accuracy: 0.8923\n",
      "Epoch 37/100\n",
      "412059/412059 [==============================] - 64s 154us/sample - loss: 0.3511 - categorical_accuracy: 0.9329 - val_loss: 0.6172 - val_categorical_accuracy: 0.8928\n",
      "Epoch 38/100\n",
      "412059/412059 [==============================] - 64s 155us/sample - loss: 0.3488 - categorical_accuracy: 0.9331 - val_loss: 0.6261 - val_categorical_accuracy: 0.8924\n",
      "Epoch 39/100\n",
      "412059/412059 [==============================] - 64s 155us/sample - loss: 0.3439 - categorical_accuracy: 0.9342 - val_loss: 0.6119 - val_categorical_accuracy: 0.8931\n",
      "Epoch 40/100\n",
      "412059/412059 [==============================] - 64s 156us/sample - loss: 0.3416 - categorical_accuracy: 0.9341 - val_loss: 0.6154 - val_categorical_accuracy: 0.8931\n",
      "Epoch 41/100\n",
      "412059/412059 [==============================] - 63s 153us/sample - loss: 0.3383 - categorical_accuracy: 0.9352 - val_loss: 0.6179 - val_categorical_accuracy: 0.8930\n",
      "Epoch 42/100\n",
      "412059/412059 [==============================] - 64s 155us/sample - loss: 0.3361 - categorical_accuracy: 0.9350 - val_loss: 0.6100 - val_categorical_accuracy: 0.8928\n",
      "Epoch 43/100\n",
      "412059/412059 [==============================] - 63s 154us/sample - loss: 0.3338 - categorical_accuracy: 0.9356 - val_loss: 0.6193 - val_categorical_accuracy: 0.8928\n",
      "Epoch 44/100\n",
      "412059/412059 [==============================] - 64s 155us/sample - loss: 0.3305 - categorical_accuracy: 0.9361 - val_loss: 0.6134 - val_categorical_accuracy: 0.8935\n",
      "Epoch 45/100\n",
      "412059/412059 [==============================] - 64s 156us/sample - loss: 0.3298 - categorical_accuracy: 0.9361 - val_loss: 0.6179 - val_categorical_accuracy: 0.8937\n",
      "Epoch 46/100\n"
     ]
    },
    {
     "name": "stdout",
     "output_type": "stream",
     "text": [
      "412059/412059 [==============================] - 63s 154us/sample - loss: 0.3266 - categorical_accuracy: 0.9369 - val_loss: 0.6139 - val_categorical_accuracy: 0.8940\n",
      "Epoch 47/100\n",
      "412059/412059 [==============================] - 63s 154us/sample - loss: 0.3241 - categorical_accuracy: 0.9372 - val_loss: 0.6088 - val_categorical_accuracy: 0.8938\n",
      "Epoch 48/100\n",
      "412059/412059 [==============================] - 63s 153us/sample - loss: 0.3219 - categorical_accuracy: 0.9378 - val_loss: 0.6190 - val_categorical_accuracy: 0.8940\n",
      "Epoch 49/100\n",
      "412059/412059 [==============================] - 64s 154us/sample - loss: 0.3213 - categorical_accuracy: 0.9376 - val_loss: 0.6025 - val_categorical_accuracy: 0.8942\n",
      "Epoch 50/100\n",
      "412059/412059 [==============================] - 64s 155us/sample - loss: 0.3185 - categorical_accuracy: 0.9383 - val_loss: 0.6116 - val_categorical_accuracy: 0.8940\n",
      "Epoch 51/100\n",
      "412059/412059 [==============================] - 64s 154us/sample - loss: 0.3171 - categorical_accuracy: 0.9384 - val_loss: 0.6161 - val_categorical_accuracy: 0.8946\n",
      "Epoch 52/100\n",
      "412059/412059 [==============================] - 63s 153us/sample - loss: 0.3150 - categorical_accuracy: 0.9389 - val_loss: 0.6070 - val_categorical_accuracy: 0.8948\n",
      "Epoch 53/100\n",
      "412059/412059 [==============================] - 63s 153us/sample - loss: 0.3128 - categorical_accuracy: 0.9394 - val_loss: 0.6148 - val_categorical_accuracy: 0.8944\n",
      "Epoch 54/100\n",
      "412059/412059 [==============================] - 63s 152us/sample - loss: 0.3108 - categorical_accuracy: 0.9400 - val_loss: 0.6129 - val_categorical_accuracy: 0.8948\n",
      "Retrained Sherlock.\n",
      "Trained and saved new model.\n",
      "Finished at 2021-01-06 21:59:21.874212, took 0:57:30.755695 seconds\n"
     ]
    }
   ],
   "source": [
    "start = datetime.now()\n",
    "print(f'Started at {start}')\n",
    "\n",
    "train_sherlock(X_train, y_train, X_validation, y_validation, nn_id=nn_model_id);\n",
    "\n",
    "print('Trained and saved new model.')\n",
    "print(f'Finished at {datetime.now()}, took {datetime.now() - start} seconds')"
   ]
  },
  {
   "cell_type": "markdown",
   "metadata": {},
   "source": [
    "### Load test set"
   ]
  },
  {
   "cell_type": "code",
   "execution_count": 7,
   "metadata": {},
   "outputs": [
    {
     "name": "stdout",
     "output_type": "stream",
     "text": [
      "Started at 2021-01-06 21:59:21.879825\n",
      "Trained and saved new model.\n",
      "Finished at 2021-01-06 21:59:23.780420, took 0:00:01.900605 seconds\n"
     ]
    }
   ],
   "source": [
    "start = datetime.now()\n",
    "print(f'Started at {start}')\n",
    "\n",
    "X_test = pd.read_parquet('test.parquet')\n",
    "y_test = pd.read_parquet('../data/raw/test_labels.parquet').values.flatten()\n",
    "\n",
    "print('Trained and saved new model.')\n",
    "print(f'Finished at {datetime.now()}, took {datetime.now() - start} seconds')"
   ]
  },
  {
   "cell_type": "markdown",
   "metadata": {},
   "source": [
    "### Make prediction"
   ]
  },
  {
   "cell_type": "code",
   "execution_count": 8,
   "metadata": {},
   "outputs": [],
   "source": [
    "predicted_labels = predict_sherlock(X_test, nn_id=nn_model_id)"
   ]
  },
  {
   "cell_type": "code",
   "execution_count": 9,
   "metadata": {},
   "outputs": [
    {
     "name": "stdout",
     "output_type": "stream",
     "text": [
      "prediction count 137353, type = <class 'numpy.ndarray'>\n"
     ]
    },
    {
     "data": {
      "text/plain": [
       "0.8948361495992552"
      ]
     },
     "execution_count": 9,
     "metadata": {},
     "output_type": "execute_result"
    }
   ],
   "source": [
    "print(f'prediction count {len(predicted_labels)}, type = {type(predicted_labels)}')\n",
    "\n",
    "size=len(y_test)\n",
    "\n",
    "# Should be fully deterministic too.\n",
    "f1_score(y_test[:size], predicted_labels[:size], average=\"weighted\")"
   ]
  },
  {
   "cell_type": "code",
   "execution_count": 10,
   "metadata": {},
   "outputs": [],
   "source": [
    "# Best results\n",
    "# 0.8948361495992552\n",
    "\n",
    "# LAST\n",
    "# 0.8941992181577104\n",
    "# 0.8661276466591463\n",
    "# 0.8765360861865846\n",
    "# 0.8777825108666634\n",
    "# 0.8709458033528152"
   ]
  },
  {
   "cell_type": "markdown",
   "metadata": {},
   "source": [
    "## Review errors"
   ]
  },
  {
   "cell_type": "code",
   "execution_count": 11,
   "metadata": {},
   "outputs": [
    {
     "name": "stdout",
     "output_type": "stream",
     "text": [
      "Total mismatches: 14466 (F1 score: 0.8948361495992552)\n"
     ]
    },
    {
     "data": {
      "text/plain": [
       "[('rank', 702),\n",
       " ('name', 682),\n",
       " ('position', 525),\n",
       " ('location', 495),\n",
       " ('region', 492),\n",
       " ('description', 453),\n",
       " ('type', 387),\n",
       " ('album', 373),\n",
       " ('artist', 370),\n",
       " ('team', 366),\n",
       " ('area', 355),\n",
       " ('product', 342),\n",
       " ('category', 335),\n",
       " ('notes', 307),\n",
       " ('ranking', 306),\n",
       " ('team Name', 295),\n",
       " ('city', 292),\n",
       " ('code', 291),\n",
       " ('company', 287),\n",
       " ('gender', 262),\n",
       " ('class', 261),\n",
       " ('day', 250),\n",
       " ('person', 230),\n",
       " ('owner', 226),\n",
       " ('status', 207),\n",
       " ('weight', 201),\n",
       " ('brand', 185),\n",
       " ('sex', 183),\n",
       " ('year', 183),\n",
       " ('result', 182),\n",
       " ('service', 181),\n",
       " ('credit', 180),\n",
       " ('manufacturer', 177),\n",
       " ('age', 167),\n",
       " ('country', 166),\n",
       " ('order', 163),\n",
       " ('address', 158),\n",
       " ('duration', 155),\n",
       " ('plays', 152),\n",
       " ('range', 150),\n",
       " ('component', 150),\n",
       " ('sales', 147),\n",
       " ('origin', 147),\n",
       " ('county', 134),\n",
       " ('state', 133),\n",
       " ('format', 127),\n",
       " ('club', 119),\n",
       " ('nationality', 106),\n",
       " ('director', 104),\n",
       " ('capacity', 101),\n",
       " ('command', 97),\n",
       " ('language', 90),\n",
       " ('affiliation', 89),\n",
       " ('publisher', 87),\n",
       " ('symbol', 86),\n",
       " ('family', 85),\n",
       " ('elevation', 77),\n",
       " ('classification', 77),\n",
       " ('operator', 72),\n",
       " ('depth', 70),\n",
       " ('creator', 62),\n",
       " ('education', 61),\n",
       " ('requirement', 60),\n",
       " ('genre', 55),\n",
       " ('species', 53),\n",
       " ('industry', 50),\n",
       " ('file Size', 48),\n",
       " ('organisation', 46),\n",
       " ('affiliate', 42),\n",
       " ('birth Place', 39),\n",
       " ('religion', 38),\n",
       " ('jockey', 34),\n",
       " ('collection', 32),\n",
       " ('continent', 23),\n",
       " ('grades', 14),\n",
       " ('isbn', 14),\n",
       " ('birth Date', 12),\n",
       " ('currency', 11)]"
      ]
     },
     "execution_count": 11,
     "metadata": {},
     "output_type": "execute_result"
    }
   ],
   "source": [
    "from collections import Counter\n",
    "\n",
    "size = len(y_test)\n",
    "mismatches = list()\n",
    "\n",
    "for idx, k1 in enumerate(y_test[:size]):\n",
    "    k2 = predicted_labels[idx]\n",
    "\n",
    "    if k1 != k2:\n",
    "        mismatches.append(k1)\n",
    "#        if k1 in ('brand'):\n",
    "#        print(f'[{idx}] expected \"{k1}\" but predicted \"{k2}\"')\n",
    "        \n",
    "f1 = f1_score(y_test[:size], predicted_labels[:size], average=\"weighted\")\n",
    "print(f'Total mismatches: {len(mismatches)} (F1 score: {f1})')\n",
    "\n",
    "data = Counter(mismatches)\n",
    "data.most_common()   # Returns all unique items and their counts"
   ]
  },
  {
   "cell_type": "code",
   "execution_count": 12,
   "metadata": {},
   "outputs": [],
   "source": [
    "test_samples = pd.read_parquet('../data/raw/test_values.parquet')"
   ]
  },
  {
   "cell_type": "code",
   "execution_count": 13,
   "metadata": {},
   "outputs": [
    {
     "name": "stdout",
     "output_type": "stream",
     "text": [
      "Predicted \"age\", actual label \"position\". Actual values:\n",
      "[[2, 4]]\n"
     ]
    }
   ],
   "source": [
    "from ast import literal_eval\n",
    "\n",
    "idx = 541\n",
    "original = test_samples.iloc[idx]\n",
    "converted = original.apply(literal_eval).to_list()\n",
    "\n",
    "print(f'Predicted \"{predicted_labels[idx]}\", actual label \"{y_test[idx]}\". Actual values:\\n{converted}')"
   ]
  },
  {
   "cell_type": "code",
   "execution_count": null,
   "metadata": {},
   "outputs": [],
   "source": []
  }
 ],
 "metadata": {
  "kernelspec": {
   "display_name": "Python 3",
   "language": "python",
   "name": "python3"
  },
  "language_info": {
   "codemirror_mode": {
    "name": "ipython",
    "version": 3
   },
   "file_extension": ".py",
   "mimetype": "text/x-python",
   "name": "python",
   "nbconvert_exporter": "python",
   "pygments_lexer": "ipython3",
   "version": "3.7.9"
  }
 },
 "nbformat": 4,
 "nbformat_minor": 4
}
