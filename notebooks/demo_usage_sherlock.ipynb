{
 "cells": [
  {
   "cell_type": "code",
   "execution_count": 1,
   "metadata": {},
   "outputs": [],
   "source": [
    "%load_ext autoreload\n",
    "%autoreload 2"
   ]
  },
  {
   "cell_type": "code",
   "execution_count": 2,
   "metadata": {},
   "outputs": [
    {
     "data": {
      "text/plain": [
       "'13'"
      ]
     },
     "execution_count": 2,
     "metadata": {},
     "output_type": "execute_result"
    }
   ],
   "source": [
    "# If you need fully deterministic results between runs, set the following environment value prior to launching jupyter.\n",
    "# See comment in sherlock.features.paragraph_vectors.infer_paragraph_embeddings_features for more info.\n",
    "%env PYTHONHASHSEED"
   ]
  },
  {
   "cell_type": "code",
   "execution_count": 3,
   "metadata": {},
   "outputs": [
    {
     "name": "stdout",
     "output_type": "stream",
     "text": [
      "Started at 2022-02-04 08:08:02.283035.\n"
     ]
    }
   ],
   "source": [
    "from datetime import datetime\n",
    "\n",
    "print(f'Started at {datetime.now()}.')"
   ]
  },
  {
   "cell_type": "markdown",
   "metadata": {},
   "source": [
    "# Extract features, retrain Sherlock and generate predictions."
   ]
  },
  {
   "cell_type": "markdown",
   "metadata": {},
   "source": [
    "The script below first downloads the data (roughly 700K samples), then extract features from the raw data values. <br>\n",
    "If you want to skip this step, you can follow the steps below the feature extraction to load the preprocessed data, \n",
    "retrain Sherlock and generate predictions."
   ]
  },
  {
   "cell_type": "code",
   "execution_count": 4,
   "metadata": {},
   "outputs": [],
   "source": [
    "import sys\n",
    "\n",
    "import numpy as np\n",
    "import pandas as pd\n",
    "\n",
    "from sherlock import helpers\n",
    "from sherlock.features.preprocessing import extract_features, convert_string_lists_to_lists, prepare_feature_extraction"
   ]
  },
  {
   "cell_type": "markdown",
   "metadata": {},
   "source": [
    "## Download data\n",
    "This will download the raw values and preprocessed files, the corresponding labels as well as a few other supporting files:\n",
    "- `download_data()` will download 3.6GB of data into the `data/` directory.\n",
    "- `prepare_feature_extraction()` will download +/- 800 MB of data into the `features/` directory."
   ]
  },
  {
   "cell_type": "code",
   "execution_count": 5,
   "metadata": {},
   "outputs": [
    {
     "name": "stdout",
     "output_type": "stream",
     "text": [
      "Downloading the raw and preprocessed data into ../data/data.zip.\n",
      "Data was downloaded.\n",
      "Preparing feature extraction by downloading 2 files:\n",
      "        \n",
      " ../sherlock/features/glove.6B.50d.txt and \n",
      " ../sherlock/features/par_vec_trained_400.pkl.docvecs.vectors_docs.npy.\n",
      "        \n",
      "All files for extracting word and paragraph embeddings are present.\n"
     ]
    }
   ],
   "source": [
    "helpers.download_data()\n",
    "prepare_feature_extraction()"
   ]
  },
  {
   "cell_type": "markdown",
   "metadata": {},
   "source": [
    "## Read in raw data\n",
    "You can skip this step if you want to use a preprocessed data file."
   ]
  },
  {
   "cell_type": "markdown",
   "metadata": {},
   "source": [
    "## Report memory usage (can be slow)"
   ]
  },
  {
   "cell_type": "code",
   "execution_count": 6,
   "metadata": {},
   "outputs": [],
   "source": [
    "report_memory = False"
   ]
  },
  {
   "cell_type": "markdown",
   "metadata": {},
   "source": [
    "## Extract features\n",
    "It is important that the string-representations of lists are first converted into lists of strings.\n",
    "The labels should be a list of semantic types."
   ]
  },
  {
   "cell_type": "code",
   "execution_count": 7,
   "metadata": {},
   "outputs": [],
   "source": [
    "import time \n",
    "\n",
    "timestr = time.strftime(\"%Y%m%d-%H%M%S\")\n",
    "\n",
    "# Features will be output to the following files\n",
    "X_test_filename_csv = f'../data/work/test_{timestr}.csv'\n",
    "X_train_filename_csv = f'../data/work/train_{timestr}.csv'\n",
    "X_validation_filename_csv = f'../data/work/validation_{timestr}.csv'"
   ]
  },
  {
   "cell_type": "markdown",
   "metadata": {},
   "source": [
    "### PREPARATION"
   ]
  },
  {
   "cell_type": "code",
   "execution_count": 8,
   "metadata": {},
   "outputs": [
    {
     "name": "stdout",
     "output_type": "stream",
     "text": [
      "Preparing feature extraction by downloading 2 files:\n",
      "        \n",
      " ../sherlock/features/glove.6B.50d.txt and \n",
      " ../sherlock/features/par_vec_trained_400.pkl.docvecs.vectors_docs.npy.\n",
      "        \n",
      "All files for extracting word and paragraph embeddings are present.\n",
      "Initialising word embeddings\n",
      "Initialise Word Embeddings process took 0:00:06.272654 seconds.\n",
      "Initialise Doc2Vec Model, 400 dim, process took 0:00:03.008532 seconds. (filename = ../sherlock/features/par_vec_retrained_400.pkl)\n",
      "Initialised NLTK, process took 0:00:00.189256 seconds.\n"
     ]
    },
    {
     "name": "stderr",
     "output_type": "stream",
     "text": [
      "[nltk_data] Downloading package punkt to /Users/lowecg/nltk_data...\n",
      "[nltk_data]   Package punkt is already up-to-date!\n",
      "[nltk_data] Downloading package stopwords to\n",
      "[nltk_data]     /Users/lowecg/nltk_data...\n",
      "[nltk_data]   Package stopwords is already up-to-date!\n"
     ]
    }
   ],
   "source": [
    "# ensure embedding initialisation is outside of timing for extract_features\n",
    "from sherlock.features.word_embeddings import initialise_word_embeddings\n",
    "from sherlock.features.paragraph_vectors import initialise_pretrained_model, initialise_nltk\n",
    "from sherlock.features.preprocessing import prepare_feature_extraction\n",
    "\n",
    "prepare_feature_extraction()\n",
    "initialise_word_embeddings()\n",
    "initialise_pretrained_model(400)\n",
    "initialise_nltk()"
   ]
  },
  {
   "cell_type": "code",
   "execution_count": 9,
   "metadata": {},
   "outputs": [],
   "source": [
    "from pyarrow.parquet import ParquetFile\n",
    "\n",
    "def load_parquet_values(path):\n",
    "    pf = ParquetFile(source=path)\n",
    "    row_df = pf.read_row_group(0)\n",
    "\n",
    "    return row_df['values']"
   ]
  },
  {
   "cell_type": "code",
   "execution_count": 10,
   "metadata": {},
   "outputs": [],
   "source": [
    "%load_ext line_profiler"
   ]
  },
  {
   "cell_type": "code",
   "execution_count": 11,
   "metadata": {},
   "outputs": [],
   "source": [
    "import multiprocessing as mp\n",
    "\n",
    "# default process creation mode is changed in Python 3.8 to 'spawn' which causes \"name not defined\" type errors. Force fork 'mode' for now (this only needs to be called once).\n",
    "# https://bugs.python.org/issue39931\n",
    "#mp.set_start_method('fork', force=True)"
   ]
  },
  {
   "cell_type": "markdown",
   "metadata": {},
   "source": [
    "## EXTRACT FEATURES TO CSV"
   ]
  },
  {
   "cell_type": "markdown",
   "metadata": {},
   "source": [
    "### TEST SET"
   ]
  },
  {
   "cell_type": "code",
   "execution_count": 12,
   "metadata": {},
   "outputs": [
    {
     "name": "stdout",
     "output_type": "stream",
     "text": [
      "Starting ../data/work/test_20220204-080804.csv at 2022-02-04 08:08:15.084360. Rows=137353, using 8 CPU cores\n",
      "Exporting 1588 column features\n",
      "Finished. Processed 137353 rows in 0:04:41.968998, key_count=8\n"
     ]
    }
   ],
   "source": [
    "from sherlock.functional import extract_features_to_csv\n",
    "\n",
    "values = load_parquet_values(\"../data/raw/test_values.parquet\")\n",
    "\n",
    "extract_features_to_csv(X_test_filename_csv, values)\n",
    "\n",
    "values = None"
   ]
  },
  {
   "cell_type": "code",
   "execution_count": 13,
   "metadata": {},
   "outputs": [
    {
     "name": "stdout",
     "output_type": "stream",
     "text": [
      "Finished at 2022-02-04 08:12:57.143206\n"
     ]
    }
   ],
   "source": [
    "print(f'Finished at {datetime.now()}')"
   ]
  },
  {
   "cell_type": "markdown",
   "metadata": {},
   "source": [
    "### TRAIN SET"
   ]
  },
  {
   "cell_type": "code",
   "execution_count": 14,
   "metadata": {},
   "outputs": [
    {
     "name": "stdout",
     "output_type": "stream",
     "text": [
      "Starting ../data/work/train_20220204-080804.csv at 2022-02-04 08:12:59.783668. Rows=412059, using 8 CPU cores\n",
      "Exporting 1588 column features\n",
      "Finished. Processed 412059 rows in 0:13:58.582135, key_count=8\n"
     ]
    }
   ],
   "source": [
    "values = load_parquet_values(\"../data/raw/train_values.parquet\")\n",
    "\n",
    "extract_features_to_csv(X_train_filename_csv, values)\n",
    "\n",
    "values = None"
   ]
  },
  {
   "cell_type": "code",
   "execution_count": 15,
   "metadata": {},
   "outputs": [
    {
     "name": "stdout",
     "output_type": "stream",
     "text": [
      "Finished at 2022-02-04 08:26:58.568907\n"
     ]
    }
   ],
   "source": [
    "print(f'Finished at {datetime.now()}')"
   ]
  },
  {
   "cell_type": "markdown",
   "metadata": {},
   "source": [
    "### VALIDATION SET"
   ]
  },
  {
   "cell_type": "code",
   "execution_count": 16,
   "metadata": {},
   "outputs": [
    {
     "name": "stdout",
     "output_type": "stream",
     "text": [
      "Starting ../data/work/validation_20220204-080804.csv at 2022-02-04 08:26:59.404661. Rows=137353, using 8 CPU cores\n",
      "Exporting 1588 column features\n",
      "Finished. Processed 137353 rows in 0:04:39.179751, key_count=8\n"
     ]
    }
   ],
   "source": [
    "values = load_parquet_values(\"../data/raw/val_values.parquet\")\n",
    "\n",
    "extract_features_to_csv(X_validation_filename_csv, values)\n",
    "\n",
    "values = None"
   ]
  },
  {
   "cell_type": "code",
   "execution_count": 17,
   "metadata": {},
   "outputs": [
    {
     "name": "stdout",
     "output_type": "stream",
     "text": [
      "Finished at 2022-02-04 08:31:38.661961\n"
     ]
    }
   ],
   "source": [
    "print(f'Finished at {datetime.now()}')"
   ]
  },
  {
   "cell_type": "markdown",
   "metadata": {},
   "source": [
    "### Read Locally Processed Features"
   ]
  },
  {
   "cell_type": "code",
   "execution_count": 18,
   "metadata": {},
   "outputs": [
    {
     "name": "stdout",
     "output_type": "stream",
     "text": [
      "Load Features (test) process took 0:00:32.595395 seconds.\n"
     ]
    }
   ],
   "source": [
    "start = datetime.now()\n",
    "\n",
    "X_test = pd.read_csv(X_test_filename_csv, dtype=np.float32)\n",
    "\n",
    "print(f'Load Features (test) process took {datetime.now() - start} seconds.')"
   ]
  },
  {
   "cell_type": "code",
   "execution_count": 19,
   "metadata": {},
   "outputs": [
    {
     "data": {
      "text/html": [
       "<div>\n",
       "<style scoped>\n",
       "    .dataframe tbody tr th:only-of-type {\n",
       "        vertical-align: middle;\n",
       "    }\n",
       "\n",
       "    .dataframe tbody tr th {\n",
       "        vertical-align: top;\n",
       "    }\n",
       "\n",
       "    .dataframe thead th {\n",
       "        text-align: right;\n",
       "    }\n",
       "</style>\n",
       "<table border=\"1\" class=\"dataframe\">\n",
       "  <thead>\n",
       "    <tr style=\"text-align: right;\">\n",
       "      <th></th>\n",
       "      <th>n_[0]-agg-any</th>\n",
       "      <th>n_[0]-agg-all</th>\n",
       "      <th>n_[0]-agg-mean</th>\n",
       "      <th>n_[0]-agg-var</th>\n",
       "      <th>n_[0]-agg-min</th>\n",
       "      <th>n_[0]-agg-max</th>\n",
       "      <th>n_[0]-agg-median</th>\n",
       "      <th>n_[0]-agg-sum</th>\n",
       "      <th>n_[0]-agg-kurtosis</th>\n",
       "      <th>n_[0]-agg-skewness</th>\n",
       "      <th>...</th>\n",
       "      <th>par_vec_390</th>\n",
       "      <th>par_vec_391</th>\n",
       "      <th>par_vec_392</th>\n",
       "      <th>par_vec_393</th>\n",
       "      <th>par_vec_394</th>\n",
       "      <th>par_vec_395</th>\n",
       "      <th>par_vec_396</th>\n",
       "      <th>par_vec_397</th>\n",
       "      <th>par_vec_398</th>\n",
       "      <th>par_vec_399</th>\n",
       "    </tr>\n",
       "  </thead>\n",
       "  <tbody>\n",
       "    <tr>\n",
       "      <th>0</th>\n",
       "      <td>0.0</td>\n",
       "      <td>0.0</td>\n",
       "      <td>0.000000</td>\n",
       "      <td>0.000000</td>\n",
       "      <td>0.0</td>\n",
       "      <td>0.0</td>\n",
       "      <td>0.0</td>\n",
       "      <td>0.0</td>\n",
       "      <td>-3.000000</td>\n",
       "      <td>0.000000</td>\n",
       "      <td>...</td>\n",
       "      <td>0.030798</td>\n",
       "      <td>0.039629</td>\n",
       "      <td>0.050936</td>\n",
       "      <td>-0.000418</td>\n",
       "      <td>0.110443</td>\n",
       "      <td>0.083834</td>\n",
       "      <td>-0.006636</td>\n",
       "      <td>-0.098172</td>\n",
       "      <td>0.057118</td>\n",
       "      <td>0.024585</td>\n",
       "    </tr>\n",
       "    <tr>\n",
       "      <th>1</th>\n",
       "      <td>1.0</td>\n",
       "      <td>0.0</td>\n",
       "      <td>0.368421</td>\n",
       "      <td>0.337950</td>\n",
       "      <td>0.0</td>\n",
       "      <td>2.0</td>\n",
       "      <td>0.0</td>\n",
       "      <td>7.0</td>\n",
       "      <td>0.742677</td>\n",
       "      <td>1.326868</td>\n",
       "      <td>...</td>\n",
       "      <td>0.017153</td>\n",
       "      <td>-0.117459</td>\n",
       "      <td>-0.052406</td>\n",
       "      <td>-0.026878</td>\n",
       "      <td>0.107285</td>\n",
       "      <td>0.057874</td>\n",
       "      <td>-0.045235</td>\n",
       "      <td>-0.079498</td>\n",
       "      <td>0.091608</td>\n",
       "      <td>0.179564</td>\n",
       "    </tr>\n",
       "    <tr>\n",
       "      <th>2</th>\n",
       "      <td>0.0</td>\n",
       "      <td>0.0</td>\n",
       "      <td>0.000000</td>\n",
       "      <td>0.000000</td>\n",
       "      <td>0.0</td>\n",
       "      <td>0.0</td>\n",
       "      <td>0.0</td>\n",
       "      <td>0.0</td>\n",
       "      <td>-3.000000</td>\n",
       "      <td>0.000000</td>\n",
       "      <td>...</td>\n",
       "      <td>-0.197937</td>\n",
       "      <td>-0.341938</td>\n",
       "      <td>-0.195952</td>\n",
       "      <td>0.038289</td>\n",
       "      <td>0.038866</td>\n",
       "      <td>0.113934</td>\n",
       "      <td>0.027655</td>\n",
       "      <td>-0.116132</td>\n",
       "      <td>-0.064190</td>\n",
       "      <td>-0.148824</td>\n",
       "    </tr>\n",
       "    <tr>\n",
       "      <th>3</th>\n",
       "      <td>0.0</td>\n",
       "      <td>0.0</td>\n",
       "      <td>0.000000</td>\n",
       "      <td>0.000000</td>\n",
       "      <td>0.0</td>\n",
       "      <td>0.0</td>\n",
       "      <td>0.0</td>\n",
       "      <td>0.0</td>\n",
       "      <td>-3.000000</td>\n",
       "      <td>0.000000</td>\n",
       "      <td>...</td>\n",
       "      <td>0.090470</td>\n",
       "      <td>-0.063266</td>\n",
       "      <td>0.002614</td>\n",
       "      <td>-0.026875</td>\n",
       "      <td>-0.018085</td>\n",
       "      <td>0.060270</td>\n",
       "      <td>0.042334</td>\n",
       "      <td>-0.200745</td>\n",
       "      <td>0.132219</td>\n",
       "      <td>0.025028</td>\n",
       "    </tr>\n",
       "    <tr>\n",
       "      <th>4</th>\n",
       "      <td>1.0</td>\n",
       "      <td>0.0</td>\n",
       "      <td>0.020080</td>\n",
       "      <td>0.035741</td>\n",
       "      <td>0.0</td>\n",
       "      <td>2.0</td>\n",
       "      <td>0.0</td>\n",
       "      <td>5.0</td>\n",
       "      <td>96.521561</td>\n",
       "      <td>9.784149</td>\n",
       "      <td>...</td>\n",
       "      <td>0.334674</td>\n",
       "      <td>-0.122423</td>\n",
       "      <td>-0.373649</td>\n",
       "      <td>-0.090392</td>\n",
       "      <td>-0.165679</td>\n",
       "      <td>0.238570</td>\n",
       "      <td>0.504209</td>\n",
       "      <td>-0.262324</td>\n",
       "      <td>-0.041570</td>\n",
       "      <td>-0.468184</td>\n",
       "    </tr>\n",
       "  </tbody>\n",
       "</table>\n",
       "<p>5 rows × 1588 columns</p>\n",
       "</div>"
      ],
      "text/plain": [
       "   n_[0]-agg-any  n_[0]-agg-all  n_[0]-agg-mean  n_[0]-agg-var  n_[0]-agg-min  \\\n",
       "0            0.0            0.0        0.000000       0.000000            0.0   \n",
       "1            1.0            0.0        0.368421       0.337950            0.0   \n",
       "2            0.0            0.0        0.000000       0.000000            0.0   \n",
       "3            0.0            0.0        0.000000       0.000000            0.0   \n",
       "4            1.0            0.0        0.020080       0.035741            0.0   \n",
       "\n",
       "   n_[0]-agg-max  n_[0]-agg-median  n_[0]-agg-sum  n_[0]-agg-kurtosis  \\\n",
       "0            0.0               0.0            0.0           -3.000000   \n",
       "1            2.0               0.0            7.0            0.742677   \n",
       "2            0.0               0.0            0.0           -3.000000   \n",
       "3            0.0               0.0            0.0           -3.000000   \n",
       "4            2.0               0.0            5.0           96.521561   \n",
       "\n",
       "   n_[0]-agg-skewness  ...  par_vec_390  par_vec_391  par_vec_392  \\\n",
       "0            0.000000  ...     0.030798     0.039629     0.050936   \n",
       "1            1.326868  ...     0.017153    -0.117459    -0.052406   \n",
       "2            0.000000  ...    -0.197937    -0.341938    -0.195952   \n",
       "3            0.000000  ...     0.090470    -0.063266     0.002614   \n",
       "4            9.784149  ...     0.334674    -0.122423    -0.373649   \n",
       "\n",
       "   par_vec_393  par_vec_394  par_vec_395  par_vec_396  par_vec_397  \\\n",
       "0    -0.000418     0.110443     0.083834    -0.006636    -0.098172   \n",
       "1    -0.026878     0.107285     0.057874    -0.045235    -0.079498   \n",
       "2     0.038289     0.038866     0.113934     0.027655    -0.116132   \n",
       "3    -0.026875    -0.018085     0.060270     0.042334    -0.200745   \n",
       "4    -0.090392    -0.165679     0.238570     0.504209    -0.262324   \n",
       "\n",
       "   par_vec_398  par_vec_399  \n",
       "0     0.057118     0.024585  \n",
       "1     0.091608     0.179564  \n",
       "2    -0.064190    -0.148824  \n",
       "3     0.132219     0.025028  \n",
       "4    -0.041570    -0.468184  \n",
       "\n",
       "[5 rows x 1588 columns]"
      ]
     },
     "execution_count": 19,
     "metadata": {},
     "output_type": "execute_result"
    }
   ],
   "source": [
    "X_test.head()"
   ]
  },
  {
   "cell_type": "code",
   "execution_count": 20,
   "metadata": {},
   "outputs": [
    {
     "name": "stdout",
     "output_type": "stream",
     "text": [
      "Load Features (train) process took 0:01:42.386525 seconds.\n"
     ]
    }
   ],
   "source": [
    "start = datetime.now()\n",
    "\n",
    "X_train = pd.read_csv(X_train_filename_csv, dtype=np.float32)\n",
    "\n",
    "print(f'Load Features (train) process took {datetime.now() - start} seconds.')"
   ]
  },
  {
   "cell_type": "code",
   "execution_count": 21,
   "metadata": {},
   "outputs": [
    {
     "data": {
      "text/html": [
       "<div>\n",
       "<style scoped>\n",
       "    .dataframe tbody tr th:only-of-type {\n",
       "        vertical-align: middle;\n",
       "    }\n",
       "\n",
       "    .dataframe tbody tr th {\n",
       "        vertical-align: top;\n",
       "    }\n",
       "\n",
       "    .dataframe thead th {\n",
       "        text-align: right;\n",
       "    }\n",
       "</style>\n",
       "<table border=\"1\" class=\"dataframe\">\n",
       "  <thead>\n",
       "    <tr style=\"text-align: right;\">\n",
       "      <th></th>\n",
       "      <th>n_[0]-agg-any</th>\n",
       "      <th>n_[0]-agg-all</th>\n",
       "      <th>n_[0]-agg-mean</th>\n",
       "      <th>n_[0]-agg-var</th>\n",
       "      <th>n_[0]-agg-min</th>\n",
       "      <th>n_[0]-agg-max</th>\n",
       "      <th>n_[0]-agg-median</th>\n",
       "      <th>n_[0]-agg-sum</th>\n",
       "      <th>n_[0]-agg-kurtosis</th>\n",
       "      <th>n_[0]-agg-skewness</th>\n",
       "      <th>...</th>\n",
       "      <th>par_vec_390</th>\n",
       "      <th>par_vec_391</th>\n",
       "      <th>par_vec_392</th>\n",
       "      <th>par_vec_393</th>\n",
       "      <th>par_vec_394</th>\n",
       "      <th>par_vec_395</th>\n",
       "      <th>par_vec_396</th>\n",
       "      <th>par_vec_397</th>\n",
       "      <th>par_vec_398</th>\n",
       "      <th>par_vec_399</th>\n",
       "    </tr>\n",
       "  </thead>\n",
       "  <tbody>\n",
       "    <tr>\n",
       "      <th>0</th>\n",
       "      <td>0.0</td>\n",
       "      <td>0.0</td>\n",
       "      <td>0.0</td>\n",
       "      <td>0.0</td>\n",
       "      <td>0.0</td>\n",
       "      <td>0.0</td>\n",
       "      <td>0.0</td>\n",
       "      <td>0.0</td>\n",
       "      <td>-3.0</td>\n",
       "      <td>0.0</td>\n",
       "      <td>...</td>\n",
       "      <td>-0.001600</td>\n",
       "      <td>-0.025123</td>\n",
       "      <td>0.068435</td>\n",
       "      <td>0.028728</td>\n",
       "      <td>0.123009</td>\n",
       "      <td>0.055431</td>\n",
       "      <td>0.056169</td>\n",
       "      <td>-0.075245</td>\n",
       "      <td>0.068694</td>\n",
       "      <td>0.135792</td>\n",
       "    </tr>\n",
       "    <tr>\n",
       "      <th>1</th>\n",
       "      <td>0.0</td>\n",
       "      <td>0.0</td>\n",
       "      <td>0.0</td>\n",
       "      <td>0.0</td>\n",
       "      <td>0.0</td>\n",
       "      <td>0.0</td>\n",
       "      <td>0.0</td>\n",
       "      <td>0.0</td>\n",
       "      <td>-3.0</td>\n",
       "      <td>0.0</td>\n",
       "      <td>...</td>\n",
       "      <td>0.047790</td>\n",
       "      <td>-0.074355</td>\n",
       "      <td>-0.000537</td>\n",
       "      <td>0.029701</td>\n",
       "      <td>0.171086</td>\n",
       "      <td>0.024220</td>\n",
       "      <td>0.051500</td>\n",
       "      <td>-0.021072</td>\n",
       "      <td>0.147295</td>\n",
       "      <td>0.157399</td>\n",
       "    </tr>\n",
       "    <tr>\n",
       "      <th>2</th>\n",
       "      <td>0.0</td>\n",
       "      <td>0.0</td>\n",
       "      <td>0.0</td>\n",
       "      <td>0.0</td>\n",
       "      <td>0.0</td>\n",
       "      <td>0.0</td>\n",
       "      <td>0.0</td>\n",
       "      <td>0.0</td>\n",
       "      <td>-3.0</td>\n",
       "      <td>0.0</td>\n",
       "      <td>...</td>\n",
       "      <td>-0.111040</td>\n",
       "      <td>-0.262439</td>\n",
       "      <td>0.294320</td>\n",
       "      <td>-0.233797</td>\n",
       "      <td>-0.049520</td>\n",
       "      <td>0.084176</td>\n",
       "      <td>-0.124577</td>\n",
       "      <td>-0.300694</td>\n",
       "      <td>0.024991</td>\n",
       "      <td>0.179304</td>\n",
       "    </tr>\n",
       "    <tr>\n",
       "      <th>3</th>\n",
       "      <td>0.0</td>\n",
       "      <td>0.0</td>\n",
       "      <td>0.0</td>\n",
       "      <td>0.0</td>\n",
       "      <td>0.0</td>\n",
       "      <td>0.0</td>\n",
       "      <td>0.0</td>\n",
       "      <td>0.0</td>\n",
       "      <td>-3.0</td>\n",
       "      <td>0.0</td>\n",
       "      <td>...</td>\n",
       "      <td>-0.023044</td>\n",
       "      <td>-0.228889</td>\n",
       "      <td>0.028576</td>\n",
       "      <td>0.026734</td>\n",
       "      <td>0.100288</td>\n",
       "      <td>0.014854</td>\n",
       "      <td>0.013547</td>\n",
       "      <td>-0.009963</td>\n",
       "      <td>0.083362</td>\n",
       "      <td>0.208647</td>\n",
       "    </tr>\n",
       "    <tr>\n",
       "      <th>4</th>\n",
       "      <td>0.0</td>\n",
       "      <td>0.0</td>\n",
       "      <td>0.0</td>\n",
       "      <td>0.0</td>\n",
       "      <td>0.0</td>\n",
       "      <td>0.0</td>\n",
       "      <td>0.0</td>\n",
       "      <td>0.0</td>\n",
       "      <td>-3.0</td>\n",
       "      <td>0.0</td>\n",
       "      <td>...</td>\n",
       "      <td>0.241473</td>\n",
       "      <td>-0.244866</td>\n",
       "      <td>0.155266</td>\n",
       "      <td>0.239482</td>\n",
       "      <td>0.181161</td>\n",
       "      <td>-0.006200</td>\n",
       "      <td>0.094836</td>\n",
       "      <td>-0.216232</td>\n",
       "      <td>0.332968</td>\n",
       "      <td>0.203908</td>\n",
       "    </tr>\n",
       "  </tbody>\n",
       "</table>\n",
       "<p>5 rows × 1588 columns</p>\n",
       "</div>"
      ],
      "text/plain": [
       "   n_[0]-agg-any  n_[0]-agg-all  n_[0]-agg-mean  n_[0]-agg-var  n_[0]-agg-min  \\\n",
       "0            0.0            0.0             0.0            0.0            0.0   \n",
       "1            0.0            0.0             0.0            0.0            0.0   \n",
       "2            0.0            0.0             0.0            0.0            0.0   \n",
       "3            0.0            0.0             0.0            0.0            0.0   \n",
       "4            0.0            0.0             0.0            0.0            0.0   \n",
       "\n",
       "   n_[0]-agg-max  n_[0]-agg-median  n_[0]-agg-sum  n_[0]-agg-kurtosis  \\\n",
       "0            0.0               0.0            0.0                -3.0   \n",
       "1            0.0               0.0            0.0                -3.0   \n",
       "2            0.0               0.0            0.0                -3.0   \n",
       "3            0.0               0.0            0.0                -3.0   \n",
       "4            0.0               0.0            0.0                -3.0   \n",
       "\n",
       "   n_[0]-agg-skewness  ...  par_vec_390  par_vec_391  par_vec_392  \\\n",
       "0                 0.0  ...    -0.001600    -0.025123     0.068435   \n",
       "1                 0.0  ...     0.047790    -0.074355    -0.000537   \n",
       "2                 0.0  ...    -0.111040    -0.262439     0.294320   \n",
       "3                 0.0  ...    -0.023044    -0.228889     0.028576   \n",
       "4                 0.0  ...     0.241473    -0.244866     0.155266   \n",
       "\n",
       "   par_vec_393  par_vec_394  par_vec_395  par_vec_396  par_vec_397  \\\n",
       "0     0.028728     0.123009     0.055431     0.056169    -0.075245   \n",
       "1     0.029701     0.171086     0.024220     0.051500    -0.021072   \n",
       "2    -0.233797    -0.049520     0.084176    -0.124577    -0.300694   \n",
       "3     0.026734     0.100288     0.014854     0.013547    -0.009963   \n",
       "4     0.239482     0.181161    -0.006200     0.094836    -0.216232   \n",
       "\n",
       "   par_vec_398  par_vec_399  \n",
       "0     0.068694     0.135792  \n",
       "1     0.147295     0.157399  \n",
       "2     0.024991     0.179304  \n",
       "3     0.083362     0.208647  \n",
       "4     0.332968     0.203908  \n",
       "\n",
       "[5 rows x 1588 columns]"
      ]
     },
     "execution_count": 21,
     "metadata": {},
     "output_type": "execute_result"
    }
   ],
   "source": [
    "X_train.head()"
   ]
  },
  {
   "cell_type": "code",
   "execution_count": 22,
   "metadata": {},
   "outputs": [
    {
     "name": "stdout",
     "output_type": "stream",
     "text": [
      "Load Features (validation) process took 0:00:32.728528 seconds.\n"
     ]
    }
   ],
   "source": [
    "start = datetime.now()\n",
    "\n",
    "X_validation = pd.read_csv(X_validation_filename_csv, dtype=np.float32)\n",
    "\n",
    "print(f'Load Features (validation) process took {datetime.now() - start} seconds.')"
   ]
  },
  {
   "cell_type": "code",
   "execution_count": 23,
   "metadata": {},
   "outputs": [
    {
     "data": {
      "text/html": [
       "<div>\n",
       "<style scoped>\n",
       "    .dataframe tbody tr th:only-of-type {\n",
       "        vertical-align: middle;\n",
       "    }\n",
       "\n",
       "    .dataframe tbody tr th {\n",
       "        vertical-align: top;\n",
       "    }\n",
       "\n",
       "    .dataframe thead th {\n",
       "        text-align: right;\n",
       "    }\n",
       "</style>\n",
       "<table border=\"1\" class=\"dataframe\">\n",
       "  <thead>\n",
       "    <tr style=\"text-align: right;\">\n",
       "      <th></th>\n",
       "      <th>n_[0]-agg-any</th>\n",
       "      <th>n_[0]-agg-all</th>\n",
       "      <th>n_[0]-agg-mean</th>\n",
       "      <th>n_[0]-agg-var</th>\n",
       "      <th>n_[0]-agg-min</th>\n",
       "      <th>n_[0]-agg-max</th>\n",
       "      <th>n_[0]-agg-median</th>\n",
       "      <th>n_[0]-agg-sum</th>\n",
       "      <th>n_[0]-agg-kurtosis</th>\n",
       "      <th>n_[0]-agg-skewness</th>\n",
       "      <th>...</th>\n",
       "      <th>par_vec_390</th>\n",
       "      <th>par_vec_391</th>\n",
       "      <th>par_vec_392</th>\n",
       "      <th>par_vec_393</th>\n",
       "      <th>par_vec_394</th>\n",
       "      <th>par_vec_395</th>\n",
       "      <th>par_vec_396</th>\n",
       "      <th>par_vec_397</th>\n",
       "      <th>par_vec_398</th>\n",
       "      <th>par_vec_399</th>\n",
       "    </tr>\n",
       "  </thead>\n",
       "  <tbody>\n",
       "    <tr>\n",
       "      <th>0</th>\n",
       "      <td>0.0</td>\n",
       "      <td>0.0</td>\n",
       "      <td>0.00000</td>\n",
       "      <td>0.000000</td>\n",
       "      <td>0.0</td>\n",
       "      <td>0.0</td>\n",
       "      <td>0.0</td>\n",
       "      <td>0.0</td>\n",
       "      <td>-3.000000</td>\n",
       "      <td>0.000000</td>\n",
       "      <td>...</td>\n",
       "      <td>-0.055852</td>\n",
       "      <td>-0.309699</td>\n",
       "      <td>0.052984</td>\n",
       "      <td>-0.230841</td>\n",
       "      <td>0.276387</td>\n",
       "      <td>-0.327680</td>\n",
       "      <td>0.028990</td>\n",
       "      <td>-0.345448</td>\n",
       "      <td>0.059717</td>\n",
       "      <td>-0.009583</td>\n",
       "    </tr>\n",
       "    <tr>\n",
       "      <th>1</th>\n",
       "      <td>0.0</td>\n",
       "      <td>0.0</td>\n",
       "      <td>0.00000</td>\n",
       "      <td>0.000000</td>\n",
       "      <td>0.0</td>\n",
       "      <td>0.0</td>\n",
       "      <td>0.0</td>\n",
       "      <td>0.0</td>\n",
       "      <td>-3.000000</td>\n",
       "      <td>0.000000</td>\n",
       "      <td>...</td>\n",
       "      <td>0.157757</td>\n",
       "      <td>-0.241466</td>\n",
       "      <td>0.110374</td>\n",
       "      <td>0.100078</td>\n",
       "      <td>0.226504</td>\n",
       "      <td>-0.081568</td>\n",
       "      <td>0.067137</td>\n",
       "      <td>-0.399932</td>\n",
       "      <td>-0.002087</td>\n",
       "      <td>0.224772</td>\n",
       "    </tr>\n",
       "    <tr>\n",
       "      <th>2</th>\n",
       "      <td>1.0</td>\n",
       "      <td>0.0</td>\n",
       "      <td>0.25000</td>\n",
       "      <td>0.187500</td>\n",
       "      <td>0.0</td>\n",
       "      <td>1.0</td>\n",
       "      <td>0.0</td>\n",
       "      <td>10.0</td>\n",
       "      <td>-0.666667</td>\n",
       "      <td>1.154701</td>\n",
       "      <td>...</td>\n",
       "      <td>0.315950</td>\n",
       "      <td>0.139812</td>\n",
       "      <td>0.134535</td>\n",
       "      <td>-0.180131</td>\n",
       "      <td>0.317000</td>\n",
       "      <td>0.061368</td>\n",
       "      <td>0.427069</td>\n",
       "      <td>-0.508263</td>\n",
       "      <td>-0.049458</td>\n",
       "      <td>0.104446</td>\n",
       "    </tr>\n",
       "    <tr>\n",
       "      <th>3</th>\n",
       "      <td>0.0</td>\n",
       "      <td>0.0</td>\n",
       "      <td>0.00000</td>\n",
       "      <td>0.000000</td>\n",
       "      <td>0.0</td>\n",
       "      <td>0.0</td>\n",
       "      <td>0.0</td>\n",
       "      <td>0.0</td>\n",
       "      <td>-3.000000</td>\n",
       "      <td>0.000000</td>\n",
       "      <td>...</td>\n",
       "      <td>-0.031292</td>\n",
       "      <td>-0.266281</td>\n",
       "      <td>-0.065231</td>\n",
       "      <td>0.024238</td>\n",
       "      <td>0.132858</td>\n",
       "      <td>0.138291</td>\n",
       "      <td>0.138538</td>\n",
       "      <td>-0.004716</td>\n",
       "      <td>0.117068</td>\n",
       "      <td>-0.083835</td>\n",
       "    </tr>\n",
       "    <tr>\n",
       "      <th>4</th>\n",
       "      <td>1.0</td>\n",
       "      <td>0.0</td>\n",
       "      <td>0.09434</td>\n",
       "      <td>0.311855</td>\n",
       "      <td>0.0</td>\n",
       "      <td>4.0</td>\n",
       "      <td>0.0</td>\n",
       "      <td>5.0</td>\n",
       "      <td>42.275021</td>\n",
       "      <td>6.530585</td>\n",
       "      <td>...</td>\n",
       "      <td>0.061921</td>\n",
       "      <td>-0.222074</td>\n",
       "      <td>-0.254157</td>\n",
       "      <td>0.251418</td>\n",
       "      <td>0.429034</td>\n",
       "      <td>-0.411838</td>\n",
       "      <td>-0.092745</td>\n",
       "      <td>-0.182875</td>\n",
       "      <td>0.076406</td>\n",
       "      <td>-0.079038</td>\n",
       "    </tr>\n",
       "  </tbody>\n",
       "</table>\n",
       "<p>5 rows × 1588 columns</p>\n",
       "</div>"
      ],
      "text/plain": [
       "   n_[0]-agg-any  n_[0]-agg-all  n_[0]-agg-mean  n_[0]-agg-var  n_[0]-agg-min  \\\n",
       "0            0.0            0.0         0.00000       0.000000            0.0   \n",
       "1            0.0            0.0         0.00000       0.000000            0.0   \n",
       "2            1.0            0.0         0.25000       0.187500            0.0   \n",
       "3            0.0            0.0         0.00000       0.000000            0.0   \n",
       "4            1.0            0.0         0.09434       0.311855            0.0   \n",
       "\n",
       "   n_[0]-agg-max  n_[0]-agg-median  n_[0]-agg-sum  n_[0]-agg-kurtosis  \\\n",
       "0            0.0               0.0            0.0           -3.000000   \n",
       "1            0.0               0.0            0.0           -3.000000   \n",
       "2            1.0               0.0           10.0           -0.666667   \n",
       "3            0.0               0.0            0.0           -3.000000   \n",
       "4            4.0               0.0            5.0           42.275021   \n",
       "\n",
       "   n_[0]-agg-skewness  ...  par_vec_390  par_vec_391  par_vec_392  \\\n",
       "0            0.000000  ...    -0.055852    -0.309699     0.052984   \n",
       "1            0.000000  ...     0.157757    -0.241466     0.110374   \n",
       "2            1.154701  ...     0.315950     0.139812     0.134535   \n",
       "3            0.000000  ...    -0.031292    -0.266281    -0.065231   \n",
       "4            6.530585  ...     0.061921    -0.222074    -0.254157   \n",
       "\n",
       "   par_vec_393  par_vec_394  par_vec_395  par_vec_396  par_vec_397  \\\n",
       "0    -0.230841     0.276387    -0.327680     0.028990    -0.345448   \n",
       "1     0.100078     0.226504    -0.081568     0.067137    -0.399932   \n",
       "2    -0.180131     0.317000     0.061368     0.427069    -0.508263   \n",
       "3     0.024238     0.132858     0.138291     0.138538    -0.004716   \n",
       "4     0.251418     0.429034    -0.411838    -0.092745    -0.182875   \n",
       "\n",
       "   par_vec_398  par_vec_399  \n",
       "0     0.059717    -0.009583  \n",
       "1    -0.002087     0.224772  \n",
       "2    -0.049458     0.104446  \n",
       "3     0.117068    -0.083835  \n",
       "4     0.076406    -0.079038  \n",
       "\n",
       "[5 rows x 1588 columns]"
      ]
     },
     "execution_count": 23,
     "metadata": {},
     "output_type": "execute_result"
    }
   ],
   "source": [
    "X_validation.head()"
   ]
  },
  {
   "cell_type": "markdown",
   "metadata": {},
   "source": [
    "## Impute NaN values with feature means"
   ]
  },
  {
   "cell_type": "code",
   "execution_count": 24,
   "metadata": {},
   "outputs": [
    {
     "name": "stdout",
     "output_type": "stream",
     "text": [
      "Transpose process took 0:00:20.667815 seconds.\n"
     ]
    }
   ],
   "source": [
    "start = datetime.now()\n",
    "\n",
    "train_columns_means = pd.DataFrame(X_train.mean()).transpose()\n",
    "\n",
    "print(f'Transpose process took {datetime.now() - start} seconds.')"
   ]
  },
  {
   "cell_type": "code",
   "execution_count": 25,
   "metadata": {},
   "outputs": [
    {
     "name": "stdout",
     "output_type": "stream",
     "text": [
      "FillNA process took 0:00:02.789372 seconds.\n"
     ]
    }
   ],
   "source": [
    "start = datetime.now()\n",
    "\n",
    "X_train.fillna(train_columns_means.iloc[0], inplace=True)\n",
    "X_validation.fillna(train_columns_means.iloc[0], inplace=True)\n",
    "X_test.fillna(train_columns_means.iloc[0], inplace=True)\n",
    "\n",
    "train_columns_means=None\n",
    "\n",
    "print(f'FillNA process took {datetime.now() - start} seconds.')"
   ]
  },
  {
   "cell_type": "code",
   "execution_count": 26,
   "metadata": {},
   "outputs": [
    {
     "name": "stdout",
     "output_type": "stream",
     "text": [
      "Save parquet process took 0:00:59.647533 seconds.\n"
     ]
    }
   ],
   "source": [
    "start = datetime.now()\n",
    "\n",
    "X_train.to_parquet('train.parquet', engine='pyarrow', compression='snappy')\n",
    "X_validation.to_parquet('validation.parquet', engine='pyarrow', compression='snappy')\n",
    "X_test.to_parquet('test.parquet', engine='pyarrow', compression='snappy')\n",
    "\n",
    "print(f'Save parquet process took {datetime.now() - start} seconds.')"
   ]
  },
  {
   "cell_type": "code",
   "execution_count": 27,
   "metadata": {},
   "outputs": [
    {
     "name": "stdout",
     "output_type": "stream",
     "text": [
      "Completed at 2022-02-04 08:35:50.087401.\n"
     ]
    }
   ],
   "source": [
    "print(f'Completed at {datetime.now()}.')"
   ]
  },
  {
   "cell_type": "code",
   "execution_count": null,
   "metadata": {},
   "outputs": [],
   "source": []
  }
 ],
 "metadata": {
  "kernelspec": {
   "display_name": "Python 3 (ipykernel)",
   "language": "python",
   "name": "python3"
  },
  "language_info": {
   "codemirror_mode": {
    "name": "ipython",
    "version": 3
   },
   "file_extension": ".py",
   "mimetype": "text/x-python",
   "name": "python",
   "nbconvert_exporter": "python",
   "pygments_lexer": "ipython3",
   "version": "3.7.12"
  }
 },
 "nbformat": 4,
 "nbformat_minor": 2
}
