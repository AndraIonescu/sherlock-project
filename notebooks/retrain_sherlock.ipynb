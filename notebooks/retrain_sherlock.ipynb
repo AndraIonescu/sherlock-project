{
 "cells": [
  {
   "cell_type": "markdown",
   "metadata": {},
   "source": [
    "# Extract features, retrain Sherlock and generate predictions."
   ]
  },
  {
   "cell_type": "markdown",
   "metadata": {},
   "source": [
    "### Necessary imports"
   ]
  },
  {
   "cell_type": "code",
   "execution_count": 2,
   "metadata": {},
   "outputs": [],
   "source": [
    "import pandas as pd\n",
    "import numpy as np\n",
    "import sys\n",
    "import pickle\n",
    "import matplotlib.pyplot as plt\n",
    "from ast import literal_eval\n",
    "from sklearn.metrics import f1_score\n",
    "sys.path.append(\"..\")"
   ]
  },
  {
   "cell_type": "code",
   "execution_count": 3,
   "metadata": {},
   "outputs": [
    {
     "name": "stderr",
     "output_type": "stream",
     "text": [
      "C:\\Users\\hulse504\\AppData\\Local\\Continuum\\anaconda3\\lib\\site-packages\\gensim\\utils.py:1209: UserWarning: detected Windows; aliasing chunkize to chunkize_serial\n",
      "  warnings.warn(\"detected Windows; aliasing chunkize to chunkize_serial\")\n",
      "C:\\Users\\hulse504\\AppData\\Local\\Continuum\\anaconda3\\lib\\site-packages\\h5py\\__init__.py:72: UserWarning: h5py is running against HDF5 1.10.2 when it was built against 1.10.3, this may cause problems\n",
      "  '{0}.{1}.{2}'.format(*version.hdf5_built_version_tuple)\n"
     ]
    }
   ],
   "source": [
    "from src.features.build_features import build_features\n",
    "from src.deploy.train_sherlock import train_sherlock\n",
    "from src.deploy.predict_sherlock import predict_sherlock"
   ]
  },
  {
   "cell_type": "markdown",
   "metadata": {},
   "source": [
    "### Load small raw data sample and corresponding labels"
   ]
  },
  {
   "cell_type": "code",
   "execution_count": 4,
   "metadata": {},
   "outputs": [],
   "source": [
    "data = pd.read_csv('../data/raw/test_values.csv', sep=',', index_col=0, header=None)\n",
    "labs = pd.read_csv('../data/raw/test_labels.csv', sep=',', index_col=0, header=None)"
   ]
  },
  {
   "cell_type": "code",
   "execution_count": 5,
   "metadata": {},
   "outputs": [
    {
     "data": {
      "text/html": [
       "<div>\n",
       "<style scoped>\n",
       "    .dataframe tbody tr th:only-of-type {\n",
       "        vertical-align: middle;\n",
       "    }\n",
       "\n",
       "    .dataframe tbody tr th {\n",
       "        vertical-align: top;\n",
       "    }\n",
       "\n",
       "    .dataframe thead th {\n",
       "        text-align: right;\n",
       "    }\n",
       "</style>\n",
       "<table border=\"1\" class=\"dataframe\">\n",
       "  <thead>\n",
       "    <tr style=\"text-align: right;\">\n",
       "      <th></th>\n",
       "      <th>1</th>\n",
       "    </tr>\n",
       "    <tr>\n",
       "      <th>0</th>\n",
       "      <th></th>\n",
       "    </tr>\n",
       "  </thead>\n",
       "  <tbody>\n",
       "    <tr>\n",
       "      <th>20368</th>\n",
       "      <td>['Central Missouri', 'unattached', 'unattached...</td>\n",
       "    </tr>\n",
       "    <tr>\n",
       "      <th>664102</th>\n",
       "      <td>[95, 100, 95, 89, 84, 91, 88, 94, 75, 78, 90, ...</td>\n",
       "    </tr>\n",
       "    <tr>\n",
       "      <th>366813</th>\n",
       "      <td>['Katie Crews', 'Christian Hiraldo', 'Alex Est...</td>\n",
       "    </tr>\n",
       "    <tr>\n",
       "      <th>530567</th>\n",
       "      <td>['Christian', 'Non-Christian', 'Unreported', '...</td>\n",
       "    </tr>\n",
       "    <tr>\n",
       "      <th>176253</th>\n",
       "      <td>['AAF-McQuay Canada Inc.', 'AAF-McQuay Canada ...</td>\n",
       "    </tr>\n",
       "  </tbody>\n",
       "</table>\n",
       "</div>"
      ],
      "text/plain": [
       "                                                        1\n",
       "0                                                        \n",
       "20368   ['Central Missouri', 'unattached', 'unattached...\n",
       "664102  [95, 100, 95, 89, 84, 91, 88, 94, 75, 78, 90, ...\n",
       "366813  ['Katie Crews', 'Christian Hiraldo', 'Alex Est...\n",
       "530567  ['Christian', 'Non-Christian', 'Unreported', '...\n",
       "176253  ['AAF-McQuay Canada Inc.', 'AAF-McQuay Canada ..."
      ]
     },
     "execution_count": 5,
     "metadata": {},
     "output_type": "execute_result"
    }
   ],
   "source": [
    "data.head()"
   ]
  },
  {
   "cell_type": "code",
   "execution_count": 27,
   "metadata": {},
   "outputs": [],
   "source": [
    "data = data.iloc[:,0].apply(literal_eval)"
   ]
  },
  {
   "cell_type": "code",
   "execution_count": 27,
   "metadata": {},
   "outputs": [
    {
     "data": {
      "text/plain": [
       "0\n",
       "20368     [Central Missouri, unattached, unattached, Kan...\n",
       "664102    [95, 100, 95, 89, 84, 91, 88, 94, 75, 78, 90, ...\n",
       "366813    [Katie Crews, Christian Hiraldo, Alex Estrada,...\n",
       "530567    [Christian, Non-Christian, Unreported, Jewish,...\n",
       "176253    [AAF-McQuay Canada Inc., AAF-McQuay Canada Inc...\n",
       "Name: 1, dtype: object"
      ]
     },
     "execution_count": 27,
     "metadata": {},
     "output_type": "execute_result"
    }
   ],
   "source": [
    "data.head()"
   ]
  },
  {
   "cell_type": "code",
   "execution_count": 24,
   "metadata": {},
   "outputs": [
    {
     "data": {
      "text/html": [
       "<div>\n",
       "<style scoped>\n",
       "    .dataframe tbody tr th:only-of-type {\n",
       "        vertical-align: middle;\n",
       "    }\n",
       "\n",
       "    .dataframe tbody tr th {\n",
       "        vertical-align: top;\n",
       "    }\n",
       "\n",
       "    .dataframe thead th {\n",
       "        text-align: right;\n",
       "    }\n",
       "</style>\n",
       "<table border=\"1\" class=\"dataframe\">\n",
       "  <thead>\n",
       "    <tr style=\"text-align: right;\">\n",
       "      <th></th>\n",
       "      <th>1</th>\n",
       "    </tr>\n",
       "    <tr>\n",
       "      <th>0</th>\n",
       "      <th></th>\n",
       "    </tr>\n",
       "  </thead>\n",
       "  <tbody>\n",
       "    <tr>\n",
       "      <th>20368</th>\n",
       "      <td>affiliation</td>\n",
       "    </tr>\n",
       "    <tr>\n",
       "      <th>664102</th>\n",
       "      <td>weight</td>\n",
       "    </tr>\n",
       "    <tr>\n",
       "      <th>366813</th>\n",
       "      <td>jockey</td>\n",
       "    </tr>\n",
       "    <tr>\n",
       "      <th>530567</th>\n",
       "      <td>religion</td>\n",
       "    </tr>\n",
       "    <tr>\n",
       "      <th>176253</th>\n",
       "      <td>company</td>\n",
       "    </tr>\n",
       "  </tbody>\n",
       "</table>\n",
       "</div>"
      ],
      "text/plain": [
       "                  1\n",
       "0                  \n",
       "20368   affiliation\n",
       "664102       weight\n",
       "366813       jockey\n",
       "530567     religion\n",
       "176253      company"
      ]
     },
     "execution_count": 24,
     "metadata": {},
     "output_type": "execute_result"
    }
   ],
   "source": [
    "labs.head()"
   ]
  },
  {
   "cell_type": "markdown",
   "metadata": {},
   "source": [
    "### Extract features of raw data samples from dataframes and save preprocessed data"
   ]
  },
  {
   "cell_type": "code",
   "execution_count": 28,
   "metadata": {},
   "outputs": [
    {
     "data": {
      "text/plain": [
       "['Central Missouri',\n",
       " 'unattached',\n",
       " 'unattached',\n",
       " 'Kansas State University',\n",
       " 'unattached',\n",
       " 'North Dakota State',\n",
       " 'Nike']"
      ]
     },
     "execution_count": 28,
     "metadata": {},
     "output_type": "execute_result"
    }
   ],
   "source": [
    "data.values[0]"
   ]
  },
  {
   "cell_type": "code",
   "execution_count": 60,
   "metadata": {
    "scrolled": false
   },
   "outputs": [],
   "source": [
    "X_train = build_features(data.values)\n",
    "y_train = labs.values.flatten()\n",
    "print('Extracted features.')"
   ]
  },
  {
   "cell_type": "code",
   "execution_count": 56,
   "metadata": {},
   "outputs": [],
   "source": [
    "with open('../data/processed/X_train.data', 'wb') as f:\n",
    "    pickle.dump(X_train, f)\n",
    "    \n",
    "with open('../data/processed/y_train.data', 'wb') as f:\n",
    "    pickle.dump(y_train, f)"
   ]
  },
  {
   "cell_type": "code",
   "execution_count": 57,
   "metadata": {},
   "outputs": [],
   "source": [
    "with open('../data/processed/X_train.data', 'rb') as f:\n",
    "    X_train = pickle.load(f)\n",
    "    \n",
    "with open('../data/processed/y_train.data', 'rb') as f:\n",
    "    y_train = pickle.load(f)"
   ]
  },
  {
   "cell_type": "markdown",
   "metadata": {},
   "source": [
    "### Train sherlock on new data"
   ]
  },
  {
   "cell_type": "code",
   "execution_count": 53,
   "metadata": {},
   "outputs": [
    {
     "name": "stdout",
     "output_type": "stream",
     "text": [
      "Successfully loaded and compiled model, now fitting.\n",
      "Train on 1001 samples, validate on 1001 samples\n",
      "WARNING:tensorflow:From C:\\Users\\hulse504\\AppData\\Local\\Continuum\\anaconda3\\lib\\site-packages\\tensorflow\\python\\ops\\math_ops.py:3066: to_int32 (from tensorflow.python.ops.math_ops) is deprecated and will be removed in a future version.\n",
      "Instructions for updating:\n",
      "Use tf.cast instead.\n",
      "Epoch 1/100\n",
      "1001/1001 [==============================] - 3s 3ms/sample - loss: 4.8743 - categorical_accuracy: 0.0130 - val_loss: 4.8196 - val_categorical_accuracy: 0.0180\n",
      "Epoch 2/100\n",
      "1001/1001 [==============================] - 1s 717us/sample - loss: 4.8063 - categorical_accuracy: 0.0140 - val_loss: 4.6911 - val_categorical_accuracy: 0.0210\n",
      "Epoch 3/100\n",
      "1001/1001 [==============================] - 1s 587us/sample - loss: 4.6949 - categorical_accuracy: 0.0310 - val_loss: 4.6318 - val_categorical_accuracy: 0.0210\n",
      "Epoch 4/100\n",
      "1001/1001 [==============================] - 1s 593us/sample - loss: 4.6241 - categorical_accuracy: 0.0220 - val_loss: 4.5949 - val_categorical_accuracy: 0.0250\n",
      "Epoch 5/100\n",
      "1001/1001 [==============================] - 1s 588us/sample - loss: 4.5290 - categorical_accuracy: 0.0420 - val_loss: 4.5686 - val_categorical_accuracy: 0.0320\n",
      "Epoch 6/100\n",
      "1001/1001 [==============================] - 1s 606us/sample - loss: 4.4880 - categorical_accuracy: 0.0500 - val_loss: 4.5475 - val_categorical_accuracy: 0.0330\n",
      "Epoch 7/100\n",
      "1001/1001 [==============================] - 1s 597us/sample - loss: 4.3649 - categorical_accuracy: 0.0589 - val_loss: 4.5296 - val_categorical_accuracy: 0.0330\n",
      "Epoch 8/100\n",
      "1001/1001 [==============================] - 1s 672us/sample - loss: 4.3578 - categorical_accuracy: 0.0509 - val_loss: 4.5137 - val_categorical_accuracy: 0.0360\n",
      "Epoch 9/100\n",
      "1001/1001 [==============================] - 1s 613us/sample - loss: 4.2857 - categorical_accuracy: 0.0649 - val_loss: 4.4984 - val_categorical_accuracy: 0.0400\n",
      "Epoch 10/100\n",
      "1001/1001 [==============================] - 1s 578us/sample - loss: 4.2484 - categorical_accuracy: 0.0989 - val_loss: 4.4837 - val_categorical_accuracy: 0.0430\n",
      "Epoch 11/100\n",
      "1001/1001 [==============================] - 1s 588us/sample - loss: 4.1769 - categorical_accuracy: 0.1119 - val_loss: 4.4697 - val_categorical_accuracy: 0.0490\n",
      "Epoch 12/100\n",
      "1001/1001 [==============================] - 1s 652us/sample - loss: 4.1538 - categorical_accuracy: 0.1019 - val_loss: 4.4552 - val_categorical_accuracy: 0.0629\n",
      "Epoch 13/100\n",
      "1001/1001 [==============================] - 1s 617us/sample - loss: 4.1052 - categorical_accuracy: 0.1209 - val_loss: 4.4405 - val_categorical_accuracy: 0.0729\n",
      "Epoch 14/100\n",
      "1001/1001 [==============================] - 1s 650us/sample - loss: 4.0726 - categorical_accuracy: 0.1359 - val_loss: 4.4253 - val_categorical_accuracy: 0.0769\n",
      "Epoch 15/100\n",
      "1001/1001 [==============================] - 1s 611us/sample - loss: 4.0213 - categorical_accuracy: 0.1479 - val_loss: 4.4091 - val_categorical_accuracy: 0.0869\n",
      "Epoch 16/100\n",
      "1001/1001 [==============================] - 1s 603us/sample - loss: 3.9509 - categorical_accuracy: 0.1558 - val_loss: 4.3924 - val_categorical_accuracy: 0.0869\n",
      "Epoch 17/100\n",
      "1001/1001 [==============================] - 1s 628us/sample - loss: 3.9350 - categorical_accuracy: 0.1848 - val_loss: 4.3746 - val_categorical_accuracy: 0.0949\n",
      "Epoch 18/100\n",
      "1001/1001 [==============================] - 1s 579us/sample - loss: 3.8847 - categorical_accuracy: 0.1688 - val_loss: 4.3559 - val_categorical_accuracy: 0.0989\n",
      "Epoch 19/100\n",
      "1001/1001 [==============================] - 1s 591us/sample - loss: 3.8502 - categorical_accuracy: 0.1768 - val_loss: 4.3366 - val_categorical_accuracy: 0.1099\n",
      "Epoch 20/100\n",
      "1001/1001 [==============================] - 1s 815us/sample - loss: 3.8275 - categorical_accuracy: 0.1808 - val_loss: 4.3160 - val_categorical_accuracy: 0.1159\n",
      "Epoch 21/100\n",
      "1001/1001 [==============================] - 1s 591us/sample - loss: 3.7634 - categorical_accuracy: 0.2098 - val_loss: 4.2944 - val_categorical_accuracy: 0.1189\n",
      "Epoch 22/100\n",
      "1001/1001 [==============================] - 1s 596us/sample - loss: 3.7358 - categorical_accuracy: 0.2048 - val_loss: 4.2714 - val_categorical_accuracy: 0.1289\n",
      "Epoch 23/100\n",
      "1001/1001 [==============================] - 1s 618us/sample - loss: 3.6482 - categorical_accuracy: 0.2378 - val_loss: 4.2462 - val_categorical_accuracy: 0.1449\n",
      "Epoch 24/100\n",
      "1001/1001 [==============================] - 1s 586us/sample - loss: 3.6097 - categorical_accuracy: 0.2458 - val_loss: 4.2201 - val_categorical_accuracy: 0.1528\n",
      "Epoch 25/100\n",
      "1001/1001 [==============================] - 1s 585us/sample - loss: 3.5698 - categorical_accuracy: 0.2498 - val_loss: 4.1927 - val_categorical_accuracy: 0.1698\n",
      "Epoch 26/100\n",
      "1001/1001 [==============================] - 1s 630us/sample - loss: 3.5137 - categorical_accuracy: 0.2617 - val_loss: 4.1637 - val_categorical_accuracy: 0.1798\n",
      "Epoch 27/100\n",
      "1001/1001 [==============================] - 1s 579us/sample - loss: 3.4752 - categorical_accuracy: 0.2677 - val_loss: 4.1338 - val_categorical_accuracy: 0.1918\n",
      "Epoch 28/100\n",
      "1001/1001 [==============================] - 1s 678us/sample - loss: 3.4285 - categorical_accuracy: 0.2847 - val_loss: 4.1028 - val_categorical_accuracy: 0.1978\n",
      "Epoch 29/100\n",
      "1001/1001 [==============================] - 1s 733us/sample - loss: 3.3658 - categorical_accuracy: 0.3007 - val_loss: 4.0702 - val_categorical_accuracy: 0.2098\n",
      "Epoch 30/100\n",
      "1001/1001 [==============================] - 1s 616us/sample - loss: 3.3569 - categorical_accuracy: 0.2997 - val_loss: 4.0369 - val_categorical_accuracy: 0.2328\n",
      "Epoch 31/100\n",
      "1001/1001 [==============================] - 1s 648us/sample - loss: 3.2997 - categorical_accuracy: 0.3167 - val_loss: 4.0022 - val_categorical_accuracy: 0.2488\n",
      "Epoch 32/100\n",
      "1001/1001 [==============================] - 1s 637us/sample - loss: 3.2226 - categorical_accuracy: 0.3217 - val_loss: 3.9662 - val_categorical_accuracy: 0.2597\n",
      "Epoch 33/100\n",
      "1001/1001 [==============================] - 1s 743us/sample - loss: 3.1960 - categorical_accuracy: 0.3566 - val_loss: 3.9283 - val_categorical_accuracy: 0.2797\n",
      "Epoch 34/100\n",
      "1001/1001 [==============================] - 1s 658us/sample - loss: 3.1185 - categorical_accuracy: 0.3536 - val_loss: 3.8892 - val_categorical_accuracy: 0.2877\n",
      "Epoch 35/100\n",
      "1001/1001 [==============================] - 1s 908us/sample - loss: 3.0770 - categorical_accuracy: 0.3666 - val_loss: 3.8490 - val_categorical_accuracy: 0.3087\n",
      "Epoch 36/100\n",
      "1001/1001 [==============================] - 1s 882us/sample - loss: 3.0359 - categorical_accuracy: 0.3936 - val_loss: 3.8074 - val_categorical_accuracy: 0.3167\n",
      "Epoch 37/100\n",
      "1001/1001 [==============================] - 1s 699us/sample - loss: 3.0131 - categorical_accuracy: 0.3876 - val_loss: 3.7646 - val_categorical_accuracy: 0.3267\n",
      "Epoch 38/100\n",
      "1001/1001 [==============================] - 1s 711us/sample - loss: 2.9370 - categorical_accuracy: 0.3986 - val_loss: 3.7210 - val_categorical_accuracy: 0.3377\n",
      "Epoch 39/100\n",
      "1001/1001 [==============================] - 1s 727us/sample - loss: 2.8924 - categorical_accuracy: 0.4186 - val_loss: 3.6757 - val_categorical_accuracy: 0.3636\n",
      "Epoch 40/100\n",
      "1001/1001 [==============================] - 1s 831us/sample - loss: 2.8871 - categorical_accuracy: 0.4156 - val_loss: 3.6297 - val_categorical_accuracy: 0.3736\n",
      "Epoch 41/100\n",
      "1001/1001 [==============================] - 1s 747us/sample - loss: 2.8216 - categorical_accuracy: 0.4436 - val_loss: 3.5827 - val_categorical_accuracy: 0.3886\n",
      "Epoch 42/100\n",
      "1001/1001 [==============================] - 1s 680us/sample - loss: 2.7640 - categorical_accuracy: 0.4685 - val_loss: 3.5345 - val_categorical_accuracy: 0.4036\n",
      "Epoch 43/100\n",
      "1001/1001 [==============================] - 1s 726us/sample - loss: 2.7172 - categorical_accuracy: 0.4595 - val_loss: 3.4846 - val_categorical_accuracy: 0.4156\n",
      "Epoch 44/100\n",
      "1001/1001 [==============================] - 1s 704us/sample - loss: 2.6952 - categorical_accuracy: 0.4625 - val_loss: 3.4349 - val_categorical_accuracy: 0.4286\n",
      "Epoch 45/100\n",
      "1001/1001 [==============================] - 1s 682us/sample - loss: 2.6152 - categorical_accuracy: 0.5045 - val_loss: 3.3850 - val_categorical_accuracy: 0.4376\n"
     ]
    },
    {
     "name": "stdout",
     "output_type": "stream",
     "text": [
      "Epoch 46/100\n",
      "1001/1001 [==============================] - 1s 738us/sample - loss: 2.5997 - categorical_accuracy: 0.4875 - val_loss: 3.3346 - val_categorical_accuracy: 0.4486\n",
      "Epoch 47/100\n",
      "1001/1001 [==============================] - 1s 901us/sample - loss: 2.5520 - categorical_accuracy: 0.4925 - val_loss: 3.2833 - val_categorical_accuracy: 0.4595\n",
      "Epoch 48/100\n",
      "1001/1001 [==============================] - 1s 856us/sample - loss: 2.5012 - categorical_accuracy: 0.5295 - val_loss: 3.2319 - val_categorical_accuracy: 0.4755\n",
      "Epoch 49/100\n",
      "1001/1001 [==============================] - 1s 759us/sample - loss: 2.4333 - categorical_accuracy: 0.5395 - val_loss: 3.1805 - val_categorical_accuracy: 0.4835\n",
      "Epoch 50/100\n",
      "1001/1001 [==============================] - 1s 735us/sample - loss: 2.3844 - categorical_accuracy: 0.5445 - val_loss: 3.1280 - val_categorical_accuracy: 0.4935\n",
      "Epoch 51/100\n",
      "1001/1001 [==============================] - 1s 669us/sample - loss: 2.3656 - categorical_accuracy: 0.5455 - val_loss: 3.0747 - val_categorical_accuracy: 0.5025\n",
      "Epoch 52/100\n",
      "1001/1001 [==============================] - 1s 691us/sample - loss: 2.3072 - categorical_accuracy: 0.5664 - val_loss: 3.0201 - val_categorical_accuracy: 0.5075\n",
      "Epoch 53/100\n",
      "1001/1001 [==============================] - 1s 666us/sample - loss: 2.2545 - categorical_accuracy: 0.5844 - val_loss: 2.9664 - val_categorical_accuracy: 0.5155\n",
      "Epoch 54/100\n",
      "1001/1001 [==============================] - 1s 766us/sample - loss: 2.2460 - categorical_accuracy: 0.5844 - val_loss: 2.9135 - val_categorical_accuracy: 0.5325\n",
      "Epoch 55/100\n",
      "1001/1001 [==============================] - 1s 688us/sample - loss: 2.1627 - categorical_accuracy: 0.6094 - val_loss: 2.8592 - val_categorical_accuracy: 0.5465\n",
      "Epoch 56/100\n",
      "1001/1001 [==============================] - 1s 648us/sample - loss: 2.1241 - categorical_accuracy: 0.6224 - val_loss: 2.8051 - val_categorical_accuracy: 0.5614\n",
      "Epoch 57/100\n",
      "1001/1001 [==============================] - 1s 773us/sample - loss: 2.0667 - categorical_accuracy: 0.6394 - val_loss: 2.7508 - val_categorical_accuracy: 0.5744\n",
      "Epoch 58/100\n",
      "1001/1001 [==============================] - 1s 711us/sample - loss: 2.0261 - categorical_accuracy: 0.6464 - val_loss: 2.6958 - val_categorical_accuracy: 0.5824\n",
      "Epoch 59/100\n",
      "1001/1001 [==============================] - 1s 719us/sample - loss: 1.9896 - categorical_accuracy: 0.6434 - val_loss: 2.6422 - val_categorical_accuracy: 0.5904\n",
      "Epoch 60/100\n",
      "1001/1001 [==============================] - 1s 715us/sample - loss: 1.9712 - categorical_accuracy: 0.6464 - val_loss: 2.5906 - val_categorical_accuracy: 0.5934\n",
      "Epoch 61/100\n",
      "1001/1001 [==============================] - 1s 734us/sample - loss: 1.8831 - categorical_accuracy: 0.6933 - val_loss: 2.5383 - val_categorical_accuracy: 0.5974\n",
      "Epoch 62/100\n",
      "1001/1001 [==============================] - 1s 898us/sample - loss: 1.8833 - categorical_accuracy: 0.6663 - val_loss: 2.4866 - val_categorical_accuracy: 0.6104\n",
      "Epoch 63/100\n",
      "1001/1001 [==============================] - 1s 674us/sample - loss: 1.7996 - categorical_accuracy: 0.7163 - val_loss: 2.4343 - val_categorical_accuracy: 0.6254\n",
      "Epoch 64/100\n",
      "1001/1001 [==============================] - 1s 703us/sample - loss: 1.7284 - categorical_accuracy: 0.7143 - val_loss: 2.3823 - val_categorical_accuracy: 0.6354\n",
      "Epoch 65/100\n",
      "1001/1001 [==============================] - 1s 760us/sample - loss: 1.7313 - categorical_accuracy: 0.7193 - val_loss: 2.3309 - val_categorical_accuracy: 0.6414\n",
      "Epoch 66/100\n",
      "1001/1001 [==============================] - 1s 889us/sample - loss: 1.6805 - categorical_accuracy: 0.7323 - val_loss: 2.2811 - val_categorical_accuracy: 0.6533\n",
      "Epoch 67/100\n",
      "1001/1001 [==============================] - 1s 794us/sample - loss: 1.6451 - categorical_accuracy: 0.7273 - val_loss: 2.2325 - val_categorical_accuracy: 0.6563\n",
      "Epoch 68/100\n",
      "1001/1001 [==============================] - 1s 759us/sample - loss: 1.6003 - categorical_accuracy: 0.7562 - val_loss: 2.1861 - val_categorical_accuracy: 0.6643\n",
      "Epoch 69/100\n",
      "1001/1001 [==============================] - 1s 739us/sample - loss: 1.5725 - categorical_accuracy: 0.7742 - val_loss: 2.1399 - val_categorical_accuracy: 0.6693\n",
      "Epoch 70/100\n",
      "1001/1001 [==============================] - 1s 746us/sample - loss: 1.5386 - categorical_accuracy: 0.7632 - val_loss: 2.0934 - val_categorical_accuracy: 0.6743\n",
      "Epoch 71/100\n",
      "1001/1001 [==============================] - 1s 714us/sample - loss: 1.4781 - categorical_accuracy: 0.7822 - val_loss: 2.0471 - val_categorical_accuracy: 0.6813\n",
      "Epoch 72/100\n",
      "1001/1001 [==============================] - 1s 728us/sample - loss: 1.4560 - categorical_accuracy: 0.7732 - val_loss: 2.0033 - val_categorical_accuracy: 0.6863\n",
      "Epoch 73/100\n",
      "1001/1001 [==============================] - 1s 629us/sample - loss: 1.4054 - categorical_accuracy: 0.8112 - val_loss: 1.9623 - val_categorical_accuracy: 0.6863\n",
      "Epoch 74/100\n",
      "1001/1001 [==============================] - 1s 753us/sample - loss: 1.4067 - categorical_accuracy: 0.7932 - val_loss: 1.9208 - val_categorical_accuracy: 0.6993\n",
      "Epoch 75/100\n",
      "1001/1001 [==============================] - 1s 688us/sample - loss: 1.3110 - categorical_accuracy: 0.8142 - val_loss: 1.8817 - val_categorical_accuracy: 0.7063\n",
      "Epoch 76/100\n",
      "1001/1001 [==============================] - 1s 676us/sample - loss: 1.3060 - categorical_accuracy: 0.8322 - val_loss: 1.8431 - val_categorical_accuracy: 0.7123\n",
      "Epoch 77/100\n",
      "1001/1001 [==============================] - 1s 661us/sample - loss: 1.2615 - categorical_accuracy: 0.8312 - val_loss: 1.8061 - val_categorical_accuracy: 0.7173\n",
      "Epoch 78/100\n",
      "1001/1001 [==============================] - 1s 707us/sample - loss: 1.2791 - categorical_accuracy: 0.8142 - val_loss: 1.7715 - val_categorical_accuracy: 0.7203\n",
      "Epoch 79/100\n",
      "1001/1001 [==============================] - 1s 692us/sample - loss: 1.2117 - categorical_accuracy: 0.8442 - val_loss: 1.7375 - val_categorical_accuracy: 0.7223\n",
      "Epoch 80/100\n",
      "1001/1001 [==============================] - 1s 682us/sample - loss: 1.1791 - categorical_accuracy: 0.8492 - val_loss: 1.7050 - val_categorical_accuracy: 0.7283\n",
      "Epoch 81/100\n",
      "1001/1001 [==============================] - 1s 808us/sample - loss: 1.1322 - categorical_accuracy: 0.8551 - val_loss: 1.6718 - val_categorical_accuracy: 0.7363\n",
      "Epoch 82/100\n",
      "1001/1001 [==============================] - 1s 723us/sample - loss: 1.1368 - categorical_accuracy: 0.8621 - val_loss: 1.6400 - val_categorical_accuracy: 0.7403\n",
      "Epoch 83/100\n",
      "1001/1001 [==============================] - 1s 766us/sample - loss: 1.0727 - categorical_accuracy: 0.8901 - val_loss: 1.6112 - val_categorical_accuracy: 0.7493\n",
      "Epoch 84/100\n",
      "1001/1001 [==============================] - 1s 712us/sample - loss: 1.0791 - categorical_accuracy: 0.8731 - val_loss: 1.5819 - val_categorical_accuracy: 0.7562\n",
      "Epoch 85/100\n",
      "1001/1001 [==============================] - 1s 706us/sample - loss: 1.0400 - categorical_accuracy: 0.8871 - val_loss: 1.5523 - val_categorical_accuracy: 0.7592\n",
      "Epoch 86/100\n",
      "1001/1001 [==============================] - 1s 714us/sample - loss: 1.0070 - categorical_accuracy: 0.8721 - val_loss: 1.5247 - val_categorical_accuracy: 0.7632\n",
      "Epoch 87/100\n",
      "1001/1001 [==============================] - 1s 705us/sample - loss: 0.9857 - categorical_accuracy: 0.8941 - val_loss: 1.4984 - val_categorical_accuracy: 0.7652\n",
      "Epoch 88/100\n",
      "1001/1001 [==============================] - 1s 728us/sample - loss: 0.9450 - categorical_accuracy: 0.9101 - val_loss: 1.4724 - val_categorical_accuracy: 0.7672\n",
      "Epoch 89/100\n",
      "1001/1001 [==============================] - 1s 749us/sample - loss: 0.9179 - categorical_accuracy: 0.9051 - val_loss: 1.4479 - val_categorical_accuracy: 0.7702\n",
      "Epoch 90/100\n",
      "1001/1001 [==============================] - 1s 656us/sample - loss: 0.9161 - categorical_accuracy: 0.9031 - val_loss: 1.4249 - val_categorical_accuracy: 0.7722\n",
      "Epoch 91/100\n",
      "1001/1001 [==============================] - 1s 674us/sample - loss: 0.8984 - categorical_accuracy: 0.9151 - val_loss: 1.4032 - val_categorical_accuracy: 0.7822\n",
      "Epoch 92/100\n",
      "1001/1001 [==============================] - 1s 704us/sample - loss: 0.8722 - categorical_accuracy: 0.9251 - val_loss: 1.3814 - val_categorical_accuracy: 0.7802\n",
      "Epoch 93/100\n",
      "1001/1001 [==============================] - 1s 765us/sample - loss: 0.8240 - categorical_accuracy: 0.9301 - val_loss: 1.3583 - val_categorical_accuracy: 0.7862\n",
      "Epoch 94/100\n",
      "1001/1001 [==============================] - 1s 742us/sample - loss: 0.8098 - categorical_accuracy: 0.9301 - val_loss: 1.3359 - val_categorical_accuracy: 0.7902\n",
      "Epoch 95/100\n",
      "1001/1001 [==============================] - 1s 720us/sample - loss: 0.7976 - categorical_accuracy: 0.9321 - val_loss: 1.3142 - val_categorical_accuracy: 0.7942\n",
      "Epoch 96/100\n",
      "1001/1001 [==============================] - 1s 765us/sample - loss: 0.7852 - categorical_accuracy: 0.9331 - val_loss: 1.2920 - val_categorical_accuracy: 0.8032\n",
      "Epoch 97/100\n",
      "1001/1001 [==============================] - 1s 672us/sample - loss: 0.7788 - categorical_accuracy: 0.9291 - val_loss: 1.2722 - val_categorical_accuracy: 0.8082\n",
      "Epoch 98/100\n",
      "1001/1001 [==============================] - 1s 779us/sample - loss: 0.7299 - categorical_accuracy: 0.9510 - val_loss: 1.2541 - val_categorical_accuracy: 0.8082\n",
      "Epoch 99/100\n",
      "1001/1001 [==============================] - 1s 703us/sample - loss: 0.7240 - categorical_accuracy: 0.9451 - val_loss: 1.2374 - val_categorical_accuracy: 0.8052\n",
      "Epoch 100/100\n",
      "1001/1001 [==============================] - 1s 706us/sample - loss: 0.7119 - categorical_accuracy: 0.9481 - val_loss: 1.2216 - val_categorical_accuracy: 0.8062\n",
      "Retrained Sherlock.\n",
      "Trained new model.\n"
     ]
    }
   ],
   "source": [
    "# For simplicity provide X_train as validation set.\n",
    "train_sherlock(X_train, y_train, X_train, y_train, 'retrain_minimal_sample') \n",
    "print('Trained new model.')"
   ]
  },
  {
   "cell_type": "markdown",
   "metadata": {},
   "source": [
    "### Generate predictions with the retrained model"
   ]
  },
  {
   "cell_type": "code",
   "execution_count": 58,
   "metadata": {},
   "outputs": [
    {
     "name": "stdout",
     "output_type": "stream",
     "text": [
      "Predicted labels:  ['team' 'weight' 'jockey' ... 'company' 'plays' 'jockey'] true labels:  ['affiliation' 'weight' 'jockey' ... 'company' 'plays' 'continent']\n"
     ]
    }
   ],
   "source": [
    "# Predict labels using the retrained model (with nn_id retrain_minimal_sample)\n",
    "predicted_labels = predict_sherlock(X_train, 'retrain_minimal_sample')\n",
    "print('Predicted labels: ', predicted_labels, 'true labels: ', y_train)"
   ]
  },
  {
   "cell_type": "code",
   "execution_count": 59,
   "metadata": {
    "scrolled": true
   },
   "outputs": [
    {
     "data": {
      "text/plain": [
       "0.8086928777494169"
      ]
     },
     "execution_count": 59,
     "metadata": {},
     "output_type": "execute_result"
    }
   ],
   "source": [
    "f1_score(y_train, predicted_labels, average='weighted')"
   ]
  },
  {
   "cell_type": "code",
   "execution_count": null,
   "metadata": {},
   "outputs": [],
   "source": []
  },
  {
   "cell_type": "code",
   "execution_count": null,
   "metadata": {},
   "outputs": [],
   "source": []
  }
 ],
 "metadata": {
  "kernelspec": {
   "display_name": "Python 3",
   "language": "python",
   "name": "python3"
  },
  "language_info": {
   "codemirror_mode": {
    "name": "ipython",
    "version": 3
   },
   "file_extension": ".py",
   "mimetype": "text/x-python",
   "name": "python",
   "nbconvert_exporter": "python",
   "pygments_lexer": "ipython3",
   "version": "3.6.7"
  }
 },
 "nbformat": 4,
 "nbformat_minor": 2
}
