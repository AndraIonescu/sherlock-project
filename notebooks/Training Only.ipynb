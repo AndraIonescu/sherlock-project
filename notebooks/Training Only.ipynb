{
 "cells": [
  {
   "cell_type": "code",
   "execution_count": 1,
   "metadata": {
    "scrolled": true
   },
   "outputs": [],
   "source": [
    "%load_ext autoreload\n",
    "%autoreload 2"
   ]
  },
  {
   "cell_type": "code",
   "execution_count": 2,
   "metadata": {},
   "outputs": [],
   "source": [
    "nn_model_id = 'retrained_sherlock'"
   ]
  },
  {
   "cell_type": "code",
   "execution_count": 3,
   "metadata": {},
   "outputs": [],
   "source": [
    "import pandas as pd\n",
    "import numpy as np\n",
    "\n",
    "from sherlock.deploy.train_sherlock import train_sherlock\n",
    "from sherlock.deploy.predict_sherlock import predict_sherlock\n",
    "from datetime import datetime\n",
    "from sklearn.metrics import f1_score, classification_report"
   ]
  },
  {
   "cell_type": "markdown",
   "metadata": {},
   "source": [
    "### Load training and validation sets"
   ]
  },
  {
   "cell_type": "code",
   "execution_count": 4,
   "metadata": {},
   "outputs": [
    {
     "name": "stdout",
     "output_type": "stream",
     "text": [
      "Started at 2022-02-02 08:00:37.888869\n",
      "Load data (train) process took 0:00:03.905857 seconds.\n"
     ]
    }
   ],
   "source": [
    "start = datetime.now()\n",
    "print(f'Started at {start}')\n",
    "\n",
    "X_train = pd.read_parquet('train.parquet')\n",
    "y_train = pd.read_parquet('../data/raw/train_labels.parquet').values.flatten()\n",
    "\n",
    "y_train = np.array([x.lower() for x in y_train])\n",
    "\n",
    "print(f'Load data (train) process took {datetime.now() - start} seconds.')"
   ]
  },
  {
   "cell_type": "code",
   "execution_count": 5,
   "metadata": {},
   "outputs": [
    {
     "name": "stdout",
     "output_type": "stream",
     "text": [
      "Distinct types for columns in the Dataframe (should be all float32):\n",
      "{dtype('float32')}\n"
     ]
    }
   ],
   "source": [
    "print('Distinct types for columns in the Dataframe (should be all float32):')\n",
    "print(set(X_train.dtypes))"
   ]
  },
  {
   "cell_type": "code",
   "execution_count": 6,
   "metadata": {},
   "outputs": [
    {
     "name": "stdout",
     "output_type": "stream",
     "text": [
      "Started at 2022-02-02 08:00:42.057951\n",
      "Load data (validation) process took 0:00:02.116012 seconds.\n"
     ]
    }
   ],
   "source": [
    "start = datetime.now()\n",
    "print(f'Started at {start}')\n",
    "\n",
    "X_validation = pd.read_parquet('validation.parquet')\n",
    "y_validation = pd.read_parquet('../data/raw/val_labels.parquet').values.flatten()\n",
    "\n",
    "y_validation = np.array([x.lower() for x in y_validation])\n",
    "\n",
    "print(f'Load data (validation) process took {datetime.now() - start} seconds.')"
   ]
  },
  {
   "cell_type": "markdown",
   "metadata": {},
   "source": [
    "### Re-train Sherlock"
   ]
  },
  {
   "cell_type": "code",
   "execution_count": 7,
   "metadata": {},
   "outputs": [
    {
     "name": "stdout",
     "output_type": "stream",
     "text": [
      "Started at 2022-02-02 08:00:44.243257\n"
     ]
    },
    {
     "name": "stderr",
     "output_type": "stream",
     "text": [
      "WARNING: Logging before flag parsing goes to stderr.\n",
      "W0202 08:00:44.731168 4681420288 deprecation.py:506] From /Users/lowecg/source/private-github/sherlock-project-1/venv/lib/python3.7/site-packages/tensorflow_core/python/ops/init_ops.py:97: calling Zeros.__init__ (from tensorflow.python.ops.init_ops) with dtype is deprecated and will be removed in a future version.\n",
      "Instructions for updating:\n",
      "Call initializer instance with the dtype argument instead of passing it to the constructor\n",
      "W0202 08:00:44.732186 4681420288 deprecation.py:506] From /Users/lowecg/source/private-github/sherlock-project-1/venv/lib/python3.7/site-packages/tensorflow_core/python/ops/init_ops.py:97: calling Ones.__init__ (from tensorflow.python.ops.init_ops) with dtype is deprecated and will be removed in a future version.\n",
      "Instructions for updating:\n",
      "Call initializer instance with the dtype argument instead of passing it to the constructor\n",
      "W0202 08:00:44.735765 4681420288 deprecation.py:506] From /Users/lowecg/source/private-github/sherlock-project-1/venv/lib/python3.7/site-packages/tensorflow_core/python/ops/init_ops.py:97: calling VarianceScaling.__init__ (from tensorflow.python.ops.init_ops) with dtype is deprecated and will be removed in a future version.\n",
      "Instructions for updating:\n",
      "Call initializer instance with the dtype argument instead of passing it to the constructor\n",
      "W0202 08:00:44.755919 4681420288 deprecation.py:506] From /Users/lowecg/source/private-github/sherlock-project-1/venv/lib/python3.7/site-packages/tensorflow_core/python/ops/resource_variable_ops.py:1630: calling BaseResourceVariable.__init__ (from tensorflow.python.ops.resource_variable_ops) with constraint is deprecated and will be removed in a future version.\n",
      "Instructions for updating:\n",
      "If using Keras pass *_constraint arguments to layers.\n"
     ]
    },
    {
     "name": "stdout",
     "output_type": "stream",
     "text": [
      "Successfully loaded and compiled model, now fitting model on data.\n",
      "Train on 412059 samples, validate on 137353 samples\n"
     ]
    },
    {
     "name": "stderr",
     "output_type": "stream",
     "text": [
      "2022-02-02 08:00:48.532503: I tensorflow/core/platform/cpu_feature_guard.cc:142] Your CPU supports instructions that this TensorFlow binary was not compiled to use: AVX2 FMA\n",
      "2022-02-02 08:00:48.578998: I tensorflow/compiler/xla/service/service.cc:168] XLA service 0x7f8719f5eb30 initialized for platform Host (this does not guarantee that XLA will be used). Devices:\n",
      "2022-02-02 08:00:48.579013: I tensorflow/compiler/xla/service/service.cc:176]   StreamExecutor device (0): Host, Default Version\n"
     ]
    },
    {
     "name": "stdout",
     "output_type": "stream",
     "text": [
      "Epoch 1/100\n",
      "412059/412059 [==============================] - 73s 177us/sample - loss: 1.6083 - categorical_accuracy: 0.6984 - val_loss: 1.0403 - val_categorical_accuracy: 0.8288\n",
      "Epoch 2/100\n",
      "412059/412059 [==============================] - 71s 173us/sample - loss: 0.9588 - categorical_accuracy: 0.8374 - val_loss: 0.9345 - val_categorical_accuracy: 0.8509\n",
      "Epoch 3/100\n",
      "412059/412059 [==============================] - 71s 172us/sample - loss: 0.8489 - categorical_accuracy: 0.8599 - val_loss: 0.8893 - val_categorical_accuracy: 0.8602\n",
      "Epoch 4/100\n",
      "412059/412059 [==============================] - 68s 164us/sample - loss: 0.7844 - categorical_accuracy: 0.8717 - val_loss: 0.8583 - val_categorical_accuracy: 0.8627\n",
      "Epoch 5/100\n",
      "412059/412059 [==============================] - 68s 165us/sample - loss: 0.7365 - categorical_accuracy: 0.8800 - val_loss: 0.8234 - val_categorical_accuracy: 0.8679\n",
      "Epoch 6/100\n",
      "412059/412059 [==============================] - 69s 166us/sample - loss: 0.6979 - categorical_accuracy: 0.8851 - val_loss: 0.8042 - val_categorical_accuracy: 0.8700\n",
      "Epoch 7/100\n",
      "412059/412059 [==============================] - 69s 167us/sample - loss: 0.6655 - categorical_accuracy: 0.8900 - val_loss: 0.7883 - val_categorical_accuracy: 0.8727\n",
      "Epoch 8/100\n",
      "412059/412059 [==============================] - 69s 167us/sample - loss: 0.6385 - categorical_accuracy: 0.8939 - val_loss: 0.7662 - val_categorical_accuracy: 0.8752\n",
      "Epoch 9/100\n",
      "412059/412059 [==============================] - 70s 169us/sample - loss: 0.6134 - categorical_accuracy: 0.8970 - val_loss: 0.7531 - val_categorical_accuracy: 0.8767\n",
      "Epoch 10/100\n",
      "412059/412059 [==============================] - 69s 168us/sample - loss: 0.5913 - categorical_accuracy: 0.9005 - val_loss: 0.7384 - val_categorical_accuracy: 0.8778\n",
      "Epoch 11/100\n",
      "412059/412059 [==============================] - 70s 169us/sample - loss: 0.5713 - categorical_accuracy: 0.9027 - val_loss: 0.7237 - val_categorical_accuracy: 0.8795\n",
      "Epoch 12/100\n",
      "412059/412059 [==============================] - 68s 166us/sample - loss: 0.5532 - categorical_accuracy: 0.9051 - val_loss: 0.7152 - val_categorical_accuracy: 0.8801\n",
      "Epoch 13/100\n",
      "412059/412059 [==============================] - 68s 166us/sample - loss: 0.5356 - categorical_accuracy: 0.9072 - val_loss: 0.7064 - val_categorical_accuracy: 0.8814\n",
      "Epoch 14/100\n",
      "412059/412059 [==============================] - 74s 179us/sample - loss: 0.5211 - categorical_accuracy: 0.9091 - val_loss: 0.6925 - val_categorical_accuracy: 0.8831\n",
      "Epoch 15/100\n",
      "412059/412059 [==============================] - 75s 182us/sample - loss: 0.5074 - categorical_accuracy: 0.9109 - val_loss: 0.6873 - val_categorical_accuracy: 0.8830\n",
      "Epoch 16/100\n",
      "412059/412059 [==============================] - 75s 182us/sample - loss: 0.4934 - categorical_accuracy: 0.9129 - val_loss: 0.6795 - val_categorical_accuracy: 0.8845\n",
      "Epoch 17/100\n",
      "412059/412059 [==============================] - 75s 183us/sample - loss: 0.4817 - categorical_accuracy: 0.9142 - val_loss: 0.6740 - val_categorical_accuracy: 0.8848\n",
      "Epoch 18/100\n",
      "412059/412059 [==============================] - 75s 181us/sample - loss: 0.4704 - categorical_accuracy: 0.9159 - val_loss: 0.6647 - val_categorical_accuracy: 0.8852\n",
      "Epoch 19/100\n",
      "412059/412059 [==============================] - 75s 183us/sample - loss: 0.4588 - categorical_accuracy: 0.9174 - val_loss: 0.6638 - val_categorical_accuracy: 0.8864\n",
      "Epoch 20/100\n",
      "412059/412059 [==============================] - 76s 185us/sample - loss: 0.4485 - categorical_accuracy: 0.9187 - val_loss: 0.6614 - val_categorical_accuracy: 0.8864\n",
      "Epoch 21/100\n",
      "412059/412059 [==============================] - 75s 183us/sample - loss: 0.4403 - categorical_accuracy: 0.9196 - val_loss: 0.6558 - val_categorical_accuracy: 0.8877\n",
      "Epoch 22/100\n",
      "412059/412059 [==============================] - 74s 180us/sample - loss: 0.4318 - categorical_accuracy: 0.9210 - val_loss: 0.6491 - val_categorical_accuracy: 0.8869\n",
      "Epoch 23/100\n",
      "412059/412059 [==============================] - 74s 180us/sample - loss: 0.4240 - categorical_accuracy: 0.9222 - val_loss: 0.6512 - val_categorical_accuracy: 0.8886\n",
      "Epoch 24/100\n",
      "412059/412059 [==============================] - 74s 179us/sample - loss: 0.4164 - categorical_accuracy: 0.9224 - val_loss: 0.6395 - val_categorical_accuracy: 0.8890\n",
      "Epoch 25/100\n",
      "412059/412059 [==============================] - 68s 166us/sample - loss: 0.4089 - categorical_accuracy: 0.9238 - val_loss: 0.6417 - val_categorical_accuracy: 0.8900\n",
      "Epoch 26/100\n",
      "412059/412059 [==============================] - 69s 166us/sample - loss: 0.4019 - categorical_accuracy: 0.9249 - val_loss: 0.6333 - val_categorical_accuracy: 0.8892\n",
      "Epoch 27/100\n",
      "412059/412059 [==============================] - 68s 164us/sample - loss: 0.3960 - categorical_accuracy: 0.9256 - val_loss: 0.6302 - val_categorical_accuracy: 0.8900\n",
      "Epoch 28/100\n",
      "412059/412059 [==============================] - 69s 167us/sample - loss: 0.3906 - categorical_accuracy: 0.9269 - val_loss: 0.6336 - val_categorical_accuracy: 0.8899\n",
      "Epoch 29/100\n",
      "412059/412059 [==============================] - 69s 169us/sample - loss: 0.3845 - categorical_accuracy: 0.9274 - val_loss: 0.6271 - val_categorical_accuracy: 0.8899\n",
      "Epoch 30/100\n",
      "412059/412059 [==============================] - 69s 167us/sample - loss: 0.3789 - categorical_accuracy: 0.9286 - val_loss: 0.6302 - val_categorical_accuracy: 0.8913\n",
      "Epoch 31/100\n",
      "412059/412059 [==============================] - 69s 168us/sample - loss: 0.3728 - categorical_accuracy: 0.9294 - val_loss: 0.6284 - val_categorical_accuracy: 0.8916\n",
      "Epoch 32/100\n",
      "412059/412059 [==============================] - 69s 169us/sample - loss: 0.3694 - categorical_accuracy: 0.9300 - val_loss: 0.6252 - val_categorical_accuracy: 0.8895\n",
      "Epoch 33/100\n",
      "412059/412059 [==============================] - 70s 171us/sample - loss: 0.3640 - categorical_accuracy: 0.9308 - val_loss: 0.6312 - val_categorical_accuracy: 0.8912\n",
      "Epoch 34/100\n",
      "412059/412059 [==============================] - 74s 179us/sample - loss: 0.3593 - categorical_accuracy: 0.9317 - val_loss: 0.6256 - val_categorical_accuracy: 0.8910\n",
      "Epoch 35/100\n",
      "412059/412059 [==============================] - 75s 182us/sample - loss: 0.3564 - categorical_accuracy: 0.9322 - val_loss: 0.6217 - val_categorical_accuracy: 0.8919\n",
      "Epoch 36/100\n",
      "412059/412059 [==============================] - 76s 184us/sample - loss: 0.3531 - categorical_accuracy: 0.9329 - val_loss: 0.6164 - val_categorical_accuracy: 0.8923\n",
      "Epoch 37/100\n",
      "412059/412059 [==============================] - 75s 182us/sample - loss: 0.3489 - categorical_accuracy: 0.9336 - val_loss: 0.6135 - val_categorical_accuracy: 0.8926\n",
      "Epoch 38/100\n",
      "412059/412059 [==============================] - 75s 183us/sample - loss: 0.3458 - categorical_accuracy: 0.9336 - val_loss: 0.6212 - val_categorical_accuracy: 0.8918\n",
      "Epoch 39/100\n",
      "412059/412059 [==============================] - 75s 183us/sample - loss: 0.3437 - categorical_accuracy: 0.9339 - val_loss: 0.6223 - val_categorical_accuracy: 0.8925\n",
      "Epoch 40/100\n",
      "412059/412059 [==============================] - 73s 178us/sample - loss: 0.3402 - categorical_accuracy: 0.9346 - val_loss: 0.6218 - val_categorical_accuracy: 0.8927\n",
      "Epoch 41/100\n",
      "412059/412059 [==============================] - 76s 183us/sample - loss: 0.3371 - categorical_accuracy: 0.9351 - val_loss: 0.6235 - val_categorical_accuracy: 0.8921\n",
      "Epoch 42/100\n",
      "412059/412059 [==============================] - 74s 180us/sample - loss: 0.3347 - categorical_accuracy: 0.9353 - val_loss: 0.6151 - val_categorical_accuracy: 0.8926\n",
      "Retrained Sherlock.\n",
      "Trained and saved new model.\n",
      "Finished at 2022-02-02 08:51:09.267069, took 0:50:25.023829 seconds\n"
     ]
    }
   ],
   "source": [
    "start = datetime.now()\n",
    "print(f'Started at {start}')\n",
    "\n",
    "train_sherlock(X_train, y_train, X_validation, y_validation, nn_id=nn_model_id);\n",
    "\n",
    "print('Trained and saved new model.')\n",
    "print(f'Finished at {datetime.now()}, took {datetime.now() - start} seconds')"
   ]
  },
  {
   "cell_type": "markdown",
   "metadata": {},
   "source": [
    "### Load test set"
   ]
  },
  {
   "cell_type": "code",
   "execution_count": 8,
   "metadata": {},
   "outputs": [
    {
     "name": "stdout",
     "output_type": "stream",
     "text": [
      "Started at 2022-02-02 08:51:09.332895\n",
      "Trained and saved new model.\n",
      "Finished at 2022-02-02 08:51:11.300138, took 0:00:01.967257 seconds\n"
     ]
    }
   ],
   "source": [
    "start = datetime.now()\n",
    "print(f'Started at {start}')\n",
    "\n",
    "X_test = pd.read_parquet('test.parquet')\n",
    "y_test = pd.read_parquet('../data/raw/test_labels.parquet').values.flatten()\n",
    "\n",
    "y_test = np.array([x.lower() for x in y_test])\n",
    "\n",
    "print('Trained and saved new model.')\n",
    "print(f'Finished at {datetime.now()}, took {datetime.now() - start} seconds')"
   ]
  },
  {
   "cell_type": "markdown",
   "metadata": {},
   "source": [
    "### Make prediction"
   ]
  },
  {
   "cell_type": "code",
   "execution_count": 9,
   "metadata": {},
   "outputs": [],
   "source": [
    "predicted_labels = predict_sherlock(X_test, nn_id=nn_model_id)"
   ]
  },
  {
   "cell_type": "code",
   "execution_count": 10,
   "metadata": {},
   "outputs": [
    {
     "name": "stdout",
     "output_type": "stream",
     "text": [
      "prediction count 137353, type = <class 'numpy.ndarray'>\n"
     ]
    },
    {
     "data": {
      "text/plain": [
       "0.8929132610917137"
      ]
     },
     "execution_count": 10,
     "metadata": {},
     "output_type": "execute_result"
    }
   ],
   "source": [
    "print(f'prediction count {len(predicted_labels)}, type = {type(predicted_labels)}')\n",
    "\n",
    "size=len(y_test)\n",
    "\n",
    "# Should be fully deterministic too.\n",
    "f1_score(y_test[:size], predicted_labels[:size], average=\"weighted\")"
   ]
  },
  {
   "cell_type": "code",
   "execution_count": 11,
   "metadata": {},
   "outputs": [],
   "source": [
    "# Best results\n",
    "# 0.8956975031011328, adam optimiser, took 0:59:19.320310 seconds (retrained_sherlock8)\n",
    "\n",
    "# 0.8871638630500646, SGD Nesterov optimiser,  took 1:37:09.679227 seconds (retrained_sherlock9)\n",
    "\n",
    "# LAST\n",
    "# 0.8941992181577104\n",
    "# 0.8661276466591463\n",
    "# 0.8765360861865846\n",
    "# 0.8777825108666634\n",
    "# 0.8709458033528152\n",
    "# 0.8526528126158138\n",
    "# 0.836800124917518\n",
    "# 0.8590214693450329\n",
    "# 0.8583626471084315"
   ]
  },
  {
   "cell_type": "code",
   "execution_count": 12,
   "metadata": {},
   "outputs": [],
   "source": [
    "classes = np.load(f\"../sherlock/deploy/classes_{nn_model_id}.npy\", allow_pickle=True)\n",
    "\n",
    "report = classification_report(y_test, predicted_labels, output_dict=True)\n",
    "\n",
    "class_scores = list(filter(lambda x: isinstance(x, tuple) and isinstance(x[1], dict) and 'f1-score' in x[1] and x[0] in classes, list(report.items())))\n",
    "\n",
    "class_scores = sorted(class_scores, key=lambda item: item[1]['f1-score'], reverse=True)"
   ]
  },
  {
   "cell_type": "markdown",
   "metadata": {},
   "source": [
    "### Top 5 Types"
   ]
  },
  {
   "cell_type": "code",
   "execution_count": 13,
   "metadata": {},
   "outputs": [
    {
     "name": "stdout",
     "output_type": "stream",
     "text": [
      "\t\tf1-score\tprecision\trecall\t\tsupport\n",
      "grades\t\t0.992\t\t0.990\t\t0.994\t\t1765\n",
      "isbn\t\t0.989\t\t0.987\t\t0.991\t\t1430\n",
      "jockey\t\t0.987\t\t0.984\t\t0.989\t\t2819\n",
      "industry\t0.982\t\t0.978\t\t0.986\t\t2958\n",
      "currency\t0.976\t\t0.987\t\t0.965\t\t405\n"
     ]
    }
   ],
   "source": [
    "print(f\"\\t\\tf1-score\\tprecision\\trecall\\t\\tsupport\")\n",
    "\n",
    "for key, value in class_scores[0:5]:\n",
    "    if len(key) >= 8:\n",
    "        tabs = '\\t' * 1\n",
    "    else:\n",
    "        tabs = '\\t' * 2\n",
    "\n",
    "    print(f\"{key}{tabs}{value['f1-score']:.3f}\\t\\t{value['precision']:.3f}\\t\\t{value['recall']:.3f}\\t\\t{value['support']}\")"
   ]
  },
  {
   "cell_type": "markdown",
   "metadata": {},
   "source": [
    "### Bottom 5 Types"
   ]
  },
  {
   "cell_type": "code",
   "execution_count": 14,
   "metadata": {
    "scrolled": true
   },
   "outputs": [
    {
     "name": "stdout",
     "output_type": "stream",
     "text": [
      "\t\tf1-score\tprecision\trecall\t\tsupport\n",
      "rank\t\t0.705\t\t0.681\t\t0.731\t\t2983\n",
      "person\t\t0.650\t\t0.679\t\t0.623\t\t579\n",
      "sales\t\t0.550\t\t0.722\t\t0.444\t\t322\n",
      "director\t0.549\t\t0.634\t\t0.484\t\t225\n",
      "ranking\t\t0.461\t\t0.753\t\t0.333\t\t439\n"
     ]
    }
   ],
   "source": [
    "print(f\"\\t\\tf1-score\\tprecision\\trecall\\t\\tsupport\")\n",
    "\n",
    "for key, value in class_scores[len(class_scores)-5:len(class_scores)]:\n",
    "    if len(key) >= 8:\n",
    "        tabs = '\\t' * 1\n",
    "    else:\n",
    "        tabs = '\\t' * 2\n",
    "\n",
    "    print(f\"{key}{tabs}{value['f1-score']:.3f}\\t\\t{value['precision']:.3f}\\t\\t{value['recall']:.3f}\\t\\t{value['support']}\")"
   ]
  },
  {
   "cell_type": "markdown",
   "metadata": {},
   "source": [
    "### All Scores"
   ]
  },
  {
   "cell_type": "code",
   "execution_count": 15,
   "metadata": {},
   "outputs": [
    {
     "name": "stdout",
     "output_type": "stream",
     "text": [
      "                precision    recall  f1-score   support\n",
      "\n",
      "       address      0.921     0.943     0.932      3003\n",
      "     affiliate      0.965     0.804     0.877       204\n",
      "   affiliation      0.978     0.951     0.964      1768\n",
      "           age      0.852     0.956     0.901      3033\n",
      "         album      0.892     0.880     0.886      3035\n",
      "          area      0.873     0.825     0.848      1987\n",
      "        artist      0.802     0.878     0.839      3043\n",
      "    birth date      0.975     0.975     0.975       479\n",
      "   birth place      0.977     0.904     0.939       418\n",
      "         brand      0.800     0.704     0.749       574\n",
      "      capacity      0.793     0.721     0.755       362\n",
      "      category      0.925     0.890     0.907      3087\n",
      "          city      0.844     0.898     0.870      2966\n",
      "         class      0.896     0.920     0.908      2971\n",
      "classification      0.925     0.864     0.893       587\n",
      "          club      0.976     0.948     0.962      2977\n",
      "          code      0.930     0.906     0.918      2956\n",
      "    collection      0.953     0.935     0.944       476\n",
      "       command      0.917     0.919     0.918      1045\n",
      "       company      0.902     0.891     0.896      3041\n",
      "     component      0.866     0.877     0.871      1226\n",
      "     continent      0.859     0.859     0.859       227\n",
      "       country      0.907     0.927     0.917      3038\n",
      "        county      0.943     0.957     0.950      2959\n",
      "       creator      0.880     0.821     0.849       347\n",
      "        credit      0.848     0.819     0.834       941\n",
      "      currency      0.987     0.965     0.976       405\n",
      "           day      0.926     0.901     0.913      3038\n",
      "         depth      0.935     0.928     0.932       947\n",
      "   description      0.816     0.858     0.836      3042\n",
      "      director      0.634     0.484     0.549       225\n",
      "      duration      0.934     0.943     0.939      3000\n",
      "     education      0.800     0.805     0.803       313\n",
      "     elevation      0.957     0.945     0.951      1299\n",
      "        family      0.964     0.895     0.928       746\n",
      "     file size      0.908     0.845     0.875       361\n",
      "        format      0.971     0.955     0.963      2956\n",
      "        gender      0.857     0.723     0.785      1030\n",
      "         genre      0.933     0.964     0.948      1163\n",
      "        grades      0.990     0.994     0.992      1765\n",
      "      industry      0.978     0.986     0.982      2958\n",
      "          isbn      0.987     0.991     0.989      1430\n",
      "        jockey      0.984     0.989     0.987      2819\n",
      "      language      0.895     0.960     0.926      1474\n",
      "      location      0.895     0.813     0.852      2949\n",
      "  manufacturer      0.855     0.812     0.833       945\n",
      "          name      0.731     0.739     0.735      3017\n",
      "   nationality      0.790     0.783     0.787       424\n",
      "         notes      0.753     0.826     0.788      2303\n",
      "      operator      0.866     0.817     0.841       404\n",
      "         order      0.849     0.906     0.877      1462\n",
      "  organisation      0.846     0.836     0.841       262\n",
      "        origin      0.951     0.901     0.925      1439\n",
      "         owner      0.930     0.873     0.901      1673\n",
      "        person      0.679     0.623     0.650       579\n",
      "         plays      0.787     0.909     0.844      1513\n",
      "      position      0.795     0.855     0.824      3057\n",
      "       product      0.871     0.875     0.873      2647\n",
      "     publisher      0.905     0.914     0.910       880\n",
      "         range      0.911     0.742     0.818       577\n",
      "          rank      0.681     0.731     0.705      2983\n",
      "       ranking      0.753     0.333     0.461       439\n",
      "        region      0.855     0.822     0.838      2740\n",
      "      religion      0.972     0.909     0.939       340\n",
      "   requirement      0.942     0.810     0.871       300\n",
      "        result      0.956     0.935     0.945      2920\n",
      "         sales      0.722     0.444     0.550       322\n",
      "       service      0.958     0.923     0.940      2222\n",
      "           sex      0.906     0.941     0.923      2997\n",
      "       species      0.924     0.947     0.936       819\n",
      "         state      0.954     0.951     0.953      3030\n",
      "        status      0.919     0.939     0.929      3100\n",
      "        symbol      0.944     0.953     0.949      1752\n",
      "          team      0.845     0.869     0.857      3011\n",
      "     team name      0.861     0.849     0.855      1639\n",
      "          type      0.899     0.876     0.887      2909\n",
      "        weight      0.950     0.932     0.941      2963\n",
      "          year      0.969     0.929     0.949      3015\n",
      "\n",
      "      accuracy                          0.893    137353\n",
      "     macro avg      0.888     0.864     0.874    137353\n",
      "  weighted avg      0.894     0.893     0.893    137353\n",
      "\n"
     ]
    }
   ],
   "source": [
    "print(classification_report(y_test, predicted_labels, digits=3))"
   ]
  },
  {
   "cell_type": "markdown",
   "metadata": {},
   "source": [
    "## Review errors"
   ]
  },
  {
   "cell_type": "code",
   "execution_count": 20,
   "metadata": {},
   "outputs": [
    {
     "name": "stdout",
     "output_type": "stream",
     "text": [
      "[1001] expected \"address\" but predicted \"location\"\n",
      "[1116] expected \"address\" but predicted \"name\"\n",
      "[2588] expected \"address\" but predicted \"location\"\n",
      "[2616] expected \"address\" but predicted \"location\"\n",
      "[3398] expected \"address\" but predicted \"city\"\n",
      "[3530] expected \"address\" but predicted \"location\"\n",
      "[4380] expected \"address\" but predicted \"county\"\n",
      "[5112] expected \"address\" but predicted \"location\"\n",
      "[5647] expected \"address\" but predicted \"team name\"\n",
      "[5780] expected \"address\" but predicted \"sales\"\n",
      "[8797] expected \"address\" but predicted \"area\"\n",
      "[9116] expected \"address\" but predicted \"credit\"\n",
      "[9354] expected \"address\" but predicted \"location\"\n",
      "[9574] expected \"address\" but predicted \"location\"\n",
      "[9806] expected \"address\" but predicted \"city\"\n",
      "[10035] expected \"address\" but predicted \"creator\"\n",
      "[10067] expected \"address\" but predicted \"rank\"\n",
      "[10665] expected \"address\" but predicted \"area\"\n",
      "[11055] expected \"address\" but predicted \"city\"\n",
      "[11993] expected \"address\" but predicted \"location\"\n",
      "[12639] expected \"address\" but predicted \"location\"\n",
      "[15232] expected \"address\" but predicted \"city\"\n",
      "[15461] expected \"address\" but predicted \"location\"\n",
      "[15496] expected \"address\" but predicted \"city\"\n",
      "[15987] expected \"address\" but predicted \"artist\"\n",
      "[18892] expected \"address\" but predicted \"name\"\n",
      "[19953] expected \"address\" but predicted \"county\"\n",
      "[20425] expected \"address\" but predicted \"location\"\n",
      "[20829] expected \"address\" but predicted \"notes\"\n",
      "[21408] expected \"address\" but predicted \"description\"\n",
      "[22148] expected \"address\" but predicted \"result\"\n",
      "[24636] expected \"address\" but predicted \"team name\"\n",
      "[24803] expected \"address\" but predicted \"day\"\n",
      "[24886] expected \"address\" but predicted \"notes\"\n",
      "[26113] expected \"address\" but predicted \"location\"\n",
      "[26171] expected \"address\" but predicted \"name\"\n",
      "[26184] expected \"address\" but predicted \"name\"\n",
      "[26210] expected \"address\" but predicted \"category\"\n",
      "[26296] expected \"address\" but predicted \"file size\"\n",
      "[26559] expected \"address\" but predicted \"location\"\n",
      "[26872] expected \"address\" but predicted \"command\"\n",
      "[30403] expected \"address\" but predicted \"language\"\n",
      "[31830] expected \"address\" but predicted \"location\"\n",
      "[31836] expected \"address\" but predicted \"language\"\n",
      "[32429] expected \"address\" but predicted \"artist\"\n",
      "[32551] expected \"address\" but predicted \"city\"\n",
      "[32634] expected \"address\" but predicted \"city\"\n",
      "[32762] expected \"address\" but predicted \"artist\"\n",
      "[33207] expected \"address\" but predicted \"order\"\n",
      "[33975] expected \"address\" but predicted \"team\"\n",
      "[34547] expected \"address\" but predicted \"location\"\n",
      "[35756] expected \"address\" but predicted \"city\"\n",
      "[35938] expected \"address\" but predicted \"language\"\n",
      "[36033] expected \"address\" but predicted \"city\"\n",
      "[37084] expected \"address\" but predicted \"person\"\n",
      "[37318] expected \"address\" but predicted \"language\"\n",
      "[37536] expected \"address\" but predicted \"language\"\n",
      "[38118] expected \"address\" but predicted \"location\"\n",
      "[39624] expected \"address\" but predicted \"day\"\n",
      "[40184] expected \"address\" but predicted \"notes\"\n",
      "[40457] expected \"address\" but predicted \"country\"\n",
      "[42439] expected \"address\" but predicted \"area\"\n",
      "[44530] expected \"address\" but predicted \"result\"\n",
      "[44906] expected \"address\" but predicted \"location\"\n",
      "[44918] expected \"address\" but predicted \"area\"\n",
      "[44932] expected \"address\" but predicted \"artist\"\n",
      "[46430] expected \"address\" but predicted \"location\"\n",
      "[46463] expected \"address\" but predicted \"affiliation\"\n",
      "[47140] expected \"address\" but predicted \"area\"\n",
      "[47249] expected \"address\" but predicted \"notes\"\n",
      "[47713] expected \"address\" but predicted \"city\"\n",
      "[47810] expected \"address\" but predicted \"type\"\n",
      "[48016] expected \"address\" but predicted \"location\"\n",
      "[48289] expected \"address\" but predicted \"team\"\n",
      "[48631] expected \"address\" but predicted \"location\"\n",
      "[50265] expected \"address\" but predicted \"name\"\n",
      "[50329] expected \"address\" but predicted \"area\"\n",
      "[50413] expected \"address\" but predicted \"city\"\n",
      "[50783] expected \"address\" but predicted \"city\"\n",
      "[53960] expected \"address\" but predicted \"name\"\n",
      "[54248] expected \"address\" but predicted \"area\"\n",
      "[56030] expected \"address\" but predicted \"capacity\"\n",
      "[56085] expected \"address\" but predicted \"location\"\n",
      "[56176] expected \"address\" but predicted \"product\"\n",
      "[58384] expected \"address\" but predicted \"location\"\n",
      "[58524] expected \"address\" but predicted \"location\"\n",
      "[58816] expected \"address\" but predicted \"name\"\n",
      "[58958] expected \"address\" but predicted \"team name\"\n",
      "[59506] expected \"address\" but predicted \"description\"\n",
      "[59734] expected \"address\" but predicted \"location\"\n",
      "[60105] expected \"address\" but predicted \"area\"\n",
      "[60225] expected \"address\" but predicted \"notes\"\n",
      "[60441] expected \"address\" but predicted \"location\"\n",
      "[60493] expected \"address\" but predicted \"location\"\n",
      "[60565] expected \"address\" but predicted \"region\"\n",
      "[61894] expected \"address\" but predicted \"language\"\n",
      "[61975] expected \"address\" but predicted \"capacity\"\n",
      "[64427] expected \"address\" but predicted \"area\"\n",
      "[65953] expected \"address\" but predicted \"name\"\n",
      "[69794] expected \"address\" but predicted \"city\"\n",
      "[71228] expected \"address\" but predicted \"location\"\n",
      "[71784] expected \"address\" but predicted \"location\"\n",
      "[72001] expected \"address\" but predicted \"description\"\n",
      "[73360] expected \"address\" but predicted \"artist\"\n",
      "[75893] expected \"address\" but predicted \"notes\"\n",
      "[76551] expected \"address\" but predicted \"language\"\n",
      "[77796] expected \"address\" but predicted \"location\"\n",
      "[80712] expected \"address\" but predicted \"team name\"\n",
      "[81288] expected \"address\" but predicted \"location\"\n",
      "[82779] expected \"address\" but predicted \"command\"\n",
      "[83204] expected \"address\" but predicted \"company\"\n",
      "[84979] expected \"address\" but predicted \"weight\"\n",
      "[85206] expected \"address\" but predicted \"location\"\n",
      "[85353] expected \"address\" but predicted \"creator\"\n",
      "[85752] expected \"address\" but predicted \"language\"\n",
      "[85930] expected \"address\" but predicted \"language\"\n",
      "[86236] expected \"address\" but predicted \"description\"\n",
      "[86891] expected \"address\" but predicted \"rank\"\n",
      "[86983] expected \"address\" but predicted \"brand\"\n",
      "[87332] expected \"address\" but predicted \"code\"\n",
      "[87958] expected \"address\" but predicted \"location\"\n",
      "[89504] expected \"address\" but predicted \"status\"\n",
      "[89800] expected \"address\" but predicted \"location\"\n",
      "[90054] expected \"address\" but predicted \"name\"\n",
      "[90466] expected \"address\" but predicted \"location\"\n",
      "[90582] expected \"address\" but predicted \"city\"\n",
      "[92393] expected \"address\" but predicted \"location\"\n",
      "[93557] expected \"address\" but predicted \"country\"\n",
      "[95220] expected \"address\" but predicted \"notes\"\n",
      "[95411] expected \"address\" but predicted \"location\"\n",
      "[96379] expected \"address\" but predicted \"location\"\n",
      "[96640] expected \"address\" but predicted \"area\"\n",
      "[96728] expected \"address\" but predicted \"publisher\"\n",
      "[97594] expected \"address\" but predicted \"album\"\n",
      "[100797] expected \"address\" but predicted \"symbol\"\n",
      "[101634] expected \"address\" but predicted \"area\"\n",
      "[102060] expected \"address\" but predicted \"name\"\n",
      "[103165] expected \"address\" but predicted \"language\"\n",
      "[103681] expected \"address\" but predicted \"location\"\n",
      "[105085] expected \"address\" but predicted \"notes\"\n",
      "[107281] expected \"address\" but predicted \"location\"\n",
      "[108550] expected \"address\" but predicted \"grades\"\n",
      "[109367] expected \"address\" but predicted \"city\"\n",
      "[109427] expected \"address\" but predicted \"result\"\n",
      "[111142] expected \"address\" but predicted \"name\"\n",
      "[113711] expected \"address\" but predicted \"location\"\n",
      "[114356] expected \"address\" but predicted \"day\"\n",
      "[114372] expected \"address\" but predicted \"area\"\n",
      "[114485] expected \"address\" but predicted \"team name\"\n",
      "[116630] expected \"address\" but predicted \"county\"\n",
      "[118623] expected \"address\" but predicted \"notes\"\n",
      "[120562] expected \"address\" but predicted \"description\"\n",
      "[122561] expected \"address\" but predicted \"language\"\n",
      "[123013] expected \"address\" but predicted \"rank\"\n",
      "[123713] expected \"address\" but predicted \"location\"\n",
      "[124794] expected \"address\" but predicted \"company\"\n",
      "[126147] expected \"address\" but predicted \"region\"\n",
      "[126442] expected \"address\" but predicted \"capacity\"\n",
      "[127753] expected \"address\" but predicted \"rank\"\n",
      "[130164] expected \"address\" but predicted \"area\"\n",
      "[130902] expected \"address\" but predicted \"rank\"\n",
      "[131254] expected \"address\" but predicted \"company\"\n",
      "[131693] expected \"address\" but predicted \"location\"\n",
      "[132446] expected \"address\" but predicted \"artist\"\n",
      "[132881] expected \"address\" but predicted \"artist\"\n",
      "[133805] expected \"address\" but predicted \"name\"\n",
      "[135969] expected \"address\" but predicted \"area\"\n",
      "[136727] expected \"address\" but predicted \"order\"\n",
      "[137027] expected \"address\" but predicted \"location\"\n",
      "[137041] expected \"address\" but predicted \"location\"\n",
      "[137054] expected \"address\" but predicted \"location\"\n"
     ]
    },
    {
     "name": "stdout",
     "output_type": "stream",
     "text": [
      "Total mismatches: 14657 (F1 score: 0.8929132610917137)\n"
     ]
    },
    {
     "data": {
      "text/plain": [
       "[('rank', 802),\n",
       " ('name', 786),\n",
       " ('location', 551),\n",
       " ('region', 487),\n",
       " ('position', 444),\n",
       " ('description', 433),\n",
       " ('notes', 400),\n",
       " ('team', 395),\n",
       " ('artist', 370),\n",
       " ('album', 363),\n",
       " ('type', 360),\n",
       " ('area', 348),\n",
       " ('category', 340),\n",
       " ('company', 332),\n",
       " ('product', 331),\n",
       " ('day', 302),\n",
       " ('city', 302),\n",
       " ('ranking', 293),\n",
       " ('gender', 285),\n",
       " ('code', 279),\n",
       " ('team name', 248),\n",
       " ('class', 237),\n",
       " ('country', 222),\n",
       " ('person', 218),\n",
       " ('year', 213),\n",
       " ('owner', 212),\n",
       " ('weight', 202),\n",
       " ('result', 189),\n",
       " ('status', 189),\n",
       " ('sales', 179),\n",
       " ('manufacturer', 178),\n",
       " ('sex', 176),\n",
       " ('duration', 171),\n",
       " ('address', 171),\n",
       " ('credit', 170),\n",
       " ('brand', 170),\n",
       " ('service', 170),\n",
       " ('club', 155),\n",
       " ('component', 151),\n",
       " ('range', 149),\n",
       " ('state', 148),\n",
       " ('origin', 143),\n",
       " ('plays', 137),\n",
       " ('order', 137),\n",
       " ('format', 134),\n",
       " ('age', 132),\n",
       " ('county', 126),\n",
       " ('director', 116),\n",
       " ('capacity', 101),\n",
       " ('nationality', 92),\n",
       " ('affiliation', 86),\n",
       " ('command', 85),\n",
       " ('symbol', 82),\n",
       " ('classification', 80),\n",
       " ('family', 78),\n",
       " ('publisher', 76),\n",
       " ('operator', 74),\n",
       " ('elevation', 71),\n",
       " ('depth', 68),\n",
       " ('creator', 62),\n",
       " ('education', 61),\n",
       " ('language', 59),\n",
       " ('requirement', 57),\n",
       " ('file size', 56),\n",
       " ('organisation', 43),\n",
       " ('species', 43),\n",
       " ('genre', 42),\n",
       " ('industry', 41),\n",
       " ('birth place', 40),\n",
       " ('affiliate', 40),\n",
       " ('continent', 32),\n",
       " ('collection', 31),\n",
       " ('religion', 31),\n",
       " ('jockey', 31),\n",
       " ('currency', 14),\n",
       " ('isbn', 13),\n",
       " ('birth date', 12),\n",
       " ('grades', 10)]"
      ]
     },
     "execution_count": 20,
     "metadata": {},
     "output_type": "execute_result"
    }
   ],
   "source": [
    "from collections import Counter\n",
    "\n",
    "size = len(y_test)\n",
    "mismatches = list()\n",
    "\n",
    "for idx, k1 in enumerate(y_test[:size]):\n",
    "    k2 = predicted_labels[idx]\n",
    "\n",
    "    if k1 != k2:\n",
    "        mismatches.append(k1)\n",
    "        \n",
    "        # zoom in to specific errors. Use the index in the next step\n",
    "        if k1 in ('address'):\n",
    "            print(f'[{idx}] expected \"{k1}\" but predicted \"{k2}\"')\n",
    "        \n",
    "f1 = f1_score(y_test[:size], predicted_labels[:size], average=\"weighted\")\n",
    "print(f'Total mismatches: {len(mismatches)} (F1 score: {f1})')\n",
    "\n",
    "data = Counter(mismatches)\n",
    "data.most_common()   # Returns all unique items and their counts"
   ]
  },
  {
   "cell_type": "code",
   "execution_count": 17,
   "metadata": {},
   "outputs": [],
   "source": [
    "test_samples = pd.read_parquet('../data/raw/test_values.parquet')"
   ]
  },
  {
   "cell_type": "code",
   "execution_count": 21,
   "metadata": {},
   "outputs": [
    {
     "name": "stdout",
     "output_type": "stream",
     "text": [
      "Predicted \"location\", actual label \"address\". Actual values:\n",
      "[['Cabot House', 'Cabot House', '5 Hill Rd.', '5 Hill Rd.', '9 Cabot Rd.', '9 Cabot Rd.', 'Cabot House', '22 Bank Rd.', '22 Bank Rd.', 'Cabot House', '31 Bank Rd.', '31 Bank Rd.', 'Bairds Hotel', '11 Cabot Rd.', '11 Cabot Rd.', '10 Hill Rd.', '10 Hill Rd.', '10 Hill Rd.', '10 Hill Rd.', '7A Church Rd.', '1 Cabot Rd.', '1 Cabot Rd.', '1 Cabot Rd.', '1 Cabot Rd.', '2 Coronation St.', '2 Coronation St.', '7A Church Rd.', '12 Hill Rd.', '12 Hill Rd.', '12 Hill Rd.', 'Cabot House', '19 Bank Rd.', '19 Bank Rd.', '19 Bank Rd.', '19 Bank Rd.', '19 Bank Rd.', '7A Church Rd.', '18 Mill Rd.', '17 Hill Rd.', '17 Hill Rd.', 'Cabot House', 'Cabot House', '25 Bank Rd.', '10 Coronation St.', '6 Cabot Rd.', '6 Cabot Rd.', '8 Hill Rd.', '8 Hill Rd.', '4 Mill Rd.', '4 Mill Rd.', '12 Sulva Rd.', '4 Haig Rd.', '13 Botwood Rd.', '13 Botwood Rd.', '8 Botwood Rd.', '8 Botwood Rd.', '16 Botwood Rd.', '16 Botwood Rd.', '16 Botwood Rd.', '16 Botwood Rd.', '56 Beaumont Ave.', '8 Botwood Rd.', '56 Beaumont Ave.', '61 Botwood Rd.', '8 Botwood Rd.', '8 Botwood Rd.', '41 Beaumont Ave.', '41 Beaumont Ave.', '1 Polygon Rd.', '1 Polygon Rd.', '1 Polygon Rd.', '8 Botwood Rd.', '8 Botwood Rd.', '40 Botwood Rd.', '40 Botwood Rd.', '11 Haig Rd.', '11 Haig Rd.', '40 Botwood Rd.', '43 Botwood Rd.', '56 Botwood Rd.', '56 Botwood Rd.', '56 Botwood Rd.', '56 Botwood Rd.', '55 Botwood Rd.', '55 Botwood Rd.', '55 Botwood Rd.', '55 Botwood Rd.', '9 Botwood Rd.', '9 Botwood Rd.', '51 Botwood Rd.', '51 Botwood Rd.', '33 Botwood Rd.', '33 Botwood Rd.', '33 Botwood Rd.', '33 Botwood Rd.', '17 Sulva Rd.', '17 Sulva Rd.', '1 Sulva Rd.', '1 Sulva Rd.', '5B Botwood Rd.', '21 Monchy Rd.', '15 Junction Rd.', '15 Junction Rd.', '15 Junction Rd.', '15 Junction Rd.', '11 Monchy Rd.', '49 Queen St.', '17 Monchy Rd.', '17 Monchy Rd.', '49 Queen St.', '49 Junction Rd.', '49 Junction Rd.', '1 Queen St.', '1 Queen St.', '37 Monchy Rd.', '37 Monchy Rd.', 'Pine Ave Apt. 5', 'Pine Ave Apt. 5', '6 Peronne Rd.', '2 Peronne Rd.', '6 Peronne Rd.', '7 Peronne Rd.', '7 Peronne Rd.', '7 Peronne Rd.', 'Pine Ave. Apt. 19', '13 Queen St.', 'Pine Ave. Apt. 19', '41 Junction Rd.', '13 Queen St.', '4 Pine Ave.', '51 Junction Rd.', '51 Junction Rd.', '6 Monchy Rd.', '6 Monchy Rd.', '1 Peronne Rd.', '1 Peronne Rd.', 'Pine Ave. Apt. 6', 'Pine Ave. Apt. 6', '50 Junction Rd.', '20 Junction Rd.', '20 Junction Rd.', '20 Junction Rd.', 'Pine Ave. Apt. 15', 'Pine Ave. Apt. 15', '23 Monchy Rd.', '23 Monchy Rd.', '5 Peronne Rd.', '15 Queen St.', '15 Queen St.', '15 Queen St.', '24 East St.', '13 East St.', '13 East St.', '4 Railway Rd.', '4 Railway Rd.', '12 Fourth Ave.', '12 Fourth Ave.', '8 Circular Rd.', '8 Circular Rd.', '8 Circular Rd.', '17 Circular Rd.', '17 Circular Rd.', '1A Valley Rd.', '28 Fourth Ave.', '28 Fourth Ave.', '22 East St.', '22 East St.', '15 Fourth Ave.', '11 Third Ave.', '15 Fourth Ave.', '15 Fourth Ave.', '15 Fourth Ave.', '11 Third Ave.', '15 Fourth Ave.', '4 Railway Rd.', '6 Valley Rd.', '4 Railway Rd.', '6 Valley Rd.', '7 West St.', '7 West St.', '22 Circular Rd.', '25 Fourth Ave.', '5 Valley Rd.', '25 Fourth Ave.', '5 Valley Rd.', '5 Fourth Ave.', '5 Fourth Ave.', '15 Valley Rd.', '1 Third Ave.', '1 Third Ave.', '1 Third Ave.', '20 Fourth Ave.', '10 Valley Rd.', '20 Fourth Ave.', '20 Fourth Ave.', '11 East St.', '20 Fourth Ave.', '11 East St.', '2 Railway Rd.', '20 Fourth Ave.', '10 Valley Rd.', '11 East St.', '2 Railway Rd.', '20 East St.', '20 East St.', '20 East St.', '20 East St.', '20 East St.', '10 East St.', '10 East St.', '10 East St.', '11 Railway Rd.', '7 Circular Rd.', '11 Railway Rd.', '11 Railway Rd.', '7 Circular Rd.', '11 Railway Rd.', '3 Fourth Ave.', '13 Fourth Ave.', '4 Third Ave.', '3 Fourth Ave.', '13 Fourth Ave.', '13 Fourth Ave.', '13 Fourth Ave.', '11 Third Ave.', '11 Third Ave.', '13 Fourth Ave.', '3 Fourth Ave.', '10 Circular Rd.', '10 Circular Rd.', '12 Third Ave.', '10 Circular Rd.', '10 Circular Rd.', '12 Third Ave.', '10 Circular Rd.', '5 Railway Rd.', '5 Railway Rd.', '7 Third Ave.', '14 Fourth Ave.', '14 Fourth Ave.', '14 Fourth Ave.', '7 Third Ave.', '14 Fourth Ave.', '14 Fourth Ave.', '14 Fourth Ave.', '26 East St.', '26 East St.', '5 East St.', '5 East St.', '5 East St.', '16 East St.', '15 Third Ave.', '7 Valley Rd.', '15 Third Ave.', '15 Third Ave.', '7 Valley Rd.', '1 Railway Rd.', '1 Railway Rd.', '33 Circular Rd.', '33 Circular Rd.', '33 Circular Rd.', '18 East St.', '18 East St.', '6 Third Ave.', '6 Third Ave.', '25 Circular Rd.', '5 Valley Rd.', '23 Fourth Ave.', '23 Fourth Ave.', '1A Valley Rd.', '37 Circular Rd.', '23 Fourth Ave.', '37 Circular Rd.', '1A Valley Rd.', '24A Fourth Ave.', '24A Fourth Ave.', '1 Fourth Ave.', '1 Fourth Ave.', '1 Fourth Ave.', '2A Valley Rd.', '2A Valley Rd.', '6 Valley Rd.', '30 Fourth Ave.', '30 Fourth Ave.', '19 Fourth Ave.', '19 Fourth Ave.', '3 Valley Rd.', '3 Valley Rd.']]\n"
     ]
    }
   ],
   "source": [
    "from ast import literal_eval\n",
    "\n",
    "idx = 1001\n",
    "original = test_samples.iloc[idx]\n",
    "converted = original.apply(literal_eval).to_list()\n",
    "\n",
    "print(f'Predicted \"{predicted_labels[idx]}\", actual label \"{y_test[idx]}\". Actual values:\\n{converted}')"
   ]
  },
  {
   "cell_type": "code",
   "execution_count": null,
   "metadata": {},
   "outputs": [],
   "source": []
  }
 ],
 "metadata": {
  "kernelspec": {
   "display_name": "Python 3 (ipykernel)",
   "language": "python",
   "name": "python3"
  },
  "language_info": {
   "codemirror_mode": {
    "name": "ipython",
    "version": 3
   },
   "file_extension": ".py",
   "mimetype": "text/x-python",
   "name": "python",
   "nbconvert_exporter": "python",
   "pygments_lexer": "ipython3",
   "version": "3.7.12"
  }
 },
 "nbformat": 4,
 "nbformat_minor": 4
}
