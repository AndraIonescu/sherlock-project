{
 "cells": [
  {
   "cell_type": "code",
   "execution_count": 1,
   "metadata": {},
   "outputs": [],
   "source": [
    "import pandas as pd\n",
    "import numpy as np\n",
    "\n",
    "from sherlock.deploy.train_sherlock import train_sherlock\n",
    "from sherlock.deploy.predict_sherlock import predict_sherlock\n",
    "from datetime import datetime\n",
    "from sklearn.metrics import f1_score"
   ]
  },
  {
   "cell_type": "markdown",
   "metadata": {},
   "source": [
    "### Load training and validation sets"
   ]
  },
  {
   "cell_type": "code",
   "execution_count": 2,
   "metadata": {},
   "outputs": [
    {
     "name": "stdout",
     "output_type": "stream",
     "text": [
      "Started at 2020-12-28 12:35:00.656148\n",
      "Load data (train) process took 0:00:05.847698 seconds.\n"
     ]
    }
   ],
   "source": [
    "start = datetime.now()\n",
    "print(f'Started at {start}')\n",
    "\n",
    "X_train = pd.read_parquet('train.parquet')\n",
    "y_train = pd.read_parquet('../data/raw/train_labels.parquet').values.flatten()\n",
    "\n",
    "print(f'Load data (train) process took {datetime.now() - start} seconds.')"
   ]
  },
  {
   "cell_type": "code",
   "execution_count": 3,
   "metadata": {},
   "outputs": [
    {
     "name": "stdout",
     "output_type": "stream",
     "text": [
      "Data type of each column of Dataframe :\n",
      "[dtype('float32'), dtype('float32'), dtype('float32'), dtype('float32'), dtype('float32'), dtype('float32'), dtype('float32'), dtype('float32'), dtype('float32'), dtype('float32'), dtype('float32'), dtype('float32'), dtype('float32'), dtype('float32'), dtype('float32'), dtype('float32'), dtype('float32'), dtype('float32'), dtype('float32'), dtype('float32'), dtype('float32'), dtype('float32'), dtype('float32'), dtype('float32'), dtype('float32'), dtype('float32'), dtype('float32'), dtype('float32'), dtype('float32'), dtype('float32'), dtype('float32'), dtype('float32'), dtype('float32'), dtype('float32'), dtype('float32'), dtype('float32'), dtype('float32'), dtype('float32'), dtype('float32'), dtype('float32'), dtype('float32'), dtype('float32'), dtype('float32'), dtype('float32'), dtype('float32'), dtype('float32'), dtype('float32'), dtype('float32'), dtype('float32'), dtype('float32'), dtype('float32'), dtype('float32'), dtype('float32'), dtype('float32'), dtype('float32'), dtype('float32'), dtype('float32'), dtype('float32'), dtype('float32'), dtype('float32'), dtype('float32'), dtype('float32'), dtype('float32'), dtype('float32'), dtype('float32'), dtype('float32'), dtype('float32'), dtype('float32'), dtype('float32'), dtype('float32'), dtype('float32'), dtype('float32'), dtype('float32'), dtype('float32'), dtype('float32'), dtype('float32'), dtype('float32'), dtype('float32'), dtype('float32'), dtype('float32'), dtype('float32'), dtype('float32'), dtype('float32'), dtype('float32'), dtype('float32'), dtype('float32'), dtype('float32'), dtype('float32'), dtype('float32'), dtype('float32'), dtype('float32'), dtype('float32'), dtype('float32'), dtype('float32'), dtype('float32'), dtype('float32'), dtype('float32'), dtype('float32'), dtype('float32'), dtype('float32'), dtype('float32'), dtype('float32'), dtype('float32'), dtype('float32'), dtype('float32'), dtype('float32'), dtype('float32'), dtype('float32'), dtype('float32'), dtype('float32'), dtype('float32'), dtype('float32'), dtype('float32'), dtype('float32'), dtype('float32'), dtype('float32'), dtype('float32'), dtype('float32'), dtype('float32'), dtype('float32'), dtype('float32'), dtype('float32'), dtype('float32'), dtype('float32'), dtype('float32'), dtype('float32'), dtype('float32'), dtype('float32'), dtype('float32'), dtype('float32'), dtype('float32'), dtype('float32'), dtype('float32'), dtype('float32'), dtype('float32'), dtype('float32'), dtype('float32'), dtype('float32'), dtype('float32'), dtype('float32'), dtype('float32'), dtype('float32'), dtype('float32'), dtype('float32'), dtype('float32'), dtype('float32'), dtype('float32'), dtype('float32'), dtype('float32'), dtype('float32'), dtype('float32'), dtype('float32'), dtype('float32'), dtype('float32'), dtype('float32'), dtype('float32'), dtype('float32'), dtype('float32'), dtype('float32'), dtype('float32'), dtype('float32'), dtype('float32'), dtype('float32'), dtype('float32'), dtype('float32'), dtype('float32'), dtype('float32'), dtype('float32'), dtype('float32'), dtype('float32'), dtype('float32'), dtype('float32'), dtype('float32'), dtype('float32'), dtype('float32'), dtype('float32'), dtype('float32'), dtype('float32'), dtype('float32'), dtype('float32'), dtype('float32'), dtype('float32'), dtype('float32'), dtype('float32'), dtype('float32'), dtype('float32'), dtype('float32'), dtype('float32'), dtype('float32'), dtype('float32'), dtype('float32'), dtype('float32'), dtype('float32'), dtype('float32'), dtype('float32'), dtype('float32'), dtype('float32'), dtype('float32'), dtype('float32'), dtype('float32'), dtype('float32'), dtype('float32'), dtype('float32'), dtype('float32'), dtype('float32'), dtype('float32'), dtype('float32'), dtype('float32'), dtype('float32'), dtype('float32'), dtype('float32'), dtype('float32'), dtype('float32'), dtype('float32'), dtype('float32'), dtype('float32'), dtype('float32'), dtype('float32'), dtype('float32'), dtype('float32'), dtype('float32'), dtype('float32'), dtype('float32'), dtype('float32'), dtype('float32'), dtype('float32'), dtype('float32'), dtype('float32'), dtype('float32'), dtype('float32'), dtype('float32'), dtype('float32'), dtype('float32'), dtype('float32'), dtype('float32'), dtype('float32'), dtype('float32'), dtype('float32'), dtype('float32'), dtype('float32'), dtype('float32'), dtype('float32'), dtype('float32'), dtype('float32'), dtype('float32'), dtype('float32'), dtype('float32'), dtype('float32'), dtype('float32'), dtype('float32'), dtype('float32'), dtype('float32'), dtype('float32'), dtype('float32'), dtype('float32'), dtype('float32'), dtype('float32'), dtype('float32'), dtype('float32'), dtype('float32'), dtype('float32'), dtype('float32'), dtype('float32'), dtype('float32'), dtype('float32'), dtype('float32'), dtype('float32'), dtype('float32'), dtype('float32'), dtype('float32'), dtype('float32'), dtype('float32'), dtype('float32'), dtype('float32'), dtype('float32'), dtype('float32'), dtype('float32'), dtype('float32'), dtype('float32'), dtype('float32'), dtype('float32'), dtype('float32'), dtype('float32'), dtype('float32'), dtype('float32'), dtype('float32'), dtype('float32'), dtype('float32'), dtype('float32'), dtype('float32'), dtype('float32'), dtype('float32'), dtype('float32'), dtype('float32'), dtype('float32'), dtype('float32'), dtype('float32'), dtype('float32'), dtype('float32'), dtype('float32'), dtype('float32'), dtype('float32'), dtype('float32'), dtype('float32'), dtype('float32'), dtype('float32'), dtype('float32'), dtype('float32'), dtype('float32'), dtype('float32'), dtype('float32'), dtype('float32'), dtype('float32'), dtype('float32'), dtype('float32'), dtype('float32'), dtype('float32'), dtype('float32'), dtype('float32'), dtype('float32'), dtype('float32'), dtype('float32'), dtype('float32'), dtype('float32'), dtype('float32'), dtype('float32'), dtype('float32'), dtype('float32'), dtype('float32'), dtype('float32'), dtype('float32'), dtype('float32'), dtype('float32'), dtype('float32'), dtype('float32'), dtype('float32'), dtype('float32'), dtype('float32'), dtype('float32'), dtype('float32'), dtype('float32'), dtype('float32'), dtype('float32'), dtype('float32'), dtype('float32'), dtype('float32'), dtype('float32'), dtype('float32'), dtype('float32'), dtype('float32'), dtype('float32'), dtype('float32'), dtype('float32'), dtype('float32'), dtype('float32'), dtype('float32'), dtype('float32'), dtype('float32'), dtype('float32'), dtype('float32'), dtype('float32'), dtype('float32'), dtype('float32'), dtype('float32'), dtype('float32'), dtype('float32'), dtype('float32'), dtype('float32'), dtype('float32'), dtype('float32'), dtype('float32'), dtype('float32'), dtype('float32'), dtype('float32'), dtype('float32'), dtype('float32'), dtype('float32'), dtype('float32'), dtype('float32'), dtype('float32'), dtype('float32'), dtype('float32'), dtype('float32'), dtype('float32'), dtype('float32'), dtype('float32'), dtype('float32'), dtype('float32'), dtype('float32'), dtype('float32'), dtype('float32'), dtype('float32'), dtype('float32'), dtype('float32'), dtype('float32'), dtype('float32'), dtype('float32'), dtype('float32'), dtype('float32'), dtype('float32'), dtype('float32'), dtype('float32'), dtype('float32'), dtype('float32'), dtype('float32'), dtype('float32'), dtype('float32'), dtype('float32'), dtype('float32'), dtype('float32'), dtype('float32'), dtype('float32'), dtype('float32'), dtype('float32'), dtype('float32'), dtype('float32'), dtype('float32'), dtype('float32'), dtype('float32'), dtype('float32'), dtype('float32'), dtype('float32'), dtype('float32'), dtype('float32'), dtype('float32'), dtype('float32'), dtype('float32'), dtype('float32'), dtype('float32'), dtype('float32'), dtype('float32'), dtype('float32'), dtype('float32'), dtype('float32'), dtype('float32'), dtype('float32'), dtype('float32'), dtype('float32'), dtype('float32'), dtype('float32'), dtype('float32'), dtype('float32'), dtype('float32'), dtype('float32'), dtype('float32'), dtype('float32'), dtype('float32'), dtype('float32'), dtype('float32'), dtype('float32'), dtype('float32'), dtype('float32'), dtype('float32'), dtype('float32'), dtype('float32'), dtype('float32'), dtype('float32'), dtype('float32'), dtype('float32'), dtype('float32'), dtype('float32'), dtype('float32'), dtype('float32'), dtype('float32'), dtype('float32'), dtype('float32'), dtype('float32'), dtype('float32'), dtype('float32'), dtype('float32'), dtype('float32'), dtype('float32'), dtype('float32'), dtype('float32'), dtype('float32'), dtype('float32'), dtype('float32'), dtype('float32'), dtype('float32'), dtype('float32'), dtype('float32'), dtype('float32'), dtype('float32'), dtype('float32'), dtype('float32'), dtype('float32'), dtype('float32'), dtype('float32'), dtype('float32'), dtype('float32'), dtype('float32'), dtype('float32'), dtype('float32'), dtype('float32'), dtype('float32'), dtype('float32'), dtype('float32'), dtype('float32'), dtype('float32'), dtype('float32'), dtype('float32'), dtype('float32'), dtype('float32'), dtype('float32'), dtype('float32'), dtype('float32'), dtype('float32'), dtype('float32'), dtype('float32'), dtype('float32'), dtype('float32'), dtype('float32'), dtype('float32'), dtype('float32'), dtype('float32'), dtype('float32'), dtype('float32'), dtype('float32'), dtype('float32'), dtype('float32'), dtype('float32'), dtype('float32'), dtype('float32'), dtype('float32'), dtype('float32'), dtype('float32'), dtype('float32'), dtype('float32'), dtype('float32'), dtype('float32'), dtype('float32'), dtype('float32'), dtype('float32'), dtype('float32'), dtype('float32'), dtype('float32'), dtype('float32'), dtype('float32'), dtype('float32'), dtype('float32'), dtype('float32'), dtype('float32'), dtype('float32'), dtype('float32'), dtype('float32'), dtype('float32'), dtype('float32'), dtype('float32'), dtype('float32'), dtype('float32'), dtype('float32'), dtype('float32'), dtype('float32'), dtype('float32'), dtype('float32'), dtype('float32'), dtype('float32'), dtype('float32'), dtype('float32'), dtype('float32'), dtype('float32'), dtype('float32'), dtype('float32'), dtype('float32'), dtype('float32'), dtype('float32'), dtype('float32'), dtype('float32'), dtype('float32'), dtype('float32'), dtype('float32'), dtype('float32'), dtype('float32'), dtype('float32'), dtype('float32'), dtype('float32'), dtype('float32'), dtype('float32'), dtype('float32'), dtype('float32'), dtype('float32'), dtype('float32'), dtype('float32'), dtype('float32'), dtype('float32'), dtype('float32'), dtype('float32'), dtype('float32'), dtype('float32'), dtype('float32'), dtype('float32'), dtype('float32'), dtype('float32'), dtype('float32'), dtype('float32'), dtype('float32'), dtype('float32'), dtype('float32'), dtype('float32'), dtype('float32'), dtype('float32'), dtype('float32'), dtype('float32'), dtype('float32'), dtype('float32'), dtype('float32'), dtype('float32'), dtype('float32'), dtype('float32'), dtype('float32'), dtype('float32'), dtype('float32'), dtype('float32'), dtype('float32'), dtype('float32'), dtype('float32'), dtype('float32'), dtype('float32'), dtype('float32'), dtype('float32'), dtype('float32'), dtype('float32'), dtype('float32'), dtype('float32'), dtype('float32'), dtype('float32'), dtype('float32'), dtype('float32'), dtype('float32'), dtype('float32'), dtype('float32'), dtype('float32'), dtype('float32'), dtype('float32'), dtype('float32'), dtype('float32'), dtype('float32'), dtype('float32'), dtype('float32'), dtype('float32'), dtype('float32'), dtype('float32'), dtype('float32'), dtype('float32'), dtype('float32'), dtype('float32'), dtype('float32'), dtype('float32'), dtype('float32'), dtype('float32'), dtype('float32'), dtype('float32'), dtype('float32'), dtype('float32'), dtype('float32'), dtype('float32'), dtype('float32'), dtype('float32'), dtype('float32'), dtype('float32'), dtype('float32'), dtype('float32'), dtype('float32'), dtype('float32'), dtype('float32'), dtype('float32'), dtype('float32'), dtype('float32'), dtype('float32'), dtype('float32'), dtype('float32'), dtype('float32'), dtype('float32'), dtype('float32'), dtype('float32'), dtype('float32'), dtype('float32'), dtype('float32'), dtype('float32'), dtype('float32'), dtype('float32'), dtype('float32'), dtype('float32'), dtype('float32'), dtype('float32'), dtype('float32'), dtype('float32'), dtype('float32'), dtype('float32'), dtype('float32'), dtype('float32'), dtype('float32'), dtype('float32'), dtype('float32'), dtype('float32'), dtype('float32'), dtype('float32'), dtype('float32'), dtype('float32'), dtype('float32'), dtype('float32'), dtype('float32'), dtype('float32'), dtype('float32'), dtype('float32'), dtype('float32'), dtype('float32'), dtype('float32'), dtype('float32'), dtype('float32'), dtype('float32'), dtype('float32'), dtype('float32'), dtype('float32'), dtype('float32'), dtype('float32'), dtype('float32'), dtype('float32'), dtype('float32'), dtype('float32'), dtype('float32'), dtype('float32'), dtype('float32'), dtype('float32'), dtype('float32'), dtype('float32'), dtype('float32'), dtype('float32'), dtype('float32'), dtype('float32'), dtype('float32'), dtype('float32'), dtype('float32'), dtype('float32'), dtype('float32'), dtype('float32'), dtype('float32'), dtype('float32'), dtype('float32'), dtype('float32'), dtype('float32'), dtype('float32'), dtype('float32'), dtype('float32'), dtype('float32'), dtype('float32'), dtype('float32'), dtype('float32'), dtype('float32'), dtype('float32'), dtype('float32'), dtype('float32'), dtype('float32'), dtype('float32'), dtype('float32'), dtype('float32'), dtype('float32'), dtype('float32'), dtype('float32'), dtype('float32'), dtype('float32'), dtype('float32'), dtype('float32'), dtype('float32'), dtype('float32'), dtype('float32'), dtype('float32'), dtype('float32'), dtype('float32'), dtype('float32'), dtype('float32'), dtype('float32'), dtype('float32'), dtype('float32'), dtype('float32'), dtype('float32'), dtype('float32'), dtype('float32'), dtype('float32'), dtype('float32'), dtype('float32'), dtype('float32'), dtype('float32'), dtype('float32'), dtype('float32'), dtype('float32'), dtype('float32'), dtype('float32'), dtype('float32'), dtype('float32'), dtype('float32'), dtype('float32'), dtype('float32'), dtype('float32'), dtype('float32'), dtype('float32'), dtype('float32'), dtype('float32'), dtype('float32'), dtype('float32'), dtype('float32'), dtype('float32'), dtype('float32'), dtype('float32'), dtype('float32'), dtype('float32'), dtype('float32'), dtype('float32'), dtype('float32'), dtype('float32'), dtype('float32'), dtype('float32'), dtype('float32'), dtype('float32'), dtype('float32'), dtype('float32'), dtype('float32'), dtype('float32'), dtype('float32'), dtype('float32'), dtype('float32'), dtype('float32'), dtype('float32'), dtype('float32'), dtype('float32'), dtype('float32'), dtype('float32'), dtype('float32'), dtype('float32'), dtype('float32'), dtype('float32'), dtype('float32'), dtype('float32'), dtype('float32'), dtype('float32'), dtype('float32'), dtype('float32'), dtype('float32'), dtype('float32'), dtype('float32'), dtype('float32'), dtype('float32'), dtype('float32'), dtype('float32'), dtype('float32'), dtype('float32'), dtype('float32'), dtype('float32'), dtype('float32'), dtype('float32'), dtype('float32'), dtype('float32'), dtype('float32'), dtype('float32'), dtype('float32'), dtype('float32'), dtype('float32'), dtype('float32'), dtype('float32'), dtype('float32'), dtype('float32'), dtype('float32'), dtype('float32'), dtype('float32'), dtype('float32'), dtype('float32'), dtype('float32'), dtype('float32'), dtype('float32'), dtype('float32'), dtype('float32'), dtype('float32'), dtype('float32'), dtype('float32'), dtype('float32'), dtype('float32'), dtype('float32'), dtype('float32'), dtype('float32'), dtype('float32'), dtype('float32'), dtype('float32'), dtype('float32'), dtype('float32'), dtype('float32'), dtype('float32'), dtype('float32'), dtype('float32'), dtype('float32'), dtype('float32'), dtype('float32'), dtype('float32'), dtype('float32'), dtype('float32'), dtype('float32'), dtype('float32'), dtype('float32'), dtype('float32'), dtype('float32'), dtype('float32'), dtype('float32'), dtype('float32'), dtype('float32'), dtype('float32'), dtype('float32'), dtype('float32'), dtype('float32'), dtype('float32'), dtype('float32'), dtype('float32'), dtype('float32'), dtype('float32'), dtype('float32'), dtype('float32'), dtype('float32'), dtype('float32'), dtype('float32'), dtype('float32'), dtype('float32'), dtype('float32'), dtype('float32'), dtype('float32'), dtype('float32'), dtype('float32'), dtype('float32'), dtype('float32'), dtype('float32'), dtype('float32'), dtype('float32'), dtype('float32'), dtype('float32'), dtype('float32'), dtype('float32'), dtype('float32'), dtype('float32'), dtype('float32'), dtype('float32'), dtype('float32'), dtype('float32'), dtype('float32'), dtype('float32'), dtype('float32'), dtype('float32'), dtype('float32'), dtype('float32'), dtype('float32'), dtype('float32'), dtype('float32'), dtype('float32'), dtype('float32'), dtype('float32'), dtype('float32'), dtype('float32'), dtype('float32'), dtype('float32'), dtype('float32'), dtype('float32'), dtype('float32'), dtype('float32'), dtype('float32'), dtype('float32'), dtype('float32'), dtype('float32'), dtype('float32'), dtype('float32'), dtype('float32'), dtype('float32'), dtype('float32'), dtype('float32'), dtype('float32'), dtype('float32'), dtype('float32'), dtype('float32'), dtype('float32'), dtype('float32'), dtype('float32'), dtype('float32'), dtype('float32'), dtype('float32'), dtype('float32'), dtype('float32'), dtype('float32'), dtype('float32'), dtype('float32'), dtype('float32'), dtype('float32'), dtype('float32'), dtype('float32'), dtype('float32'), dtype('float32'), dtype('float32'), dtype('float32'), dtype('float32'), dtype('float32'), dtype('float32'), dtype('float32'), dtype('float32'), dtype('float32'), dtype('float32'), dtype('float32'), dtype('float32'), dtype('float32'), dtype('float32'), dtype('float32'), dtype('float32'), dtype('float32'), dtype('float32'), dtype('float32'), dtype('float32'), dtype('float32'), dtype('float32'), dtype('float32'), dtype('float32'), dtype('float32'), dtype('float32'), dtype('float32'), dtype('float32'), dtype('float32'), dtype('float32'), dtype('float32'), dtype('float32'), dtype('float32'), dtype('float32'), dtype('float32'), dtype('float32'), dtype('float32'), dtype('float32'), dtype('float32'), dtype('float32'), dtype('float32'), dtype('float32'), dtype('float32'), dtype('float32'), dtype('float32'), dtype('float32'), dtype('float32'), dtype('float32'), dtype('float32'), dtype('float32'), dtype('float32'), dtype('float32'), dtype('float32'), dtype('float32'), dtype('float32'), dtype('float32'), dtype('float32'), dtype('float32'), dtype('float32'), dtype('float32'), dtype('float32'), dtype('float32'), dtype('float32'), dtype('float32'), dtype('float32'), dtype('float32'), dtype('float32'), dtype('float32'), dtype('float32'), dtype('float32'), dtype('float32'), dtype('float32'), dtype('float32'), dtype('float32'), dtype('float32'), dtype('float32'), dtype('float32'), dtype('float32'), dtype('float32'), dtype('float32'), dtype('float32'), dtype('float32'), dtype('float32'), dtype('float32'), dtype('float32'), dtype('float32'), dtype('float32'), dtype('float32'), dtype('float32'), dtype('float32'), dtype('float32'), dtype('float32'), dtype('float32'), dtype('float32'), dtype('float32'), dtype('float32'), dtype('float32'), dtype('float32'), dtype('float32'), dtype('float32'), dtype('float32'), dtype('float32'), dtype('float32'), dtype('float32'), dtype('float32'), dtype('float32'), dtype('float32'), dtype('float32'), dtype('float32'), dtype('float32'), dtype('float32'), dtype('float32'), dtype('float32'), dtype('float32'), dtype('float32'), dtype('float32'), dtype('float32'), dtype('float32'), dtype('float32'), dtype('float32'), dtype('float32'), dtype('float32'), dtype('float32'), dtype('float32'), dtype('float32'), dtype('float32'), dtype('float32'), dtype('float32'), dtype('float32'), dtype('float32'), dtype('float32'), dtype('float32'), dtype('float32'), dtype('float32'), dtype('float32'), dtype('float32'), dtype('float32'), dtype('float32'), dtype('float32'), dtype('float32'), dtype('float32'), dtype('float32'), dtype('float32'), dtype('float32'), dtype('float32'), dtype('float32'), dtype('float32'), dtype('float32'), dtype('float32'), dtype('float32'), dtype('float32'), dtype('float32'), dtype('float32'), dtype('float32'), dtype('float32'), dtype('float32'), dtype('float32'), dtype('float32'), dtype('float32'), dtype('float32'), dtype('float32'), dtype('float32'), dtype('float32'), dtype('float32'), dtype('float32'), dtype('float32'), dtype('float32'), dtype('float32'), dtype('float32'), dtype('float32'), dtype('float32'), dtype('float32'), dtype('float32'), dtype('float32'), dtype('float32'), dtype('float32'), dtype('float32'), dtype('float32'), dtype('float32'), dtype('float32'), dtype('float32'), dtype('float32'), dtype('float32'), dtype('float32'), dtype('float32'), dtype('float32'), dtype('float32'), dtype('float32'), dtype('float32'), dtype('float32'), dtype('float32'), dtype('float32'), dtype('float32'), dtype('float32'), dtype('float32'), dtype('float32'), dtype('float32'), dtype('float32'), dtype('float32'), dtype('float32'), dtype('float32'), dtype('float32'), dtype('float32'), dtype('float32'), dtype('float32'), dtype('float32'), dtype('float32'), dtype('float32'), dtype('float32'), dtype('float32'), dtype('float32'), dtype('float32'), dtype('float32'), dtype('float32'), dtype('float32'), dtype('float32'), dtype('float32'), dtype('float32'), dtype('float32'), dtype('float32'), dtype('float32'), dtype('float32'), dtype('float32'), dtype('float32'), dtype('float32'), dtype('float32'), dtype('float32'), dtype('float32'), dtype('float32'), dtype('float32'), dtype('float32'), dtype('float32'), dtype('float32'), dtype('float32'), dtype('float32'), dtype('float32'), dtype('float32'), dtype('float32'), dtype('float32'), dtype('float32'), dtype('float32'), dtype('float32'), dtype('float32'), dtype('float32'), dtype('float32'), dtype('float32'), dtype('float32'), dtype('float32'), dtype('float32'), dtype('float32'), dtype('float32'), dtype('float32'), dtype('float32'), dtype('float32'), dtype('float32'), dtype('float32'), dtype('float32'), dtype('float32'), dtype('float32'), dtype('float32'), dtype('float32'), dtype('float32'), dtype('float32'), dtype('float32'), dtype('float32'), dtype('float32'), dtype('float32'), dtype('float32'), dtype('float32'), dtype('float32'), dtype('float32'), dtype('float32'), dtype('float32'), dtype('float32'), dtype('float32'), dtype('float32'), dtype('float32'), dtype('float32'), dtype('float32'), dtype('float32'), dtype('float32'), dtype('float32'), dtype('float32'), dtype('float32'), dtype('float32'), dtype('float32'), dtype('float32'), dtype('float32'), dtype('float32'), dtype('float32'), dtype('float32'), dtype('float32'), dtype('float32'), dtype('float32'), dtype('float32'), dtype('float32'), dtype('float32'), dtype('float32'), dtype('float32'), dtype('float32'), dtype('float32'), dtype('float32'), dtype('float32'), dtype('float32'), dtype('float32'), dtype('float32'), dtype('float32'), dtype('float32'), dtype('float32'), dtype('float32'), dtype('float32'), dtype('float32'), dtype('float32'), dtype('float32'), dtype('float32'), dtype('float32'), dtype('float32'), dtype('float32'), dtype('float32'), dtype('float32'), dtype('float32'), dtype('float32'), dtype('float32'), dtype('float32'), dtype('float32'), dtype('float32'), dtype('float32'), dtype('float32'), dtype('float32'), dtype('float32'), dtype('float32'), dtype('float32'), dtype('float32'), dtype('float32'), dtype('float32'), dtype('float32'), dtype('float32'), dtype('float32'), dtype('float32'), dtype('float32'), dtype('float32'), dtype('float32'), dtype('float32'), dtype('float32'), dtype('float32'), dtype('float32'), dtype('float32'), dtype('float32'), dtype('float32'), dtype('float32'), dtype('float32'), dtype('float32'), dtype('float32'), dtype('float32'), dtype('float32'), dtype('float32'), dtype('float32'), dtype('float32'), dtype('float32'), dtype('float32'), dtype('float32'), dtype('float32'), dtype('float32'), dtype('float32'), dtype('float32'), dtype('float32'), dtype('float32'), dtype('float32'), dtype('float32'), dtype('float32'), dtype('float32'), dtype('float32'), dtype('float32'), dtype('float32'), dtype('float32'), dtype('float32'), dtype('float32'), dtype('float32'), dtype('float32'), dtype('float32'), dtype('float32'), dtype('float32'), dtype('float32'), dtype('float32'), dtype('float32'), dtype('float32'), dtype('float32'), dtype('float32'), dtype('float32'), dtype('float32'), dtype('float32'), dtype('float32'), dtype('float32'), dtype('float32'), dtype('float32'), dtype('float32'), dtype('float32'), dtype('float32'), dtype('float32'), dtype('float32'), dtype('float32'), dtype('float32'), dtype('float32'), dtype('float32'), dtype('float32'), dtype('float32'), dtype('float32'), dtype('float32'), dtype('float32'), dtype('float32'), dtype('float32'), dtype('float32'), dtype('float32'), dtype('float32'), dtype('float32'), dtype('float32'), dtype('float32'), dtype('float32'), dtype('float32'), dtype('float32'), dtype('float32'), dtype('float32'), dtype('float32'), dtype('float32'), dtype('float32'), dtype('float32'), dtype('float32'), dtype('float32'), dtype('float32'), dtype('float32'), dtype('float32'), dtype('float32'), dtype('float32'), dtype('float32'), dtype('float32'), dtype('float32'), dtype('float32'), dtype('float32'), dtype('float32'), dtype('float32'), dtype('float32'), dtype('float32'), dtype('float32'), dtype('float32'), dtype('float32'), dtype('float32'), dtype('float32'), dtype('float32'), dtype('float32'), dtype('float32'), dtype('float32'), dtype('float32'), dtype('float32'), dtype('float32'), dtype('float32'), dtype('float32'), dtype('float32'), dtype('float32'), dtype('float32'), dtype('float32'), dtype('float32'), dtype('float32'), dtype('float32'), dtype('float32'), dtype('float32'), dtype('float32'), dtype('float32'), dtype('float32'), dtype('float32'), dtype('float32'), dtype('float32'), dtype('float32'), dtype('float32'), dtype('float32'), dtype('float32'), dtype('float32'), dtype('float32'), dtype('float32'), dtype('float32'), dtype('float32'), dtype('float32'), dtype('float32'), dtype('float32'), dtype('float32'), dtype('float32'), dtype('float32'), dtype('float32'), dtype('float32'), dtype('float32'), dtype('float32'), dtype('float32'), dtype('float32'), dtype('float32'), dtype('float32'), dtype('float32'), dtype('float32'), dtype('float32'), dtype('float32'), dtype('float32'), dtype('float32'), dtype('float32'), dtype('float32'), dtype('float32'), dtype('float32'), dtype('float32'), dtype('float32'), dtype('float32'), dtype('float32'), dtype('float32'), dtype('float32'), dtype('float32'), dtype('float32'), dtype('float32'), dtype('float32'), dtype('float32'), dtype('float32'), dtype('float32'), dtype('float32'), dtype('float32'), dtype('float32'), dtype('float32'), dtype('float32'), dtype('float32'), dtype('float32'), dtype('float32'), dtype('float32'), dtype('float32'), dtype('float32'), dtype('float32'), dtype('float32'), dtype('float32'), dtype('float32'), dtype('float32'), dtype('float32'), dtype('float32'), dtype('float32'), dtype('float32'), dtype('float32'), dtype('float32'), dtype('float32'), dtype('float32'), dtype('float32'), dtype('float32'), dtype('float32'), dtype('float32'), dtype('float32'), dtype('float32'), dtype('float32'), dtype('float32'), dtype('float32'), dtype('float32'), dtype('float32'), dtype('float32'), dtype('float32'), dtype('float32'), dtype('float32'), dtype('float32'), dtype('float32'), dtype('float32'), dtype('float32'), dtype('float32'), dtype('float32'), dtype('float32'), dtype('float32'), dtype('float32'), dtype('float32'), dtype('float32'), dtype('float32'), dtype('float32'), dtype('float32'), dtype('float32'), dtype('float32'), dtype('float32'), dtype('float32'), dtype('float32'), dtype('float32'), dtype('float32'), dtype('float32'), dtype('float32'), dtype('float32'), dtype('float32'), dtype('float32'), dtype('float32'), dtype('float32'), dtype('float32'), dtype('float32'), dtype('float32'), dtype('float32'), dtype('float32')]\n"
     ]
    }
   ],
   "source": [
    "dataTypeSeries = X_train.dtypes\n",
    "print('Data type of each column of Dataframe :')\n",
    "print(list(dataTypeSeries))"
   ]
  },
  {
   "cell_type": "code",
   "execution_count": 4,
   "metadata": {},
   "outputs": [
    {
     "name": "stdout",
     "output_type": "stream",
     "text": [
      "Started at 2020-12-28 12:35:53.073117\n",
      "Load data (validation) process took 0:00:01.793506 seconds.\n"
     ]
    }
   ],
   "source": [
    "start = datetime.now()\n",
    "print(f'Started at {start}')\n",
    "\n",
    "X_validation = pd.read_parquet('validation.parquet')\n",
    "y_validation = pd.read_parquet('../data/raw/val_labels.parquet').values.flatten()\n",
    "\n",
    "print(f'Load data (validation) process took {datetime.now() - start} seconds.')"
   ]
  },
  {
   "cell_type": "code",
   "execution_count": 5,
   "metadata": {},
   "outputs": [],
   "source": [
    "nn_model_id = 'retrained_sherlock5'"
   ]
  },
  {
   "cell_type": "markdown",
   "metadata": {},
   "source": [
    "### Re-train Sherlock"
   ]
  },
  {
   "cell_type": "code",
   "execution_count": 6,
   "metadata": {},
   "outputs": [
    {
     "name": "stdout",
     "output_type": "stream",
     "text": [
      "Started at 2020-12-28 12:36:10.209264\n"
     ]
    },
    {
     "name": "stderr",
     "output_type": "stream",
     "text": [
      "WARNING: Logging before flag parsing goes to stderr.\n",
      "W1228 12:36:10.422409 4578991552 deprecation.py:506] From /Users/lowecg/source/private-github/sherlock-project/venv/lib/python3.7/site-packages/tensorflow_core/python/ops/init_ops.py:97: calling Zeros.__init__ (from tensorflow.python.ops.init_ops) with dtype is deprecated and will be removed in a future version.\n",
      "Instructions for updating:\n",
      "Call initializer instance with the dtype argument instead of passing it to the constructor\n",
      "W1228 12:36:10.423593 4578991552 deprecation.py:506] From /Users/lowecg/source/private-github/sherlock-project/venv/lib/python3.7/site-packages/tensorflow_core/python/ops/init_ops.py:97: calling Ones.__init__ (from tensorflow.python.ops.init_ops) with dtype is deprecated and will be removed in a future version.\n",
      "Instructions for updating:\n",
      "Call initializer instance with the dtype argument instead of passing it to the constructor\n",
      "W1228 12:36:10.427454 4578991552 deprecation.py:506] From /Users/lowecg/source/private-github/sherlock-project/venv/lib/python3.7/site-packages/tensorflow_core/python/ops/init_ops.py:97: calling VarianceScaling.__init__ (from tensorflow.python.ops.init_ops) with dtype is deprecated and will be removed in a future version.\n",
      "Instructions for updating:\n",
      "Call initializer instance with the dtype argument instead of passing it to the constructor\n",
      "W1228 12:36:10.447205 4578991552 deprecation.py:506] From /Users/lowecg/source/private-github/sherlock-project/venv/lib/python3.7/site-packages/tensorflow_core/python/ops/resource_variable_ops.py:1630: calling BaseResourceVariable.__init__ (from tensorflow.python.ops.resource_variable_ops) with constraint is deprecated and will be removed in a future version.\n",
      "Instructions for updating:\n",
      "If using Keras pass *_constraint arguments to layers.\n"
     ]
    },
    {
     "name": "stdout",
     "output_type": "stream",
     "text": [
      "Successfully loaded and compiled model, now fitting model on data.\n",
      "Train on 412059 samples, validate on 137353 samples\n",
      "Epoch 1/100\n",
      "412059/412059 [==============================] - 64s 155us/sample - loss: 2.0388 - categorical_accuracy: 0.5920 - val_loss: 1.3346 - val_categorical_accuracy: 0.7463\n",
      "Epoch 2/100\n",
      "412059/412059 [==============================] - 60s 146us/sample - loss: 1.3819 - categorical_accuracy: 0.7308 - val_loss: 1.1625 - val_categorical_accuracy: 0.7822\n",
      "Epoch 3/100\n",
      "412059/412059 [==============================] - 60s 145us/sample - loss: 1.2381 - categorical_accuracy: 0.7603 - val_loss: 1.0819 - val_categorical_accuracy: 0.7989\n",
      "Epoch 4/100\n",
      "412059/412059 [==============================] - 60s 145us/sample - loss: 1.1503 - categorical_accuracy: 0.7780 - val_loss: 1.0266 - val_categorical_accuracy: 0.8092\n",
      "Epoch 5/100\n",
      "412059/412059 [==============================] - 60s 145us/sample - loss: 1.0870 - categorical_accuracy: 0.7905 - val_loss: 0.9832 - val_categorical_accuracy: 0.8158\n",
      "Epoch 6/100\n",
      "412059/412059 [==============================] - 60s 146us/sample - loss: 1.0341 - categorical_accuracy: 0.7999 - val_loss: 0.9598 - val_categorical_accuracy: 0.8224\n",
      "Epoch 7/100\n",
      "412059/412059 [==============================] - 60s 145us/sample - loss: 0.9906 - categorical_accuracy: 0.8071 - val_loss: 0.9202 - val_categorical_accuracy: 0.8283\n",
      "Epoch 8/100\n",
      "412059/412059 [==============================] - 60s 145us/sample - loss: 0.9550 - categorical_accuracy: 0.8137 - val_loss: 0.8870 - val_categorical_accuracy: 0.8336\n",
      "Epoch 9/100\n",
      "412059/412059 [==============================] - 60s 146us/sample - loss: 0.9226 - categorical_accuracy: 0.8186 - val_loss: 0.8722 - val_categorical_accuracy: 0.8359\n",
      "Epoch 10/100\n",
      "412059/412059 [==============================] - 60s 146us/sample - loss: 0.8941 - categorical_accuracy: 0.8233 - val_loss: 0.8510 - val_categorical_accuracy: 0.8377\n",
      "Epoch 11/100\n",
      "412059/412059 [==============================] - 61s 147us/sample - loss: 0.8711 - categorical_accuracy: 0.8273 - val_loss: 0.8389 - val_categorical_accuracy: 0.8407\n",
      "Epoch 12/100\n",
      "412059/412059 [==============================] - 61s 147us/sample - loss: 0.8467 - categorical_accuracy: 0.8311 - val_loss: 0.8094 - val_categorical_accuracy: 0.8454\n",
      "Epoch 13/100\n",
      "412059/412059 [==============================] - 62s 151us/sample - loss: 0.8270 - categorical_accuracy: 0.8340 - val_loss: 0.7963 - val_categorical_accuracy: 0.8460\n",
      "Epoch 14/100\n",
      "412059/412059 [==============================] - 63s 152us/sample - loss: 0.8085 - categorical_accuracy: 0.8371 - val_loss: 0.7917 - val_categorical_accuracy: 0.8493\n",
      "Epoch 15/100\n",
      "412059/412059 [==============================] - 62s 151us/sample - loss: 0.7901 - categorical_accuracy: 0.8403 - val_loss: 0.7841 - val_categorical_accuracy: 0.8517\n",
      "Epoch 16/100\n",
      "412059/412059 [==============================] - 62s 150us/sample - loss: 0.7766 - categorical_accuracy: 0.8423 - val_loss: 0.7628 - val_categorical_accuracy: 0.8520\n",
      "Epoch 17/100\n",
      "412059/412059 [==============================] - 61s 148us/sample - loss: 0.7599 - categorical_accuracy: 0.8445 - val_loss: 0.7518 - val_categorical_accuracy: 0.8543\n",
      "Epoch 18/100\n",
      "412059/412059 [==============================] - 61s 149us/sample - loss: 0.7473 - categorical_accuracy: 0.8467 - val_loss: 0.7486 - val_categorical_accuracy: 0.8554\n",
      "Epoch 19/100\n",
      "412059/412059 [==============================] - 61s 147us/sample - loss: 0.7346 - categorical_accuracy: 0.8489 - val_loss: 0.7372 - val_categorical_accuracy: 0.8557\n",
      "Epoch 20/100\n",
      "412059/412059 [==============================] - 61s 148us/sample - loss: 0.7229 - categorical_accuracy: 0.8508 - val_loss: 0.7210 - val_categorical_accuracy: 0.8582\n",
      "Epoch 21/100\n",
      "412059/412059 [==============================] - 61s 148us/sample - loss: 0.7119 - categorical_accuracy: 0.8524 - val_loss: 0.7196 - val_categorical_accuracy: 0.8596\n",
      "Epoch 22/100\n",
      "412059/412059 [==============================] - 61s 148us/sample - loss: 0.7015 - categorical_accuracy: 0.8535 - val_loss: 0.7098 - val_categorical_accuracy: 0.8608\n",
      "Epoch 23/100\n",
      "412059/412059 [==============================] - 61s 148us/sample - loss: 0.6920 - categorical_accuracy: 0.8559 - val_loss: 0.7052 - val_categorical_accuracy: 0.8617\n",
      "Epoch 24/100\n",
      "412059/412059 [==============================] - 61s 148us/sample - loss: 0.6842 - categorical_accuracy: 0.8566 - val_loss: 0.6993 - val_categorical_accuracy: 0.8629\n",
      "Epoch 25/100\n",
      "412059/412059 [==============================] - 60s 146us/sample - loss: 0.6759 - categorical_accuracy: 0.8584 - val_loss: 0.7073 - val_categorical_accuracy: 0.8620\n",
      "Epoch 26/100\n",
      "412059/412059 [==============================] - 60s 146us/sample - loss: 0.6676 - categorical_accuracy: 0.8600 - val_loss: 0.6921 - val_categorical_accuracy: 0.8632\n",
      "Epoch 27/100\n",
      "412059/412059 [==============================] - 62s 150us/sample - loss: 0.6598 - categorical_accuracy: 0.8608 - val_loss: 0.6878 - val_categorical_accuracy: 0.8624\n",
      "Epoch 28/100\n",
      "412059/412059 [==============================] - 61s 148us/sample - loss: 0.6530 - categorical_accuracy: 0.8621 - val_loss: 0.6767 - val_categorical_accuracy: 0.8653\n",
      "Epoch 29/100\n",
      "412059/412059 [==============================] - 61s 149us/sample - loss: 0.6475 - categorical_accuracy: 0.8632 - val_loss: 0.6758 - val_categorical_accuracy: 0.8656\n",
      "Epoch 30/100\n",
      "412059/412059 [==============================] - 61s 149us/sample - loss: 0.6399 - categorical_accuracy: 0.8643 - val_loss: 0.6762 - val_categorical_accuracy: 0.8665\n",
      "Epoch 31/100\n",
      "412059/412059 [==============================] - 62s 150us/sample - loss: 0.6336 - categorical_accuracy: 0.8657 - val_loss: 0.6722 - val_categorical_accuracy: 0.8680\n",
      "Epoch 32/100\n",
      "412059/412059 [==============================] - 63s 152us/sample - loss: 0.6295 - categorical_accuracy: 0.8665 - val_loss: 0.6622 - val_categorical_accuracy: 0.8681\n",
      "Epoch 33/100\n",
      "412059/412059 [==============================] - 61s 147us/sample - loss: 0.6243 - categorical_accuracy: 0.8670 - val_loss: 0.6625 - val_categorical_accuracy: 0.8683\n",
      "Epoch 34/100\n",
      "412059/412059 [==============================] - 61s 147us/sample - loss: 0.6195 - categorical_accuracy: 0.8673 - val_loss: 0.6705 - val_categorical_accuracy: 0.8681\n",
      "Epoch 35/100\n",
      "412059/412059 [==============================] - 61s 149us/sample - loss: 0.6125 - categorical_accuracy: 0.8694 - val_loss: 0.6611 - val_categorical_accuracy: 0.8699\n",
      "Epoch 36/100\n",
      "412059/412059 [==============================] - 61s 147us/sample - loss: 0.6092 - categorical_accuracy: 0.8695 - val_loss: 0.6609 - val_categorical_accuracy: 0.8700\n",
      "Epoch 37/100\n",
      "412059/412059 [==============================] - 60s 147us/sample - loss: 0.6050 - categorical_accuracy: 0.8705 - val_loss: 0.6521 - val_categorical_accuracy: 0.8694\n",
      "Epoch 38/100\n",
      "412059/412059 [==============================] - 60s 146us/sample - loss: 0.5997 - categorical_accuracy: 0.8714 - val_loss: 0.6499 - val_categorical_accuracy: 0.8696\n",
      "Epoch 39/100\n",
      "412059/412059 [==============================] - 60s 146us/sample - loss: 0.5959 - categorical_accuracy: 0.8716 - val_loss: 0.6468 - val_categorical_accuracy: 0.8710\n",
      "Epoch 40/100\n",
      "412059/412059 [==============================] - 61s 147us/sample - loss: 0.5915 - categorical_accuracy: 0.8729 - val_loss: 0.6508 - val_categorical_accuracy: 0.8710\n",
      "Epoch 41/100\n",
      "412059/412059 [==============================] - 61s 147us/sample - loss: 0.5886 - categorical_accuracy: 0.8734 - val_loss: 0.6445 - val_categorical_accuracy: 0.8716\n",
      "Epoch 42/100\n",
      "412059/412059 [==============================] - 60s 146us/sample - loss: 0.5847 - categorical_accuracy: 0.8743 - val_loss: 0.6421 - val_categorical_accuracy: 0.8730\n",
      "Epoch 43/100\n",
      "412059/412059 [==============================] - 61s 147us/sample - loss: 0.5816 - categorical_accuracy: 0.8745 - val_loss: 0.6493 - val_categorical_accuracy: 0.8724\n",
      "Epoch 44/100\n",
      "412059/412059 [==============================] - 61s 147us/sample - loss: 0.5788 - categorical_accuracy: 0.8750 - val_loss: 0.6489 - val_categorical_accuracy: 0.8745\n",
      "Epoch 45/100\n",
      "412059/412059 [==============================] - 61s 147us/sample - loss: 0.5742 - categorical_accuracy: 0.8763 - val_loss: 0.6411 - val_categorical_accuracy: 0.8732\n",
      "Epoch 46/100\n"
     ]
    },
    {
     "name": "stdout",
     "output_type": "stream",
     "text": [
      "412059/412059 [==============================] - 60s 146us/sample - loss: 0.5722 - categorical_accuracy: 0.8766 - val_loss: 0.6369 - val_categorical_accuracy: 0.8736\n",
      "Epoch 47/100\n",
      "412059/412059 [==============================] - 60s 146us/sample - loss: 0.5682 - categorical_accuracy: 0.8776 - val_loss: 0.6332 - val_categorical_accuracy: 0.8732\n",
      "Epoch 48/100\n",
      "412059/412059 [==============================] - 60s 146us/sample - loss: 0.5656 - categorical_accuracy: 0.8777 - val_loss: 0.6342 - val_categorical_accuracy: 0.8731\n",
      "Epoch 49/100\n",
      "412059/412059 [==============================] - 60s 146us/sample - loss: 0.5635 - categorical_accuracy: 0.8777 - val_loss: 0.6291 - val_categorical_accuracy: 0.8739\n",
      "Epoch 50/100\n",
      "412059/412059 [==============================] - 62s 150us/sample - loss: 0.5605 - categorical_accuracy: 0.8784 - val_loss: 0.6288 - val_categorical_accuracy: 0.8754\n",
      "Epoch 51/100\n",
      "412059/412059 [==============================] - 60s 147us/sample - loss: 0.5577 - categorical_accuracy: 0.8794 - val_loss: 0.6305 - val_categorical_accuracy: 0.8750\n",
      "Epoch 52/100\n",
      "412059/412059 [==============================] - 60s 147us/sample - loss: 0.5557 - categorical_accuracy: 0.8798 - val_loss: 0.6416 - val_categorical_accuracy: 0.8754\n",
      "Epoch 53/100\n",
      "412059/412059 [==============================] - 61s 147us/sample - loss: 0.5544 - categorical_accuracy: 0.8798 - val_loss: 0.6246 - val_categorical_accuracy: 0.8749\n",
      "Epoch 54/100\n",
      "412059/412059 [==============================] - 62s 150us/sample - loss: 0.5514 - categorical_accuracy: 0.8805 - val_loss: 0.6199 - val_categorical_accuracy: 0.8751\n",
      "Epoch 55/100\n",
      "412059/412059 [==============================] - 62s 151us/sample - loss: 0.5481 - categorical_accuracy: 0.8816 - val_loss: 0.6232 - val_categorical_accuracy: 0.8764\n",
      "Epoch 56/100\n",
      "412059/412059 [==============================] - 61s 148us/sample - loss: 0.5460 - categorical_accuracy: 0.8812 - val_loss: 0.6248 - val_categorical_accuracy: 0.8766\n",
      "Epoch 57/100\n",
      "412059/412059 [==============================] - 61s 148us/sample - loss: 0.5443 - categorical_accuracy: 0.8819 - val_loss: 0.6293 - val_categorical_accuracy: 0.8757\n",
      "Epoch 58/100\n",
      "412059/412059 [==============================] - 61s 147us/sample - loss: 0.5414 - categorical_accuracy: 0.8826 - val_loss: 0.6167 - val_categorical_accuracy: 0.8764\n",
      "Epoch 59/100\n",
      "412059/412059 [==============================] - 61s 147us/sample - loss: 0.5400 - categorical_accuracy: 0.8831 - val_loss: 0.6232 - val_categorical_accuracy: 0.8756\n",
      "Epoch 60/100\n",
      "412059/412059 [==============================] - 61s 147us/sample - loss: 0.5376 - categorical_accuracy: 0.8830 - val_loss: 0.6213 - val_categorical_accuracy: 0.8768\n",
      "Epoch 61/100\n",
      "412059/412059 [==============================] - 61s 147us/sample - loss: 0.5353 - categorical_accuracy: 0.8839 - val_loss: 0.6263 - val_categorical_accuracy: 0.8778\n",
      "Epoch 62/100\n",
      "412059/412059 [==============================] - 61s 148us/sample - loss: 0.5348 - categorical_accuracy: 0.8836 - val_loss: 0.6162 - val_categorical_accuracy: 0.8775\n",
      "Epoch 63/100\n",
      "412059/412059 [==============================] - 61s 147us/sample - loss: 0.5322 - categorical_accuracy: 0.8843 - val_loss: 0.6217 - val_categorical_accuracy: 0.8786\n",
      "Epoch 64/100\n",
      "412059/412059 [==============================] - 61s 148us/sample - loss: 0.5314 - categorical_accuracy: 0.8845 - val_loss: 0.6127 - val_categorical_accuracy: 0.8782\n",
      "Epoch 65/100\n",
      "412059/412059 [==============================] - 61s 147us/sample - loss: 0.5297 - categorical_accuracy: 0.8846 - val_loss: 0.6172 - val_categorical_accuracy: 0.8776\n",
      "Epoch 66/100\n",
      "412059/412059 [==============================] - 61s 148us/sample - loss: 0.5278 - categorical_accuracy: 0.8857 - val_loss: 0.6142 - val_categorical_accuracy: 0.8778\n",
      "Epoch 67/100\n",
      "412059/412059 [==============================] - 62s 149us/sample - loss: 0.5264 - categorical_accuracy: 0.8856 - val_loss: 0.6127 - val_categorical_accuracy: 0.8780\n",
      "Epoch 68/100\n",
      "412059/412059 [==============================] - 62s 150us/sample - loss: 0.5237 - categorical_accuracy: 0.8861 - val_loss: 0.6179 - val_categorical_accuracy: 0.8783\n",
      "Epoch 69/100\n",
      "412059/412059 [==============================] - 62s 149us/sample - loss: 0.5233 - categorical_accuracy: 0.8869 - val_loss: 0.6116 - val_categorical_accuracy: 0.8785\n",
      "Epoch 70/100\n",
      "412059/412059 [==============================] - 61s 148us/sample - loss: 0.5221 - categorical_accuracy: 0.8867 - val_loss: 0.6131 - val_categorical_accuracy: 0.8788\n",
      "Epoch 71/100\n",
      "412059/412059 [==============================] - 62s 150us/sample - loss: 0.5199 - categorical_accuracy: 0.8870 - val_loss: 0.6210 - val_categorical_accuracy: 0.8788\n",
      "Epoch 72/100\n",
      "412059/412059 [==============================] - 61s 149us/sample - loss: 0.5180 - categorical_accuracy: 0.8875 - val_loss: 0.6149 - val_categorical_accuracy: 0.8790\n",
      "Epoch 73/100\n",
      "412059/412059 [==============================] - 61s 147us/sample - loss: 0.5167 - categorical_accuracy: 0.8872 - val_loss: 0.6231 - val_categorical_accuracy: 0.8784\n",
      "Epoch 74/100\n",
      "412059/412059 [==============================] - 61s 149us/sample - loss: 0.5174 - categorical_accuracy: 0.8878 - val_loss: 0.6156 - val_categorical_accuracy: 0.8789\n",
      "Retrained Sherlock.\n",
      "Trained and saved new model.\n",
      "Finished at 2020-12-28 13:51:21.305282, took 1:15:11.096032 seconds\n"
     ]
    }
   ],
   "source": [
    "start = datetime.now()\n",
    "print(f'Started at {start}')\n",
    "\n",
    "train_sherlock(X_train, y_train, X_validation, y_validation, nn_id=nn_model_id);\n",
    "\n",
    "print('Trained and saved new model.')\n",
    "print(f'Finished at {datetime.now()}, took {datetime.now() - start} seconds')"
   ]
  },
  {
   "cell_type": "markdown",
   "metadata": {},
   "source": [
    "### Load test set"
   ]
  },
  {
   "cell_type": "code",
   "execution_count": 7,
   "metadata": {},
   "outputs": [
    {
     "name": "stdout",
     "output_type": "stream",
     "text": [
      "Started at 2020-12-28 13:51:21.311048\n",
      "Trained and saved new model.\n",
      "Finished at 2020-12-28 13:51:23.251467, took 0:00:01.940431 seconds\n"
     ]
    }
   ],
   "source": [
    "start = datetime.now()\n",
    "print(f'Started at {start}')\n",
    "\n",
    "X_test = pd.read_parquet('test.parquet')\n",
    "y_test = pd.read_parquet('../data/raw/test_labels.parquet').values.flatten()\n",
    "\n",
    "print('Trained and saved new model.')\n",
    "print(f'Finished at {datetime.now()}, took {datetime.now() - start} seconds')"
   ]
  },
  {
   "cell_type": "markdown",
   "metadata": {},
   "source": [
    "### Make prediction"
   ]
  },
  {
   "cell_type": "code",
   "execution_count": 8,
   "metadata": {},
   "outputs": [],
   "source": [
    "predicted_labels = predict_sherlock(X_test, nn_id=nn_model_id)"
   ]
  },
  {
   "cell_type": "code",
   "execution_count": 9,
   "metadata": {},
   "outputs": [
    {
     "name": "stdout",
     "output_type": "stream",
     "text": [
      "prediction count 137353, type = <class 'numpy.ndarray'>\n"
     ]
    },
    {
     "data": {
      "text/plain": [
       "0.8774348909165712"
      ]
     },
     "execution_count": 9,
     "metadata": {},
     "output_type": "execute_result"
    }
   ],
   "source": [
    "print(f'prediction count {len(predicted_labels)}, type = {type(predicted_labels)}')\n",
    "\n",
    "size=len(y_test)\n",
    "\n",
    "# Should be fully deterministic too.\n",
    "f1_score(y_test[:size], predicted_labels[:size], average=\"weighted\")"
   ]
  },
  {
   "cell_type": "code",
   "execution_count": null,
   "metadata": {},
   "outputs": [],
   "source": [
    "# Best results\n",
    "# 0.8795141085938891"
   ]
  },
  {
   "cell_type": "markdown",
   "metadata": {},
   "source": [
    "## Review errors"
   ]
  },
  {
   "cell_type": "code",
   "execution_count": 26,
   "metadata": {},
   "outputs": [
    {
     "name": "stdout",
     "output_type": "stream",
     "text": [
      "[9] expected \"manufacturer\" but predicted \"brand\"\n",
      "[27] expected \"description\" but predicted \"notes\"\n",
      "[33] expected \"gender\" but predicted \"sex\"\n",
      "[38] expected \"code\" but predicted \"region\"\n",
      "[41] expected \"product\" but predicted \"name\"\n",
      "[71] expected \"company\" but predicted \"product\"\n",
      "[90] expected \"notes\" but predicted \"description\"\n",
      "[97] expected \"artist\" but predicted \"album\"\n",
      "[100] expected \"code\" but predicted \"command\"\n",
      "[101] expected \"area\" but predicted \"region\"\n",
      "[102] expected \"nationality\" but predicted \"country\"\n",
      "[120] expected \"manufacturer\" but predicted \"company\"\n",
      "[135] expected \"region\" but predicted \"city\"\n",
      "[139] expected \"order\" but predicted \"day\"\n",
      "[145] expected \"product\" but predicted \"brand\"\n",
      "[153] expected \"duration\" but predicted \"year\"\n",
      "[155] expected \"company\" but predicted \"artist\"\n",
      "[157] expected \"component\" but predicted \"category\"\n",
      "[165] expected \"brand\" but predicted \"publisher\"\n",
      "[180] expected \"service\" but predicted \"affiliate\"\n",
      "[183] expected \"brand\" but predicted \"category\"\n",
      "[197] expected \"product\" but predicted \"team Name\"\n",
      "[230] expected \"result\" but predicted \"description\"\n",
      "[231] expected \"position\" but predicted \"rank\"\n",
      "[250] expected \"weight\" but predicted \"depth\"\n",
      "[254] expected \"team\" but predicted \"team Name\"\n",
      "[272] expected \"area\" but predicted \"type\"\n",
      "[291] expected \"gender\" but predicted \"day\"\n",
      "[311] expected \"owner\" but predicted \"director\"\n",
      "[313] expected \"family\" but predicted \"club\"\n",
      "[315] expected \"sex\" but predicted \"gender\"\n",
      "[318] expected \"company\" but predicted \"product\"\n",
      "[327] expected \"position\" but predicted \"plays\"\n",
      "[336] expected \"region\" but predicted \"category\"\n",
      "[346] expected \"description\" but predicted \"company\"\n",
      "[362] expected \"jockey\" but predicted \"artist\"\n",
      "[373] expected \"sex\" but predicted \"gender\"\n",
      "[388] expected \"album\" but predicted \"artist\"\n",
      "[414] expected \"weight\" but predicted \"capacity\"\n",
      "[432] expected \"day\" but predicted \"weight\"\n",
      "[436] expected \"position\" but predicted \"rank\"\n",
      "[440] expected \"state\" but predicted \"elevation\"\n",
      "[444] expected \"name\" but predicted \"location\"\n",
      "[449] expected \"position\" but predicted \"plays\"\n",
      "[455] expected \"location\" but predicted \"publisher\"\n",
      "[480] expected \"category\" but predicted \"service\"\n",
      "[516] expected \"status\" but predicted \"gender\"\n",
      "[540] expected \"creator\" but predicted \"team Name\"\n",
      "[541] expected \"position\" but predicted \"age\"\n",
      "[558] expected \"age\" but predicted \"language\"\n",
      "[565] expected \"capacity\" but predicted \"year\"\n",
      "[573] expected \"affiliation\" but predicted \"area\"\n",
      "[575] expected \"position\" but predicted \"rank\"\n",
      "[576] expected \"team\" but predicted \"club\"\n",
      "[577] expected \"code\" but predicted \"area\"\n",
      "[591] expected \"location\" but predicted \"region\"\n",
      "[596] expected \"state\" but predicted \"age\"\n",
      "[598] expected \"person\" but predicted \"component\"\n",
      "[617] expected \"description\" but predicted \"duration\"\n",
      "[626] expected \"region\" but predicted \"owner\"\n",
      "[637] expected \"code\" but predicted \"rank\"\n",
      "[640] expected \"county\" but predicted \"city\"\n",
      "[645] expected \"day\" but predicted \"position\"\n",
      "[647] expected \"notes\" but predicted \"description\"\n",
      "[672] expected \"region\" but predicted \"club\"\n",
      "[674] expected \"area\" but predicted \"team\"\n",
      "[675] expected \"education\" but predicted \"position\"\n",
      "[688] expected \"area\" but predicted \"artist\"\n",
      "[697] expected \"team\" but predicted \"city\"\n",
      "[699] expected \"range\" but predicted \"notes\"\n",
      "[703] expected \"company\" but predicted \"manufacturer\"\n",
      "[704] expected \"name\" but predicted \"company\"\n",
      "[705] expected \"class\" but predicted \"type\"\n",
      "[719] expected \"brand\" but predicted \"isbn\"\n",
      "[722] expected \"director\" but predicted \"jockey\"\n",
      "[733] expected \"year\" but predicted \"species\"\n",
      "[740] expected \"city\" but predicted \"location\"\n",
      "[746] expected \"artist\" but predicted \"name\"\n",
      "[758] expected \"club\" but predicted \"notes\"\n",
      "[759] expected \"ranking\" but predicted \"rank\"\n",
      "[763] expected \"status\" but predicted \"result\"\n",
      "[772] expected \"year\" but predicted \"rank\"\n",
      "[780] expected \"region\" but predicted \"rank\"\n",
      "[796] expected \"symbol\" but predicted \"code\"\n",
      "[814] expected \"owner\" but predicted \"album\"\n",
      "[816] expected \"artist\" but predicted \"origin\"\n",
      "[819] expected \"class\" but predicted \"rank\"\n",
      "[833] expected \"company\" but predicted \"team Name\"\n",
      "[836] expected \"product\" but predicted \"area\"\n",
      "[837] expected \"city\" but predicted \"ranking\"\n",
      "[840] expected \"category\" but predicted \"type\"\n",
      "[842] expected \"sales\" but predicted \"code\"\n",
      "[843] expected \"credit\" but predicted \"album\"\n",
      "[850] expected \"type\" but predicted \"notes\"\n",
      "[853] expected \"description\" but predicted \"species\"\n",
      "[857] expected \"component\" but predicted \"product\"\n",
      "[865] expected \"person\" but predicted \"state\"\n",
      "[874] expected \"code\" but predicted \"position\"\n",
      "[880] expected \"duration\" but predicted \"age\"\n",
      "[885] expected \"sex\" but predicted \"rank\"\n",
      "[886] expected \"category\" but predicted \"team Name\"\n",
      "[903] expected \"position\" but predicted \"name\"\n",
      "[917] expected \"area\" but predicted \"credit\"\n",
      "[924] expected \"class\" but predicted \"album\"\n",
      "[927] expected \"sales\" but predicted \"elevation\"\n",
      "[942] expected \"class\" but predicted \"notes\"\n",
      "[952] expected \"artist\" but predicted \"album\"\n",
      "[965] expected \"collection\" but predicted \"product\"\n",
      "[980] expected \"type\" but predicted \"category\"\n",
      "[990] expected \"format\" but predicted \"command\"\n",
      "[996] expected \"category\" but predicted \"year\"\n",
      "Total mismatches: 111 (F1 score: 0.8883807996095029)\n"
     ]
    },
    {
     "data": {
      "text/plain": [
       "[('position', 7),\n",
       " ('code', 5),\n",
       " ('company', 5),\n",
       " ('area', 5),\n",
       " ('region', 5),\n",
       " ('description', 4),\n",
       " ('product', 4),\n",
       " ('artist', 4),\n",
       " ('category', 4),\n",
       " ('class', 4),\n",
       " ('brand', 3),\n",
       " ('team', 3),\n",
       " ('sex', 3),\n",
       " ('manufacturer', 2),\n",
       " ('gender', 2),\n",
       " ('notes', 2),\n",
       " ('duration', 2),\n",
       " ('component', 2),\n",
       " ('weight', 2),\n",
       " ('owner', 2),\n",
       " ('day', 2),\n",
       " ('state', 2),\n",
       " ('name', 2),\n",
       " ('location', 2),\n",
       " ('status', 2),\n",
       " ('person', 2),\n",
       " ('year', 2),\n",
       " ('city', 2),\n",
       " ('sales', 2),\n",
       " ('type', 2),\n",
       " ('nationality', 1),\n",
       " ('order', 1),\n",
       " ('service', 1),\n",
       " ('result', 1),\n",
       " ('family', 1),\n",
       " ('jockey', 1),\n",
       " ('album', 1),\n",
       " ('creator', 1),\n",
       " ('age', 1),\n",
       " ('capacity', 1),\n",
       " ('affiliation', 1),\n",
       " ('county', 1),\n",
       " ('education', 1),\n",
       " ('range', 1),\n",
       " ('director', 1),\n",
       " ('club', 1),\n",
       " ('ranking', 1),\n",
       " ('symbol', 1),\n",
       " ('credit', 1),\n",
       " ('collection', 1),\n",
       " ('format', 1)]"
      ]
     },
     "execution_count": 26,
     "metadata": {},
     "output_type": "execute_result"
    }
   ],
   "source": [
    "from collections import Counter\n",
    "\n",
    "size = 1000\n",
    "mismatches = list()\n",
    "\n",
    "for idx, k1 in enumerate(y_test[:size]):\n",
    "    k2 = predicted_labels[idx]\n",
    "\n",
    "    if k1 != k2:\n",
    "        mismatches.append(k1)\n",
    "#        if k1 in ('brand'):\n",
    "        print(f'[{idx}] expected \"{k1}\" but predicted \"{k2}\"')\n",
    "        \n",
    "f1 = f1_score(y_test[:size], predicted_labels[:size], average=\"weighted\")\n",
    "print(f'Total mismatches: {len(mismatches)} (F1 score: {f1})')\n",
    "\n",
    "data = Counter(mismatches)\n",
    "data.most_common()   # Returns all unique items and their counts"
   ]
  },
  {
   "cell_type": "code",
   "execution_count": 11,
   "metadata": {},
   "outputs": [],
   "source": [
    "test_samples = pd.read_parquet('../data/raw/test_values.parquet')"
   ]
  },
  {
   "cell_type": "code",
   "execution_count": 28,
   "metadata": {},
   "outputs": [
    {
     "name": "stdout",
     "output_type": "stream",
     "text": [
      "Predicted \"age\", actual label \"position\". Actual values:\n",
      "[[2, 4]]\n"
     ]
    }
   ],
   "source": [
    "from ast import literal_eval\n",
    "\n",
    "idx = 541\n",
    "original = test_samples.iloc[idx]\n",
    "converted = original.apply(literal_eval).to_list()\n",
    "\n",
    "print(f'Predicted \"{predicted_labels[idx]}\", actual label \"{y_test[idx]}\". Actual values:\\n{converted}')"
   ]
  },
  {
   "cell_type": "code",
   "execution_count": null,
   "metadata": {},
   "outputs": [],
   "source": []
  }
 ],
 "metadata": {
  "kernelspec": {
   "display_name": "Python 3",
   "language": "python",
   "name": "python3"
  },
  "language_info": {
   "codemirror_mode": {
    "name": "ipython",
    "version": 3
   },
   "file_extension": ".py",
   "mimetype": "text/x-python",
   "name": "python",
   "nbconvert_exporter": "python",
   "pygments_lexer": "ipython3",
   "version": "3.7.9"
  }
 },
 "nbformat": 4,
 "nbformat_minor": 4
}
