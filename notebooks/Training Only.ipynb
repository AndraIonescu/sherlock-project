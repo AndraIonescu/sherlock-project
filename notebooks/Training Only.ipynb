{
 "cells": [
  {
   "cell_type": "code",
   "execution_count": 1,
   "metadata": {},
   "outputs": [],
   "source": [
    "nn_model_id = 'retrained_sherlock7'"
   ]
  },
  {
   "cell_type": "code",
   "execution_count": 2,
   "metadata": {},
   "outputs": [],
   "source": [
    "import pandas as pd\n",
    "import numpy as np\n",
    "\n",
    "from sherlock.deploy.train_sherlock import train_sherlock\n",
    "from sherlock.deploy.predict_sherlock import predict_sherlock\n",
    "from datetime import datetime\n",
    "from sklearn.metrics import f1_score"
   ]
  },
  {
   "cell_type": "markdown",
   "metadata": {},
   "source": [
    "### Load training and validation sets"
   ]
  },
  {
   "cell_type": "code",
   "execution_count": 3,
   "metadata": {},
   "outputs": [
    {
     "name": "stdout",
     "output_type": "stream",
     "text": [
      "Started at 2020-12-31 10:01:09.253953\n",
      "Load data (train) process took 0:00:03.333291 seconds.\n"
     ]
    }
   ],
   "source": [
    "start = datetime.now()\n",
    "print(f'Started at {start}')\n",
    "\n",
    "X_train = pd.read_parquet('train.parquet')\n",
    "y_train = pd.read_parquet('../data/raw/train_labels.parquet').values.flatten()\n",
    "\n",
    "print(f'Load data (train) process took {datetime.now() - start} seconds.')"
   ]
  },
  {
   "cell_type": "code",
   "execution_count": 4,
   "metadata": {},
   "outputs": [
    {
     "name": "stdout",
     "output_type": "stream",
     "text": [
      "Distinct types for columns in the Dataframe (should be all float32):\n",
      "{dtype('float32')}\n"
     ]
    }
   ],
   "source": [
    "print('Distinct types for columns in the Dataframe (should be all float32):')\n",
    "print(set(X_train.dtypes))"
   ]
  },
  {
   "cell_type": "code",
   "execution_count": 5,
   "metadata": {},
   "outputs": [
    {
     "name": "stdout",
     "output_type": "stream",
     "text": [
      "Started at 2020-12-31 10:01:12.598487\n",
      "Load data (validation) process took 0:00:01.320111 seconds.\n"
     ]
    }
   ],
   "source": [
    "start = datetime.now()\n",
    "print(f'Started at {start}')\n",
    "\n",
    "X_validation = pd.read_parquet('validation.parquet')\n",
    "y_validation = pd.read_parquet('../data/raw/val_labels.parquet').values.flatten()\n",
    "\n",
    "print(f'Load data (validation) process took {datetime.now() - start} seconds.')"
   ]
  },
  {
   "cell_type": "markdown",
   "metadata": {},
   "source": [
    "### Re-train Sherlock"
   ]
  },
  {
   "cell_type": "code",
   "execution_count": 6,
   "metadata": {},
   "outputs": [
    {
     "name": "stdout",
     "output_type": "stream",
     "text": [
      "Started at 2020-12-31 10:01:13.923603\n"
     ]
    },
    {
     "name": "stderr",
     "output_type": "stream",
     "text": [
      "WARNING: Logging before flag parsing goes to stderr.\n",
      "W1231 10:01:14.128250 4476407232 deprecation.py:506] From /Users/lowecg/source/private-github/sherlock-project/venv/lib/python3.7/site-packages/tensorflow_core/python/ops/init_ops.py:97: calling Zeros.__init__ (from tensorflow.python.ops.init_ops) with dtype is deprecated and will be removed in a future version.\n",
      "Instructions for updating:\n",
      "Call initializer instance with the dtype argument instead of passing it to the constructor\n",
      "W1231 10:01:14.129240 4476407232 deprecation.py:506] From /Users/lowecg/source/private-github/sherlock-project/venv/lib/python3.7/site-packages/tensorflow_core/python/ops/init_ops.py:97: calling Ones.__init__ (from tensorflow.python.ops.init_ops) with dtype is deprecated and will be removed in a future version.\n",
      "Instructions for updating:\n",
      "Call initializer instance with the dtype argument instead of passing it to the constructor\n",
      "W1231 10:01:14.132912 4476407232 deprecation.py:506] From /Users/lowecg/source/private-github/sherlock-project/venv/lib/python3.7/site-packages/tensorflow_core/python/ops/init_ops.py:97: calling VarianceScaling.__init__ (from tensorflow.python.ops.init_ops) with dtype is deprecated and will be removed in a future version.\n",
      "Instructions for updating:\n",
      "Call initializer instance with the dtype argument instead of passing it to the constructor\n",
      "W1231 10:01:14.155380 4476407232 deprecation.py:506] From /Users/lowecg/source/private-github/sherlock-project/venv/lib/python3.7/site-packages/tensorflow_core/python/ops/resource_variable_ops.py:1630: calling BaseResourceVariable.__init__ (from tensorflow.python.ops.resource_variable_ops) with constraint is deprecated and will be removed in a future version.\n",
      "Instructions for updating:\n",
      "If using Keras pass *_constraint arguments to layers.\n"
     ]
    },
    {
     "name": "stdout",
     "output_type": "stream",
     "text": [
      "Successfully loaded and compiled model, now fitting model on data.\n",
      "Train on 412059 samples, validate on 137353 samples\n",
      "Epoch 1/100\n",
      "412059/412059 [==============================] - 65s 158us/sample - loss: 1.6124 - categorical_accuracy: 0.6976 - val_loss: 1.0390 - val_categorical_accuracy: 0.8285\n",
      "Epoch 2/100\n",
      "412059/412059 [==============================] - 64s 156us/sample - loss: 0.9660 - categorical_accuracy: 0.8359 - val_loss: 0.9434 - val_categorical_accuracy: 0.8498\n",
      "Epoch 3/100\n",
      "412059/412059 [==============================] - 63s 153us/sample - loss: 0.8520 - categorical_accuracy: 0.8591 - val_loss: 0.8939 - val_categorical_accuracy: 0.8570\n",
      "Epoch 4/100\n",
      "412059/412059 [==============================] - 62s 151us/sample - loss: 0.7871 - categorical_accuracy: 0.8708 - val_loss: 0.8584 - val_categorical_accuracy: 0.8626\n",
      "Epoch 5/100\n",
      "412059/412059 [==============================] - 63s 152us/sample - loss: 0.7389 - categorical_accuracy: 0.8788 - val_loss: 0.8305 - val_categorical_accuracy: 0.8669\n",
      "Epoch 6/100\n",
      "412059/412059 [==============================] - 63s 152us/sample - loss: 0.6995 - categorical_accuracy: 0.8852 - val_loss: 0.8000 - val_categorical_accuracy: 0.8707\n",
      "Epoch 7/100\n",
      "412059/412059 [==============================] - 63s 153us/sample - loss: 0.6678 - categorical_accuracy: 0.8895 - val_loss: 0.7773 - val_categorical_accuracy: 0.8736\n",
      "Epoch 8/100\n",
      "412059/412059 [==============================] - 63s 152us/sample - loss: 0.6396 - categorical_accuracy: 0.8935 - val_loss: 0.7638 - val_categorical_accuracy: 0.8745\n",
      "Epoch 9/100\n",
      "412059/412059 [==============================] - 64s 154us/sample - loss: 0.6147 - categorical_accuracy: 0.8968 - val_loss: 0.7466 - val_categorical_accuracy: 0.8764\n",
      "Epoch 10/100\n",
      "412059/412059 [==============================] - 68s 164us/sample - loss: 0.5925 - categorical_accuracy: 0.8998 - val_loss: 0.7441 - val_categorical_accuracy: 0.8788\n",
      "Epoch 11/100\n",
      "412059/412059 [==============================] - 62s 152us/sample - loss: 0.5723 - categorical_accuracy: 0.9027 - val_loss: 0.7307 - val_categorical_accuracy: 0.8795\n",
      "Epoch 12/100\n",
      "412059/412059 [==============================] - 61s 148us/sample - loss: 0.5550 - categorical_accuracy: 0.9043 - val_loss: 0.7090 - val_categorical_accuracy: 0.8817\n",
      "Epoch 13/100\n",
      "412059/412059 [==============================] - 63s 152us/sample - loss: 0.5362 - categorical_accuracy: 0.9073 - val_loss: 0.7002 - val_categorical_accuracy: 0.8814\n",
      "Epoch 14/100\n",
      "412059/412059 [==============================] - 63s 152us/sample - loss: 0.5219 - categorical_accuracy: 0.9091 - val_loss: 0.6982 - val_categorical_accuracy: 0.8828\n",
      "Epoch 15/100\n",
      "412059/412059 [==============================] - 62s 150us/sample - loss: 0.5078 - categorical_accuracy: 0.9109 - val_loss: 0.6873 - val_categorical_accuracy: 0.8828\n",
      "Epoch 16/100\n",
      "412059/412059 [==============================] - 62s 149us/sample - loss: 0.4950 - categorical_accuracy: 0.9119 - val_loss: 0.6741 - val_categorical_accuracy: 0.8847\n",
      "Epoch 17/100\n",
      "412059/412059 [==============================] - 62s 150us/sample - loss: 0.4827 - categorical_accuracy: 0.9144 - val_loss: 0.6896 - val_categorical_accuracy: 0.8851\n",
      "Epoch 18/100\n",
      "412059/412059 [==============================] - 62s 149us/sample - loss: 0.4707 - categorical_accuracy: 0.9160 - val_loss: 0.6663 - val_categorical_accuracy: 0.8854\n",
      "Epoch 19/100\n",
      "412059/412059 [==============================] - 62s 150us/sample - loss: 0.4605 - categorical_accuracy: 0.9171 - val_loss: 0.6730 - val_categorical_accuracy: 0.8868\n",
      "Epoch 20/100\n",
      "412059/412059 [==============================] - 62s 151us/sample - loss: 0.4497 - categorical_accuracy: 0.9186 - val_loss: 0.6613 - val_categorical_accuracy: 0.8875\n",
      "Epoch 21/100\n",
      "412059/412059 [==============================] - 62s 151us/sample - loss: 0.4413 - categorical_accuracy: 0.9194 - val_loss: 0.6566 - val_categorical_accuracy: 0.8881\n",
      "Epoch 22/100\n",
      "412059/412059 [==============================] - 62s 149us/sample - loss: 0.4324 - categorical_accuracy: 0.9206 - val_loss: 0.6564 - val_categorical_accuracy: 0.8886\n",
      "Epoch 23/100\n",
      "412059/412059 [==============================] - 62s 151us/sample - loss: 0.4237 - categorical_accuracy: 0.9221 - val_loss: 0.6567 - val_categorical_accuracy: 0.8875\n",
      "Epoch 24/100\n",
      "412059/412059 [==============================] - 62s 151us/sample - loss: 0.4169 - categorical_accuracy: 0.9230 - val_loss: 0.6455 - val_categorical_accuracy: 0.8877\n",
      "Epoch 25/100\n",
      "412059/412059 [==============================] - 63s 153us/sample - loss: 0.4095 - categorical_accuracy: 0.9244 - val_loss: 0.6410 - val_categorical_accuracy: 0.8887\n",
      "Epoch 26/100\n",
      "412059/412059 [==============================] - 62s 150us/sample - loss: 0.4039 - categorical_accuracy: 0.9249 - val_loss: 0.6381 - val_categorical_accuracy: 0.8900\n",
      "Epoch 27/100\n",
      "412059/412059 [==============================] - 62s 151us/sample - loss: 0.3978 - categorical_accuracy: 0.9257 - val_loss: 0.6337 - val_categorical_accuracy: 0.8904\n",
      "Epoch 28/100\n",
      "412059/412059 [==============================] - 62s 150us/sample - loss: 0.3912 - categorical_accuracy: 0.9265 - val_loss: 0.6300 - val_categorical_accuracy: 0.8909\n",
      "Epoch 29/100\n",
      "412059/412059 [==============================] - 63s 153us/sample - loss: 0.3856 - categorical_accuracy: 0.9274 - val_loss: 0.6288 - val_categorical_accuracy: 0.8903\n",
      "Epoch 30/100\n",
      "412059/412059 [==============================] - 63s 152us/sample - loss: 0.3802 - categorical_accuracy: 0.9283 - val_loss: 0.6279 - val_categorical_accuracy: 0.8917\n",
      "Epoch 31/100\n",
      "412059/412059 [==============================] - 65s 158us/sample - loss: 0.3758 - categorical_accuracy: 0.9291 - val_loss: 0.6300 - val_categorical_accuracy: 0.8913\n",
      "Epoch 32/100\n",
      "412059/412059 [==============================] - 65s 158us/sample - loss: 0.3703 - categorical_accuracy: 0.9297 - val_loss: 0.6229 - val_categorical_accuracy: 0.8911\n",
      "Epoch 33/100\n",
      "412059/412059 [==============================] - 65s 158us/sample - loss: 0.3675 - categorical_accuracy: 0.9301 - val_loss: 0.6232 - val_categorical_accuracy: 0.8920\n",
      "Epoch 34/100\n",
      "412059/412059 [==============================] - 63s 153us/sample - loss: 0.3616 - categorical_accuracy: 0.9313 - val_loss: 0.6267 - val_categorical_accuracy: 0.8908\n",
      "Epoch 35/100\n",
      "412059/412059 [==============================] - 63s 152us/sample - loss: 0.3591 - categorical_accuracy: 0.9311 - val_loss: 0.6140 - val_categorical_accuracy: 0.8921\n",
      "Epoch 36/100\n",
      "412059/412059 [==============================] - 63s 153us/sample - loss: 0.3549 - categorical_accuracy: 0.9323 - val_loss: 0.6184 - val_categorical_accuracy: 0.8919\n",
      "Epoch 37/100\n",
      "412059/412059 [==============================] - 63s 153us/sample - loss: 0.3512 - categorical_accuracy: 0.9329 - val_loss: 0.6202 - val_categorical_accuracy: 0.8928\n",
      "Epoch 38/100\n",
      "412059/412059 [==============================] - 63s 153us/sample - loss: 0.3486 - categorical_accuracy: 0.9330 - val_loss: 0.6206 - val_categorical_accuracy: 0.8928\n",
      "Epoch 39/100\n",
      "412059/412059 [==============================] - 62s 151us/sample - loss: 0.3448 - categorical_accuracy: 0.9338 - val_loss: 0.6205 - val_categorical_accuracy: 0.8923\n",
      "Epoch 40/100\n",
      "412059/412059 [==============================] - 63s 153us/sample - loss: 0.3422 - categorical_accuracy: 0.9340 - val_loss: 0.6182 - val_categorical_accuracy: 0.8938\n",
      "Retrained Sherlock.\n",
      "Trained and saved new model.\n",
      "Finished at 2020-12-31 10:43:11.713286, took 0:41:57.789695 seconds\n"
     ]
    }
   ],
   "source": [
    "start = datetime.now()\n",
    "print(f'Started at {start}')\n",
    "\n",
    "train_sherlock(X_train, y_train, X_validation, y_validation, nn_id=nn_model_id);\n",
    "\n",
    "print('Trained and saved new model.')\n",
    "print(f'Finished at {datetime.now()}, took {datetime.now() - start} seconds')"
   ]
  },
  {
   "cell_type": "markdown",
   "metadata": {},
   "source": [
    "### Load test set"
   ]
  },
  {
   "cell_type": "code",
   "execution_count": 7,
   "metadata": {},
   "outputs": [
    {
     "name": "stdout",
     "output_type": "stream",
     "text": [
      "Started at 2020-12-31 10:43:11.718561\n",
      "Trained and saved new model.\n",
      "Finished at 2020-12-31 10:43:13.631580, took 0:00:01.913031 seconds\n"
     ]
    }
   ],
   "source": [
    "start = datetime.now()\n",
    "print(f'Started at {start}')\n",
    "\n",
    "X_test = pd.read_parquet('test.parquet')\n",
    "y_test = pd.read_parquet('../data/raw/test_labels.parquet').values.flatten()\n",
    "\n",
    "print('Trained and saved new model.')\n",
    "print(f'Finished at {datetime.now()}, took {datetime.now() - start} seconds')"
   ]
  },
  {
   "cell_type": "markdown",
   "metadata": {},
   "source": [
    "### Make prediction"
   ]
  },
  {
   "cell_type": "code",
   "execution_count": 8,
   "metadata": {},
   "outputs": [],
   "source": [
    "predicted_labels = predict_sherlock(X_test, nn_id=nn_model_id)"
   ]
  },
  {
   "cell_type": "code",
   "execution_count": 9,
   "metadata": {},
   "outputs": [
    {
     "name": "stdout",
     "output_type": "stream",
     "text": [
      "prediction count 137353, type = <class 'numpy.ndarray'>\n"
     ]
    },
    {
     "data": {
      "text/plain": [
       "0.8940497565462086"
      ]
     },
     "execution_count": 9,
     "metadata": {},
     "output_type": "execute_result"
    }
   ],
   "source": [
    "print(f'prediction count {len(predicted_labels)}, type = {type(predicted_labels)}')\n",
    "\n",
    "size=len(y_test)\n",
    "\n",
    "# Should be fully deterministic too.\n",
    "f1_score(y_test[:size], predicted_labels[:size], average=\"weighted\")"
   ]
  },
  {
   "cell_type": "code",
   "execution_count": 10,
   "metadata": {},
   "outputs": [],
   "source": [
    "# Best results\n",
    "# 0.8946297512938394\n",
    "\n",
    "# LAST\n",
    "# 0.8661276466591463\n",
    "# 0.8765360861865846\n",
    "# 0.8777825108666634\n",
    "# 0.8709458033528152"
   ]
  },
  {
   "cell_type": "markdown",
   "metadata": {},
   "source": [
    "## Review errors"
   ]
  },
  {
   "cell_type": "code",
   "execution_count": 11,
   "metadata": {},
   "outputs": [
    {
     "name": "stdout",
     "output_type": "stream",
     "text": [
      "Total mismatches: 14614 (F1 score: 0.8940497565462086)\n"
     ]
    },
    {
     "data": {
      "text/plain": [
       "[('name', 764),\n",
       " ('position', 557),\n",
       " ('location', 501),\n",
       " ('region', 488),\n",
       " ('rank', 476),\n",
       " ('description', 438),\n",
       " ('artist', 376),\n",
       " ('team', 371),\n",
       " ('area', 359),\n",
       " ('album', 357),\n",
       " ('notes', 350),\n",
       " ('type', 349),\n",
       " ('product', 346),\n",
       " ('company', 338),\n",
       " ('day', 318),\n",
       " ('ranking', 316),\n",
       " ('category', 314),\n",
       " ('team Name', 295),\n",
       " ('city', 291),\n",
       " ('class', 269),\n",
       " ('code', 252),\n",
       " ('order', 252),\n",
       " ('gender', 244),\n",
       " ('country', 236),\n",
       " ('sex', 222),\n",
       " ('owner', 214),\n",
       " ('status', 212),\n",
       " ('person', 211),\n",
       " ('result', 189),\n",
       " ('plays', 185),\n",
       " ('address', 182),\n",
       " ('duration', 175),\n",
       " ('year', 175),\n",
       " ('credit', 170),\n",
       " ('sales', 170),\n",
       " ('service', 167),\n",
       " ('brand', 165),\n",
       " ('manufacturer', 164),\n",
       " ('weight', 162),\n",
       " ('range', 161),\n",
       " ('age', 160),\n",
       " ('component', 155),\n",
       " ('state', 153),\n",
       " ('origin', 153),\n",
       " ('format', 147),\n",
       " ('club', 135),\n",
       " ('county', 118),\n",
       " ('director', 117),\n",
       " ('capacity', 105),\n",
       " ('publisher', 98),\n",
       " ('affiliation', 89),\n",
       " ('command', 89),\n",
       " ('classification', 85),\n",
       " ('family', 81),\n",
       " ('nationality', 80),\n",
       " ('symbol', 78),\n",
       " ('depth', 77),\n",
       " ('language', 76),\n",
       " ('operator', 75),\n",
       " ('education', 71),\n",
       " ('elevation', 69),\n",
       " ('creator', 63),\n",
       " ('genre', 59),\n",
       " ('requirement', 59),\n",
       " ('file Size', 51),\n",
       " ('species', 50),\n",
       " ('organisation', 49),\n",
       " ('industry', 42),\n",
       " ('birth Place', 41),\n",
       " ('affiliate', 39),\n",
       " ('religion', 32),\n",
       " ('collection', 31),\n",
       " ('jockey', 29),\n",
       " ('continent', 25),\n",
       " ('isbn', 18),\n",
       " ('birth Date', 13),\n",
       " ('grades', 11),\n",
       " ('currency', 10)]"
      ]
     },
     "execution_count": 11,
     "metadata": {},
     "output_type": "execute_result"
    }
   ],
   "source": [
    "from collections import Counter\n",
    "\n",
    "size = len(y_test)\n",
    "mismatches = list()\n",
    "\n",
    "for idx, k1 in enumerate(y_test[:size]):\n",
    "    k2 = predicted_labels[idx]\n",
    "\n",
    "    if k1 != k2:\n",
    "        mismatches.append(k1)\n",
    "#        if k1 in ('brand'):\n",
    "#        print(f'[{idx}] expected \"{k1}\" but predicted \"{k2}\"')\n",
    "        \n",
    "f1 = f1_score(y_test[:size], predicted_labels[:size], average=\"weighted\")\n",
    "print(f'Total mismatches: {len(mismatches)} (F1 score: {f1})')\n",
    "\n",
    "data = Counter(mismatches)\n",
    "data.most_common()   # Returns all unique items and their counts"
   ]
  },
  {
   "cell_type": "code",
   "execution_count": 12,
   "metadata": {},
   "outputs": [],
   "source": [
    "test_samples = pd.read_parquet('../data/raw/test_values.parquet')"
   ]
  },
  {
   "cell_type": "code",
   "execution_count": 13,
   "metadata": {},
   "outputs": [
    {
     "name": "stdout",
     "output_type": "stream",
     "text": [
      "Predicted \"age\", actual label \"position\". Actual values:\n",
      "[[2, 4]]\n"
     ]
    }
   ],
   "source": [
    "from ast import literal_eval\n",
    "\n",
    "idx = 541\n",
    "original = test_samples.iloc[idx]\n",
    "converted = original.apply(literal_eval).to_list()\n",
    "\n",
    "print(f'Predicted \"{predicted_labels[idx]}\", actual label \"{y_test[idx]}\". Actual values:\\n{converted}')"
   ]
  },
  {
   "cell_type": "code",
   "execution_count": null,
   "metadata": {},
   "outputs": [],
   "source": []
  }
 ],
 "metadata": {
  "kernelspec": {
   "display_name": "Python 3",
   "language": "python",
   "name": "python3"
  },
  "language_info": {
   "codemirror_mode": {
    "name": "ipython",
    "version": 3
   },
   "file_extension": ".py",
   "mimetype": "text/x-python",
   "name": "python",
   "nbconvert_exporter": "python",
   "pygments_lexer": "ipython3",
   "version": "3.7.9"
  }
 },
 "nbformat": 4,
 "nbformat_minor": 4
}
