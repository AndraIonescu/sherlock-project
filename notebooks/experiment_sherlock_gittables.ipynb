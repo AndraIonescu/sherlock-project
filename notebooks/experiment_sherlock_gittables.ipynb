{
 "cells": [
  {
   "cell_type": "markdown",
   "metadata": {},
   "source": [
    "# Extract features, retrain Sherlock and generate predictions."
   ]
  },
  {
   "cell_type": "markdown",
   "metadata": {},
   "source": [
    "The script below first downloads the data (roughly 700K samples), then extract features from the raw data values. <br>\n",
    "If you want to skip this step, you can follow the steps below the feature extraction to load the preprocessed data, \n",
    "retrain Sherlock and generate predictions."
   ]
  },
  {
   "cell_type": "code",
   "execution_count": 374,
   "metadata": {},
   "outputs": [],
   "source": [
    "import sys\n",
    "\n",
    "import matplotlib.pyplot as plt\n",
    "import numpy as np\n",
    "import pandas as pd\n",
    "import pickle5\n",
    "from sklearn.preprocessing import LabelEncoder\n",
    "from sklearn.metrics import f1_score\n",
    "import tensorflow as tf\n",
    "\n",
    "from sherlock import helpers\n",
    "from sherlock.features import preprocessing\n",
    "from sherlock.deploy.train_sherlock import train_sherlock\n",
    "from sherlock.deploy.predict_sherlock import predict_sherlock\n",
    "from sherlock.deploy import model_helpers\n",
    "from sherlock.model import sherlock"
   ]
  },
  {
   "cell_type": "code",
   "execution_count": 365,
   "metadata": {},
   "outputs": [
    {
     "name": "stdout",
     "output_type": "stream",
     "text": [
      "The autoreload extension is already loaded. To reload it, use:\n",
      "  %reload_ext autoreload\n"
     ]
    }
   ],
   "source": [
    "%load_ext autoreload\n",
    "%autoreload 2"
   ]
  },
  {
   "cell_type": "code",
   "execution_count": 4,
   "metadata": {},
   "outputs": [],
   "source": [
    "RANDOM_STATE = 1"
   ]
  },
  {
   "cell_type": "markdown",
   "metadata": {},
   "source": [
    "## Download data\n",
    "This will download the raw values and preprocessed files, the corresponding labels as well as a few other supporting files:\n",
    "- `download_data()` will download 3.6GB of data into the `data/` directory.\n",
    "- `prepare_feature_extraction()` will download +/- 800 MB of data into the `features/` directory."
   ]
  },
  {
   "cell_type": "code",
   "execution_count": 5,
   "metadata": {},
   "outputs": [
    {
     "name": "stdout",
     "output_type": "stream",
     "text": [
      "Downloading the raw and preprocessed data into ../data/data.zip.\n",
      "Data was downloaded.\n",
      "Preparing feature extraction by downloading 2 files:\n",
      "        \n",
      " ../sherlock/features/glove.6B.50d.txt and \n",
      " ../sherlock/features/par_vec_trained_400.pkl.docvecs.vectors_docs.npy.\n",
      "        \n",
      "All files for extracting word and paragraph embeddings are present.\n"
     ]
    }
   ],
   "source": [
    "helpers.download_data()\n",
    "preprocessing.prepare_feature_extraction()"
   ]
  },
  {
   "cell_type": "code",
   "execution_count": 6,
   "metadata": {},
   "outputs": [],
   "source": [
    "feature_cols_dict = model_helpers.categorize_features()"
   ]
  },
  {
   "cell_type": "markdown",
   "metadata": {},
   "source": [
    "## Read in raw data\n",
    "You can skip this step if you want to use a preprocessed data file."
   ]
  },
  {
   "cell_type": "markdown",
   "metadata": {},
   "source": [
    "## WebTables data"
   ]
  },
  {
   "cell_type": "code",
   "execution_count": 7,
   "metadata": {},
   "outputs": [],
   "source": [
    "test_samples = pd.read_parquet('../data/data/raw/test_values.parquet')\n",
    "test_labels = pd.read_parquet('../data/data/raw/test_labels.parquet')"
   ]
  },
  {
   "cell_type": "code",
   "execution_count": 8,
   "metadata": {},
   "outputs": [
    {
     "data": {
      "text/plain": [
       "status         3100\n",
       "category       3087\n",
       "position       3057\n",
       "artist         3043\n",
       "description    3042\n",
       "company        3041\n",
       "day            3038\n",
       "country        3038\n",
       "album          3035\n",
       "age            3033\n",
       "state          3030\n",
       "name           3017\n",
       "year           3015\n",
       "team           3011\n",
       "address        3003\n",
       "duration       3000\n",
       "sex            2997\n",
       "rank           2983\n",
       "club           2977\n",
       "class          2971\n",
       "Name: type, dtype: int64"
      ]
     },
     "execution_count": 8,
     "metadata": {},
     "output_type": "execute_result"
    }
   ],
   "source": [
    "test_labels[\"type\"].value_counts()[:20]"
   ]
  },
  {
   "cell_type": "code",
   "execution_count": 9,
   "metadata": {},
   "outputs": [
    {
     "name": "stderr",
     "output_type": "stream",
     "text": [
      "100%|██████████| 137353/137353 [04:10<00:00, 549.20it/s] \n"
     ]
    }
   ],
   "source": [
    "test_samples_converted, y_test = preprocessing.convert_string_lists_to_lists(test_samples, test_labels, \"values\", \"type\")"
   ]
  },
  {
   "cell_type": "code",
   "execution_count": 10,
   "metadata": {},
   "outputs": [
    {
     "data": {
      "text/plain": [
       "20368     [Central Missouri, unattached, unattached, Kan...\n",
       "664102    [95, 100, 95, 89, 84, 91, 88, 94, 75, 78, 90, ...\n",
       "366813    [Katie Crews, Christian Hiraldo, Alex Estrada,...\n",
       "530567    [Christian, Non-Christian, Unreported, Jewish,...\n",
       "176253    [AAF-McQuay Canada Inc., AAF-McQuay Canada Inc...\n",
       "327387    [05 - 08, 04 - 08, 06 - 09, 05 - 08, 06 - 08, ...\n",
       "61176              [Cerulean Cave (1f), Route 14, Route 15]\n",
       "194778    [libyaml, pyyaml, libyaml, pyyaml, pyyaml, pys...\n",
       "180281    [Citiwest Consulting Ltd, Hunter Laird Enginee...\n",
       "397103    [Various, Adams and Brooks, Atkinson's Candy, ...\n",
       "Name: values, dtype: object"
      ]
     },
     "execution_count": 10,
     "metadata": {},
     "output_type": "execute_result"
    }
   ],
   "source": [
    "test_samples_converted[:10]"
   ]
  },
  {
   "cell_type": "code",
   "execution_count": 11,
   "metadata": {},
   "outputs": [
    {
     "data": {
      "text/plain": [
       "['Central Missouri',\n",
       " 'unattached',\n",
       " 'unattached',\n",
       " 'Kansas State University',\n",
       " 'unattached',\n",
       " 'North Dakota State',\n",
       " 'Nike']"
      ]
     },
     "execution_count": 11,
     "metadata": {},
     "output_type": "execute_result"
    }
   ],
   "source": [
    "test_samples_converted.iloc[0]"
   ]
  },
  {
   "cell_type": "code",
   "execution_count": null,
   "metadata": {},
   "outputs": [],
   "source": []
  },
  {
   "cell_type": "markdown",
   "metadata": {},
   "source": [
    "### GitTables data"
   ]
  },
  {
   "cell_type": "code",
   "execution_count": 13,
   "metadata": {},
   "outputs": [],
   "source": [
    "gittables_object_samples = pd.read_pickle(\"../../../../../../../Volumes/ivi-inde/madelon/sherlock_experiment/gittables_object_column_values.pickle\")"
   ]
  },
  {
   "cell_type": "code",
   "execution_count": 14,
   "metadata": {},
   "outputs": [],
   "source": [
    "gittables_thing_samples = pd.read_pickle(\"../../../../../../../Volumes/ivi-inde/madelon/sherlock_experiment/gittables_thing_column_values.pickle\")"
   ]
  },
  {
   "cell_type": "code",
   "execution_count": 15,
   "metadata": {},
   "outputs": [],
   "source": [
    "gittables_id_samples = pd.read_pickle(\"../../../../../../../Volumes/ivi-inde/madelon/sherlock_experiment/gittables_id_column_values.pickle\")"
   ]
  },
  {
   "cell_type": "code",
   "execution_count": 16,
   "metadata": {},
   "outputs": [],
   "source": [
    "gittables_physical_entity_samples = pd.read_pickle(\"../../../../../../../Volumes/ivi-inde/madelon/sherlock_experiment/gittables_physical_entity_column_values.pickle\")"
   ]
  },
  {
   "cell_type": "code",
   "execution_count": 17,
   "metadata": {},
   "outputs": [],
   "source": [
    "gittables_living_thing_samples = pd.read_pickle(\"../../../../../../../Volumes/ivi-inde/madelon/sherlock_experiment/gittables_living_thing_column_values.pickle\")"
   ]
  },
  {
   "cell_type": "code",
   "execution_count": 18,
   "metadata": {},
   "outputs": [],
   "source": [
    "gittables_whole_samples = pd.read_pickle(\"../../../../../../../Volumes/ivi-inde/madelon/sherlock_experiment/gittables_whole_column_values.pickle\")"
   ]
  },
  {
   "cell_type": "code",
   "execution_count": 19,
   "metadata": {},
   "outputs": [],
   "source": [
    "gittables_organism_samples = pd.read_pickle(\"../../../../../../../Volumes/ivi-inde/madelon/sherlock_experiment/gittables_organism_column_values.pickle\")"
   ]
  },
  {
   "cell_type": "code",
   "execution_count": 21,
   "metadata": {},
   "outputs": [],
   "source": [
    "gittables_parent_samples = pd.read_pickle(\"../../../../../../../Volumes/ivi-inde/madelon/sherlock_experiment/gittables_parent_column_values.pickle\")"
   ]
  },
  {
   "cell_type": "code",
   "execution_count": 22,
   "metadata": {},
   "outputs": [],
   "source": [
    "gittables_dwarf_samples = pd.read_pickle(\"../../../../../../../Volumes/ivi-inde/madelon/sherlock_experiment/gittables_dwarf_column_values.pickle\")"
   ]
  },
  {
   "cell_type": "code",
   "execution_count": 23,
   "metadata": {},
   "outputs": [],
   "source": [
    "gittables_abstraction_samples = pd.read_pickle(\"../../../../../../../Volumes/ivi-inde/madelon/sherlock_experiment/gittables_abstraction_column_values.pickle\")"
   ]
  },
  {
   "cell_type": "code",
   "execution_count": 273,
   "metadata": {},
   "outputs": [],
   "source": [
    "gittables_all_samples = pd.read_pickle(\"../../../../../../../Volumes/ivi-inde/madelon/sherlock_experiment/gittables_all_column_values.pickle\")"
   ]
  },
  {
   "cell_type": "code",
   "execution_count": null,
   "metadata": {},
   "outputs": [],
   "source": []
  },
  {
   "cell_type": "code",
   "execution_count": null,
   "metadata": {},
   "outputs": [],
   "source": []
  },
  {
   "cell_type": "code",
   "execution_count": 28,
   "metadata": {},
   "outputs": [],
   "source": [
    "gittables_object_labels = pd.read_pickle(\"../../../../../../../Volumes/ivi-inde/madelon/sherlock_experiment/gittables_object_column_types.pickle\")"
   ]
  },
  {
   "cell_type": "code",
   "execution_count": 29,
   "metadata": {},
   "outputs": [],
   "source": [
    "gittables_thing_labels = pd.read_pickle(\"../../../../../../../Volumes/ivi-inde/madelon/sherlock_experiment/gittables_thing_column_types.pickle\")"
   ]
  },
  {
   "cell_type": "code",
   "execution_count": 30,
   "metadata": {},
   "outputs": [],
   "source": [
    "gittables_id_labels = pd.read_pickle(\"../../../../../../../Volumes/ivi-inde/madelon/sherlock_experiment/gittables_id_column_types.pickle\")"
   ]
  },
  {
   "cell_type": "code",
   "execution_count": 31,
   "metadata": {},
   "outputs": [],
   "source": [
    "gittables_physical_entity_labels = pd.read_pickle(\"../../../../../../../Volumes/ivi-inde/madelon/sherlock_experiment/gittables_physical_entity_column_types.pickle\")"
   ]
  },
  {
   "cell_type": "code",
   "execution_count": 32,
   "metadata": {},
   "outputs": [],
   "source": [
    "gittables_living_thing_labels = pd.read_pickle(\"../../../../../../../Volumes/ivi-inde/madelon/sherlock_experiment/gittables_living_thing_column_types.pickle\")"
   ]
  },
  {
   "cell_type": "code",
   "execution_count": 33,
   "metadata": {},
   "outputs": [],
   "source": [
    "gittables_whole_labels = pd.read_pickle(\"../../../../../../../Volumes/ivi-inde/madelon/sherlock_experiment/gittables_whole_column_types.pickle\")"
   ]
  },
  {
   "cell_type": "code",
   "execution_count": 34,
   "metadata": {},
   "outputs": [],
   "source": [
    "gittables_organism_labels = pd.read_pickle(\"../../../../../../../Volumes/ivi-inde/madelon/sherlock_experiment/gittables_organism_column_types.pickle\")"
   ]
  },
  {
   "cell_type": "code",
   "execution_count": 35,
   "metadata": {},
   "outputs": [],
   "source": [
    "gittables_parent_labels = pd.read_pickle(\"../../../../../../../Volumes/ivi-inde/madelon/sherlock_experiment/gittables_parent_column_types.pickle\")"
   ]
  },
  {
   "cell_type": "code",
   "execution_count": 36,
   "metadata": {},
   "outputs": [],
   "source": [
    "gittables_dwarf_labels = pd.read_pickle(\"../../../../../../../Volumes/ivi-inde/madelon/sherlock_experiment/gittables_dwarf_column_types.pickle\")"
   ]
  },
  {
   "cell_type": "code",
   "execution_count": 37,
   "metadata": {},
   "outputs": [],
   "source": [
    "gittables_abstraction_labels = pd.read_pickle(\"../../../../../../../Volumes/ivi-inde/madelon/sherlock_experiment/gittables_abstraction_column_types.pickle\")"
   ]
  },
  {
   "cell_type": "code",
   "execution_count": 277,
   "metadata": {},
   "outputs": [],
   "source": [
    "gittables_all_labels = pd.read_pickle(\"../../../../../../../Volumes/ivi-inde/madelon/sherlock_experiment/gittables_all_column_types.pickle\")"
   ]
  },
  {
   "cell_type": "code",
   "execution_count": 40,
   "metadata": {},
   "outputs": [
    {
     "data": {
      "text/plain": [
       "((14961,), (18128,))"
      ]
     },
     "execution_count": 40,
     "metadata": {},
     "output_type": "execute_result"
    }
   ],
   "source": [
    "gittables_whole_samples.shape, gittables_organism_labels.shape"
   ]
  },
  {
   "cell_type": "code",
   "execution_count": null,
   "metadata": {},
   "outputs": [],
   "source": []
  },
  {
   "cell_type": "code",
   "execution_count": 39,
   "metadata": {},
   "outputs": [
    {
     "data": {
      "text/plain": [
       "((22480,), (35830,), (29166,), (62305,))"
      ]
     },
     "execution_count": 39,
     "metadata": {},
     "output_type": "execute_result"
    }
   ],
   "source": [
    "gittables_thing_samples.shape, gittables_object_samples.shape, gittables_parent_samples.shape, gittables_id_labels.shape"
   ]
  },
  {
   "cell_type": "code",
   "execution_count": null,
   "metadata": {},
   "outputs": [],
   "source": []
  },
  {
   "cell_type": "code",
   "execution_count": 41,
   "metadata": {},
   "outputs": [
    {
     "data": {
      "text/plain": [
       "0    [Minecraft, FootballManager2019Mobile, Alien:B...\n",
       "1    [1, 2, 3, 4, 5, 6, 7, 8, 9, 10, 11, 12, 13, 14...\n",
       "2    [nan, nan, nan, nan, nan, nan, nan, nan, nan, ...\n",
       "3    [INCOMPLETE, None, PASSED, PASSED, PASSED, PAS...\n",
       "4    [SenSchumer, SenSchumer, SenSchumer, SenSchume...\n",
       "Name: values, dtype: object"
      ]
     },
     "execution_count": 41,
     "metadata": {},
     "output_type": "execute_result"
    }
   ],
   "source": [
    "gittables_object_samples.head()"
   ]
  },
  {
   "cell_type": "code",
   "execution_count": 42,
   "metadata": {},
   "outputs": [
    {
     "data": {
      "text/plain": [
       "0    [nwquah, None, None, None, None, None, None, N...\n",
       "1    [I make Hot Pod, a newsletter about podcasts. ...\n",
       "2    [None, None, Alexander, William, Ethan, Jacob,...\n",
       "3    [Canada, Canada, Canada, Canada, Canada, Canad...\n",
       "4    [null@Mr.com, null@day.com, Alexander@thing.co...\n",
       "Name: values, dtype: object"
      ]
     },
     "execution_count": 42,
     "metadata": {},
     "output_type": "execute_result"
    }
   ],
   "source": [
    "gittables_thing_samples.head()"
   ]
  },
  {
   "cell_type": "code",
   "execution_count": null,
   "metadata": {},
   "outputs": [],
   "source": []
  },
  {
   "cell_type": "code",
   "execution_count": 43,
   "metadata": {},
   "outputs": [
    {
     "data": {
      "text/plain": [
       "name           12495\n",
       "description     4527\n",
       "status          4299\n",
       "rank            4231\n",
       "class           3210\n",
       "state           2584\n",
       "year            1449\n",
       "category        1017\n",
       "sex              974\n",
       "address          321\n",
       "country          194\n",
       "age              139\n",
       "position         126\n",
       "day              116\n",
       "company           75\n",
       "artist            43\n",
       "album             14\n",
       "team              14\n",
       "club               2\n",
       "Name: type, dtype: int64"
      ]
     },
     "execution_count": 43,
     "metadata": {},
     "output_type": "execute_result"
    }
   ],
   "source": [
    "pd.Series(gittables_object_labels).value_counts()"
   ]
  },
  {
   "cell_type": "code",
   "execution_count": 44,
   "metadata": {},
   "outputs": [
    {
     "data": {
      "text/plain": [
       "name           7345\n",
       "address        4330\n",
       "country        3971\n",
       "artist         1972\n",
       "class           687\n",
       "description     597\n",
       "category        582\n",
       "status          474\n",
       "rank            472\n",
       "year            469\n",
       "album           342\n",
       "position        306\n",
       "age             224\n",
       "state           219\n",
       "day             209\n",
       "sex             148\n",
       "company         102\n",
       "team             22\n",
       "club              9\n",
       "Name: type, dtype: int64"
      ]
     },
     "execution_count": 44,
     "metadata": {},
     "output_type": "execute_result"
    }
   ],
   "source": [
    "pd.Series(gittables_thing_labels).value_counts()"
   ]
  },
  {
   "cell_type": "code",
   "execution_count": 45,
   "metadata": {},
   "outputs": [
    {
     "data": {
      "text/plain": [
       "name           32904\n",
       "address         6766\n",
       "status          6612\n",
       "rank            5900\n",
       "year            4817\n",
       "description     1364\n",
       "company         1189\n",
       "category         542\n",
       "country          521\n",
       "team             463\n",
       "class            246\n",
       "state            194\n",
       "artist           192\n",
       "position         158\n",
       "album            137\n",
       "age              123\n",
       "day              103\n",
       "sex               74\n",
       "Name: type, dtype: int64"
      ]
     },
     "execution_count": 45,
     "metadata": {},
     "output_type": "execute_result"
    }
   ],
   "source": [
    "pd.Series(gittables_id_labels).value_counts()"
   ]
  },
  {
   "cell_type": "code",
   "execution_count": 46,
   "metadata": {},
   "outputs": [
    {
     "data": {
      "text/plain": [
       "name           10947\n",
       "status          4684\n",
       "description     4346\n",
       "class           2677\n",
       "state           1257\n",
       "category        1079\n",
       "year            1006\n",
       "rank             803\n",
       "address          609\n",
       "country          587\n",
       "position         496\n",
       "age              287\n",
       "company          142\n",
       "sex               94\n",
       "team              70\n",
       "day               67\n",
       "artist             9\n",
       "club               3\n",
       "album              3\n",
       "Name: type, dtype: int64"
      ]
     },
     "execution_count": 46,
     "metadata": {},
     "output_type": "execute_result"
    }
   ],
   "source": [
    "pd.Series(gittables_parent_labels).value_counts()"
   ]
  },
  {
   "cell_type": "code",
   "execution_count": null,
   "metadata": {},
   "outputs": [],
   "source": []
  },
  {
   "cell_type": "code",
   "execution_count": 48,
   "metadata": {},
   "outputs": [],
   "source": [
    "gittables_samples = gittables_object_samples.append(\n",
    "    [\n",
    "        gittables_thing_samples, gittables_id_samples, gittables_physical_entity_samples, gittables_abstraction_samples,\n",
    "        gittables_whole_samples, gittables_living_thing_samples, gittables_organism_samples, \n",
    "        gittables_parent_samples, gittables_dwarf_samples\n",
    "    ]\n",
    ").reset_index(drop=True)\n",
    "gittables_labels = gittables_object_labels.append(\n",
    "    [\n",
    "        gittables_thing_labels, gittables_id_labels, gittables_physical_entity_labels, gittables_abstraction_labels,\n",
    "        gittables_whole_labels, gittables_living_thing_labels, gittables_organism_labels, \n",
    "        gittables_parent_labels, gittables_dwarf_labels\n",
    "    ]\n",
    ").reset_index(drop=True)"
   ]
  },
  {
   "cell_type": "code",
   "execution_count": 49,
   "metadata": {},
   "outputs": [
    {
     "data": {
      "text/plain": [
       "name           79988\n",
       "class          24576\n",
       "status         17705\n",
       "description    16638\n",
       "rank           15462\n",
       "address        14287\n",
       "year           14250\n",
       "country         9037\n",
       "state           7833\n",
       "category        5810\n",
       "artist          5156\n",
       "age             4531\n",
       "sex             2140\n",
       "position        2031\n",
       "company         1986\n",
       "album           1137\n",
       "day             1109\n",
       "team             779\n",
       "club              68\n",
       "Name: type, dtype: int64"
      ]
     },
     "execution_count": 49,
     "metadata": {},
     "output_type": "execute_result"
    }
   ],
   "source": [
    "gittables_labels.value_counts()"
   ]
  },
  {
   "cell_type": "code",
   "execution_count": 50,
   "metadata": {},
   "outputs": [
    {
     "data": {
      "text/plain": [
       "status         3100\n",
       "category       3087\n",
       "position       3057\n",
       "artist         3043\n",
       "description    3042\n",
       "company        3041\n",
       "day            3038\n",
       "country        3038\n",
       "album          3035\n",
       "age            3033\n",
       "state          3030\n",
       "name           3017\n",
       "year           3015\n",
       "team           3011\n",
       "address        3003\n",
       "duration       3000\n",
       "sex            2997\n",
       "rank           2983\n",
       "club           2977\n",
       "class          2971\n",
       "Name: type, dtype: int64"
      ]
     },
     "execution_count": 50,
     "metadata": {},
     "output_type": "execute_result"
    }
   ],
   "source": [
    "test_labels[\"type\"].value_counts()[:20]"
   ]
  },
  {
   "cell_type": "code",
   "execution_count": null,
   "metadata": {},
   "outputs": [],
   "source": []
  },
  {
   "cell_type": "code",
   "execution_count": 83,
   "metadata": {},
   "outputs": [],
   "source": [
    "overlapping_types = [\"name\",  \"class\", \"description\", \"status\", \"address\"]"
   ]
  },
  {
   "cell_type": "code",
   "execution_count": 84,
   "metadata": {},
   "outputs": [
    {
     "data": {
      "text/plain": [
       "5"
      ]
     },
     "execution_count": 84,
     "metadata": {},
     "output_type": "execute_result"
    }
   ],
   "source": [
    "len(overlapping_types)"
   ]
  },
  {
   "cell_type": "code",
   "execution_count": 85,
   "metadata": {},
   "outputs": [
    {
     "data": {
      "text/plain": [
       "(78, 5)"
      ]
     },
     "execution_count": 85,
     "metadata": {},
     "output_type": "execute_result"
    }
   ],
   "source": [
    "len(test_labels[\"type\"].unique()), len(overlapping_types)"
   ]
  },
  {
   "cell_type": "code",
   "execution_count": 91,
   "metadata": {},
   "outputs": [],
   "source": [
    "gittables_samples_overlap = gittables_samples[gittables_labels.isin(overlapping_types)]\n",
    "gittables_labels_overlap = gittables_labels[gittables_labels.isin(overlapping_types)]"
   ]
  },
  {
   "cell_type": "code",
   "execution_count": 92,
   "metadata": {},
   "outputs": [],
   "source": [
    "gittables_samples_deduplicated = gittables_samples_overlap[~gittables_samples_overlap.astype(str).duplicated(keep=\"first\")]\n",
    "gittables_labels_deduplicated = gittables_labels_overlap[gittables_samples_deduplicated.index]"
   ]
  },
  {
   "cell_type": "code",
   "execution_count": 93,
   "metadata": {},
   "outputs": [
    {
     "data": {
      "text/plain": [
       "0    [Minecraft, FootballManager2019Mobile, Alien:B...\n",
       "2    [nan, nan, nan, nan, nan, nan, nan, nan, nan, ...\n",
       "3    [INCOMPLETE, None, PASSED, PASSED, PASSED, PAS...\n",
       "4    [SenSchumer, SenSchumer, SenSchumer, SenSchume...\n",
       "5    [Document name code                           ...\n",
       "Name: values, dtype: object"
      ]
     },
     "execution_count": 93,
     "metadata": {},
     "output_type": "execute_result"
    }
   ],
   "source": [
    "gittables_samples_deduplicated.head(n=5)"
   ]
  },
  {
   "cell_type": "code",
   "execution_count": 94,
   "metadata": {},
   "outputs": [
    {
     "data": {
      "text/plain": [
       "0           name\n",
       "2    description\n",
       "3         status\n",
       "4           name\n",
       "5           name\n",
       "Name: type, dtype: object"
      ]
     },
     "execution_count": 94,
     "metadata": {},
     "output_type": "execute_result"
    }
   ],
   "source": [
    "gittables_labels_deduplicated.head()"
   ]
  },
  {
   "cell_type": "code",
   "execution_count": 95,
   "metadata": {},
   "outputs": [
    {
     "data": {
      "text/plain": [
       "(70491,)"
      ]
     },
     "execution_count": 95,
     "metadata": {},
     "output_type": "execute_result"
    }
   ],
   "source": [
    "gittables_samples_deduplicated.shape"
   ]
  },
  {
   "cell_type": "code",
   "execution_count": 96,
   "metadata": {},
   "outputs": [
    {
     "data": {
      "text/plain": [
       "name           37480\n",
       "class          17348\n",
       "description     6500\n",
       "address         5687\n",
       "status          3476\n",
       "Name: type, dtype: int64"
      ]
     },
     "execution_count": 96,
     "metadata": {},
     "output_type": "execute_result"
    }
   ],
   "source": [
    "gittables_labels_deduplicated.value_counts()"
   ]
  },
  {
   "cell_type": "code",
   "execution_count": 97,
   "metadata": {},
   "outputs": [],
   "source": [
    "webtables_samples_overlap = test_samples_converted[test_labels[\"type\"].isin(overlapping_types)]\n",
    "webtables_labels_overlap = test_labels[test_labels[\"type\"].isin(overlapping_types)]"
   ]
  },
  {
   "cell_type": "code",
   "execution_count": 98,
   "metadata": {},
   "outputs": [],
   "source": [
    "webtables_samples_deduplicated = webtables_samples_overlap[~webtables_samples_overlap.astype(str).duplicated(keep=\"first\")]\n",
    "webtables_labels_deduplicated = webtables_labels_overlap[\"type\"][webtables_samples_deduplicated.index]"
   ]
  },
  {
   "cell_type": "code",
   "execution_count": 99,
   "metadata": {},
   "outputs": [
    {
     "data": {
      "text/plain": [
       "257827    [Free format text: ASSIGNMENT OF ASSIGNORS INT...\n",
       "601769    [Status, Declined, Fixed, Declined, Declined, ...\n",
       "2851                                    [120 PLEASANT ST, ]\n",
       "256356    [Port Juk away from kde3support, Add support f...\n",
       "268354    [Custom, i18ned display of (nominatim) reverse...\n",
       "Name: values, dtype: object"
      ]
     },
     "execution_count": 99,
     "metadata": {},
     "output_type": "execute_result"
    }
   ],
   "source": [
    "webtables_samples_overlap.head()"
   ]
  },
  {
   "cell_type": "code",
   "execution_count": 100,
   "metadata": {},
   "outputs": [
    {
     "data": {
      "text/html": [
       "<div>\n",
       "<style scoped>\n",
       "    .dataframe tbody tr th:only-of-type {\n",
       "        vertical-align: middle;\n",
       "    }\n",
       "\n",
       "    .dataframe tbody tr th {\n",
       "        vertical-align: top;\n",
       "    }\n",
       "\n",
       "    .dataframe thead th {\n",
       "        text-align: right;\n",
       "    }\n",
       "</style>\n",
       "<table border=\"1\" class=\"dataframe\">\n",
       "  <thead>\n",
       "    <tr style=\"text-align: right;\">\n",
       "      <th></th>\n",
       "      <th>type</th>\n",
       "    </tr>\n",
       "  </thead>\n",
       "  <tbody>\n",
       "    <tr>\n",
       "      <th>257827</th>\n",
       "      <td>description</td>\n",
       "    </tr>\n",
       "    <tr>\n",
       "      <th>601769</th>\n",
       "      <td>status</td>\n",
       "    </tr>\n",
       "    <tr>\n",
       "      <th>2851</th>\n",
       "      <td>address</td>\n",
       "    </tr>\n",
       "    <tr>\n",
       "      <th>256356</th>\n",
       "      <td>description</td>\n",
       "    </tr>\n",
       "    <tr>\n",
       "      <th>268354</th>\n",
       "      <td>description</td>\n",
       "    </tr>\n",
       "  </tbody>\n",
       "</table>\n",
       "</div>"
      ],
      "text/plain": [
       "               type\n",
       "257827  description\n",
       "601769       status\n",
       "2851        address\n",
       "256356  description\n",
       "268354  description"
      ]
     },
     "execution_count": 100,
     "metadata": {},
     "output_type": "execute_result"
    }
   ],
   "source": [
    "webtables_labels_overlap.head()"
   ]
  },
  {
   "cell_type": "code",
   "execution_count": 115,
   "metadata": {},
   "outputs": [
    {
     "data": {
      "text/plain": [
       "address        2948\n",
       "name           2830\n",
       "description    2752\n",
       "status         2162\n",
       "class          2148\n",
       "Name: type, dtype: int64"
      ]
     },
     "execution_count": 115,
     "metadata": {},
     "output_type": "execute_result"
    }
   ],
   "source": [
    "webtables_labels_deduplicated.value_counts()"
   ]
  },
  {
   "cell_type": "code",
   "execution_count": 101,
   "metadata": {},
   "outputs": [
    {
     "data": {
      "text/plain": [
       "(12840,)"
      ]
     },
     "execution_count": 101,
     "metadata": {},
     "output_type": "execute_result"
    }
   ],
   "source": [
    "webtables_samples_deduplicated.shape"
   ]
  },
  {
   "cell_type": "code",
   "execution_count": null,
   "metadata": {},
   "outputs": [],
   "source": []
  },
  {
   "cell_type": "code",
   "execution_count": 289,
   "metadata": {},
   "outputs": [],
   "source": [
    "gittables_all_samples_deduplicated = gittables_all_samples[~gittables_all_samples.astype(str).duplicated()]"
   ]
  },
  {
   "cell_type": "code",
   "execution_count": 290,
   "metadata": {},
   "outputs": [],
   "source": [
    "gittables_all_labels_deduplicated = gittables_all_labels[gittables_all_samples_deduplicated.index]"
   ]
  },
  {
   "cell_type": "code",
   "execution_count": 291,
   "metadata": {},
   "outputs": [
    {
     "data": {
      "text/plain": [
       "41533"
      ]
     },
     "execution_count": 291,
     "metadata": {},
     "output_type": "execute_result"
    }
   ],
   "source": [
    "len(gittables_all_samples_deduplicated)"
   ]
  },
  {
   "cell_type": "code",
   "execution_count": 318,
   "metadata": {},
   "outputs": [],
   "source": [
    "webtables_all_samples_deduplicated = test_samples_converted[~test_samples_converted.astype(str).duplicated()]"
   ]
  },
  {
   "cell_type": "code",
   "execution_count": 321,
   "metadata": {},
   "outputs": [],
   "source": [
    "webtables_all_labels_deduplicated = test_labels[\"type\"][webtables_all_samples_deduplicated.index]"
   ]
  },
  {
   "cell_type": "code",
   "execution_count": 324,
   "metadata": {},
   "outputs": [
    {
     "data": {
      "text/plain": [
       "(103299,)"
      ]
     },
     "execution_count": 324,
     "metadata": {},
     "output_type": "execute_result"
    }
   ],
   "source": [
    "webtables_all_labels_deduplicated.shape"
   ]
  },
  {
   "cell_type": "code",
   "execution_count": null,
   "metadata": {},
   "outputs": [],
   "source": []
  },
  {
   "cell_type": "code",
   "execution_count": null,
   "metadata": {},
   "outputs": [],
   "source": []
  },
  {
   "cell_type": "markdown",
   "metadata": {},
   "source": [
    "### Balancing datasets"
   ]
  },
  {
   "cell_type": "code",
   "execution_count": 116,
   "metadata": {},
   "outputs": [],
   "source": [
    "g = pd.DataFrame([gittables_labels_deduplicated, gittables_samples_deduplicated]).transpose().groupby(by='type')\n",
    "# Number of types sampled\n",
    "min_size_gittables = 2148\n",
    "gittables_deduplicated_sampled = (\n",
    "    g.apply(lambda x: x.sample(min_size_gittables, random_state=RANDOM_STATE).reset_index(drop=True))\n",
    "    .reset_index(drop=True)\n",
    ")"
   ]
  },
  {
   "cell_type": "code",
   "execution_count": 117,
   "metadata": {},
   "outputs": [
    {
     "data": {
      "text/plain": [
       "2148"
      ]
     },
     "execution_count": 117,
     "metadata": {},
     "output_type": "execute_result"
    }
   ],
   "source": [
    "min_size_gittables"
   ]
  },
  {
   "cell_type": "code",
   "execution_count": 118,
   "metadata": {},
   "outputs": [
    {
     "data": {
      "text/html": [
       "<div>\n",
       "<style scoped>\n",
       "    .dataframe tbody tr th:only-of-type {\n",
       "        vertical-align: middle;\n",
       "    }\n",
       "\n",
       "    .dataframe tbody tr th {\n",
       "        vertical-align: top;\n",
       "    }\n",
       "\n",
       "    .dataframe thead th {\n",
       "        text-align: right;\n",
       "    }\n",
       "</style>\n",
       "<table border=\"1\" class=\"dataframe\">\n",
       "  <thead>\n",
       "    <tr style=\"text-align: right;\">\n",
       "      <th></th>\n",
       "      <th>type</th>\n",
       "      <th>values</th>\n",
       "    </tr>\n",
       "  </thead>\n",
       "  <tbody>\n",
       "    <tr>\n",
       "      <th>0</th>\n",
       "      <td>address</td>\n",
       "      <td>[Mason@study.com, James@student.com, Jacob@thi...</td>\n",
       "    </tr>\n",
       "    <tr>\n",
       "      <th>1</th>\n",
       "      <td>address</td>\n",
       "      <td>[hseitz@jccc.edu, lwolfgra@jccc.edu, bedmond3@...</td>\n",
       "    </tr>\n",
       "    <tr>\n",
       "      <th>2</th>\n",
       "      <td>address</td>\n",
       "      <td>[Alexander@school.com, Ethan@money.com, null@f...</td>\n",
       "    </tr>\n",
       "    <tr>\n",
       "      <th>3</th>\n",
       "      <td>address</td>\n",
       "      <td>[Jacob@hand.com, Jacob@week.com, James@thing.c...</td>\n",
       "    </tr>\n",
       "    <tr>\n",
       "      <th>4</th>\n",
       "      <td>address</td>\n",
       "      <td>[Alexander@job.com, null@time.com, James@money...</td>\n",
       "    </tr>\n",
       "  </tbody>\n",
       "</table>\n",
       "</div>"
      ],
      "text/plain": [
       "      type                                             values\n",
       "0  address  [Mason@study.com, James@student.com, Jacob@thi...\n",
       "1  address  [hseitz@jccc.edu, lwolfgra@jccc.edu, bedmond3@...\n",
       "2  address  [Alexander@school.com, Ethan@money.com, null@f...\n",
       "3  address  [Jacob@hand.com, Jacob@week.com, James@thing.c...\n",
       "4  address  [Alexander@job.com, null@time.com, James@money..."
      ]
     },
     "execution_count": 118,
     "metadata": {},
     "output_type": "execute_result"
    }
   ],
   "source": [
    "gittables_deduplicated_sampled.head()"
   ]
  },
  {
   "cell_type": "code",
   "execution_count": 119,
   "metadata": {},
   "outputs": [
    {
     "data": {
      "text/plain": [
       "name           2148\n",
       "class          2148\n",
       "status         2148\n",
       "description    2148\n",
       "address        2148\n",
       "Name: type, dtype: int64"
      ]
     },
     "execution_count": 119,
     "metadata": {},
     "output_type": "execute_result"
    }
   ],
   "source": [
    "gittables_deduplicated_sampled[\"type\"].value_counts()"
   ]
  },
  {
   "cell_type": "code",
   "execution_count": null,
   "metadata": {},
   "outputs": [],
   "source": []
  },
  {
   "cell_type": "code",
   "execution_count": 120,
   "metadata": {},
   "outputs": [],
   "source": [
    "g = pd.DataFrame([webtables_labels_deduplicated, webtables_samples_deduplicated]).transpose().groupby(by='type')\n",
    "webtables_deduplicated_sampled = (\n",
    "    g.apply(lambda x: x.sample(min_size_gittables, random_state=RANDOM_STATE).reset_index(drop=True))\n",
    "    .reset_index(drop=True)\n",
    ")"
   ]
  },
  {
   "cell_type": "code",
   "execution_count": 126,
   "metadata": {},
   "outputs": [
    {
     "data": {
      "text/html": [
       "<div>\n",
       "<style scoped>\n",
       "    .dataframe tbody tr th:only-of-type {\n",
       "        vertical-align: middle;\n",
       "    }\n",
       "\n",
       "    .dataframe tbody tr th {\n",
       "        vertical-align: top;\n",
       "    }\n",
       "\n",
       "    .dataframe thead th {\n",
       "        text-align: right;\n",
       "    }\n",
       "</style>\n",
       "<table border=\"1\" class=\"dataframe\">\n",
       "  <thead>\n",
       "    <tr style=\"text-align: right;\">\n",
       "      <th></th>\n",
       "      <th>type</th>\n",
       "      <th>values</th>\n",
       "    </tr>\n",
       "  </thead>\n",
       "  <tbody>\n",
       "    <tr>\n",
       "      <th>0</th>\n",
       "      <td>address</td>\n",
       "      <td>[179, Witham Road, 196, Witham Road, 195, With...</td>\n",
       "    </tr>\n",
       "    <tr>\n",
       "      <th>1</th>\n",
       "      <td>address</td>\n",
       "      <td>[1, Bramhall Lane South, 1, Bramhall Lane Sout...</td>\n",
       "    </tr>\n",
       "    <tr>\n",
       "      <th>2</th>\n",
       "      <td>address</td>\n",
       "      <td>[Reading, Berkshire, RG7 Full Address, St Leon...</td>\n",
       "    </tr>\n",
       "    <tr>\n",
       "      <th>3</th>\n",
       "      <td>address</td>\n",
       "      <td>[3903 SKYRIDGE AVE San Antonio, TX 78210, 3823...</td>\n",
       "    </tr>\n",
       "    <tr>\n",
       "      <th>4</th>\n",
       "      <td>address</td>\n",
       "      <td>[238 HAZEL ST., , ]</td>\n",
       "    </tr>\n",
       "  </tbody>\n",
       "</table>\n",
       "</div>"
      ],
      "text/plain": [
       "      type                                             values\n",
       "0  address  [179, Witham Road, 196, Witham Road, 195, With...\n",
       "1  address  [1, Bramhall Lane South, 1, Bramhall Lane Sout...\n",
       "2  address  [Reading, Berkshire, RG7 Full Address, St Leon...\n",
       "3  address  [3903 SKYRIDGE AVE San Antonio, TX 78210, 3823...\n",
       "4  address                                [238 HAZEL ST., , ]"
      ]
     },
     "execution_count": 126,
     "metadata": {},
     "output_type": "execute_result"
    }
   ],
   "source": [
    "webtables_deduplicated_sampled.head()"
   ]
  },
  {
   "cell_type": "code",
   "execution_count": 127,
   "metadata": {},
   "outputs": [
    {
     "data": {
      "text/plain": [
       "name           2148\n",
       "class          2148\n",
       "status         2148\n",
       "description    2148\n",
       "address        2148\n",
       "Name: type, dtype: int64"
      ]
     },
     "execution_count": 127,
     "metadata": {},
     "output_type": "execute_result"
    }
   ],
   "source": [
    "webtables_deduplicated_sampled[\"type\"].value_counts()"
   ]
  },
  {
   "cell_type": "code",
   "execution_count": null,
   "metadata": {},
   "outputs": [],
   "source": []
  },
  {
   "cell_type": "code",
   "execution_count": null,
   "metadata": {},
   "outputs": [],
   "source": []
  },
  {
   "cell_type": "code",
   "execution_count": null,
   "metadata": {},
   "outputs": [],
   "source": []
  },
  {
   "cell_type": "markdown",
   "metadata": {},
   "source": [
    "## Extract features\n",
    "It is important that the string-representations of lists are first converted into lists of strings.\n",
    "The labels should be a list of semantic types."
   ]
  },
  {
   "cell_type": "markdown",
   "metadata": {},
   "source": [
    "### WebTables"
   ]
  },
  {
   "cell_type": "code",
   "execution_count": 327,
   "metadata": {},
   "outputs": [],
   "source": [
    "webtables_samples_distribution = webtables_all_samples_deduplicated.sample(n=10000, random_state=RANDOM_STATE)\n",
    "webtables_labels_distribution = webtables_all_labels_deduplicated.sample(n=10000, random_state=RANDOM_STATE)"
   ]
  },
  {
   "cell_type": "code",
   "execution_count": 328,
   "metadata": {
    "scrolled": true
   },
   "outputs": [
    {
     "data": {
      "text/plain": [
       "417166    [1st career game, 1st career hit, 1st career RBI]\n",
       "509812         [None, 134311.0, 74700.0, 99072.0, 129357.0]\n",
       "632582    [Boston Red Sox, New York Yankees, Milwaukee B...\n",
       "378362                 [Horsens (Denmark), Rabat (Morocco)]\n",
       "207071    [Afghanistan, Albania, Algeria, American Samoa...\n",
       "Name: values, dtype: object"
      ]
     },
     "execution_count": 328,
     "metadata": {},
     "output_type": "execute_result"
    }
   ],
   "source": [
    "webtables_samples_distribution.head()"
   ]
  },
  {
   "cell_type": "code",
   "execution_count": 329,
   "metadata": {},
   "outputs": [
    {
     "data": {
      "text/plain": [
       "417166       notes\n",
       "509812        rank\n",
       "632582        team\n",
       "378362    location\n",
       "207071     country\n",
       "Name: type, dtype: object"
      ]
     },
     "execution_count": 329,
     "metadata": {},
     "output_type": "execute_result"
    }
   ],
   "source": [
    "webtables_labels_distribution.head()"
   ]
  },
  {
   "cell_type": "code",
   "execution_count": 330,
   "metadata": {},
   "outputs": [
    {
     "name": "stdout",
     "output_type": "stream",
     "text": [
      "Preparing feature extraction by downloading 2 files:\n",
      "        \n",
      " ../sherlock/features/glove.6B.50d.txt and \n",
      " ../sherlock/features/par_vec_trained_400.pkl.docvecs.vectors_docs.npy.\n",
      "        \n",
      "All files for extracting word and paragraph embeddings are present.\n"
     ]
    },
    {
     "name": "stderr",
     "output_type": "stream",
     "text": [
      "100%|██████████| 10000/10000 [38:35<00:00,  4.32it/s]    \n"
     ]
    }
   ],
   "source": [
    "webtables_all_features = preprocessing.extract_features(webtables_samples_distribution)"
   ]
  },
  {
   "cell_type": "code",
   "execution_count": 333,
   "metadata": {},
   "outputs": [],
   "source": [
    "webtables_all_features = webtables_all_features.fillna(webtables_all_features.mean())"
   ]
  },
  {
   "cell_type": "code",
   "execution_count": 331,
   "metadata": {},
   "outputs": [],
   "source": [
    "gittables_samples_distribution = gittables_all_samples_deduplicated.sample(n=10000, random_state=RANDOM_STATE)\n",
    "gittables_labels_distribution = gittables_all_labels_deduplicated.sample(n=10000, random_state=RANDOM_STATE)"
   ]
  },
  {
   "cell_type": "code",
   "execution_count": 332,
   "metadata": {},
   "outputs": [
    {
     "name": "stdout",
     "output_type": "stream",
     "text": [
      "Preparing feature extraction by downloading 2 files:\n",
      "        \n",
      " ../sherlock/features/glove.6B.50d.txt and \n",
      " ../sherlock/features/par_vec_trained_400.pkl.docvecs.vectors_docs.npy.\n",
      "        \n",
      "All files for extracting word and paragraph embeddings are present.\n"
     ]
    },
    {
     "name": "stderr",
     "output_type": "stream",
     "text": [
      "100%|██████████| 10000/10000 [19:02<00:00,  8.75it/s]\n"
     ]
    }
   ],
   "source": [
    "gittables_all_features = preprocessing.extract_features(gittables_samples_distribution)"
   ]
  },
  {
   "cell_type": "code",
   "execution_count": 334,
   "metadata": {},
   "outputs": [],
   "source": [
    "gittables_all_features = gittables_all_features.fillna(gittables_all_features.mean())"
   ]
  },
  {
   "cell_type": "code",
   "execution_count": null,
   "metadata": {},
   "outputs": [],
   "source": []
  },
  {
   "cell_type": "code",
   "execution_count": null,
   "metadata": {},
   "outputs": [],
   "source": []
  },
  {
   "cell_type": "code",
   "execution_count": 129,
   "metadata": {},
   "outputs": [
    {
     "name": "stdout",
     "output_type": "stream",
     "text": [
      "Preparing feature extraction by downloading 2 files:\n",
      "        \n",
      " ../sherlock/features/glove.6B.50d.txt and \n",
      " ../sherlock/features/par_vec_trained_400.pkl.docvecs.vectors_docs.npy.\n",
      "        \n",
      "All files for extracting word and paragraph embeddings are present.\n"
     ]
    },
    {
     "name": "stderr",
     "output_type": "stream",
     "text": [
      "100%|██████████| 10740/10740 [23:36<00:00,  7.58it/s]  \n"
     ]
    }
   ],
   "source": [
    "webtables_analysis_features = preprocessing.extract_features(webtables_deduplicated_sampled[\"values\"])"
   ]
  },
  {
   "cell_type": "code",
   "execution_count": 130,
   "metadata": {},
   "outputs": [],
   "source": [
    "webtables_analysis_features = webtables_analysis_features.fillna(webtables_analysis_features.mean())"
   ]
  },
  {
   "cell_type": "code",
   "execution_count": 131,
   "metadata": {},
   "outputs": [
    {
     "data": {
      "text/plain": [
       "(10740, 1188)"
      ]
     },
     "execution_count": 131,
     "metadata": {},
     "output_type": "execute_result"
    }
   ],
   "source": [
    "webtables_analysis_features.shape"
   ]
  },
  {
   "cell_type": "code",
   "execution_count": 132,
   "metadata": {},
   "outputs": [
    {
     "data": {
      "text/html": [
       "<div>\n",
       "<style scoped>\n",
       "    .dataframe tbody tr th:only-of-type {\n",
       "        vertical-align: middle;\n",
       "    }\n",
       "\n",
       "    .dataframe tbody tr th {\n",
       "        vertical-align: top;\n",
       "    }\n",
       "\n",
       "    .dataframe thead th {\n",
       "        text-align: right;\n",
       "    }\n",
       "</style>\n",
       "<table border=\"1\" class=\"dataframe\">\n",
       "  <thead>\n",
       "    <tr style=\"text-align: right;\">\n",
       "      <th></th>\n",
       "      <th>n_[0]-agg-any</th>\n",
       "      <th>n_[0]-agg-all</th>\n",
       "      <th>n_[0]-agg-mean</th>\n",
       "      <th>n_[0]-agg-var</th>\n",
       "      <th>n_[0]-agg-min</th>\n",
       "      <th>n_[0]-agg-max</th>\n",
       "      <th>n_[0]-agg-median</th>\n",
       "      <th>n_[0]-agg-sum</th>\n",
       "      <th>n_[0]-agg-kurtosis</th>\n",
       "      <th>n_[0]-agg-skewness</th>\n",
       "      <th>...</th>\n",
       "      <th>length-agg-min</th>\n",
       "      <th>length-agg-max</th>\n",
       "      <th>length-agg-median</th>\n",
       "      <th>length-agg-sum</th>\n",
       "      <th>length-agg-kurtosis</th>\n",
       "      <th>length-agg-skewness</th>\n",
       "      <th>none-agg-has</th>\n",
       "      <th>none-agg-percent</th>\n",
       "      <th>none-agg-num</th>\n",
       "      <th>none-agg-all</th>\n",
       "    </tr>\n",
       "  </thead>\n",
       "  <tbody>\n",
       "    <tr>\n",
       "      <th>0</th>\n",
       "      <td>True</td>\n",
       "      <td>False</td>\n",
       "      <td>0.20</td>\n",
       "      <td>0.3600</td>\n",
       "      <td>0</td>\n",
       "      <td>2</td>\n",
       "      <td>0.0</td>\n",
       "      <td>2</td>\n",
       "      <td>5.111111</td>\n",
       "      <td>2.666667</td>\n",
       "      <td>...</td>\n",
       "      <td>15</td>\n",
       "      <td>16</td>\n",
       "      <td>16.0</td>\n",
       "      <td>159</td>\n",
       "      <td>5.111111</td>\n",
       "      <td>-2.666667</td>\n",
       "      <td>False</td>\n",
       "      <td>0.000000</td>\n",
       "      <td>0</td>\n",
       "      <td>False</td>\n",
       "    </tr>\n",
       "    <tr>\n",
       "      <th>1</th>\n",
       "      <td>False</td>\n",
       "      <td>False</td>\n",
       "      <td>0.00</td>\n",
       "      <td>0.0000</td>\n",
       "      <td>0</td>\n",
       "      <td>0</td>\n",
       "      <td>0.0</td>\n",
       "      <td>0</td>\n",
       "      <td>-3.000000</td>\n",
       "      <td>0.000000</td>\n",
       "      <td>...</td>\n",
       "      <td>22</td>\n",
       "      <td>22</td>\n",
       "      <td>22.0</td>\n",
       "      <td>220</td>\n",
       "      <td>-3.000000</td>\n",
       "      <td>0.000000</td>\n",
       "      <td>False</td>\n",
       "      <td>0.000000</td>\n",
       "      <td>0</td>\n",
       "      <td>False</td>\n",
       "    </tr>\n",
       "    <tr>\n",
       "      <th>2</th>\n",
       "      <td>True</td>\n",
       "      <td>False</td>\n",
       "      <td>0.08</td>\n",
       "      <td>0.0736</td>\n",
       "      <td>0</td>\n",
       "      <td>1</td>\n",
       "      <td>0.0</td>\n",
       "      <td>2</td>\n",
       "      <td>7.586957</td>\n",
       "      <td>3.096281</td>\n",
       "      <td>...</td>\n",
       "      <td>30</td>\n",
       "      <td>52</td>\n",
       "      <td>38.0</td>\n",
       "      <td>965</td>\n",
       "      <td>0.784529</td>\n",
       "      <td>0.949779</td>\n",
       "      <td>False</td>\n",
       "      <td>0.000000</td>\n",
       "      <td>0</td>\n",
       "      <td>False</td>\n",
       "    </tr>\n",
       "    <tr>\n",
       "      <th>3</th>\n",
       "      <td>True</td>\n",
       "      <td>False</td>\n",
       "      <td>1.70</td>\n",
       "      <td>0.6100</td>\n",
       "      <td>0</td>\n",
       "      <td>3</td>\n",
       "      <td>2.0</td>\n",
       "      <td>17</td>\n",
       "      <td>0.154260</td>\n",
       "      <td>-0.680065</td>\n",
       "      <td>...</td>\n",
       "      <td>35</td>\n",
       "      <td>40</td>\n",
       "      <td>37.0</td>\n",
       "      <td>373</td>\n",
       "      <td>-0.172950</td>\n",
       "      <td>0.428729</td>\n",
       "      <td>False</td>\n",
       "      <td>0.000000</td>\n",
       "      <td>0</td>\n",
       "      <td>False</td>\n",
       "    </tr>\n",
       "    <tr>\n",
       "      <th>4</th>\n",
       "      <td>False</td>\n",
       "      <td>False</td>\n",
       "      <td>0.00</td>\n",
       "      <td>0.0000</td>\n",
       "      <td>0</td>\n",
       "      <td>0</td>\n",
       "      <td>0.0</td>\n",
       "      <td>0</td>\n",
       "      <td>-3.000000</td>\n",
       "      <td>0.000000</td>\n",
       "      <td>...</td>\n",
       "      <td>0</td>\n",
       "      <td>13</td>\n",
       "      <td>0.0</td>\n",
       "      <td>13</td>\n",
       "      <td>-1.500000</td>\n",
       "      <td>0.707107</td>\n",
       "      <td>False</td>\n",
       "      <td>-0.666667</td>\n",
       "      <td>-2</td>\n",
       "      <td>False</td>\n",
       "    </tr>\n",
       "  </tbody>\n",
       "</table>\n",
       "<p>5 rows × 1188 columns</p>\n",
       "</div>"
      ],
      "text/plain": [
       "   n_[0]-agg-any  n_[0]-agg-all  n_[0]-agg-mean  n_[0]-agg-var  n_[0]-agg-min  \\\n",
       "0           True          False            0.20         0.3600              0   \n",
       "1          False          False            0.00         0.0000              0   \n",
       "2           True          False            0.08         0.0736              0   \n",
       "3           True          False            1.70         0.6100              0   \n",
       "4          False          False            0.00         0.0000              0   \n",
       "\n",
       "   n_[0]-agg-max  n_[0]-agg-median  n_[0]-agg-sum  n_[0]-agg-kurtosis  \\\n",
       "0              2               0.0              2            5.111111   \n",
       "1              0               0.0              0           -3.000000   \n",
       "2              1               0.0              2            7.586957   \n",
       "3              3               2.0             17            0.154260   \n",
       "4              0               0.0              0           -3.000000   \n",
       "\n",
       "   n_[0]-agg-skewness  ...  length-agg-min  length-agg-max  length-agg-median  \\\n",
       "0            2.666667  ...              15              16               16.0   \n",
       "1            0.000000  ...              22              22               22.0   \n",
       "2            3.096281  ...              30              52               38.0   \n",
       "3           -0.680065  ...              35              40               37.0   \n",
       "4            0.000000  ...               0              13                0.0   \n",
       "\n",
       "   length-agg-sum  length-agg-kurtosis  length-agg-skewness  none-agg-has  \\\n",
       "0             159             5.111111            -2.666667         False   \n",
       "1             220            -3.000000             0.000000         False   \n",
       "2             965             0.784529             0.949779         False   \n",
       "3             373            -0.172950             0.428729         False   \n",
       "4              13            -1.500000             0.707107         False   \n",
       "\n",
       "   none-agg-percent  none-agg-num  none-agg-all  \n",
       "0          0.000000             0         False  \n",
       "1          0.000000             0         False  \n",
       "2          0.000000             0         False  \n",
       "3          0.000000             0         False  \n",
       "4         -0.666667            -2         False  \n",
       "\n",
       "[5 rows x 1188 columns]"
      ]
     },
     "execution_count": 132,
     "metadata": {},
     "output_type": "execute_result"
    }
   ],
   "source": [
    "webtables_analysis_features.head()"
   ]
  },
  {
   "cell_type": "code",
   "execution_count": 133,
   "metadata": {},
   "outputs": [
    {
     "data": {
      "text/plain": [
       "0    address\n",
       "1    address\n",
       "2    address\n",
       "3    address\n",
       "4    address\n",
       "Name: type, dtype: object"
      ]
     },
     "execution_count": 133,
     "metadata": {},
     "output_type": "execute_result"
    }
   ],
   "source": [
    "webtables_deduplicated_sampled[\"type\"].head()"
   ]
  },
  {
   "cell_type": "code",
   "execution_count": null,
   "metadata": {},
   "outputs": [],
   "source": []
  },
  {
   "cell_type": "markdown",
   "metadata": {},
   "source": [
    "### GitTables"
   ]
  },
  {
   "cell_type": "code",
   "execution_count": 134,
   "metadata": {},
   "outputs": [
    {
     "data": {
      "text/plain": [
       "0    [Mason@study.com, James@student.com, Jacob@thi...\n",
       "1    [hseitz@jccc.edu, lwolfgra@jccc.edu, bedmond3@...\n",
       "2    [Alexander@school.com, Ethan@money.com, null@f...\n",
       "3    [Jacob@hand.com, Jacob@week.com, James@thing.c...\n",
       "4    [Alexander@job.com, null@time.com, James@money...\n",
       "Name: values, dtype: object"
      ]
     },
     "execution_count": 134,
     "metadata": {},
     "output_type": "execute_result"
    }
   ],
   "source": [
    "gittables_deduplicated_sampled[\"values\"].head()"
   ]
  },
  {
   "cell_type": "code",
   "execution_count": 135,
   "metadata": {},
   "outputs": [
    {
     "data": {
      "text/plain": [
       "0    address\n",
       "1    address\n",
       "2    address\n",
       "3    address\n",
       "4    address\n",
       "Name: type, dtype: object"
      ]
     },
     "execution_count": 135,
     "metadata": {},
     "output_type": "execute_result"
    }
   ],
   "source": [
    "gittables_deduplicated_sampled[\"type\"].head()"
   ]
  },
  {
   "cell_type": "code",
   "execution_count": 136,
   "metadata": {},
   "outputs": [
    {
     "name": "stdout",
     "output_type": "stream",
     "text": [
      "Preparing feature extraction by downloading 2 files:\n",
      "        \n",
      " ../sherlock/features/glove.6B.50d.txt and \n",
      " ../sherlock/features/par_vec_trained_400.pkl.docvecs.vectors_docs.npy.\n",
      "        \n",
      "All files for extracting word and paragraph embeddings are present.\n"
     ]
    },
    {
     "name": "stderr",
     "output_type": "stream",
     "text": [
      "100%|██████████| 10740/10740 [20:12<00:00,  8.85it/s]\n"
     ]
    }
   ],
   "source": [
    "gittables_analysis_features = preprocessing.extract_features(gittables_deduplicated_sampled[\"values\"]) "
   ]
  },
  {
   "cell_type": "code",
   "execution_count": 137,
   "metadata": {},
   "outputs": [],
   "source": [
    "gittables_analysis_features = gittables_analysis_features.fillna(gittables_analysis_features.mean())"
   ]
  },
  {
   "cell_type": "code",
   "execution_count": 138,
   "metadata": {},
   "outputs": [
    {
     "data": {
      "text/html": [
       "<div>\n",
       "<style scoped>\n",
       "    .dataframe tbody tr th:only-of-type {\n",
       "        vertical-align: middle;\n",
       "    }\n",
       "\n",
       "    .dataframe tbody tr th {\n",
       "        vertical-align: top;\n",
       "    }\n",
       "\n",
       "    .dataframe thead th {\n",
       "        text-align: right;\n",
       "    }\n",
       "</style>\n",
       "<table border=\"1\" class=\"dataframe\">\n",
       "  <thead>\n",
       "    <tr style=\"text-align: right;\">\n",
       "      <th></th>\n",
       "      <th>n_[0]-agg-any</th>\n",
       "      <th>n_[0]-agg-all</th>\n",
       "      <th>n_[0]-agg-mean</th>\n",
       "      <th>n_[0]-agg-var</th>\n",
       "      <th>n_[0]-agg-min</th>\n",
       "      <th>n_[0]-agg-max</th>\n",
       "      <th>n_[0]-agg-median</th>\n",
       "      <th>n_[0]-agg-sum</th>\n",
       "      <th>n_[0]-agg-kurtosis</th>\n",
       "      <th>n_[0]-agg-skewness</th>\n",
       "      <th>...</th>\n",
       "      <th>length-agg-min</th>\n",
       "      <th>length-agg-max</th>\n",
       "      <th>length-agg-median</th>\n",
       "      <th>length-agg-sum</th>\n",
       "      <th>length-agg-kurtosis</th>\n",
       "      <th>length-agg-skewness</th>\n",
       "      <th>none-agg-has</th>\n",
       "      <th>none-agg-percent</th>\n",
       "      <th>none-agg-num</th>\n",
       "      <th>none-agg-all</th>\n",
       "    </tr>\n",
       "  </thead>\n",
       "  <tbody>\n",
       "    <tr>\n",
       "      <th>0</th>\n",
       "      <td>False</td>\n",
       "      <td>False</td>\n",
       "      <td>0.0</td>\n",
       "      <td>0.0</td>\n",
       "      <td>0</td>\n",
       "      <td>0</td>\n",
       "      <td>0.0</td>\n",
       "      <td>0</td>\n",
       "      <td>-3.0</td>\n",
       "      <td>0.0</td>\n",
       "      <td>...</td>\n",
       "      <td>12</td>\n",
       "      <td>21</td>\n",
       "      <td>14.0</td>\n",
       "      <td>467</td>\n",
       "      <td>1.236294</td>\n",
       "      <td>1.084834</td>\n",
       "      <td>False</td>\n",
       "      <td>0.0</td>\n",
       "      <td>0</td>\n",
       "      <td>False</td>\n",
       "    </tr>\n",
       "    <tr>\n",
       "      <th>1</th>\n",
       "      <td>False</td>\n",
       "      <td>False</td>\n",
       "      <td>0.0</td>\n",
       "      <td>0.0</td>\n",
       "      <td>0</td>\n",
       "      <td>0</td>\n",
       "      <td>0.0</td>\n",
       "      <td>0</td>\n",
       "      <td>-3.0</td>\n",
       "      <td>0.0</td>\n",
       "      <td>...</td>\n",
       "      <td>3</td>\n",
       "      <td>17</td>\n",
       "      <td>14.0</td>\n",
       "      <td>68</td>\n",
       "      <td>-1.516339</td>\n",
       "      <td>-0.557686</td>\n",
       "      <td>False</td>\n",
       "      <td>0.0</td>\n",
       "      <td>0</td>\n",
       "      <td>False</td>\n",
       "    </tr>\n",
       "    <tr>\n",
       "      <th>2</th>\n",
       "      <td>False</td>\n",
       "      <td>False</td>\n",
       "      <td>0.0</td>\n",
       "      <td>0.0</td>\n",
       "      <td>0</td>\n",
       "      <td>0</td>\n",
       "      <td>0.0</td>\n",
       "      <td>0</td>\n",
       "      <td>-3.0</td>\n",
       "      <td>0.0</td>\n",
       "      <td>...</td>\n",
       "      <td>10</td>\n",
       "      <td>22</td>\n",
       "      <td>16.0</td>\n",
       "      <td>491</td>\n",
       "      <td>-0.049900</td>\n",
       "      <td>0.241513</td>\n",
       "      <td>False</td>\n",
       "      <td>0.0</td>\n",
       "      <td>0</td>\n",
       "      <td>False</td>\n",
       "    </tr>\n",
       "    <tr>\n",
       "      <th>3</th>\n",
       "      <td>False</td>\n",
       "      <td>False</td>\n",
       "      <td>0.0</td>\n",
       "      <td>0.0</td>\n",
       "      <td>0</td>\n",
       "      <td>0</td>\n",
       "      <td>0.0</td>\n",
       "      <td>0</td>\n",
       "      <td>-3.0</td>\n",
       "      <td>0.0</td>\n",
       "      <td>...</td>\n",
       "      <td>14</td>\n",
       "      <td>15</td>\n",
       "      <td>14.5</td>\n",
       "      <td>58</td>\n",
       "      <td>-2.000000</td>\n",
       "      <td>0.000000</td>\n",
       "      <td>False</td>\n",
       "      <td>0.0</td>\n",
       "      <td>0</td>\n",
       "      <td>False</td>\n",
       "    </tr>\n",
       "    <tr>\n",
       "      <th>4</th>\n",
       "      <td>False</td>\n",
       "      <td>False</td>\n",
       "      <td>0.0</td>\n",
       "      <td>0.0</td>\n",
       "      <td>0</td>\n",
       "      <td>0</td>\n",
       "      <td>0.0</td>\n",
       "      <td>0</td>\n",
       "      <td>-3.0</td>\n",
       "      <td>0.0</td>\n",
       "      <td>...</td>\n",
       "      <td>12</td>\n",
       "      <td>18</td>\n",
       "      <td>15.0</td>\n",
       "      <td>372</td>\n",
       "      <td>-0.882281</td>\n",
       "      <td>0.138859</td>\n",
       "      <td>False</td>\n",
       "      <td>0.0</td>\n",
       "      <td>0</td>\n",
       "      <td>False</td>\n",
       "    </tr>\n",
       "  </tbody>\n",
       "</table>\n",
       "<p>5 rows × 1188 columns</p>\n",
       "</div>"
      ],
      "text/plain": [
       "   n_[0]-agg-any  n_[0]-agg-all  n_[0]-agg-mean  n_[0]-agg-var  n_[0]-agg-min  \\\n",
       "0          False          False             0.0            0.0              0   \n",
       "1          False          False             0.0            0.0              0   \n",
       "2          False          False             0.0            0.0              0   \n",
       "3          False          False             0.0            0.0              0   \n",
       "4          False          False             0.0            0.0              0   \n",
       "\n",
       "   n_[0]-agg-max  n_[0]-agg-median  n_[0]-agg-sum  n_[0]-agg-kurtosis  \\\n",
       "0              0               0.0              0                -3.0   \n",
       "1              0               0.0              0                -3.0   \n",
       "2              0               0.0              0                -3.0   \n",
       "3              0               0.0              0                -3.0   \n",
       "4              0               0.0              0                -3.0   \n",
       "\n",
       "   n_[0]-agg-skewness  ...  length-agg-min  length-agg-max  length-agg-median  \\\n",
       "0                 0.0  ...              12              21               14.0   \n",
       "1                 0.0  ...               3              17               14.0   \n",
       "2                 0.0  ...              10              22               16.0   \n",
       "3                 0.0  ...              14              15               14.5   \n",
       "4                 0.0  ...              12              18               15.0   \n",
       "\n",
       "   length-agg-sum  length-agg-kurtosis  length-agg-skewness  none-agg-has  \\\n",
       "0             467             1.236294             1.084834         False   \n",
       "1              68            -1.516339            -0.557686         False   \n",
       "2             491            -0.049900             0.241513         False   \n",
       "3              58            -2.000000             0.000000         False   \n",
       "4             372            -0.882281             0.138859         False   \n",
       "\n",
       "   none-agg-percent  none-agg-num  none-agg-all  \n",
       "0               0.0             0         False  \n",
       "1               0.0             0         False  \n",
       "2               0.0             0         False  \n",
       "3               0.0             0         False  \n",
       "4               0.0             0         False  \n",
       "\n",
       "[5 rows x 1188 columns]"
      ]
     },
     "execution_count": 138,
     "metadata": {},
     "output_type": "execute_result"
    }
   ],
   "source": [
    "gittables_analysis_features.head(n=5)"
   ]
  },
  {
   "cell_type": "code",
   "execution_count": null,
   "metadata": {},
   "outputs": [],
   "source": []
  },
  {
   "cell_type": "code",
   "execution_count": null,
   "metadata": {},
   "outputs": [],
   "source": []
  },
  {
   "cell_type": "markdown",
   "metadata": {},
   "source": [
    "### Save files"
   ]
  },
  {
   "cell_type": "code",
   "execution_count": 476,
   "metadata": {},
   "outputs": [],
   "source": [
    "webtables_analysis_features.to_pickle(\"../data/gittables_experiment/webtables_analysis_features.pkl\", protocol=4)\n",
    "webtables_deduplicated_sampled[\"type\"].to_pickle(\"../data/gittables_experiment/webtables_analysis_labels.pkl\", protocol=4)"
   ]
  },
  {
   "cell_type": "code",
   "execution_count": 477,
   "metadata": {},
   "outputs": [],
   "source": [
    "gittables_analysis_features.to_pickle(\"../data/gittables_experiment/gittables_analysis_features.pkl\", protocol=4)\n",
    "gittables_deduplicated_sampled[\"type\"].to_pickle(\"../data/gittables_experiment/gittables_analysis_labels.pkl\", protocol=4)"
   ]
  },
  {
   "cell_type": "code",
   "execution_count": 478,
   "metadata": {},
   "outputs": [],
   "source": [
    "gittables_all_features.to_pickle(\"../data/gittables_experiment/gittables_all_features.pkl\", protocol=4)\n",
    "webtables_all_features.to_pickle(\"../data/gittables_experiment/webtables_all_features.pkl\", protocol=4)"
   ]
  },
  {
   "cell_type": "code",
   "execution_count": null,
   "metadata": {},
   "outputs": [],
   "source": []
  },
  {
   "cell_type": "code",
   "execution_count": 141,
   "metadata": {},
   "outputs": [
    {
     "name": "stdout",
     "output_type": "stream",
     "text": [
      "7840\n",
      "10515\n"
     ]
    }
   ],
   "source": [
    "print(gittables_analysis_features[\"word_embedding_feature\"].sum())\n",
    "print(webtables_analysis_features[\"word_embedding_feature\"].sum())"
   ]
  },
  {
   "cell_type": "code",
   "execution_count": null,
   "metadata": {},
   "outputs": [],
   "source": []
  },
  {
   "cell_type": "markdown",
   "metadata": {},
   "source": [
    "## Analyse featurized content\n",
    "-> we inspect data diversity coverage of WebTables and GitTables"
   ]
  },
  {
   "cell_type": "code",
   "execution_count": 142,
   "metadata": {},
   "outputs": [],
   "source": [
    "webtables_gittables_df = webtables_analysis_features.append(gittables_analysis_features)"
   ]
  },
  {
   "cell_type": "code",
   "execution_count": 336,
   "metadata": {},
   "outputs": [],
   "source": [
    "webtables_gittables_all_df = webtables_all_features.append(gittables_all_features)"
   ]
  },
  {
   "cell_type": "code",
   "execution_count": 143,
   "metadata": {},
   "outputs": [
    {
     "data": {
      "text/plain": [
       "(21480, 1188)"
      ]
     },
     "execution_count": 143,
     "metadata": {},
     "output_type": "execute_result"
    }
   ],
   "source": [
    "webtables_gittables_df.shape"
   ]
  },
  {
   "cell_type": "code",
   "execution_count": 337,
   "metadata": {},
   "outputs": [
    {
     "data": {
      "text/plain": [
       "(20000, 1188)"
      ]
     },
     "execution_count": 337,
     "metadata": {},
     "output_type": "execute_result"
    }
   ],
   "source": [
    "webtables_gittables_all_df.shape"
   ]
  },
  {
   "cell_type": "code",
   "execution_count": 338,
   "metadata": {},
   "outputs": [],
   "source": [
    "data_shift_labels = np.ones(webtables_all_features.shape[0]).tolist() + np.zeros(gittables_all_features.shape[0]).tolist()"
   ]
  },
  {
   "cell_type": "code",
   "execution_count": 339,
   "metadata": {},
   "outputs": [],
   "source": [
    "visualization_labels = np.repeat(\"black\", webtables_all_features.shape[0]).tolist() + np.repeat(\"red\", gittables_all_features.shape[0]).tolist()"
   ]
  },
  {
   "cell_type": "code",
   "execution_count": 340,
   "metadata": {},
   "outputs": [],
   "source": [
    "corpus_labels = np.repeat(\"WebTables\", webtables_all_features.shape[0]).tolist() + np.repeat(\"GitTables\", gittables_all_features.shape[0]).tolist() "
   ]
  },
  {
   "cell_type": "markdown",
   "metadata": {},
   "source": [
    "### Visualizing compressed feature spaces"
   ]
  },
  {
   "cell_type": "code",
   "execution_count": 341,
   "metadata": {},
   "outputs": [],
   "source": [
    "from sklearn import manifold, decomposition\n",
    "import matplotlib"
   ]
  },
  {
   "cell_type": "code",
   "execution_count": 342,
   "metadata": {},
   "outputs": [],
   "source": [
    "tsne = manifold.TSNE(n_components=2, perplexity=75, random_state=RANDOM_STATE)"
   ]
  },
  {
   "cell_type": "code",
   "execution_count": 343,
   "metadata": {},
   "outputs": [],
   "source": [
    "tsne_compression = pd.DataFrame(\n",
    "    tsne.fit_transform(webtables_gittables_all_df),\n",
    "    columns=[\"x\", \"y\"],\n",
    ")"
   ]
  },
  {
   "cell_type": "code",
   "execution_count": 344,
   "metadata": {},
   "outputs": [
    {
     "data": {
      "text/html": [
       "<div>\n",
       "<style scoped>\n",
       "    .dataframe tbody tr th:only-of-type {\n",
       "        vertical-align: middle;\n",
       "    }\n",
       "\n",
       "    .dataframe tbody tr th {\n",
       "        vertical-align: top;\n",
       "    }\n",
       "\n",
       "    .dataframe thead th {\n",
       "        text-align: right;\n",
       "    }\n",
       "</style>\n",
       "<table border=\"1\" class=\"dataframe\">\n",
       "  <thead>\n",
       "    <tr style=\"text-align: right;\">\n",
       "      <th></th>\n",
       "      <th>x</th>\n",
       "      <th>y</th>\n",
       "    </tr>\n",
       "  </thead>\n",
       "  <tbody>\n",
       "    <tr>\n",
       "      <th>0</th>\n",
       "      <td>-45.531780</td>\n",
       "      <td>19.574947</td>\n",
       "    </tr>\n",
       "    <tr>\n",
       "      <th>1</th>\n",
       "      <td>-30.340124</td>\n",
       "      <td>-24.437840</td>\n",
       "    </tr>\n",
       "    <tr>\n",
       "      <th>2</th>\n",
       "      <td>12.729100</td>\n",
       "      <td>16.075064</td>\n",
       "    </tr>\n",
       "    <tr>\n",
       "      <th>3</th>\n",
       "      <td>-55.479752</td>\n",
       "      <td>13.607750</td>\n",
       "    </tr>\n",
       "    <tr>\n",
       "      <th>4</th>\n",
       "      <td>27.667137</td>\n",
       "      <td>-7.479201</td>\n",
       "    </tr>\n",
       "  </tbody>\n",
       "</table>\n",
       "</div>"
      ],
      "text/plain": [
       "           x          y\n",
       "0 -45.531780  19.574947\n",
       "1 -30.340124 -24.437840\n",
       "2  12.729100  16.075064\n",
       "3 -55.479752  13.607750\n",
       "4  27.667137  -7.479201"
      ]
     },
     "execution_count": 344,
     "metadata": {},
     "output_type": "execute_result"
    }
   ],
   "source": [
    "tsne_compression.head()"
   ]
  },
  {
   "cell_type": "code",
   "execution_count": 1,
   "metadata": {},
   "outputs": [],
   "source": [
    "# tsne perplexity\n",
    "plt.figure(figsize=(12,7))\n",
    "\n",
    "plt.scatter(tsne_compression.loc[:webtables_all_features.shape[0], \"x\"], tsne_compression.loc[:webtables_all_features.shape[0],\"y\"], c=\"gold\", label=\"WebTables\", alpha=0.2)\n",
    "plt.scatter(tsne_compression.loc[gittables_all_features.shape[0]:, \"x\"], tsne_compression.loc[gittables_all_features.shape[0]:,\"y\"], c=\"cornflowerblue\", label=\"GitTables\", alpha=0.2)\n",
    "\n",
    "plt.tick_params(axis=\"both\", which=\"both\", length=0, labelsize=20)\n",
    "plt.tick_params(axis=\"both\", which=\"both\", length=0, labelsize=20)\n",
    "\n",
    "plt.legend(fontsize=24, scatterpoints=6, loc=\"lower left\")"
   ]
  },
  {
   "cell_type": "code",
   "execution_count": 2,
   "metadata": {},
   "outputs": [],
   "source": [
    "plt.scatter(tsne_compression.loc[:webtables_all_features.shape[0], \"x\"], tsne_compression.loc[:webtables_all_features.shape[0],\"y\"], c=\"gold\", label=\"WebTables\", alpha=0.2)"
   ]
  },
  {
   "cell_type": "code",
   "execution_count": 3,
   "metadata": {},
   "outputs": [],
   "source": [
    "plt.scatter(tsne_compression.loc[gittables_all_features.shape[0]:, \"x\"], tsne_compression.loc[gittables_all_features.shape[0]:,\"y\"], c=\"cornflowerblue\", label=\"GitTables\", alpha=0.2)"
   ]
  },
  {
   "cell_type": "code",
   "execution_count": null,
   "metadata": {},
   "outputs": [],
   "source": []
  },
  {
   "cell_type": "code",
   "execution_count": 247,
   "metadata": {},
   "outputs": [
    {
     "data": {
      "text/plain": [
       "<Figure size 432x288 with 0 Axes>"
      ]
     },
     "metadata": {},
     "output_type": "display_data"
    }
   ],
   "source": [
    "plt.savefig(\"../data/gittables_experiment/tsne_gittables_webtables.pdf\", format=\"pdf\")"
   ]
  },
  {
   "cell_type": "code",
   "execution_count": null,
   "metadata": {},
   "outputs": [],
   "source": []
  },
  {
   "cell_type": "markdown",
   "metadata": {},
   "source": [
    "### Detecting distribution differences"
   ]
  },
  {
   "cell_type": "code",
   "execution_count": 250,
   "metadata": {},
   "outputs": [],
   "source": [
    "from sklearn.ensemble import RandomForestClassifier\n",
    "from sklearn import model_selection\n",
    "import sklearn"
   ]
  },
  {
   "cell_type": "code",
   "execution_count": 354,
   "metadata": {},
   "outputs": [],
   "source": [
    "cv = model_selection.KFold(n_splits=10, random_state=RANDOM_STATE)"
   ]
  },
  {
   "cell_type": "code",
   "execution_count": 355,
   "metadata": {},
   "outputs": [],
   "source": [
    "models_scores = model_selection.cross_validate(\n",
    "    RandomForestClassifier(n_estimators=100, random_state=RANDOM_STATE),\n",
    "    webtables_gittables_all_df,\n",
    "    y=data_shift_labels,\n",
    "    cv=cv,\n",
    "    return_train_score=True,\n",
    "    return_estimator=True,\n",
    ")"
   ]
  },
  {
   "cell_type": "code",
   "execution_count": 358,
   "metadata": {},
   "outputs": [
    {
     "data": {
      "text/plain": [
       "0.9020999999999999"
      ]
     },
     "execution_count": 358,
     "metadata": {},
     "output_type": "execute_result"
    }
   ],
   "source": [
    "np.mean(models_scores[\"test_score\"])"
   ]
  },
  {
   "cell_type": "code",
   "execution_count": 359,
   "metadata": {},
   "outputs": [
    {
     "data": {
      "text/plain": [
       "array([0.9235, 0.939 , 0.9405, 0.9245, 0.924 , 0.8785, 0.8625, 0.8775,\n",
       "       0.879 , 0.872 ])"
      ]
     },
     "execution_count": 359,
     "metadata": {},
     "output_type": "execute_result"
    }
   ],
   "source": [
    "models_scores[\"test_score\"]"
   ]
  },
  {
   "cell_type": "code",
   "execution_count": 360,
   "metadata": {},
   "outputs": [
    {
     "data": {
      "text/plain": [
       "array([0.99972222, 0.99955556, 0.99955556, 0.99972222, 0.99966667,\n",
       "       0.99972222, 0.99955556, 0.99972222, 0.99961111, 0.99955556])"
      ]
     },
     "execution_count": 360,
     "metadata": {},
     "output_type": "execute_result"
    }
   ],
   "source": [
    "models_scores[\"train_score\"]"
   ]
  },
  {
   "cell_type": "code",
   "execution_count": 361,
   "metadata": {},
   "outputs": [
    {
     "data": {
      "text/plain": [
       "0.029060970389854494"
      ]
     },
     "execution_count": 361,
     "metadata": {},
     "output_type": "execute_result"
    }
   ],
   "source": [
    "np.std(models_scores[\"test_score\"])"
   ]
  },
  {
   "cell_type": "code",
   "execution_count": 352,
   "metadata": {},
   "outputs": [],
   "source": [
    "from matplotlib import ticker"
   ]
  },
  {
   "cell_type": "code",
   "execution_count": 353,
   "metadata": {},
   "outputs": [
    {
     "data": {
      "image/png": "[encoded data removed]",
      "text/plain": [
       "<Figure size 864x360 with 1 Axes>"
      ]
     },
     "metadata": {
      "needs_background": "light"
     },
     "output_type": "display_data"
    }
   ],
   "source": [
    "plt.figure(figsize=(12,5))\n",
    "ax = plt.gca()\n",
    "\n",
    "plt.bar(\n",
    "    x=webtables_gittables_all_df.columns[list(np.argsort(models_scores[\"estimator\"][0].feature_importances_))[::-1]][:20].str.replace(\"_\", \" \"),\n",
    "    height=list(np.sort(models_scores[\"estimator\"][0].feature_importances_))[::-1][:20],\n",
    "    color=\"gold\"\n",
    ")\n",
    "\n",
    "for tick in ax.get_xticklabels(): tick.set_rotation(90)\n",
    "    \n",
    "ax.set_ylabel(\"Feature importances\", fontsize=28)\n",
    "ax.set_xlabel(\"Cosine similarity\", fontsize=28)\n",
    "ax.yaxis.set_major_formatter(ticker.EngFormatter())\n",
    "ax.xaxis.set_ticks_position('none')\n",
    "ax.yaxis.set_ticks_position('none')\n",
    "ax.tick_params(axis='both', which='major', labelsize=26)\n",
    "\n",
    "plt.show()"
   ]
  },
  {
   "cell_type": "code",
   "execution_count": null,
   "metadata": {},
   "outputs": [],
   "source": []
  },
  {
   "cell_type": "markdown",
   "metadata": {},
   "source": [
    "## How well do the corpora generalize?\n",
    "The model can be retrained using the code below. The model is currently restricted to be trained on 78 classes, the code of the model architecture will soon be added for adjusting this."
   ]
  },
  {
   "cell_type": "code",
   "execution_count": 193,
   "metadata": {},
   "outputs": [],
   "source": [
    "from sklearn import metrics"
   ]
  },
  {
   "cell_type": "code",
   "execution_count": 259,
   "metadata": {},
   "outputs": [],
   "source": [
    "gittables_models_scores = model_selection.cross_validate(\n",
    "    RandomForestClassifier(n_estimators=100, random_state=RANDOM_STATE),\n",
    "    gittables_analysis_features,\n",
    "    gittables_deduplicated_sampled[\"type\"],\n",
    "    cv=10,\n",
    "    return_estimator=True,\n",
    "    scoring=\"f1_macro\",\n",
    ")"
   ]
  },
  {
   "cell_type": "code",
   "execution_count": 260,
   "metadata": {},
   "outputs": [
    {
     "data": {
      "text/plain": [
       "(0.9071976061276249, 0.006416250014179148)"
      ]
     },
     "execution_count": 260,
     "metadata": {},
     "output_type": "execute_result"
    }
   ],
   "source": [
    "np.mean(gittables_models_scores[\"test_score\"]), np.std(gittables_models_scores[\"test_score\"])"
   ]
  },
  {
   "cell_type": "code",
   "execution_count": 261,
   "metadata": {},
   "outputs": [
    {
     "name": "stderr",
     "output_type": "stream",
     "text": [
      "/Users/madelon/miniconda3/envs/sherlock-project/lib/python3.6/site-packages/sklearn/utils/deprecation.py:125: FutureWarning: You are accessing a training score ('train_score'), which will not be available by default any more in 0.21. If you need training scores, please set return_train_score=True\n",
      "  warnings.warn(*warn_args, **warn_kwargs)\n"
     ]
    },
    {
     "data": {
      "text/plain": [
       "0.9998137904084585"
      ]
     },
     "execution_count": 261,
     "metadata": {},
     "output_type": "execute_result"
    }
   ],
   "source": [
    "np.mean(gittables_models_scores[\"train_score\"])"
   ]
  },
  {
   "cell_type": "code",
   "execution_count": 262,
   "metadata": {},
   "outputs": [],
   "source": [
    "gittables_prediction_for_webtables = gittables_models_scores[\"estimator\"][0].predict(webtables_analysis_features)"
   ]
  },
  {
   "cell_type": "code",
   "execution_count": 263,
   "metadata": {},
   "outputs": [],
   "source": [
    "#gittables_analysis_features.columns[list(np.argsort(gittables_models_scores[\"estimator\"][0].feature_importances_))[::-1]][:20]"
   ]
  },
  {
   "cell_type": "code",
   "execution_count": 264,
   "metadata": {},
   "outputs": [
    {
     "data": {
      "text/plain": [
       "10740"
      ]
     },
     "execution_count": 264,
     "metadata": {},
     "output_type": "execute_result"
    }
   ],
   "source": [
    "len(gittables_prediction_for_webtables)"
   ]
  },
  {
   "cell_type": "code",
   "execution_count": 265,
   "metadata": {},
   "outputs": [],
   "source": [
    "gittables_test_scores = []\n",
    "for estimator in gittables_models_scores[\"estimator\"]:\n",
    "    gittables_prediction_for_webtables = estimator.predict(webtables_analysis_features)\n",
    "    gittables_test_scores.append(\n",
    "        metrics.f1_score(webtables_deduplicated_sampled[\"type\"], gittables_prediction_for_webtables, average=\"macro\")\n",
    "    )"
   ]
  },
  {
   "cell_type": "code",
   "execution_count": 266,
   "metadata": {},
   "outputs": [
    {
     "data": {
      "text/plain": [
       "[0.6106779875913098,\n",
       " 0.6234191403838294,\n",
       " 0.6365295195306914,\n",
       " 0.6242079804345727,\n",
       " 0.6057023570274521,\n",
       " 0.5992040636007553,\n",
       " 0.6228251120844833,\n",
       " 0.6021187237010104,\n",
       " 0.6323966941284482,\n",
       " 0.6234341803505956]"
      ]
     },
     "execution_count": 266,
     "metadata": {},
     "output_type": "execute_result"
    }
   ],
   "source": [
    "gittables_test_scores"
   ]
  },
  {
   "cell_type": "code",
   "execution_count": 267,
   "metadata": {},
   "outputs": [
    {
     "data": {
      "text/plain": [
       "(0.6180515758833147, 0.012172286029492808)"
      ]
     },
     "execution_count": 267,
     "metadata": {},
     "output_type": "execute_result"
    }
   ],
   "source": [
    "np.mean(gittables_test_scores), np.std(gittables_test_scores)"
   ]
  },
  {
   "cell_type": "code",
   "execution_count": null,
   "metadata": {},
   "outputs": [],
   "source": []
  },
  {
   "cell_type": "code",
   "execution_count": null,
   "metadata": {},
   "outputs": [],
   "source": []
  },
  {
   "cell_type": "code",
   "execution_count": 268,
   "metadata": {},
   "outputs": [],
   "source": [
    "webtables_models_scores = model_selection.cross_validate(\n",
    "    RandomForestClassifier(n_estimators=100, random_state=RANDOM_STATE),\n",
    "    webtables_analysis_features,\n",
    "    webtables_deduplicated_sampled[\"type\"],\n",
    "    cv=10,\n",
    "    return_estimator=True,\n",
    "    scoring=\"f1_weighted\",\n",
    ")"
   ]
  },
  {
   "cell_type": "code",
   "execution_count": 269,
   "metadata": {},
   "outputs": [
    {
     "data": {
      "text/plain": [
       "(0.9113759987095555, 0.00828232590697439)"
      ]
     },
     "execution_count": 269,
     "metadata": {},
     "output_type": "execute_result"
    }
   ],
   "source": [
    "np.mean(webtables_models_scores[\"test_score\"]), np.std(webtables_models_scores[\"test_score\"])"
   ]
  },
  {
   "cell_type": "code",
   "execution_count": 270,
   "metadata": {},
   "outputs": [],
   "source": [
    "webtables_test_scores = []\n",
    "for estimator in webtables_models_scores[\"estimator\"]:\n",
    "    webtables_prediction_for_gittables = estimator.predict(gittables_analysis_features)\n",
    "    webtables_test_scores.append(\n",
    "        metrics.f1_score(gittables_deduplicated_sampled[\"type\"], webtables_prediction_for_gittables, average=\"macro\")\n",
    "    )"
   ]
  },
  {
   "cell_type": "code",
   "execution_count": 271,
   "metadata": {},
   "outputs": [
    {
     "data": {
      "text/plain": [
       "[0.572004574328487,\n",
       " 0.577650327849879,\n",
       " 0.5656991056445559,\n",
       " 0.5850738452954166,\n",
       " 0.5557575536693453,\n",
       " 0.5291899540904167,\n",
       " 0.5592650559098961,\n",
       " 0.5642112441219224,\n",
       " 0.552582929570887,\n",
       " 0.5613832420136954]"
      ]
     },
     "execution_count": 271,
     "metadata": {},
     "output_type": "execute_result"
    }
   ],
   "source": [
    "webtables_test_scores"
   ]
  },
  {
   "cell_type": "code",
   "execution_count": 272,
   "metadata": {},
   "outputs": [
    {
     "data": {
      "text/plain": [
       "(0.5622817832494501, 0.014516247259522561)"
      ]
     },
     "execution_count": 272,
     "metadata": {},
     "output_type": "execute_result"
    }
   ],
   "source": [
    "np.mean(webtables_test_scores), np.std(webtables_test_scores)"
   ]
  },
  {
   "cell_type": "code",
   "execution_count": null,
   "metadata": {},
   "outputs": [],
   "source": []
  },
  {
   "cell_type": "code",
   "execution_count": null,
   "metadata": {},
   "outputs": [],
   "source": []
  },
  {
   "cell_type": "code",
   "execution_count": null,
   "metadata": {},
   "outputs": [],
   "source": []
  },
  {
   "cell_type": "code",
   "execution_count": null,
   "metadata": {},
   "outputs": [],
   "source": []
  },
  {
   "cell_type": "markdown",
   "metadata": {},
   "source": [
    "## Semantic type detection in GitTables"
   ]
  },
  {
   "cell_type": "code",
   "execution_count": 443,
   "metadata": {},
   "outputs": [],
   "source": [
    "from sklearn import model_selection"
   ]
  },
  {
   "cell_type": "code",
   "execution_count": 466,
   "metadata": {
    "scrolled": true
   },
   "outputs": [
    {
     "name": "stdout",
     "output_type": "stream",
     "text": [
      "Train on 7731 samples, validate on 859 samples\n",
      "Epoch 1/100\n",
      "7731/7731 [==============================] - 8s 1ms/sample - loss: 340.0364 - categorical_accuracy: 0.4051 - val_loss: 318.5982 - val_categorical_accuracy: 0.5111\n",
      "Epoch 2/100\n",
      "7731/7731 [==============================] - 3s 360us/sample - loss: 300.6055 - categorical_accuracy: 0.6502 - val_loss: 281.6246 - val_categorical_accuracy: 0.7020\n",
      "Epoch 3/100\n",
      "7731/7731 [==============================] - 3s 362us/sample - loss: 265.5437 - categorical_accuracy: 0.7206 - val_loss: 248.6926 - val_categorical_accuracy: 0.7742\n",
      "Epoch 4/100\n",
      "7731/7731 [==============================] - 3s 358us/sample - loss: 234.3754 - categorical_accuracy: 0.7544 - val_loss: 219.3723 - val_categorical_accuracy: 0.7893\n",
      "Epoch 5/100\n",
      "7731/7731 [==============================] - 3s 362us/sample - loss: 206.6350 - categorical_accuracy: 0.7796 - val_loss: 193.2728 - val_categorical_accuracy: 0.7998\n",
      "Epoch 6/100\n",
      "7731/7731 [==============================] - 3s 363us/sample - loss: 181.9558 - categorical_accuracy: 0.7910 - val_loss: 170.0560 - val_categorical_accuracy: 0.8021\n",
      "Epoch 7/100\n",
      "7731/7731 [==============================] - 3s 364us/sample - loss: 160.0092 - categorical_accuracy: 0.7925 - val_loss: 149.4193 - val_categorical_accuracy: 0.8021\n",
      "Epoch 8/100\n",
      "7731/7731 [==============================] - 3s 366us/sample - loss: 140.5013 - categorical_accuracy: 0.8016 - val_loss: 131.0836 - val_categorical_accuracy: 0.8079\n",
      "Epoch 9/100\n",
      "7731/7731 [==============================] - 3s 365us/sample - loss: 123.1813 - categorical_accuracy: 0.8009 - val_loss: 114.8234 - val_categorical_accuracy: 0.8102\n",
      "Epoch 10/100\n",
      "7731/7731 [==============================] - 3s 365us/sample - loss: 107.8265 - categorical_accuracy: 0.8079 - val_loss: 100.4136 - val_categorical_accuracy: 0.8161\n",
      "Epoch 11/100\n",
      "7731/7731 [==============================] - 3s 368us/sample - loss: 94.2313 - categorical_accuracy: 0.8117 - val_loss: 87.6664 - val_categorical_accuracy: 0.8137\n",
      "Epoch 12/100\n",
      "7731/7731 [==============================] - 3s 368us/sample - loss: 82.2145 - categorical_accuracy: 0.8123 - val_loss: 76.4103 - val_categorical_accuracy: 0.8184\n",
      "Epoch 13/100\n",
      "7731/7731 [==============================] - 3s 364us/sample - loss: 71.6081 - categorical_accuracy: 0.8130 - val_loss: 66.4889 - val_categorical_accuracy: 0.8184\n",
      "Epoch 14/100\n",
      "7731/7731 [==============================] - 3s 363us/sample - loss: 62.2661 - categorical_accuracy: 0.8149 - val_loss: 57.7584 - val_categorical_accuracy: 0.8207\n",
      "Epoch 15/100\n",
      "7731/7731 [==============================] - 3s 359us/sample - loss: 54.0512 - categorical_accuracy: 0.8202 - val_loss: 50.0934 - val_categorical_accuracy: 0.8219\n",
      "Epoch 16/100\n",
      "7731/7731 [==============================] - 3s 354us/sample - loss: 46.8416 - categorical_accuracy: 0.8210 - val_loss: 43.3777 - val_categorical_accuracy: 0.8242\n",
      "Epoch 17/100\n",
      "7731/7731 [==============================] - 3s 356us/sample - loss: 40.5352 - categorical_accuracy: 0.8238 - val_loss: 37.5051 - val_categorical_accuracy: 0.8265\n",
      "Epoch 18/100\n",
      "7731/7731 [==============================] - 3s 360us/sample - loss: 35.0240 - categorical_accuracy: 0.8258 - val_loss: 32.3858 - val_categorical_accuracy: 0.8289\n",
      "Epoch 19/100\n",
      "7731/7731 [==============================] - 3s 363us/sample - loss: 30.2205 - categorical_accuracy: 0.8289 - val_loss: 27.9288 - val_categorical_accuracy: 0.8335\n",
      "Epoch 20/100\n",
      "7731/7731 [==============================] - 3s 364us/sample - loss: 26.0489 - categorical_accuracy: 0.8252 - val_loss: 24.0599 - val_categorical_accuracy: 0.8347\n",
      "Epoch 21/100\n",
      "7731/7731 [==============================] - 3s 364us/sample - loss: 22.4293 - categorical_accuracy: 0.8295 - val_loss: 20.7105 - val_categorical_accuracy: 0.8370\n",
      "Epoch 22/100\n",
      "7731/7731 [==============================] - 3s 362us/sample - loss: 19.2988 - categorical_accuracy: 0.8330 - val_loss: 17.8192 - val_categorical_accuracy: 0.8393\n",
      "Epoch 23/100\n",
      "7731/7731 [==============================] - 3s 364us/sample - loss: 16.6001 - categorical_accuracy: 0.8343 - val_loss: 15.3295 - val_categorical_accuracy: 0.8405\n",
      "Epoch 24/100\n",
      "7731/7731 [==============================] - 3s 368us/sample - loss: 14.2788 - categorical_accuracy: 0.8342 - val_loss: 13.1913 - val_categorical_accuracy: 0.8417\n",
      "Epoch 25/100\n",
      "7731/7731 [==============================] - 3s 366us/sample - loss: 12.2874 - categorical_accuracy: 0.8368 - val_loss: 11.3616 - val_categorical_accuracy: 0.8405\n",
      "Epoch 26/100\n",
      "7731/7731 [==============================] - ETA: 0s - loss: 10.5902 - categorical_accuracy: 0.839 - 3s 371us/sample - loss: 10.5848 - categorical_accuracy: 0.8392 - val_loss: 9.7991 - val_categorical_accuracy: 0.8417\n",
      "Epoch 27/100\n",
      "7731/7731 [==============================] - 3s 365us/sample - loss: 9.1360 - categorical_accuracy: 0.8396 - val_loss: 8.4681 - val_categorical_accuracy: 0.8405\n",
      "Epoch 28/100\n",
      "7731/7731 [==============================] - 3s 369us/sample - loss: 7.9010 - categorical_accuracy: 0.8377 - val_loss: 7.3411 - val_categorical_accuracy: 0.8405\n",
      "Epoch 29/100\n",
      "7731/7731 [==============================] - 3s 364us/sample - loss: 6.8550 - categorical_accuracy: 0.8417 - val_loss: 6.3874 - val_categorical_accuracy: 0.8452\n",
      "Epoch 30/100\n",
      "7731/7731 [==============================] - 3s 358us/sample - loss: 5.9724 - categorical_accuracy: 0.8390 - val_loss: 5.5834 - val_categorical_accuracy: 0.8440\n",
      "Epoch 31/100\n",
      "7731/7731 [==============================] - 3s 365us/sample - loss: 5.2287 - categorical_accuracy: 0.8396 - val_loss: 4.9068 - val_categorical_accuracy: 0.8440\n",
      "Epoch 32/100\n",
      "7731/7731 [==============================] - ETA: 0s - loss: 4.6051 - categorical_accuracy: 0.83 - 3s 366us/sample - loss: 4.6036 - categorical_accuracy: 0.8374 - val_loss: 4.3398 - val_categorical_accuracy: 0.8440\n",
      "Epoch 33/100\n",
      "7731/7731 [==============================] - 3s 364us/sample - loss: 4.0805 - categorical_accuracy: 0.8386 - val_loss: 3.8660 - val_categorical_accuracy: 0.8428\n",
      "Epoch 34/100\n",
      "7731/7731 [==============================] - 3s 365us/sample - loss: 3.6452 - categorical_accuracy: 0.8362 - val_loss: 3.4711 - val_categorical_accuracy: 0.8405\n",
      "Train on 7731 samples, validate on 859 samples\n",
      "Epoch 1/100\n",
      "7731/7731 [==============================] - 9s 1ms/sample - loss: 340.0204 - categorical_accuracy: 0.3817 - val_loss: 318.5210 - val_categorical_accuracy: 0.5239\n",
      "Epoch 2/100\n",
      "7731/7731 [==============================] - 3s 358us/sample - loss: 300.5866 - categorical_accuracy: 0.6017 - val_loss: 281.5704 - val_categorical_accuracy: 0.6892\n",
      "Epoch 3/100\n",
      "7731/7731 [==============================] - 3s 362us/sample - loss: 265.5374 - categorical_accuracy: 0.6929 - val_loss: 248.6754 - val_categorical_accuracy: 0.7509\n",
      "Epoch 4/100\n",
      "7731/7731 [==============================] - 3s 368us/sample - loss: 234.3838 - categorical_accuracy: 0.7355 - val_loss: 219.3926 - val_categorical_accuracy: 0.7672\n",
      "Epoch 5/100\n",
      "7731/7731 [==============================] - 3s 366us/sample - loss: 206.6698 - categorical_accuracy: 0.7615 - val_loss: 193.3238 - val_categorical_accuracy: 0.7730\n",
      "Epoch 6/100\n",
      "7731/7731 [==============================] - 3s 366us/sample - loss: 182.0117 - categorical_accuracy: 0.7749 - val_loss: 170.1301 - val_categorical_accuracy: 0.7858\n",
      "Epoch 7/100\n",
      "7731/7731 [==============================] - 3s 365us/sample - loss: 160.0824 - categorical_accuracy: 0.7842 - val_loss: 149.5050 - val_categorical_accuracy: 0.7986\n",
      "Epoch 8/100\n",
      "7731/7731 [==============================] - 3s 366us/sample - loss: 140.5866 - categorical_accuracy: 0.7901 - val_loss: 131.1823 - val_categorical_accuracy: 0.8009\n",
      "Epoch 9/100\n",
      "7731/7731 [==============================] - 3s 369us/sample - loss: 123.2784 - categorical_accuracy: 0.7916 - val_loss: 114.9262 - val_categorical_accuracy: 0.8056\n",
      "Epoch 10/100\n",
      "7731/7731 [==============================] - 3s 372us/sample - loss: 107.9272 - categorical_accuracy: 0.7969 - val_loss: 100.5193 - val_categorical_accuracy: 0.8068\n",
      "Epoch 11/100\n",
      "7731/7731 [==============================] - 3s 373us/sample - loss: 94.3353 - categorical_accuracy: 0.7994 - val_loss: 87.7787 - val_categorical_accuracy: 0.8207\n",
      "Epoch 12/100\n",
      "7731/7731 [==============================] - 3s 370us/sample - loss: 82.3171 - categorical_accuracy: 0.8056 - val_loss: 76.5239 - val_categorical_accuracy: 0.8231\n",
      "Epoch 13/100\n",
      "7731/7731 [==============================] - 3s 366us/sample - loss: 71.7107 - categorical_accuracy: 0.8084 - val_loss: 66.5996 - val_categorical_accuracy: 0.8277\n",
      "Epoch 14/100\n",
      "7731/7731 [==============================] - 3s 363us/sample - loss: 62.3640 - categorical_accuracy: 0.8100 - val_loss: 57.8648 - val_categorical_accuracy: 0.8242\n",
      "Epoch 15/100\n",
      "7731/7731 [==============================] - 3s 367us/sample - loss: 54.1468 - categorical_accuracy: 0.8144 - val_loss: 50.1955 - val_categorical_accuracy: 0.8312\n",
      "Epoch 16/100\n",
      "7731/7731 [==============================] - 3s 363us/sample - loss: 46.9325 - categorical_accuracy: 0.8168 - val_loss: 43.4716 - val_categorical_accuracy: 0.8324\n",
      "Epoch 17/100\n",
      "7731/7731 [==============================] - 3s 361us/sample - loss: 40.6201 - categorical_accuracy: 0.8199 - val_loss: 37.5919 - val_categorical_accuracy: 0.8335\n",
      "Epoch 18/100\n",
      "7731/7731 [==============================] - 3s 363us/sample - loss: 35.1026 - categorical_accuracy: 0.8210 - val_loss: 32.4605 - val_categorical_accuracy: 0.8417\n",
      "Epoch 19/100\n",
      "7731/7731 [==============================] - 3s 365us/sample - loss: 30.2954 - categorical_accuracy: 0.8251 - val_loss: 27.9958 - val_categorical_accuracy: 0.8417\n",
      "Epoch 20/100\n",
      "7731/7731 [==============================] - 3s 361us/sample - loss: 26.1160 - categorical_accuracy: 0.8246 - val_loss: 24.1195 - val_categorical_accuracy: 0.8417\n",
      "Epoch 21/100\n",
      "7731/7731 [==============================] - 3s 364us/sample - loss: 22.4904 - categorical_accuracy: 0.8271 - val_loss: 20.7630 - val_categorical_accuracy: 0.8440\n",
      "Epoch 22/100\n",
      "7731/7731 [==============================] - 3s 366us/sample - loss: 19.3557 - categorical_accuracy: 0.8272 - val_loss: 17.8639 - val_categorical_accuracy: 0.8463\n",
      "Epoch 23/100\n",
      "7731/7731 [==============================] - 3s 369us/sample - loss: 16.6495 - categorical_accuracy: 0.8337 - val_loss: 15.3686 - val_categorical_accuracy: 0.8475\n",
      "Epoch 24/100\n",
      "7731/7731 [==============================] - 3s 370us/sample - loss: 14.3250 - categorical_accuracy: 0.8334 - val_loss: 13.2247 - val_categorical_accuracy: 0.8498\n",
      "Epoch 25/100\n",
      "7731/7731 [==============================] - 3s 366us/sample - loss: 12.3310 - categorical_accuracy: 0.8322 - val_loss: 11.3889 - val_categorical_accuracy: 0.8522\n",
      "Epoch 26/100\n",
      "7731/7731 [==============================] - 3s 375us/sample - loss: 10.6246 - categorical_accuracy: 0.8343 - val_loss: 9.8207 - val_categorical_accuracy: 0.8522\n",
      "Epoch 27/100\n",
      "7731/7731 [==============================] - 3s 372us/sample - loss: 9.1689 - categorical_accuracy: 0.8339 - val_loss: 8.4874 - val_categorical_accuracy: 0.8533\n",
      "Epoch 28/100\n",
      "7731/7731 [==============================] - 3s 361us/sample - loss: 7.9327 - categorical_accuracy: 0.8351 - val_loss: 7.3547 - val_categorical_accuracy: 0.8522\n",
      "Epoch 29/100\n",
      "7731/7731 [==============================] - 3s 357us/sample - loss: 6.8860 - categorical_accuracy: 0.8365 - val_loss: 6.3968 - val_categorical_accuracy: 0.8556\n",
      "Epoch 30/100\n",
      "7731/7731 [==============================] - 3s 355us/sample - loss: 5.9992 - categorical_accuracy: 0.8366 - val_loss: 5.5895 - val_categorical_accuracy: 0.8545\n",
      "Epoch 31/100\n",
      "7731/7731 [==============================] - 3s 358us/sample - loss: 5.2519 - categorical_accuracy: 0.8334 - val_loss: 4.9109 - val_categorical_accuracy: 0.8533\n",
      "Epoch 32/100\n",
      "7731/7731 [==============================] - 3s 359us/sample - loss: 4.6260 - categorical_accuracy: 0.8343 - val_loss: 4.3429 - val_categorical_accuracy: 0.8487\n",
      "Epoch 33/100\n",
      "7731/7731 [==============================] - 3s 359us/sample - loss: 4.1012 - categorical_accuracy: 0.8306 - val_loss: 3.8687 - val_categorical_accuracy: 0.8452\n",
      "Epoch 34/100\n",
      "7731/7731 [==============================] - 3s 363us/sample - loss: 3.6629 - categorical_accuracy: 0.8316 - val_loss: 3.4718 - val_categorical_accuracy: 0.8417\n",
      "Epoch 35/100\n",
      "7731/7731 [==============================] - 3s 365us/sample - loss: 3.2975 - categorical_accuracy: 0.8335 - val_loss: 3.1433 - val_categorical_accuracy: 0.8463\n",
      "Train on 7731 samples, validate on 859 samples\n",
      "Epoch 1/100\n",
      "7731/7731 [==============================] - 9s 1ms/sample - loss: 339.4883 - categorical_accuracy: 0.4155 - val_loss: 318.0819 - val_categorical_accuracy: 0.5448\n",
      "Epoch 2/100\n",
      "7731/7731 [==============================] - 3s 373us/sample - loss: 300.1125 - categorical_accuracy: 0.6263 - val_loss: 281.1439 - val_categorical_accuracy: 0.6973\n",
      "Epoch 3/100\n",
      "7731/7731 [==============================] - 3s 375us/sample - loss: 265.0883 - categorical_accuracy: 0.7169 - val_loss: 248.2585 - val_categorical_accuracy: 0.7579\n",
      "Epoch 4/100\n",
      "7731/7731 [==============================] - 3s 370us/sample - loss: 233.9575 - categorical_accuracy: 0.7548 - val_loss: 218.9834 - val_categorical_accuracy: 0.7893\n",
      "Epoch 5/100\n",
      "7731/7731 [==============================] - 3s 368us/sample - loss: 206.2604 - categorical_accuracy: 0.7783 - val_loss: 192.9243 - val_categorical_accuracy: 0.7893\n",
      "Epoch 6/100\n",
      "7731/7731 [==============================] - 3s 368us/sample - loss: 181.6240 - categorical_accuracy: 0.7884 - val_loss: 169.7366 - val_categorical_accuracy: 0.7998\n",
      "Epoch 7/100\n",
      "7731/7731 [==============================] - 3s 370us/sample - loss: 159.7089 - categorical_accuracy: 0.7942 - val_loss: 149.1247 - val_categorical_accuracy: 0.8009\n",
      "Epoch 8/100\n",
      "7731/7731 [==============================] - 3s 369us/sample - loss: 140.2402 - categorical_accuracy: 0.7999 - val_loss: 130.8197 - val_categorical_accuracy: 0.8126\n",
      "Epoch 9/100\n",
      "7731/7731 [==============================] - 3s 369us/sample - loss: 122.9571 - categorical_accuracy: 0.8073 - val_loss: 114.5833 - val_categorical_accuracy: 0.8079\n",
      "Epoch 10/100\n",
      "7731/7731 [==============================] - 3s 369us/sample - loss: 107.6305 - categorical_accuracy: 0.8090 - val_loss: 100.2026 - val_categorical_accuracy: 0.8137\n",
      "Epoch 11/100\n",
      "7731/7731 [==============================] - 3s 370us/sample - loss: 94.0630 - categorical_accuracy: 0.8149 - val_loss: 87.4836 - val_categorical_accuracy: 0.8184\n",
      "Epoch 12/100\n",
      "7731/7731 [==============================] - 3s 370us/sample - loss: 82.0697 - categorical_accuracy: 0.8153 - val_loss: 76.2512 - val_categorical_accuracy: 0.8172\n",
      "Epoch 13/100\n",
      "7731/7731 [==============================] - 3s 368us/sample - loss: 71.4845 - categorical_accuracy: 0.8190 - val_loss: 66.3504 - val_categorical_accuracy: 0.8196\n",
      "Epoch 14/100\n",
      "7731/7731 [==============================] - 3s 364us/sample - loss: 62.1587 - categorical_accuracy: 0.8209 - val_loss: 57.6387 - val_categorical_accuracy: 0.8254\n",
      "Epoch 15/100\n",
      "7731/7731 [==============================] - 3s 366us/sample - loss: 53.9632 - categorical_accuracy: 0.8243 - val_loss: 49.9896 - val_categorical_accuracy: 0.8265\n",
      "Epoch 16/100\n",
      "7731/7731 [==============================] - 3s 368us/sample - loss: 46.7704 - categorical_accuracy: 0.8269 - val_loss: 43.2869 - val_categorical_accuracy: 0.8277\n",
      "Epoch 17/100\n",
      "7731/7731 [==============================] - 3s 364us/sample - loss: 40.4724 - categorical_accuracy: 0.8298 - val_loss: 37.4255 - val_categorical_accuracy: 0.8312\n",
      "Epoch 18/100\n",
      "7731/7731 [==============================] - 3s 363us/sample - loss: 34.9719 - categorical_accuracy: 0.8281 - val_loss: 32.3129 - val_categorical_accuracy: 0.8335\n",
      "Epoch 19/100\n",
      "7731/7731 [==============================] - 3s 360us/sample - loss: 30.1786 - categorical_accuracy: 0.8334 - val_loss: 27.8635 - val_categorical_accuracy: 0.8335\n",
      "Epoch 20/100\n",
      "7731/7731 [==============================] - 3s 357us/sample - loss: 26.0118 - categorical_accuracy: 0.8344 - val_loss: 24.0008 - val_categorical_accuracy: 0.8370\n",
      "Epoch 21/100\n",
      "7731/7731 [==============================] - 3s 357us/sample - loss: 22.3966 - categorical_accuracy: 0.8386 - val_loss: 20.6578 - val_categorical_accuracy: 0.8370\n",
      "Epoch 22/100\n",
      "7731/7731 [==============================] - 3s 361us/sample - loss: 19.2732 - categorical_accuracy: 0.8408 - val_loss: 17.7720 - val_categorical_accuracy: 0.8393\n",
      "Epoch 23/100\n"
     ]
    },
    {
     "name": "stdout",
     "output_type": "stream",
     "text": [
      "7731/7731 [==============================] - 3s 365us/sample - loss: 16.5775 - categorical_accuracy: 0.8431 - val_loss: 15.2872 - val_categorical_accuracy: 0.8428\n",
      "Epoch 24/100\n",
      "7731/7731 [==============================] - 3s 364us/sample - loss: 14.2628 - categorical_accuracy: 0.8418 - val_loss: 13.1533 - val_categorical_accuracy: 0.8452\n",
      "Epoch 25/100\n",
      "7731/7731 [==============================] - 3s 360us/sample - loss: 12.2753 - categorical_accuracy: 0.8397 - val_loss: 11.3266 - val_categorical_accuracy: 0.8475\n",
      "Epoch 26/100\n",
      "7731/7731 [==============================] - 3s 359us/sample - loss: 10.5750 - categorical_accuracy: 0.8443 - val_loss: 9.7671 - val_categorical_accuracy: 0.8463\n",
      "Epoch 27/100\n",
      "7731/7731 [==============================] - 3s 356us/sample - loss: 9.1280 - categorical_accuracy: 0.8412 - val_loss: 8.4408 - val_categorical_accuracy: 0.8463\n",
      "Epoch 28/100\n",
      "7731/7731 [==============================] - 3s 356us/sample - loss: 7.8954 - categorical_accuracy: 0.8436 - val_loss: 7.3146 - val_categorical_accuracy: 0.8475\n",
      "Epoch 29/100\n",
      "7731/7731 [==============================] - 3s 363us/sample - loss: 6.8516 - categorical_accuracy: 0.8444 - val_loss: 6.3610 - val_categorical_accuracy: 0.8463\n",
      "Epoch 30/100\n",
      "7731/7731 [==============================] - 3s 367us/sample - loss: 5.9701 - categorical_accuracy: 0.8428 - val_loss: 5.5570 - val_categorical_accuracy: 0.8440\n",
      "Epoch 31/100\n",
      "7731/7731 [==============================] - 3s 366us/sample - loss: 5.2241 - categorical_accuracy: 0.8444 - val_loss: 4.8817 - val_categorical_accuracy: 0.8440\n",
      "Epoch 32/100\n",
      "7731/7731 [==============================] - 3s 355us/sample - loss: 4.6017 - categorical_accuracy: 0.8423 - val_loss: 4.3157 - val_categorical_accuracy: 0.8405\n",
      "Epoch 33/100\n",
      "7731/7731 [==============================] - 3s 357us/sample - loss: 4.0837 - categorical_accuracy: 0.8408 - val_loss: 3.8428 - val_categorical_accuracy: 0.8370\n",
      "Epoch 34/100\n",
      "7731/7731 [==============================] - 3s 363us/sample - loss: 3.6449 - categorical_accuracy: 0.8384 - val_loss: 3.4481 - val_categorical_accuracy: 0.8370\n",
      "Train on 7735 samples, validate on 860 samples\n",
      "Epoch 1/100\n",
      "7735/7735 [==============================] - 9s 1ms/sample - loss: 340.1064 - categorical_accuracy: 0.3959 - val_loss: 318.7019 - val_categorical_accuracy: 0.5023\n",
      "Epoch 2/100\n",
      "7735/7735 [==============================] - 3s 379us/sample - loss: 300.6859 - categorical_accuracy: 0.6424 - val_loss: 281.7321 - val_categorical_accuracy: 0.6884\n",
      "Epoch 3/100\n",
      "7735/7735 [==============================] - 3s 376us/sample - loss: 265.6251 - categorical_accuracy: 0.7210 - val_loss: 248.8117 - val_categorical_accuracy: 0.7500\n",
      "Epoch 4/100\n",
      "7735/7735 [==============================] - 3s 378us/sample - loss: 234.4584 - categorical_accuracy: 0.7513 - val_loss: 219.4995 - val_categorical_accuracy: 0.7709\n",
      "Epoch 5/100\n",
      "7735/7735 [==============================] - 3s 369us/sample - loss: 206.7277 - categorical_accuracy: 0.7672 - val_loss: 193.4007 - val_categorical_accuracy: 0.7860\n",
      "Epoch 6/100\n",
      "7735/7735 [==============================] - 3s 370us/sample - loss: 182.0493 - categorical_accuracy: 0.7784 - val_loss: 170.1753 - val_categorical_accuracy: 0.7965\n",
      "Epoch 7/100\n",
      "7735/7735 [==============================] - 3s 373us/sample - loss: 160.1001 - categorical_accuracy: 0.7858 - val_loss: 149.5257 - val_categorical_accuracy: 0.7977\n",
      "Epoch 8/100\n",
      "7735/7735 [==============================] - 3s 371us/sample - loss: 140.5896 - categorical_accuracy: 0.7919 - val_loss: 131.1828 - val_categorical_accuracy: 0.8070\n",
      "Epoch 9/100\n",
      "7735/7735 [==============================] - 3s 379us/sample - loss: 123.2642 - categorical_accuracy: 0.7973 - val_loss: 114.9078 - val_categorical_accuracy: 0.8116\n",
      "Epoch 10/100\n",
      "7735/7735 [==============================] - 3s 374us/sample - loss: 107.9069 - categorical_accuracy: 0.7950 - val_loss: 100.4908 - val_categorical_accuracy: 0.8116\n",
      "Epoch 11/100\n",
      "7735/7735 [==============================] - 3s 387us/sample - loss: 94.3036 - categorical_accuracy: 0.8037 - val_loss: 87.7371 - val_categorical_accuracy: 0.8151\n",
      "Epoch 12/100\n",
      "7735/7735 [==============================] - 3s 366us/sample - loss: 82.2792 - categorical_accuracy: 0.8032 - val_loss: 76.4738 - val_categorical_accuracy: 0.8093\n",
      "Epoch 13/100\n",
      "7735/7735 [==============================] - 3s 375us/sample - loss: 71.6615 - categorical_accuracy: 0.8098 - val_loss: 66.5435 - val_categorical_accuracy: 0.8105\n",
      "Epoch 14/100\n",
      "7735/7735 [==============================] - 3s 348us/sample - loss: 62.3133 - categorical_accuracy: 0.8084 - val_loss: 57.8080 - val_categorical_accuracy: 0.8140\n",
      "Epoch 15/100\n",
      "7735/7735 [==============================] - 3s 373us/sample - loss: 54.0926 - categorical_accuracy: 0.8093 - val_loss: 50.1351 - val_categorical_accuracy: 0.8174\n",
      "Epoch 16/100\n",
      "7735/7735 [==============================] - 3s 371us/sample - loss: 46.8787 - categorical_accuracy: 0.8144 - val_loss: 43.4117 - val_categorical_accuracy: 0.8233\n",
      "Epoch 17/100\n",
      "7735/7735 [==============================] - 3s 373us/sample - loss: 40.5605 - categorical_accuracy: 0.8187 - val_loss: 37.5319 - val_categorical_accuracy: 0.8221\n",
      "Epoch 18/100\n",
      "7735/7735 [==============================] - 3s 370us/sample - loss: 35.0453 - categorical_accuracy: 0.8150 - val_loss: 32.4047 - val_categorical_accuracy: 0.8233\n",
      "Epoch 19/100\n",
      "7735/7735 [==============================] - 3s 377us/sample - loss: 30.2364 - categorical_accuracy: 0.8193 - val_loss: 27.9431 - val_categorical_accuracy: 0.8244\n",
      "Epoch 20/100\n",
      "7735/7735 [==============================] - 3s 368us/sample - loss: 26.0591 - categorical_accuracy: 0.8212 - val_loss: 24.0704 - val_categorical_accuracy: 0.8256\n",
      "Epoch 21/100\n",
      "7735/7735 [==============================] - 3s 363us/sample - loss: 22.4360 - categorical_accuracy: 0.8221 - val_loss: 20.7178 - val_categorical_accuracy: 0.8291\n",
      "Epoch 22/100\n",
      "7735/7735 [==============================] - 3s 369us/sample - loss: 19.3026 - categorical_accuracy: 0.8257 - val_loss: 17.8237 - val_categorical_accuracy: 0.8302\n",
      "Epoch 23/100\n",
      "7735/7735 [==============================] - 3s 372us/sample - loss: 16.6016 - categorical_accuracy: 0.8278 - val_loss: 15.3324 - val_categorical_accuracy: 0.8337\n",
      "Epoch 24/100\n",
      "7735/7735 [==============================] - 3s 362us/sample - loss: 14.2792 - categorical_accuracy: 0.8284 - val_loss: 13.1936 - val_categorical_accuracy: 0.8372\n",
      "Epoch 25/100\n",
      "7735/7735 [==============================] - 3s 368us/sample - loss: 12.2884 - categorical_accuracy: 0.8296 - val_loss: 11.3617 - val_categorical_accuracy: 0.8372\n",
      "Epoch 26/100\n",
      "7735/7735 [==============================] - 3s 371us/sample - loss: 10.5838 - categorical_accuracy: 0.8336 - val_loss: 9.7981 - val_categorical_accuracy: 0.8360\n",
      "Epoch 27/100\n",
      "7735/7735 [==============================] - 3s 372us/sample - loss: 9.1325 - categorical_accuracy: 0.8372 - val_loss: 8.4685 - val_categorical_accuracy: 0.8337\n",
      "Epoch 28/100\n",
      "7735/7735 [==============================] - 3s 368us/sample - loss: 7.8997 - categorical_accuracy: 0.8332 - val_loss: 7.3408 - val_categorical_accuracy: 0.8349\n",
      "Epoch 29/100\n",
      "7735/7735 [==============================] - 3s 369us/sample - loss: 6.8539 - categorical_accuracy: 0.8335 - val_loss: 6.3848 - val_categorical_accuracy: 0.8291\n",
      "Epoch 30/100\n",
      "7735/7735 [==============================] - 3s 371us/sample - loss: 5.9702 - categorical_accuracy: 0.8340 - val_loss: 5.5805 - val_categorical_accuracy: 0.8326\n",
      "Epoch 31/100\n",
      "7735/7735 [==============================] - 3s 371us/sample - loss: 5.2268 - categorical_accuracy: 0.8334 - val_loss: 4.9031 - val_categorical_accuracy: 0.8326\n",
      "Epoch 32/100\n",
      "7735/7735 [==============================] - 3s 370us/sample - loss: 4.6038 - categorical_accuracy: 0.8336 - val_loss: 4.3366 - val_categorical_accuracy: 0.8326\n",
      "Train on 7735 samples, validate on 860 samples\n",
      "Epoch 1/100\n",
      "7735/7735 [==============================] - 9s 1ms/sample - loss: 340.7962 - categorical_accuracy: 0.3761 - val_loss: 319.3403 - val_categorical_accuracy: 0.4640\n",
      "Epoch 2/100\n",
      "7735/7735 [==============================] - 3s 365us/sample - loss: 301.3071 - categorical_accuracy: 0.6017 - val_loss: 282.3041 - val_categorical_accuracy: 0.6535\n",
      "Epoch 3/100\n",
      "7735/7735 [==============================] - 3s 368us/sample - loss: 266.1865 - categorical_accuracy: 0.6949 - val_loss: 249.3252 - val_categorical_accuracy: 0.7442\n",
      "Epoch 4/100\n",
      "7735/7735 [==============================] - 3s 365us/sample - loss: 234.9618 - categorical_accuracy: 0.7416 - val_loss: 219.9556 - val_categorical_accuracy: 0.7605\n",
      "Epoch 5/100\n",
      "7735/7735 [==============================] - 3s 366us/sample - loss: 207.1766 - categorical_accuracy: 0.7630 - val_loss: 193.8083 - val_categorical_accuracy: 0.7826\n",
      "Epoch 6/100\n",
      "7735/7735 [==============================] - 3s 365us/sample - loss: 182.4521 - categorical_accuracy: 0.7739 - val_loss: 170.5414 - val_categorical_accuracy: 0.7884\n",
      "Epoch 7/100\n",
      "7735/7735 [==============================] - 3s 366us/sample - loss: 160.4585 - categorical_accuracy: 0.7853 - val_loss: 149.8567 - val_categorical_accuracy: 0.7895\n",
      "Epoch 8/100\n",
      "7735/7735 [==============================] - 3s 364us/sample - loss: 140.9124 - categorical_accuracy: 0.7897 - val_loss: 131.4870 - val_categorical_accuracy: 0.7977\n",
      "Epoch 9/100\n",
      "7735/7735 [==============================] - 3s 366us/sample - loss: 123.5564 - categorical_accuracy: 0.7964 - val_loss: 115.1877 - val_categorical_accuracy: 0.7977\n",
      "Epoch 10/100\n",
      "7735/7735 [==============================] - 3s 365us/sample - loss: 108.1677 - categorical_accuracy: 0.7994 - val_loss: 100.7476 - val_categorical_accuracy: 0.7965\n",
      "Epoch 11/100\n",
      "7735/7735 [==============================] - 3s 362us/sample - loss: 94.5367 - categorical_accuracy: 0.8045 - val_loss: 87.9715 - val_categorical_accuracy: 0.7988\n",
      "Epoch 12/100\n",
      "7735/7735 [==============================] - 3s 361us/sample - loss: 82.4874 - categorical_accuracy: 0.8070 - val_loss: 76.6884 - val_categorical_accuracy: 0.7977\n",
      "Epoch 13/100\n",
      "7735/7735 [==============================] - 3s 360us/sample - loss: 71.8493 - categorical_accuracy: 0.8093 - val_loss: 66.7398 - val_categorical_accuracy: 0.7965\n",
      "Epoch 14/100\n",
      "7735/7735 [==============================] - 3s 361us/sample - loss: 62.4830 - categorical_accuracy: 0.8128 - val_loss: 57.9847 - val_categorical_accuracy: 0.7977\n",
      "Epoch 15/100\n",
      "7735/7735 [==============================] - 3s 365us/sample - loss: 54.2415 - categorical_accuracy: 0.8167 - val_loss: 50.2976 - val_categorical_accuracy: 0.8012\n",
      "Epoch 16/100\n",
      "7735/7735 [==============================] - 3s 366us/sample - loss: 47.0115 - categorical_accuracy: 0.8198 - val_loss: 43.5606 - val_categorical_accuracy: 0.8035\n",
      "Epoch 17/100\n",
      "7735/7735 [==============================] - 3s 361us/sample - loss: 40.6819 - categorical_accuracy: 0.8168 - val_loss: 37.6704 - val_categorical_accuracy: 0.8081\n",
      "Epoch 18/100\n",
      "7735/7735 [==============================] - 3s 364us/sample - loss: 35.1521 - categorical_accuracy: 0.8212 - val_loss: 32.5319 - val_categorical_accuracy: 0.8070\n",
      "Epoch 19/100\n",
      "7735/7735 [==============================] - 3s 360us/sample - loss: 30.3324 - categorical_accuracy: 0.8237 - val_loss: 28.0599 - val_categorical_accuracy: 0.8093\n",
      "Epoch 20/100\n",
      "7735/7735 [==============================] - 3s 353us/sample - loss: 26.1453 - categorical_accuracy: 0.8259 - val_loss: 24.1790 - val_categorical_accuracy: 0.8105\n",
      "Epoch 21/100\n",
      "7735/7735 [==============================] - 3s 378us/sample - loss: 22.5145 - categorical_accuracy: 0.8266 - val_loss: 20.8183 - val_categorical_accuracy: 0.8128\n",
      "Epoch 22/100\n",
      "7735/7735 [==============================] - 3s 369us/sample - loss: 19.3737 - categorical_accuracy: 0.8295 - val_loss: 17.9166 - val_categorical_accuracy: 0.8174\n",
      "Epoch 23/100\n",
      "7735/7735 [==============================] - 3s 363us/sample - loss: 16.6643 - categorical_accuracy: 0.8290 - val_loss: 15.4164 - val_categorical_accuracy: 0.8174\n",
      "Epoch 24/100\n",
      "7735/7735 [==============================] - 3s 361us/sample - loss: 14.3355 - categorical_accuracy: 0.8309 - val_loss: 13.2689 - val_categorical_accuracy: 0.8174\n",
      "Epoch 25/100\n",
      "7735/7735 [==============================] - 3s 360us/sample - loss: 12.3348 - categorical_accuracy: 0.8346 - val_loss: 11.4292 - val_categorical_accuracy: 0.8151\n",
      "Epoch 26/100\n",
      "7735/7735 [==============================] - 3s 362us/sample - loss: 10.6263 - categorical_accuracy: 0.8343 - val_loss: 9.8607 - val_categorical_accuracy: 0.8151\n",
      "Epoch 27/100\n",
      "7735/7735 [==============================] - 3s 359us/sample - loss: 9.1711 - categorical_accuracy: 0.8309 - val_loss: 8.5269 - val_categorical_accuracy: 0.8128\n",
      "Epoch 28/100\n",
      "7735/7735 [==============================] - 3s 360us/sample - loss: 7.9304 - categorical_accuracy: 0.8291 - val_loss: 7.3908 - val_categorical_accuracy: 0.8140\n",
      "Epoch 29/100\n",
      "7735/7735 [==============================] - 3s 356us/sample - loss: 6.8806 - categorical_accuracy: 0.8292 - val_loss: 6.4312 - val_categorical_accuracy: 0.8140\n",
      "Epoch 30/100\n",
      "7735/7735 [==============================] - 3s 358us/sample - loss: 5.9933 - categorical_accuracy: 0.8273 - val_loss: 5.6232 - val_categorical_accuracy: 0.8163\n"
     ]
    }
   ],
   "source": [
    "gittables_test_scores = []\n",
    "\n",
    "kf = model_selection.StratifiedKFold(n_splits=5, random_state=RANDOM_STATE)\n",
    "X = gittables_analysis_features\n",
    "y = gittables_deduplicated_sampled[\"type\"]\n",
    "for fold, (train_index, test_index) in enumerate(kf.split(X, y)):\n",
    "    X_train_git, X_test_git = X.loc[train_index], X.loc[test_index]\n",
    "    y_train_git, y_test_git = y.loc[train_index], y.loc[test_index]\n",
    "    X_train_git, X_val_git, y_train_git, y_val_git = model_selection.train_test_split(X_train_git, y_train_git, test_size=0.1, random_state=RANDOM_STATE)\n",
    "    \n",
    "    sherlock.build_sherlock(\n",
    "        X_train_git[feature_cols_dict[\"char\"]],\n",
    "        X_train_git[feature_cols_dict[\"word\"]],\n",
    "        X_train_git[feature_cols_dict[\"rest\"]],\n",
    "        X_val_git[feature_cols_dict[\"char\"]],\n",
    "        X_val_git[feature_cols_dict[\"word\"]],\n",
    "        X_val_git[feature_cols_dict[\"rest\"]],\n",
    "        y_train_git,\n",
    "        y_val_git,\n",
    "        f\"gittables_{fold}\"\n",
    "    )\n",
    "    \n",
    "    predicted_labels = predict_sherlock(X_test_git, nn_id=f'gittables_{fold}')    \n",
    "    gittables_test_scores.append(f1_score(y_test_git, predicted_labels, average=\"macro\"))"
   ]
  },
  {
   "cell_type": "code",
   "execution_count": 467,
   "metadata": {},
   "outputs": [
    {
     "data": {
      "text/plain": [
       "(0.8218355485769594, 0.006673332796831863)"
      ]
     },
     "execution_count": 467,
     "metadata": {},
     "output_type": "execute_result"
    }
   ],
   "source": [
    "np.mean(gittables_test_scores), np.std(gittables_test_scores)"
   ]
  },
  {
   "cell_type": "code",
   "execution_count": 468,
   "metadata": {},
   "outputs": [
    {
     "name": "stdout",
     "output_type": "stream",
     "text": [
      "Train on 7731 samples, validate on 859 samples\n",
      "Epoch 1/100\n",
      "7731/7731 [==============================] - 9s 1ms/sample - loss: 339.8692 - categorical_accuracy: 0.3901 - val_loss: 318.4944 - val_categorical_accuracy: 0.4983\n",
      "Epoch 2/100\n",
      "7731/7731 [==============================] - 3s 368us/sample - loss: 300.4449 - categorical_accuracy: 0.6680 - val_loss: 281.5108 - val_categorical_accuracy: 0.7520\n",
      "Epoch 3/100\n",
      "7731/7731 [==============================] - 3s 367us/sample - loss: 265.3598 - categorical_accuracy: 0.7529 - val_loss: 248.5694 - val_categorical_accuracy: 0.8056\n",
      "Epoch 4/100\n",
      "7731/7731 [==============================] - 3s 371us/sample - loss: 234.1833 - categorical_accuracy: 0.7845 - val_loss: 219.2311 - val_categorical_accuracy: 0.8207\n",
      "Epoch 5/100\n",
      "7731/7731 [==============================] - 3s 366us/sample - loss: 206.4450 - categorical_accuracy: 0.7999 - val_loss: 193.1164 - val_categorical_accuracy: 0.8242\n",
      "Epoch 6/100\n",
      "7731/7731 [==============================] - 3s 387us/sample - loss: 181.7630 - categorical_accuracy: 0.8084 - val_loss: 169.8832 - val_categorical_accuracy: 0.8265\n",
      "Epoch 7/100\n",
      "7731/7731 [==============================] - 3s 371us/sample - loss: 159.8167 - categorical_accuracy: 0.8175 - val_loss: 149.2313 - val_categorical_accuracy: 0.8300\n",
      "Epoch 8/100\n",
      "7731/7731 [==============================] - 3s 376us/sample - loss: 140.3093 - categorical_accuracy: 0.8282 - val_loss: 130.8924 - val_categorical_accuracy: 0.8289\n",
      "Epoch 9/100\n",
      "7731/7731 [==============================] - 3s 371us/sample - loss: 122.9970 - categorical_accuracy: 0.8273 - val_loss: 114.6261 - val_categorical_accuracy: 0.8335\n",
      "Epoch 10/100\n",
      "7731/7731 [==============================] - 3s 376us/sample - loss: 107.6454 - categorical_accuracy: 0.8339 - val_loss: 100.2177 - val_categorical_accuracy: 0.8382\n",
      "Epoch 11/100\n",
      "7731/7731 [==============================] - 3s 375us/sample - loss: 94.0554 - categorical_accuracy: 0.8357 - val_loss: 87.4743 - val_categorical_accuracy: 0.8393\n",
      "Epoch 12/100\n",
      "7731/7731 [==============================] - 3s 369us/sample - loss: 82.0401 - categorical_accuracy: 0.8396 - val_loss: 76.2230 - val_categorical_accuracy: 0.8417\n",
      "Epoch 13/100\n",
      "7731/7731 [==============================] - 3s 375us/sample - loss: 71.4374 - categorical_accuracy: 0.8428 - val_loss: 66.3068 - val_categorical_accuracy: 0.8440\n",
      "Epoch 14/100\n",
      "7731/7731 [==============================] - 3s 367us/sample - loss: 62.1022 - categorical_accuracy: 0.8432 - val_loss: 57.5833 - val_categorical_accuracy: 0.8463\n",
      "Epoch 15/100\n",
      "7731/7731 [==============================] - 3s 367us/sample - loss: 53.8947 - categorical_accuracy: 0.8450 - val_loss: 49.9248 - val_categorical_accuracy: 0.8487\n",
      "Epoch 16/100\n",
      "7731/7731 [==============================] - 3s 373us/sample - loss: 46.6976 - categorical_accuracy: 0.8502 - val_loss: 43.2146 - val_categorical_accuracy: 0.8487\n",
      "Epoch 17/100\n",
      "7731/7731 [==============================] - 3s 372us/sample - loss: 40.3965 - categorical_accuracy: 0.8489 - val_loss: 37.3499 - val_categorical_accuracy: 0.8498\n",
      "Epoch 18/100\n",
      "7731/7731 [==============================] - 3s 374us/sample - loss: 34.8931 - categorical_accuracy: 0.8502 - val_loss: 32.2353 - val_categorical_accuracy: 0.8545\n",
      "Epoch 19/100\n",
      "7731/7731 [==============================] - 3s 367us/sample - loss: 30.0998 - categorical_accuracy: 0.8536 - val_loss: 27.7875 - val_categorical_accuracy: 0.8545\n",
      "Epoch 20/100\n",
      "7731/7731 [==============================] - 3s 370us/sample - loss: 25.9331 - categorical_accuracy: 0.8545 - val_loss: 23.9278 - val_categorical_accuracy: 0.8545\n",
      "Epoch 21/100\n",
      "7731/7731 [==============================] - 3s 374us/sample - loss: 22.3221 - categorical_accuracy: 0.8590 - val_loss: 20.5866 - val_categorical_accuracy: 0.8545\n",
      "Epoch 22/100\n",
      "7731/7731 [==============================] - 3s 371us/sample - loss: 19.2008 - categorical_accuracy: 0.8611 - val_loss: 17.7032 - val_categorical_accuracy: 0.8533\n",
      "Epoch 23/100\n",
      "7731/7731 [==============================] - 3s 373us/sample - loss: 16.5101 - categorical_accuracy: 0.8603 - val_loss: 15.2212 - val_categorical_accuracy: 0.8533\n",
      "Epoch 24/100\n",
      "7731/7731 [==============================] - 3s 376us/sample - loss: 14.1955 - categorical_accuracy: 0.8646 - val_loss: 13.0901 - val_categorical_accuracy: 0.8510\n",
      "Epoch 25/100\n",
      "7731/7731 [==============================] - 3s 372us/sample - loss: 12.2140 - categorical_accuracy: 0.8661 - val_loss: 11.2663 - val_categorical_accuracy: 0.8545\n",
      "Epoch 26/100\n",
      "7731/7731 [==============================] - 3s 374us/sample - loss: 10.5191 - categorical_accuracy: 0.8630 - val_loss: 9.7096 - val_categorical_accuracy: 0.8533\n",
      "Epoch 27/100\n",
      "7731/7731 [==============================] - 3s 371us/sample - loss: 9.0738 - categorical_accuracy: 0.8642 - val_loss: 8.3862 - val_categorical_accuracy: 0.8556\n",
      "Epoch 28/100\n",
      "7731/7731 [==============================] - 3s 374us/sample - loss: 7.8462 - categorical_accuracy: 0.8656 - val_loss: 7.2638 - val_categorical_accuracy: 0.8568\n",
      "Epoch 29/100\n",
      "7731/7731 [==============================] - 3s 374us/sample - loss: 6.8048 - categorical_accuracy: 0.8697 - val_loss: 6.3140 - val_categorical_accuracy: 0.8603\n",
      "Epoch 30/100\n",
      "7731/7731 [==============================] - 3s 367us/sample - loss: 5.9283 - categorical_accuracy: 0.8675 - val_loss: 5.5144 - val_categorical_accuracy: 0.8615\n",
      "Epoch 31/100\n",
      "7731/7731 [==============================] - 3s 368us/sample - loss: 5.1885 - categorical_accuracy: 0.8679 - val_loss: 4.8414 - val_categorical_accuracy: 0.8650\n",
      "Epoch 32/100\n",
      "7731/7731 [==============================] - 3s 371us/sample - loss: 4.5659 - categorical_accuracy: 0.8712 - val_loss: 4.2783 - val_categorical_accuracy: 0.8638\n",
      "Epoch 33/100\n",
      "7731/7731 [==============================] - 3s 370us/sample - loss: 4.0485 - categorical_accuracy: 0.8707 - val_loss: 3.8074 - val_categorical_accuracy: 0.8638\n",
      "Epoch 34/100\n",
      "7731/7731 [==============================] - 3s 374us/sample - loss: 3.6145 - categorical_accuracy: 0.8708 - val_loss: 3.4160 - val_categorical_accuracy: 0.8626\n",
      "Epoch 35/100\n",
      "7731/7731 [==============================] - 3s 372us/sample - loss: 3.2560 - categorical_accuracy: 0.8697 - val_loss: 3.0904 - val_categorical_accuracy: 0.8650\n",
      "Epoch 36/100\n",
      "7731/7731 [==============================] - 3s 373us/sample - loss: 2.9568 - categorical_accuracy: 0.8730 - val_loss: 2.8217 - val_categorical_accuracy: 0.8661\n",
      "Epoch 37/100\n",
      "7731/7731 [==============================] - 3s 372us/sample - loss: 2.7091 - categorical_accuracy: 0.8754 - val_loss: 2.6004 - val_categorical_accuracy: 0.8685\n",
      "Epoch 38/100\n",
      "7731/7731 [==============================] - 3s 370us/sample - loss: 2.5060 - categorical_accuracy: 0.8744 - val_loss: 2.4172 - val_categorical_accuracy: 0.8696\n",
      "Epoch 39/100\n",
      "7731/7731 [==============================] - 3s 368us/sample - loss: 2.3378 - categorical_accuracy: 0.8774 - val_loss: 2.2682 - val_categorical_accuracy: 0.8719\n",
      "Epoch 40/100\n",
      "7731/7731 [==============================] - 3s 369us/sample - loss: 2.2003 - categorical_accuracy: 0.8750 - val_loss: 2.1457 - val_categorical_accuracy: 0.8708\n",
      "Epoch 41/100\n",
      "7731/7731 [==============================] - 3s 373us/sample - loss: 2.0885 - categorical_accuracy: 0.8784 - val_loss: 2.0460 - val_categorical_accuracy: 0.8708\n",
      "Epoch 42/100\n",
      "7731/7731 [==============================] - 3s 373us/sample - loss: 1.9955 - categorical_accuracy: 0.8778 - val_loss: 1.9640 - val_categorical_accuracy: 0.8708\n",
      "Epoch 43/100\n",
      "7731/7731 [==============================] - 3s 371us/sample - loss: 1.9195 - categorical_accuracy: 0.8826 - val_loss: 1.8977 - val_categorical_accuracy: 0.8731\n",
      "Epoch 44/100\n",
      "7731/7731 [==============================] - 3s 370us/sample - loss: 1.8587 - categorical_accuracy: 0.8828 - val_loss: 1.8436 - val_categorical_accuracy: 0.8731\n",
      "Epoch 45/100\n",
      "7731/7731 [==============================] - 3s 378us/sample - loss: 1.8087 - categorical_accuracy: 0.8847 - val_loss: 1.7988 - val_categorical_accuracy: 0.8731\n",
      "Epoch 46/100\n",
      "7731/7731 [==============================] - 3s 371us/sample - loss: 1.7665 - categorical_accuracy: 0.8824 - val_loss: 1.7626 - val_categorical_accuracy: 0.8766\n",
      "Epoch 47/100\n",
      "7731/7731 [==============================] - 3s 374us/sample - loss: 1.7319 - categorical_accuracy: 0.8859 - val_loss: 1.7323 - val_categorical_accuracy: 0.8766\n",
      "Epoch 48/100\n",
      "7731/7731 [==============================] - 3s 370us/sample - loss: 1.7037 - categorical_accuracy: 0.8859 - val_loss: 1.7078 - val_categorical_accuracy: 0.8778\n",
      "Epoch 49/100\n",
      "7731/7731 [==============================] - 3s 368us/sample - loss: 1.6800 - categorical_accuracy: 0.8867 - val_loss: 1.6870 - val_categorical_accuracy: 0.8778\n",
      "Epoch 50/100\n",
      "7731/7731 [==============================] - 3s 366us/sample - loss: 1.6592 - categorical_accuracy: 0.8913 - val_loss: 1.6706 - val_categorical_accuracy: 0.8789\n",
      "Epoch 51/100\n",
      "7731/7731 [==============================] - 3s 366us/sample - loss: 1.6440 - categorical_accuracy: 0.8881 - val_loss: 1.6569 - val_categorical_accuracy: 0.8801\n",
      "Epoch 52/100\n",
      "7731/7731 [==============================] - 3s 369us/sample - loss: 1.6290 - categorical_accuracy: 0.8902 - val_loss: 1.6447 - val_categorical_accuracy: 0.8824\n",
      "Epoch 53/100\n",
      "7731/7731 [==============================] - 3s 371us/sample - loss: 1.6176 - categorical_accuracy: 0.8906 - val_loss: 1.6342 - val_categorical_accuracy: 0.8859\n",
      "Epoch 54/100\n",
      "7731/7731 [==============================] - 3s 373us/sample - loss: 1.6059 - categorical_accuracy: 0.8934 - val_loss: 1.6261 - val_categorical_accuracy: 0.8859\n",
      "Epoch 55/100\n",
      "7731/7731 [==============================] - 3s 371us/sample - loss: 1.5970 - categorical_accuracy: 0.8937 - val_loss: 1.6183 - val_categorical_accuracy: 0.8882\n",
      "Epoch 56/100\n",
      "7731/7731 [==============================] - 3s 373us/sample - loss: 1.5871 - categorical_accuracy: 0.8934 - val_loss: 1.6112 - val_categorical_accuracy: 0.8917\n",
      "Epoch 57/100\n",
      "7731/7731 [==============================] - 3s 370us/sample - loss: 1.5803 - categorical_accuracy: 0.8947 - val_loss: 1.6052 - val_categorical_accuracy: 0.8929\n",
      "Epoch 58/100\n",
      "7731/7731 [==============================] - 3s 367us/sample - loss: 1.5717 - categorical_accuracy: 0.8987 - val_loss: 1.5994 - val_categorical_accuracy: 0.8929\n",
      "Epoch 59/100\n",
      "7731/7731 [==============================] - 3s 363us/sample - loss: 1.5640 - categorical_accuracy: 0.8991 - val_loss: 1.5938 - val_categorical_accuracy: 0.8929\n",
      "Epoch 60/100\n",
      "7731/7731 [==============================] - 3s 368us/sample - loss: 1.5583 - categorical_accuracy: 0.9014 - val_loss: 1.5870 - val_categorical_accuracy: 0.8929\n",
      "Epoch 61/100\n",
      "7731/7731 [==============================] - 3s 370us/sample - loss: 1.5532 - categorical_accuracy: 0.9007 - val_loss: 1.5834 - val_categorical_accuracy: 0.8906\n",
      "Epoch 62/100\n",
      "7731/7731 [==============================] - 3s 366us/sample - loss: 1.5457 - categorical_accuracy: 0.9016 - val_loss: 1.5803 - val_categorical_accuracy: 0.8929\n",
      "Epoch 63/100\n",
      "7731/7731 [==============================] - 3s 367us/sample - loss: 1.5395 - categorical_accuracy: 0.9020 - val_loss: 1.5749 - val_categorical_accuracy: 0.8941\n",
      "Epoch 64/100\n",
      "7731/7731 [==============================] - 3s 368us/sample - loss: 1.5354 - categorical_accuracy: 0.9026 - val_loss: 1.5706 - val_categorical_accuracy: 0.8952\n",
      "Epoch 65/100\n",
      "7731/7731 [==============================] - 3s 370us/sample - loss: 1.5291 - categorical_accuracy: 0.9023 - val_loss: 1.5669 - val_categorical_accuracy: 0.8976\n",
      "Epoch 66/100\n",
      "7731/7731 [==============================] - 3s 365us/sample - loss: 1.5265 - categorical_accuracy: 0.9027 - val_loss: 1.5637 - val_categorical_accuracy: 0.8964\n",
      "Epoch 67/100\n",
      "7731/7731 [==============================] - 3s 361us/sample - loss: 1.5205 - categorical_accuracy: 0.9048 - val_loss: 1.5592 - val_categorical_accuracy: 0.8964\n",
      "Epoch 68/100\n",
      "7731/7731 [==============================] - 3s 365us/sample - loss: 1.5166 - categorical_accuracy: 0.9060 - val_loss: 1.5566 - val_categorical_accuracy: 0.8941\n",
      "Epoch 69/100\n",
      "7731/7731 [==============================] - 3s 367us/sample - loss: 1.5082 - categorical_accuracy: 0.9071 - val_loss: 1.5532 - val_categorical_accuracy: 0.8952\n",
      "Epoch 70/100\n",
      "7731/7731 [==============================] - 3s 369us/sample - loss: 1.5046 - categorical_accuracy: 0.9083 - val_loss: 1.5490 - val_categorical_accuracy: 0.8941\n",
      "Epoch 71/100\n",
      "7731/7731 [==============================] - 3s 368us/sample - loss: 1.4993 - categorical_accuracy: 0.9097 - val_loss: 1.5452 - val_categorical_accuracy: 0.8964\n",
      "Epoch 72/100\n",
      "7731/7731 [==============================] - 3s 367us/sample - loss: 1.4935 - categorical_accuracy: 0.9115 - val_loss: 1.5432 - val_categorical_accuracy: 0.8952\n",
      "Epoch 73/100\n",
      "7731/7731 [==============================] - 3s 368us/sample - loss: 1.4879 - categorical_accuracy: 0.9115 - val_loss: 1.5413 - val_categorical_accuracy: 0.8952\n",
      "Epoch 74/100\n",
      "7731/7731 [==============================] - 3s 373us/sample - loss: 1.4845 - categorical_accuracy: 0.9122 - val_loss: 1.5358 - val_categorical_accuracy: 0.8952\n",
      "Epoch 75/100\n",
      "7731/7731 [==============================] - 3s 364us/sample - loss: 1.4800 - categorical_accuracy: 0.9127 - val_loss: 1.5320 - val_categorical_accuracy: 0.8929\n",
      "Epoch 76/100\n",
      "7731/7731 [==============================] - 3s 361us/sample - loss: 1.4752 - categorical_accuracy: 0.9133 - val_loss: 1.5273 - val_categorical_accuracy: 0.8952\n",
      "Epoch 77/100\n",
      "7731/7731 [==============================] - 3s 365us/sample - loss: 1.4678 - categorical_accuracy: 0.9173 - val_loss: 1.5237 - val_categorical_accuracy: 0.8952\n",
      "Epoch 78/100\n",
      "7731/7731 [==============================] - 3s 364us/sample - loss: 1.4654 - categorical_accuracy: 0.9154 - val_loss: 1.5215 - val_categorical_accuracy: 0.8941\n",
      "Epoch 79/100\n",
      "7731/7731 [==============================] - 3s 363us/sample - loss: 1.4615 - categorical_accuracy: 0.9164 - val_loss: 1.5199 - val_categorical_accuracy: 0.8952\n",
      "Epoch 80/100\n",
      "7731/7731 [==============================] - 3s 365us/sample - loss: 1.4556 - categorical_accuracy: 0.9167 - val_loss: 1.5182 - val_categorical_accuracy: 0.8952\n",
      "Epoch 81/100\n",
      "7731/7731 [==============================] - 3s 367us/sample - loss: 1.4507 - categorical_accuracy: 0.9181 - val_loss: 1.5132 - val_categorical_accuracy: 0.8952\n",
      "Epoch 82/100\n",
      "7731/7731 [==============================] - 3s 371us/sample - loss: 1.4450 - categorical_accuracy: 0.9192 - val_loss: 1.5124 - val_categorical_accuracy: 0.8976\n",
      "Epoch 83/100\n",
      "7731/7731 [==============================] - 3s 368us/sample - loss: 1.4411 - categorical_accuracy: 0.9188 - val_loss: 1.5095 - val_categorical_accuracy: 0.8964\n",
      "Epoch 84/100\n",
      "7731/7731 [==============================] - 3s 373us/sample - loss: 1.4392 - categorical_accuracy: 0.9193 - val_loss: 1.5058 - val_categorical_accuracy: 0.8976\n",
      "Epoch 85/100\n",
      "7731/7731 [==============================] - 3s 365us/sample - loss: 1.4324 - categorical_accuracy: 0.9226 - val_loss: 1.5034 - val_categorical_accuracy: 0.8976\n",
      "Epoch 86/100\n",
      "7731/7731 [==============================] - 3s 361us/sample - loss: 1.4298 - categorical_accuracy: 0.9207 - val_loss: 1.5000 - val_categorical_accuracy: 0.8987\n",
      "Epoch 87/100\n",
      "7731/7731 [==============================] - 3s 366us/sample - loss: 1.4247 - categorical_accuracy: 0.9221 - val_loss: 1.4970 - val_categorical_accuracy: 0.8976\n",
      "Epoch 88/100\n",
      "7731/7731 [==============================] - 3s 367us/sample - loss: 1.4211 - categorical_accuracy: 0.9211 - val_loss: 1.4937 - val_categorical_accuracy: 0.8999\n",
      "Epoch 89/100\n",
      "7731/7731 [==============================] - 3s 364us/sample - loss: 1.4138 - categorical_accuracy: 0.9247 - val_loss: 1.4877 - val_categorical_accuracy: 0.9010\n",
      "Epoch 90/100\n",
      "7731/7731 [==============================] - 3s 366us/sample - loss: 1.4106 - categorical_accuracy: 0.9256 - val_loss: 1.4914 - val_categorical_accuracy: 0.8976\n",
      "Epoch 91/100\n",
      "7731/7731 [==============================] - 3s 365us/sample - loss: 1.4072 - categorical_accuracy: 0.9274 - val_loss: 1.4879 - val_categorical_accuracy: 0.8999\n",
      "Epoch 92/100\n",
      "7731/7731 [==============================] - 3s 369us/sample - loss: 1.4027 - categorical_accuracy: 0.9283 - val_loss: 1.4869 - val_categorical_accuracy: 0.9045\n",
      "Epoch 93/100\n",
      "7731/7731 [==============================] - 3s 371us/sample - loss: 1.3989 - categorical_accuracy: 0.9272 - val_loss: 1.4840 - val_categorical_accuracy: 0.9022\n",
      "Epoch 94/100\n"
     ]
    },
    {
     "name": "stdout",
     "output_type": "stream",
     "text": [
      "7731/7731 [==============================] - 3s 368us/sample - loss: 1.3956 - categorical_accuracy: 0.9282 - val_loss: 1.4817 - val_categorical_accuracy: 0.9034\n",
      "Epoch 95/100\n",
      "7731/7731 [==============================] - 3s 372us/sample - loss: 1.3897 - categorical_accuracy: 0.9289 - val_loss: 1.4795 - val_categorical_accuracy: 0.9045\n",
      "Epoch 96/100\n",
      "7731/7731 [==============================] - 3s 356us/sample - loss: 1.3871 - categorical_accuracy: 0.9296 - val_loss: 1.4791 - val_categorical_accuracy: 0.9022\n",
      "Epoch 97/100\n",
      "7731/7731 [==============================] - 3s 366us/sample - loss: 1.3820 - categorical_accuracy: 0.9316 - val_loss: 1.4730 - val_categorical_accuracy: 0.9080\n",
      "Epoch 98/100\n",
      "7731/7731 [==============================] - 3s 366us/sample - loss: 1.3769 - categorical_accuracy: 0.9331 - val_loss: 1.4734 - val_categorical_accuracy: 0.9080\n",
      "Epoch 99/100\n",
      "7731/7731 [==============================] - 3s 366us/sample - loss: 1.3747 - categorical_accuracy: 0.9334 - val_loss: 1.4727 - val_categorical_accuracy: 0.9069\n",
      "Epoch 100/100\n",
      "7731/7731 [==============================] - 3s 366us/sample - loss: 1.3705 - categorical_accuracy: 0.9349 - val_loss: 1.4726 - val_categorical_accuracy: 0.9069\n",
      "Train on 7731 samples, validate on 859 samples\n",
      "Epoch 1/100\n",
      "7731/7731 [==============================] - 10s 1ms/sample - loss: 340.2807 - categorical_accuracy: 0.4204 - val_loss: 318.8738 - val_categorical_accuracy: 0.6729\n",
      "Epoch 2/100\n",
      "7731/7731 [==============================] - 3s 389us/sample - loss: 300.8401 - categorical_accuracy: 0.6797 - val_loss: 281.8674 - val_categorical_accuracy: 0.7916\n",
      "Epoch 3/100\n",
      "7731/7731 [==============================] - 3s 376us/sample - loss: 265.7303 - categorical_accuracy: 0.7570 - val_loss: 248.8969 - val_categorical_accuracy: 0.8172\n",
      "Epoch 4/100\n",
      "7731/7731 [==============================] - 3s 374us/sample - loss: 234.5192 - categorical_accuracy: 0.7866 - val_loss: 219.5323 - val_categorical_accuracy: 0.8359\n",
      "Epoch 5/100\n",
      "7731/7731 [==============================] - 3s 381us/sample - loss: 206.7488 - categorical_accuracy: 0.8047 - val_loss: 193.3873 - val_categorical_accuracy: 0.8405\n",
      "Epoch 6/100\n",
      "7731/7731 [==============================] - 4s 462us/sample - loss: 182.0424 - categorical_accuracy: 0.8118 - val_loss: 170.1240 - val_categorical_accuracy: 0.8463\n",
      "Epoch 7/100\n",
      "7731/7731 [==============================] - 3s 375us/sample - loss: 160.0681 - categorical_accuracy: 0.8224 - val_loss: 149.4443 - val_categorical_accuracy: 0.8522\n",
      "Epoch 8/100\n",
      "7731/7731 [==============================] - 3s 385us/sample - loss: 140.5433 - categorical_accuracy: 0.8281 - val_loss: 131.0849 - val_categorical_accuracy: 0.8556\n",
      "Epoch 9/100\n",
      "7731/7731 [==============================] - 3s 370us/sample - loss: 123.2066 - categorical_accuracy: 0.8309 - val_loss: 114.8004 - val_categorical_accuracy: 0.8650\n",
      "Epoch 10/100\n",
      "7731/7731 [==============================] - 3s 372us/sample - loss: 107.8388 - categorical_accuracy: 0.8340 - val_loss: 100.3747 - val_categorical_accuracy: 0.8650\n",
      "Epoch 11/100\n",
      "7731/7731 [==============================] - 3s 357us/sample - loss: 94.2291 - categorical_accuracy: 0.8393 - val_loss: 87.6156 - val_categorical_accuracy: 0.8673\n",
      "Epoch 12/100\n",
      "7731/7731 [==============================] - 3s 376us/sample - loss: 82.2018 - categorical_accuracy: 0.8447 - val_loss: 76.3502 - val_categorical_accuracy: 0.8661\n",
      "Epoch 13/100\n",
      "7731/7731 [==============================] - 3s 374us/sample - loss: 71.5855 - categorical_accuracy: 0.8463 - val_loss: 66.4209 - val_categorical_accuracy: 0.8673\n",
      "Epoch 14/100\n",
      "7731/7731 [==============================] - 3s 371us/sample - loss: 62.2371 - categorical_accuracy: 0.8507 - val_loss: 57.6859 - val_categorical_accuracy: 0.8673\n",
      "Epoch 15/100\n",
      "7731/7731 [==============================] - 3s 372us/sample - loss: 54.0137 - categorical_accuracy: 0.8479 - val_loss: 50.0175 - val_categorical_accuracy: 0.8696\n",
      "Epoch 16/100\n",
      "7731/7731 [==============================] - 3s 371us/sample - loss: 46.8074 - categorical_accuracy: 0.8528 - val_loss: 43.2986 - val_categorical_accuracy: 0.8708\n",
      "Epoch 17/100\n",
      "7731/7731 [==============================] - 3s 370us/sample - loss: 40.4943 - categorical_accuracy: 0.8568 - val_loss: 37.4259 - val_categorical_accuracy: 0.8731\n",
      "Epoch 18/100\n",
      "7731/7731 [==============================] - 3s 371us/sample - loss: 34.9812 - categorical_accuracy: 0.8566 - val_loss: 32.3040 - val_categorical_accuracy: 0.8719\n",
      "Epoch 19/100\n",
      "7731/7731 [==============================] - 3s 370us/sample - loss: 30.1808 - categorical_accuracy: 0.8568 - val_loss: 27.8478 - val_categorical_accuracy: 0.8778\n",
      "Epoch 20/100\n",
      "7731/7731 [==============================] - 3s 371us/sample - loss: 26.0052 - categorical_accuracy: 0.8589 - val_loss: 23.9812 - val_categorical_accuracy: 0.8743\n",
      "Epoch 21/100\n",
      "7731/7731 [==============================] - 3s 372us/sample - loss: 22.3901 - categorical_accuracy: 0.8602 - val_loss: 20.6320 - val_categorical_accuracy: 0.8789\n",
      "Epoch 22/100\n",
      "7731/7731 [==============================] - 3s 377us/sample - loss: 19.2603 - categorical_accuracy: 0.8628 - val_loss: 17.7434 - val_categorical_accuracy: 0.8789\n",
      "Epoch 23/100\n",
      "7731/7731 [==============================] - 3s 366us/sample - loss: 16.5618 - categorical_accuracy: 0.8663 - val_loss: 15.2557 - val_categorical_accuracy: 0.8778\n",
      "Epoch 24/100\n",
      "7731/7731 [==============================] - 3s 368us/sample - loss: 14.2392 - categorical_accuracy: 0.8657 - val_loss: 13.1186 - val_categorical_accuracy: 0.8789\n",
      "Epoch 25/100\n",
      "7731/7731 [==============================] - 3s 372us/sample - loss: 12.2535 - categorical_accuracy: 0.8651 - val_loss: 11.2907 - val_categorical_accuracy: 0.8789\n",
      "Epoch 26/100\n",
      "7731/7731 [==============================] - 3s 370us/sample - loss: 10.5540 - categorical_accuracy: 0.8653 - val_loss: 9.7302 - val_categorical_accuracy: 0.8813\n",
      "Epoch 27/100\n",
      "7731/7731 [==============================] - 3s 372us/sample - loss: 9.1025 - categorical_accuracy: 0.8709 - val_loss: 8.4021 - val_categorical_accuracy: 0.8813\n",
      "Epoch 28/100\n",
      "7731/7731 [==============================] - 3s 375us/sample - loss: 7.8712 - categorical_accuracy: 0.8687 - val_loss: 7.2757 - val_categorical_accuracy: 0.8813\n",
      "Epoch 29/100\n",
      "7731/7731 [==============================] - 3s 370us/sample - loss: 6.8290 - categorical_accuracy: 0.8672 - val_loss: 6.3250 - val_categorical_accuracy: 0.8836\n",
      "Epoch 30/100\n",
      "7731/7731 [==============================] - 3s 371us/sample - loss: 5.9453 - categorical_accuracy: 0.8718 - val_loss: 5.5218 - val_categorical_accuracy: 0.8824\n",
      "Epoch 31/100\n",
      "7731/7731 [==============================] - 3s 370us/sample - loss: 5.2024 - categorical_accuracy: 0.8731 - val_loss: 4.8453 - val_categorical_accuracy: 0.8836\n",
      "Epoch 32/100\n",
      "7731/7731 [==============================] - 3s 370us/sample - loss: 4.5797 - categorical_accuracy: 0.8709 - val_loss: 4.2801 - val_categorical_accuracy: 0.8847\n",
      "Epoch 33/100\n",
      "7731/7731 [==============================] - 3s 368us/sample - loss: 4.0588 - categorical_accuracy: 0.8748 - val_loss: 3.8066 - val_categorical_accuracy: 0.8871\n",
      "Epoch 34/100\n",
      "7731/7731 [==============================] - 3s 371us/sample - loss: 3.6222 - categorical_accuracy: 0.8778 - val_loss: 3.4130 - val_categorical_accuracy: 0.8871\n",
      "Epoch 35/100\n",
      "7731/7731 [==============================] - 3s 371us/sample - loss: 3.2596 - categorical_accuracy: 0.8771 - val_loss: 3.0891 - val_categorical_accuracy: 0.8871\n",
      "Epoch 36/100\n",
      "7731/7731 [==============================] - 3s 370us/sample - loss: 2.9608 - categorical_accuracy: 0.8761 - val_loss: 2.8182 - val_categorical_accuracy: 0.8871\n",
      "Epoch 37/100\n",
      "7731/7731 [==============================] - 3s 370us/sample - loss: 2.7135 - categorical_accuracy: 0.8740 - val_loss: 2.5954 - val_categorical_accuracy: 0.8882\n",
      "Epoch 38/100\n",
      "7731/7731 [==============================] - 3s 376us/sample - loss: 2.5081 - categorical_accuracy: 0.8794 - val_loss: 2.4118 - val_categorical_accuracy: 0.8894\n",
      "Epoch 39/100\n",
      "7731/7731 [==============================] - 3s 372us/sample - loss: 2.3397 - categorical_accuracy: 0.8804 - val_loss: 2.2611 - val_categorical_accuracy: 0.8882\n",
      "Epoch 40/100\n",
      "7731/7731 [==============================] - 3s 378us/sample - loss: 2.2035 - categorical_accuracy: 0.8789 - val_loss: 2.1391 - val_categorical_accuracy: 0.8882\n",
      "Epoch 41/100\n",
      "7731/7731 [==============================] - 3s 375us/sample - loss: 2.0881 - categorical_accuracy: 0.8806 - val_loss: 2.0376 - val_categorical_accuracy: 0.8882\n",
      "Epoch 42/100\n",
      "7731/7731 [==============================] - 3s 374us/sample - loss: 1.9958 - categorical_accuracy: 0.8792 - val_loss: 1.9557 - val_categorical_accuracy: 0.8871\n",
      "Epoch 43/100\n",
      "7731/7731 [==============================] - 3s 368us/sample - loss: 1.9201 - categorical_accuracy: 0.8832 - val_loss: 1.8886 - val_categorical_accuracy: 0.8906\n",
      "Epoch 44/100\n",
      "7731/7731 [==============================] - 3s 364us/sample - loss: 1.8585 - categorical_accuracy: 0.8820 - val_loss: 1.8347 - val_categorical_accuracy: 0.8882\n",
      "Epoch 45/100\n",
      "7731/7731 [==============================] - 3s 367us/sample - loss: 1.8084 - categorical_accuracy: 0.8836 - val_loss: 1.7882 - val_categorical_accuracy: 0.8929\n",
      "Epoch 46/100\n",
      "7731/7731 [==============================] - 3s 368us/sample - loss: 1.7666 - categorical_accuracy: 0.8813 - val_loss: 1.7516 - val_categorical_accuracy: 0.8929\n",
      "Epoch 47/100\n",
      "7731/7731 [==============================] - 3s 359us/sample - loss: 1.7305 - categorical_accuracy: 0.8880 - val_loss: 1.7222 - val_categorical_accuracy: 0.8906\n",
      "Epoch 48/100\n",
      "7731/7731 [==============================] - 3s 362us/sample - loss: 1.7025 - categorical_accuracy: 0.8881 - val_loss: 1.6983 - val_categorical_accuracy: 0.8917\n",
      "Epoch 49/100\n",
      "7731/7731 [==============================] - 3s 364us/sample - loss: 1.6804 - categorical_accuracy: 0.8882 - val_loss: 1.6772 - val_categorical_accuracy: 0.8929\n",
      "Epoch 50/100\n",
      "7731/7731 [==============================] - 3s 364us/sample - loss: 1.6620 - categorical_accuracy: 0.8881 - val_loss: 1.6606 - val_categorical_accuracy: 0.8941\n",
      "Epoch 51/100\n",
      "7731/7731 [==============================] - 3s 365us/sample - loss: 1.6436 - categorical_accuracy: 0.8906 - val_loss: 1.6471 - val_categorical_accuracy: 0.8941\n",
      "Epoch 52/100\n",
      "7731/7731 [==============================] - 3s 365us/sample - loss: 1.6310 - categorical_accuracy: 0.8895 - val_loss: 1.6357 - val_categorical_accuracy: 0.8941\n",
      "Epoch 53/100\n",
      "7731/7731 [==============================] - 3s 365us/sample - loss: 1.6195 - categorical_accuracy: 0.8934 - val_loss: 1.6248 - val_categorical_accuracy: 0.8952\n",
      "Epoch 54/100\n",
      "7731/7731 [==============================] - 3s 367us/sample - loss: 1.6065 - categorical_accuracy: 0.8917 - val_loss: 1.6174 - val_categorical_accuracy: 0.8952\n",
      "Epoch 55/100\n",
      "7731/7731 [==============================] - 3s 366us/sample - loss: 1.5962 - categorical_accuracy: 0.8959 - val_loss: 1.6094 - val_categorical_accuracy: 0.8976\n",
      "Epoch 56/100\n",
      "7731/7731 [==============================] - 3s 368us/sample - loss: 1.5879 - categorical_accuracy: 0.8943 - val_loss: 1.6016 - val_categorical_accuracy: 0.8964\n",
      "Epoch 57/100\n",
      "7731/7731 [==============================] - 3s 370us/sample - loss: 1.5814 - categorical_accuracy: 0.8960 - val_loss: 1.5961 - val_categorical_accuracy: 0.9022\n",
      "Epoch 58/100\n",
      "7731/7731 [==============================] - 3s 366us/sample - loss: 1.5720 - categorical_accuracy: 0.8995 - val_loss: 1.5882 - val_categorical_accuracy: 0.9022\n",
      "Epoch 59/100\n",
      "7731/7731 [==============================] - 3s 368us/sample - loss: 1.5646 - categorical_accuracy: 0.8988 - val_loss: 1.5825 - val_categorical_accuracy: 0.9034\n",
      "Epoch 60/100\n",
      "7731/7731 [==============================] - 3s 365us/sample - loss: 1.5593 - categorical_accuracy: 0.8987 - val_loss: 1.5774 - val_categorical_accuracy: 0.9057\n",
      "Epoch 61/100\n",
      "7731/7731 [==============================] - 3s 371us/sample - loss: 1.5524 - categorical_accuracy: 0.9023 - val_loss: 1.5734 - val_categorical_accuracy: 0.9045\n",
      "Epoch 62/100\n",
      "7731/7731 [==============================] - 3s 369us/sample - loss: 1.5487 - categorical_accuracy: 0.9005 - val_loss: 1.5672 - val_categorical_accuracy: 0.9080\n",
      "Epoch 63/100\n",
      "7731/7731 [==============================] - 3s 372us/sample - loss: 1.5419 - categorical_accuracy: 0.9026 - val_loss: 1.5629 - val_categorical_accuracy: 0.9080\n",
      "Epoch 64/100\n",
      "7731/7731 [==============================] - 3s 373us/sample - loss: 1.5356 - categorical_accuracy: 0.9040 - val_loss: 1.5593 - val_categorical_accuracy: 0.9104\n",
      "Epoch 65/100\n",
      "7731/7731 [==============================] - 3s 369us/sample - loss: 1.5314 - categorical_accuracy: 0.9016 - val_loss: 1.5554 - val_categorical_accuracy: 0.9080\n",
      "Epoch 66/100\n",
      "7731/7731 [==============================] - 3s 371us/sample - loss: 1.5266 - categorical_accuracy: 0.9042 - val_loss: 1.5501 - val_categorical_accuracy: 0.9069\n",
      "Epoch 67/100\n",
      "7731/7731 [==============================] - 3s 366us/sample - loss: 1.5189 - categorical_accuracy: 0.9083 - val_loss: 1.5473 - val_categorical_accuracy: 0.9080\n",
      "Epoch 68/100\n",
      "7731/7731 [==============================] - 3s 368us/sample - loss: 1.5140 - categorical_accuracy: 0.9082 - val_loss: 1.5437 - val_categorical_accuracy: 0.9057\n",
      "Epoch 69/100\n",
      "7731/7731 [==============================] - 3s 370us/sample - loss: 1.5102 - categorical_accuracy: 0.9075 - val_loss: 1.5389 - val_categorical_accuracy: 0.9092\n",
      "Epoch 70/100\n",
      "7731/7731 [==============================] - 3s 370us/sample - loss: 1.5046 - categorical_accuracy: 0.9052 - val_loss: 1.5353 - val_categorical_accuracy: 0.9069\n",
      "Epoch 71/100\n",
      "7731/7731 [==============================] - 3s 364us/sample - loss: 1.4998 - categorical_accuracy: 0.9084 - val_loss: 1.5325 - val_categorical_accuracy: 0.9115\n",
      "Epoch 72/100\n",
      "7731/7731 [==============================] - 3s 368us/sample - loss: 1.4955 - categorical_accuracy: 0.9096 - val_loss: 1.5304 - val_categorical_accuracy: 0.9080\n",
      "Epoch 73/100\n",
      "7731/7731 [==============================] - 3s 367us/sample - loss: 1.4906 - categorical_accuracy: 0.9098 - val_loss: 1.5251 - val_categorical_accuracy: 0.9104\n",
      "Epoch 74/100\n",
      "7731/7731 [==============================] - 3s 361us/sample - loss: 1.4863 - categorical_accuracy: 0.9119 - val_loss: 1.5222 - val_categorical_accuracy: 0.9104\n",
      "Epoch 75/100\n",
      "7731/7731 [==============================] - 3s 361us/sample - loss: 1.4802 - categorical_accuracy: 0.9137 - val_loss: 1.5200 - val_categorical_accuracy: 0.9104\n",
      "Epoch 76/100\n",
      "7731/7731 [==============================] - 3s 361us/sample - loss: 1.4761 - categorical_accuracy: 0.9141 - val_loss: 1.5163 - val_categorical_accuracy: 0.9104\n",
      "Epoch 77/100\n",
      "7731/7731 [==============================] - 3s 360us/sample - loss: 1.4708 - categorical_accuracy: 0.9150 - val_loss: 1.5128 - val_categorical_accuracy: 0.9127\n",
      "Epoch 78/100\n",
      "7731/7731 [==============================] - 3s 361us/sample - loss: 1.4650 - categorical_accuracy: 0.9137 - val_loss: 1.5078 - val_categorical_accuracy: 0.9127\n",
      "Epoch 79/100\n",
      "7731/7731 [==============================] - 3s 362us/sample - loss: 1.4604 - categorical_accuracy: 0.9172 - val_loss: 1.5075 - val_categorical_accuracy: 0.9127\n",
      "Epoch 80/100\n",
      "7731/7731 [==============================] - 3s 367us/sample - loss: 1.4578 - categorical_accuracy: 0.9167 - val_loss: 1.5068 - val_categorical_accuracy: 0.9115\n",
      "Epoch 81/100\n",
      "7731/7731 [==============================] - 3s 360us/sample - loss: 1.4523 - categorical_accuracy: 0.9184 - val_loss: 1.5014 - val_categorical_accuracy: 0.9115\n",
      "Epoch 82/100\n",
      "7731/7731 [==============================] - 3s 361us/sample - loss: 1.4488 - categorical_accuracy: 0.9163 - val_loss: 1.4984 - val_categorical_accuracy: 0.9104\n",
      "Epoch 83/100\n",
      "7731/7731 [==============================] - 3s 365us/sample - loss: 1.4440 - categorical_accuracy: 0.9185 - val_loss: 1.4961 - val_categorical_accuracy: 0.9104\n",
      "Epoch 84/100\n",
      "7731/7731 [==============================] - 3s 365us/sample - loss: 1.4389 - categorical_accuracy: 0.9203 - val_loss: 1.4930 - val_categorical_accuracy: 0.9115\n",
      "Epoch 85/100\n",
      "7731/7731 [==============================] - 3s 366us/sample - loss: 1.4354 - categorical_accuracy: 0.9208 - val_loss: 1.4897 - val_categorical_accuracy: 0.9115\n",
      "Epoch 86/100\n",
      "7731/7731 [==============================] - 3s 367us/sample - loss: 1.4319 - categorical_accuracy: 0.9197 - val_loss: 1.4878 - val_categorical_accuracy: 0.9115\n",
      "Epoch 87/100\n"
     ]
    },
    {
     "name": "stdout",
     "output_type": "stream",
     "text": [
      "7731/7731 [==============================] - 3s 376us/sample - loss: 1.4270 - categorical_accuracy: 0.9217 - val_loss: 1.4860 - val_categorical_accuracy: 0.9139\n",
      "Epoch 88/100\n",
      "7731/7731 [==============================] - 3s 371us/sample - loss: 1.4245 - categorical_accuracy: 0.9220 - val_loss: 1.4831 - val_categorical_accuracy: 0.9115\n",
      "Epoch 89/100\n",
      "7731/7731 [==============================] - 3s 382us/sample - loss: 1.4174 - categorical_accuracy: 0.9255 - val_loss: 1.4820 - val_categorical_accuracy: 0.9115\n",
      "Epoch 90/100\n",
      "7731/7731 [==============================] - 3s 374us/sample - loss: 1.4136 - categorical_accuracy: 0.9258 - val_loss: 1.4809 - val_categorical_accuracy: 0.9115\n",
      "Epoch 91/100\n",
      "7731/7731 [==============================] - 3s 372us/sample - loss: 1.4081 - categorical_accuracy: 0.9258 - val_loss: 1.4776 - val_categorical_accuracy: 0.9139\n",
      "Epoch 92/100\n",
      "7731/7731 [==============================] - 3s 373us/sample - loss: 1.4050 - categorical_accuracy: 0.9274 - val_loss: 1.4744 - val_categorical_accuracy: 0.9150\n",
      "Epoch 93/100\n",
      "7731/7731 [==============================] - 3s 373us/sample - loss: 1.4003 - categorical_accuracy: 0.9273 - val_loss: 1.4741 - val_categorical_accuracy: 0.9127\n",
      "Epoch 94/100\n",
      "7731/7731 [==============================] - 3s 386us/sample - loss: 1.3952 - categorical_accuracy: 0.9294 - val_loss: 1.4732 - val_categorical_accuracy: 0.9139\n",
      "Epoch 95/100\n",
      "7731/7731 [==============================] - 3s 380us/sample - loss: 1.3918 - categorical_accuracy: 0.9307 - val_loss: 1.4695 - val_categorical_accuracy: 0.9139\n",
      "Epoch 96/100\n",
      "7731/7731 [==============================] - 3s 378us/sample - loss: 1.3869 - categorical_accuracy: 0.9294 - val_loss: 1.4679 - val_categorical_accuracy: 0.9150\n",
      "Epoch 97/100\n",
      "7731/7731 [==============================] - 3s 373us/sample - loss: 1.3844 - categorical_accuracy: 0.9302 - val_loss: 1.4645 - val_categorical_accuracy: 0.9162\n",
      "Epoch 98/100\n",
      "7731/7731 [==============================] - 3s 371us/sample - loss: 1.3796 - categorical_accuracy: 0.9307 - val_loss: 1.4623 - val_categorical_accuracy: 0.9150\n",
      "Epoch 99/100\n",
      "7731/7731 [==============================] - 3s 381us/sample - loss: 1.3768 - categorical_accuracy: 0.9327 - val_loss: 1.4564 - val_categorical_accuracy: 0.9162\n",
      "Epoch 100/100\n",
      "7731/7731 [==============================] - 3s 375us/sample - loss: 1.3705 - categorical_accuracy: 0.9342 - val_loss: 1.4564 - val_categorical_accuracy: 0.9150\n",
      "Train on 7731 samples, validate on 859 samples\n",
      "Epoch 1/100\n",
      "7731/7731 [==============================] - 10s 1ms/sample - loss: 339.6873 - categorical_accuracy: 0.4009 - val_loss: 318.3407 - val_categorical_accuracy: 0.5285\n",
      "Epoch 2/100\n",
      "7731/7731 [==============================] - 3s 377us/sample - loss: 300.2752 - categorical_accuracy: 0.6808 - val_loss: 281.3694 - val_categorical_accuracy: 0.7264\n",
      "Epoch 3/100\n",
      "7731/7731 [==============================] - 3s 380us/sample - loss: 265.2262 - categorical_accuracy: 0.7514 - val_loss: 248.4409 - val_categorical_accuracy: 0.8068\n",
      "Epoch 4/100\n",
      "7731/7731 [==============================] - 3s 379us/sample - loss: 234.0724 - categorical_accuracy: 0.7837 - val_loss: 219.1249 - val_categorical_accuracy: 0.8219\n",
      "Epoch 5/100\n",
      "7731/7731 [==============================] - 3s 384us/sample - loss: 206.3653 - categorical_accuracy: 0.8013 - val_loss: 193.0355 - val_categorical_accuracy: 0.8324\n",
      "Epoch 6/100\n",
      "7731/7731 [==============================] - 3s 374us/sample - loss: 181.7110 - categorical_accuracy: 0.8127 - val_loss: 169.8208 - val_categorical_accuracy: 0.8405\n",
      "Epoch 7/100\n",
      "7731/7731 [==============================] - 3s 379us/sample - loss: 159.7827 - categorical_accuracy: 0.8216 - val_loss: 149.1850 - val_categorical_accuracy: 0.8382\n",
      "Epoch 8/100\n",
      "7731/7731 [==============================] - 3s 372us/sample - loss: 140.3004 - categorical_accuracy: 0.8241 - val_loss: 130.8614 - val_categorical_accuracy: 0.8417\n",
      "Epoch 9/100\n",
      "7731/7731 [==============================] - 3s 372us/sample - loss: 123.0008 - categorical_accuracy: 0.8324 - val_loss: 114.6091 - val_categorical_accuracy: 0.8428\n",
      "Epoch 10/100\n",
      "7731/7731 [==============================] - 3s 373us/sample - loss: 107.6611 - categorical_accuracy: 0.8388 - val_loss: 100.2125 - val_categorical_accuracy: 0.8475\n",
      "Epoch 11/100\n",
      "7731/7731 [==============================] - 3s 373us/sample - loss: 94.0804 - categorical_accuracy: 0.8393 - val_loss: 87.4796 - val_categorical_accuracy: 0.8498\n",
      "Epoch 12/100\n",
      "7731/7731 [==============================] - 3s 379us/sample - loss: 82.0744 - categorical_accuracy: 0.8421 - val_loss: 76.2349 - val_categorical_accuracy: 0.8510\n",
      "Epoch 13/100\n",
      "7731/7731 [==============================] - 3s 377us/sample - loss: 71.4781 - categorical_accuracy: 0.8419 - val_loss: 66.3247 - val_categorical_accuracy: 0.8522\n",
      "Epoch 14/100\n",
      "7731/7731 [==============================] - 3s 379us/sample - loss: 62.1460 - categorical_accuracy: 0.8493 - val_loss: 57.6059 - val_categorical_accuracy: 0.8533\n",
      "Epoch 15/100\n",
      "7731/7731 [==============================] - 3s 379us/sample - loss: 53.9404 - categorical_accuracy: 0.8531 - val_loss: 49.9496 - val_categorical_accuracy: 0.8556\n",
      "Epoch 16/100\n",
      "7731/7731 [==============================] - 3s 377us/sample - loss: 46.7438 - categorical_accuracy: 0.8545 - val_loss: 43.2430 - val_categorical_accuracy: 0.8626\n",
      "Epoch 17/100\n",
      "7731/7731 [==============================] - 3s 376us/sample - loss: 40.4429 - categorical_accuracy: 0.8547 - val_loss: 37.3797 - val_categorical_accuracy: 0.8615\n",
      "Epoch 18/100\n",
      "7731/7731 [==============================] - 3s 376us/sample - loss: 34.9394 - categorical_accuracy: 0.8545 - val_loss: 32.2670 - val_categorical_accuracy: 0.8650\n",
      "Epoch 19/100\n",
      "7731/7731 [==============================] - 3s 370us/sample - loss: 30.1447 - categorical_accuracy: 0.8598 - val_loss: 27.8183 - val_categorical_accuracy: 0.8650\n",
      "Epoch 20/100\n",
      "7731/7731 [==============================] - 3s 366us/sample - loss: 25.9762 - categorical_accuracy: 0.8642 - val_loss: 23.9575 - val_categorical_accuracy: 0.8673\n",
      "Epoch 21/100\n",
      "7731/7731 [==============================] - 3s 363us/sample - loss: 22.3668 - categorical_accuracy: 0.8628 - val_loss: 20.6158 - val_categorical_accuracy: 0.8696\n",
      "Epoch 22/100\n",
      "7731/7731 [==============================] - ETA: 0s - loss: 19.2495 - categorical_accuracy: 0.866 - 3s 368us/sample - loss: 19.2404 - categorical_accuracy: 0.8669 - val_loss: 17.7316 - val_categorical_accuracy: 0.8708\n",
      "Epoch 23/100\n",
      "7731/7731 [==============================] - 3s 374us/sample - loss: 16.5476 - categorical_accuracy: 0.8668 - val_loss: 15.2467 - val_categorical_accuracy: 0.8696\n",
      "Epoch 24/100\n",
      "7731/7731 [==============================] - 3s 373us/sample - loss: 14.2315 - categorical_accuracy: 0.8650 - val_loss: 13.1141 - val_categorical_accuracy: 0.8696\n",
      "Epoch 25/100\n",
      "7731/7731 [==============================] - 3s 369us/sample - loss: 12.2432 - categorical_accuracy: 0.8679 - val_loss: 11.2889 - val_categorical_accuracy: 0.8708\n",
      "Epoch 26/100\n",
      "7731/7731 [==============================] - 3s 376us/sample - loss: 10.5482 - categorical_accuracy: 0.8690 - val_loss: 9.7308 - val_categorical_accuracy: 0.8719\n",
      "Epoch 27/100\n",
      "7731/7731 [==============================] - 3s 370us/sample - loss: 9.1009 - categorical_accuracy: 0.8717 - val_loss: 8.4050 - val_categorical_accuracy: 0.8731\n",
      "Epoch 28/100\n",
      "7731/7731 [==============================] - 3s 371us/sample - loss: 7.8681 - categorical_accuracy: 0.8725 - val_loss: 7.2805 - val_categorical_accuracy: 0.8708\n",
      "Epoch 29/100\n",
      "7731/7731 [==============================] - 3s 368us/sample - loss: 6.8261 - categorical_accuracy: 0.8726 - val_loss: 6.3334 - val_categorical_accuracy: 0.8731\n",
      "Epoch 30/100\n",
      "7731/7731 [==============================] - 3s 370us/sample - loss: 5.9464 - categorical_accuracy: 0.8739 - val_loss: 5.5296 - val_categorical_accuracy: 0.8754\n",
      "Epoch 31/100\n",
      "7731/7731 [==============================] - 3s 371us/sample - loss: 5.2031 - categorical_accuracy: 0.8758 - val_loss: 4.8548 - val_categorical_accuracy: 0.8766\n",
      "Epoch 32/100\n",
      "7731/7731 [==============================] - 3s 372us/sample - loss: 4.5811 - categorical_accuracy: 0.8750 - val_loss: 4.2896 - val_categorical_accuracy: 0.8766\n",
      "Epoch 33/100\n",
      "7731/7731 [==============================] - 3s 401us/sample - loss: 4.0616 - categorical_accuracy: 0.8766 - val_loss: 3.8169 - val_categorical_accuracy: 0.8766\n",
      "Epoch 34/100\n",
      "7731/7731 [==============================] - 3s 404us/sample - loss: 3.6242 - categorical_accuracy: 0.8778 - val_loss: 3.4240 - val_categorical_accuracy: 0.8789\n",
      "Epoch 35/100\n",
      "7731/7731 [==============================] - 3s 374us/sample - loss: 3.2636 - categorical_accuracy: 0.8806 - val_loss: 3.0978 - val_categorical_accuracy: 0.8789\n",
      "Epoch 36/100\n",
      "7731/7731 [==============================] - 3s 381us/sample - loss: 2.9641 - categorical_accuracy: 0.8772 - val_loss: 2.8271 - val_categorical_accuracy: 0.8813\n",
      "Epoch 37/100\n",
      "7731/7731 [==============================] - 3s 386us/sample - loss: 2.7153 - categorical_accuracy: 0.8784 - val_loss: 2.6047 - val_categorical_accuracy: 0.8824\n",
      "Epoch 38/100\n",
      "7731/7731 [==============================] - 3s 375us/sample - loss: 2.5110 - categorical_accuracy: 0.8824 - val_loss: 2.4213 - val_categorical_accuracy: 0.8824\n",
      "Epoch 39/100\n",
      "7731/7731 [==============================] - 3s 389us/sample - loss: 2.3422 - categorical_accuracy: 0.8810 - val_loss: 2.2710 - val_categorical_accuracy: 0.8824\n",
      "Epoch 40/100\n",
      "7731/7731 [==============================] - 3s 381us/sample - loss: 2.2041 - categorical_accuracy: 0.8806 - val_loss: 2.1482 - val_categorical_accuracy: 0.8836\n",
      "Epoch 41/100\n",
      "7731/7731 [==============================] - 3s 369us/sample - loss: 2.0911 - categorical_accuracy: 0.8819 - val_loss: 2.0468 - val_categorical_accuracy: 0.8847\n",
      "Epoch 42/100\n",
      "7731/7731 [==============================] - 3s 369us/sample - loss: 1.9969 - categorical_accuracy: 0.8842 - val_loss: 1.9636 - val_categorical_accuracy: 0.8847\n",
      "Epoch 43/100\n",
      "7731/7731 [==============================] - 3s 376us/sample - loss: 1.9226 - categorical_accuracy: 0.8841 - val_loss: 1.8963 - val_categorical_accuracy: 0.8859\n",
      "Epoch 44/100\n",
      "7731/7731 [==============================] - 3s 376us/sample - loss: 1.8607 - categorical_accuracy: 0.8864 - val_loss: 1.8415 - val_categorical_accuracy: 0.8859\n",
      "Epoch 45/100\n",
      "7731/7731 [==============================] - 3s 361us/sample - loss: 1.8089 - categorical_accuracy: 0.8844 - val_loss: 1.7959 - val_categorical_accuracy: 0.8882\n",
      "Epoch 46/100\n",
      "7731/7731 [==============================] - 3s 375us/sample - loss: 1.7684 - categorical_accuracy: 0.8880 - val_loss: 1.7591 - val_categorical_accuracy: 0.8882\n",
      "Epoch 47/100\n",
      "7731/7731 [==============================] - 3s 392us/sample - loss: 1.7329 - categorical_accuracy: 0.8893 - val_loss: 1.7305 - val_categorical_accuracy: 0.8882\n",
      "Epoch 48/100\n",
      "7731/7731 [==============================] - 3s 385us/sample - loss: 1.7045 - categorical_accuracy: 0.8876 - val_loss: 1.7061 - val_categorical_accuracy: 0.8906\n",
      "Epoch 49/100\n",
      "7731/7731 [==============================] - 3s 376us/sample - loss: 1.6803 - categorical_accuracy: 0.8880 - val_loss: 1.6846 - val_categorical_accuracy: 0.8917\n",
      "Epoch 50/100\n",
      "7731/7731 [==============================] - 3s 394us/sample - loss: 1.6593 - categorical_accuracy: 0.8924 - val_loss: 1.6670 - val_categorical_accuracy: 0.8917\n",
      "Epoch 51/100\n",
      "7731/7731 [==============================] - 3s 396us/sample - loss: 1.6438 - categorical_accuracy: 0.8929 - val_loss: 1.6533 - val_categorical_accuracy: 0.8917\n",
      "Epoch 52/100\n",
      "7731/7731 [==============================] - 3s 380us/sample - loss: 1.6296 - categorical_accuracy: 0.8913 - val_loss: 1.6420 - val_categorical_accuracy: 0.8929\n",
      "Epoch 53/100\n",
      "7731/7731 [==============================] - 3s 378us/sample - loss: 1.6154 - categorical_accuracy: 0.8937 - val_loss: 1.6302 - val_categorical_accuracy: 0.8964\n",
      "Epoch 54/100\n",
      "7731/7731 [==============================] - 3s 386us/sample - loss: 1.6058 - categorical_accuracy: 0.8956 - val_loss: 1.6230 - val_categorical_accuracy: 0.8976\n",
      "Epoch 55/100\n",
      "7731/7731 [==============================] - 3s 382us/sample - loss: 1.5963 - categorical_accuracy: 0.8956 - val_loss: 1.6142 - val_categorical_accuracy: 0.8976\n",
      "Epoch 56/100\n",
      "7731/7731 [==============================] - 3s 381us/sample - loss: 1.5873 - categorical_accuracy: 0.8965 - val_loss: 1.6060 - val_categorical_accuracy: 0.8987\n",
      "Epoch 57/100\n",
      "7731/7731 [==============================] - 3s 404us/sample - loss: 1.5781 - categorical_accuracy: 0.9000 - val_loss: 1.5992 - val_categorical_accuracy: 0.8999\n",
      "Epoch 58/100\n",
      "7731/7731 [==============================] - 3s 379us/sample - loss: 1.5722 - categorical_accuracy: 0.8983 - val_loss: 1.5932 - val_categorical_accuracy: 0.9022\n",
      "Epoch 59/100\n",
      "7731/7731 [==============================] - 3s 379us/sample - loss: 1.5655 - categorical_accuracy: 0.8995 - val_loss: 1.5871 - val_categorical_accuracy: 0.8987\n",
      "Epoch 60/100\n",
      "7731/7731 [==============================] - 3s 378us/sample - loss: 1.5577 - categorical_accuracy: 0.9027 - val_loss: 1.5804 - val_categorical_accuracy: 0.9010\n",
      "Epoch 61/100\n",
      "7731/7731 [==============================] - 3s 377us/sample - loss: 1.5510 - categorical_accuracy: 0.9029 - val_loss: 1.5767 - val_categorical_accuracy: 0.8999\n",
      "Epoch 62/100\n",
      "7731/7731 [==============================] - 3s 378us/sample - loss: 1.5452 - categorical_accuracy: 0.9044 - val_loss: 1.5733 - val_categorical_accuracy: 0.9022\n",
      "Epoch 63/100\n",
      "7731/7731 [==============================] - 3s 371us/sample - loss: 1.5404 - categorical_accuracy: 0.9061 - val_loss: 1.5686 - val_categorical_accuracy: 0.9034\n",
      "Epoch 64/100\n",
      "7731/7731 [==============================] - 3s 379us/sample - loss: 1.5346 - categorical_accuracy: 0.9036 - val_loss: 1.5645 - val_categorical_accuracy: 0.9022\n",
      "Epoch 65/100\n",
      "7731/7731 [==============================] - 3s 379us/sample - loss: 1.5291 - categorical_accuracy: 0.9057 - val_loss: 1.5595 - val_categorical_accuracy: 0.9045\n",
      "Epoch 66/100\n",
      "7731/7731 [==============================] - 3s 375us/sample - loss: 1.5215 - categorical_accuracy: 0.9087 - val_loss: 1.5553 - val_categorical_accuracy: 0.9057\n",
      "Epoch 67/100\n",
      "7731/7731 [==============================] - 3s 378us/sample - loss: 1.5173 - categorical_accuracy: 0.9085 - val_loss: 1.5507 - val_categorical_accuracy: 0.9045\n",
      "Epoch 68/100\n",
      "7731/7731 [==============================] - 3s 377us/sample - loss: 1.5116 - categorical_accuracy: 0.9113 - val_loss: 1.5462 - val_categorical_accuracy: 0.9010\n",
      "Epoch 69/100\n",
      "7731/7731 [==============================] - 3s 373us/sample - loss: 1.5074 - categorical_accuracy: 0.9088 - val_loss: 1.5428 - val_categorical_accuracy: 0.9045\n",
      "Epoch 70/100\n",
      "7731/7731 [==============================] - 3s 381us/sample - loss: 1.5026 - categorical_accuracy: 0.9092 - val_loss: 1.5383 - val_categorical_accuracy: 0.9045\n",
      "Epoch 71/100\n",
      "7731/7731 [==============================] - 3s 377us/sample - loss: 1.4948 - categorical_accuracy: 0.9115 - val_loss: 1.5359 - val_categorical_accuracy: 0.9034\n",
      "Epoch 72/100\n",
      "7731/7731 [==============================] - 3s 377us/sample - loss: 1.4938 - categorical_accuracy: 0.9126 - val_loss: 1.5333 - val_categorical_accuracy: 0.9034\n",
      "Epoch 73/100\n",
      "7731/7731 [==============================] - 3s 377us/sample - loss: 1.4870 - categorical_accuracy: 0.9128 - val_loss: 1.5327 - val_categorical_accuracy: 0.9010\n",
      "Epoch 74/100\n",
      "7731/7731 [==============================] - 3s 376us/sample - loss: 1.4818 - categorical_accuracy: 0.9150 - val_loss: 1.5264 - val_categorical_accuracy: 0.9034\n",
      "Epoch 75/100\n",
      "7731/7731 [==============================] - 3s 382us/sample - loss: 1.4807 - categorical_accuracy: 0.9155 - val_loss: 1.5223 - val_categorical_accuracy: 0.9045\n",
      "Epoch 76/100\n",
      "7731/7731 [==============================] - 3s 381us/sample - loss: 1.4715 - categorical_accuracy: 0.9176 - val_loss: 1.5190 - val_categorical_accuracy: 0.9034\n",
      "Epoch 77/100\n",
      "7731/7731 [==============================] - 3s 382us/sample - loss: 1.4690 - categorical_accuracy: 0.9179 - val_loss: 1.5196 - val_categorical_accuracy: 0.9022\n",
      "Epoch 78/100\n",
      "7731/7731 [==============================] - 3s 380us/sample - loss: 1.4651 - categorical_accuracy: 0.9153 - val_loss: 1.5186 - val_categorical_accuracy: 0.9045\n",
      "Epoch 79/100\n",
      "7731/7731 [==============================] - 3s 378us/sample - loss: 1.4595 - categorical_accuracy: 0.9206 - val_loss: 1.5120 - val_categorical_accuracy: 0.9034\n",
      "Epoch 80/100\n"
     ]
    },
    {
     "name": "stdout",
     "output_type": "stream",
     "text": [
      "7731/7731 [==============================] - 3s 383us/sample - loss: 1.4544 - categorical_accuracy: 0.9201 - val_loss: 1.5094 - val_categorical_accuracy: 0.9034\n",
      "Epoch 81/100\n",
      "7731/7731 [==============================] - 3s 385us/sample - loss: 1.4510 - categorical_accuracy: 0.9202 - val_loss: 1.5044 - val_categorical_accuracy: 0.9080\n",
      "Epoch 82/100\n",
      "7731/7731 [==============================] - 3s 403us/sample - loss: 1.4461 - categorical_accuracy: 0.9212 - val_loss: 1.5043 - val_categorical_accuracy: 0.9069\n",
      "Epoch 83/100\n",
      "7731/7731 [==============================] - 3s 390us/sample - loss: 1.4421 - categorical_accuracy: 0.9215 - val_loss: 1.5005 - val_categorical_accuracy: 0.9080\n",
      "Epoch 84/100\n",
      "7731/7731 [==============================] - 3s 370us/sample - loss: 1.4362 - categorical_accuracy: 0.9259 - val_loss: 1.5001 - val_categorical_accuracy: 0.9069\n",
      "Epoch 85/100\n",
      "7731/7731 [==============================] - 3s 370us/sample - loss: 1.4308 - categorical_accuracy: 0.9239 - val_loss: 1.4978 - val_categorical_accuracy: 0.9092\n",
      "Epoch 86/100\n",
      "7731/7731 [==============================] - 3s 369us/sample - loss: 1.4289 - categorical_accuracy: 0.9245 - val_loss: 1.4917 - val_categorical_accuracy: 0.9115\n",
      "Epoch 87/100\n",
      "7731/7731 [==============================] - 3s 372us/sample - loss: 1.4239 - categorical_accuracy: 0.9258 - val_loss: 1.4884 - val_categorical_accuracy: 0.9069\n",
      "Epoch 88/100\n",
      "7731/7731 [==============================] - 3s 375us/sample - loss: 1.4194 - categorical_accuracy: 0.9261 - val_loss: 1.4894 - val_categorical_accuracy: 0.9104\n",
      "Epoch 89/100\n",
      "7731/7731 [==============================] - 3s 373us/sample - loss: 1.4157 - categorical_accuracy: 0.9254 - val_loss: 1.4872 - val_categorical_accuracy: 0.9092\n",
      "Epoch 90/100\n",
      "7731/7731 [==============================] - 3s 373us/sample - loss: 1.4109 - categorical_accuracy: 0.9289 - val_loss: 1.4881 - val_categorical_accuracy: 0.9092\n",
      "Epoch 91/100\n",
      "7731/7731 [==============================] - 3s 370us/sample - loss: 1.4048 - categorical_accuracy: 0.9292 - val_loss: 1.4849 - val_categorical_accuracy: 0.9115\n",
      "Epoch 92/100\n",
      "7731/7731 [==============================] - 3s 370us/sample - loss: 1.4015 - categorical_accuracy: 0.9324 - val_loss: 1.4850 - val_categorical_accuracy: 0.9104\n",
      "Epoch 93/100\n",
      "7731/7731 [==============================] - 3s 361us/sample - loss: 1.3978 - categorical_accuracy: 0.9313 - val_loss: 1.4797 - val_categorical_accuracy: 0.9092\n",
      "Epoch 94/100\n",
      "7731/7731 [==============================] - 3s 378us/sample - loss: 1.3914 - categorical_accuracy: 0.9316 - val_loss: 1.4810 - val_categorical_accuracy: 0.9115\n",
      "Epoch 95/100\n",
      "7731/7731 [==============================] - 3s 383us/sample - loss: 1.3917 - categorical_accuracy: 0.9298 - val_loss: 1.4784 - val_categorical_accuracy: 0.9115\n",
      "Epoch 96/100\n",
      "7731/7731 [==============================] - 3s 369us/sample - loss: 1.3844 - categorical_accuracy: 0.9344 - val_loss: 1.4734 - val_categorical_accuracy: 0.9104\n",
      "Epoch 97/100\n",
      "7731/7731 [==============================] - 3s 380us/sample - loss: 1.3833 - categorical_accuracy: 0.9351 - val_loss: 1.4701 - val_categorical_accuracy: 0.9127\n",
      "Epoch 98/100\n",
      "7731/7731 [==============================] - 3s 373us/sample - loss: 1.3792 - categorical_accuracy: 0.9318 - val_loss: 1.4718 - val_categorical_accuracy: 0.9115\n",
      "Epoch 99/100\n",
      "7731/7731 [==============================] - 3s 377us/sample - loss: 1.3729 - categorical_accuracy: 0.9375 - val_loss: 1.4692 - val_categorical_accuracy: 0.9104\n",
      "Epoch 100/100\n",
      "7731/7731 [==============================] - 3s 381us/sample - loss: 1.3683 - categorical_accuracy: 0.9364 - val_loss: 1.4656 - val_categorical_accuracy: 0.9092\n",
      "Train on 7735 samples, validate on 860 samples\n",
      "Epoch 1/100\n",
      "7735/7735 [==============================] - 10s 1ms/sample - loss: 340.0007 - categorical_accuracy: 0.3338 - val_loss: 318.5867 - val_categorical_accuracy: 0.6081\n",
      "Epoch 2/100\n",
      "7735/7735 [==============================] - 3s 363us/sample - loss: 300.5381 - categorical_accuracy: 0.6641 - val_loss: 281.6381 - val_categorical_accuracy: 0.7605\n",
      "Epoch 3/100\n",
      "7735/7735 [==============================] - 3s 363us/sample - loss: 265.4645 - categorical_accuracy: 0.7491 - val_loss: 248.7174 - val_categorical_accuracy: 0.8093\n",
      "Epoch 4/100\n",
      "7735/7735 [==============================] - 3s 362us/sample - loss: 234.2971 - categorical_accuracy: 0.7867 - val_loss: 219.3952 - val_categorical_accuracy: 0.8233\n",
      "Epoch 5/100\n",
      "7735/7735 [==============================] - 3s 360us/sample - loss: 206.5768 - categorical_accuracy: 0.7978 - val_loss: 193.2879 - val_categorical_accuracy: 0.8314\n",
      "Epoch 6/100\n",
      "7735/7735 [==============================] - 3s 364us/sample - loss: 181.9074 - categorical_accuracy: 0.8106 - val_loss: 170.0590 - val_categorical_accuracy: 0.8349\n",
      "Epoch 7/100\n",
      "7735/7735 [==============================] - 3s 360us/sample - loss: 159.9727 - categorical_accuracy: 0.8218 - val_loss: 149.4061 - val_categorical_accuracy: 0.8407\n",
      "Epoch 8/100\n",
      "7735/7735 [==============================] - 3s 359us/sample - loss: 140.4705 - categorical_accuracy: 0.8278 - val_loss: 131.0645 - val_categorical_accuracy: 0.8465\n",
      "Epoch 9/100\n",
      "7735/7735 [==============================] - 3s 363us/sample - loss: 123.1592 - categorical_accuracy: 0.8308 - val_loss: 114.7943 - val_categorical_accuracy: 0.8535\n",
      "Epoch 10/100\n",
      "7735/7735 [==============================] - 3s 360us/sample - loss: 107.8121 - categorical_accuracy: 0.8367 - val_loss: 100.3833 - val_categorical_accuracy: 0.8570\n",
      "Epoch 11/100\n",
      "7735/7735 [==============================] - 3s 365us/sample - loss: 94.2207 - categorical_accuracy: 0.8393 - val_loss: 87.6360 - val_categorical_accuracy: 0.8616\n",
      "Epoch 12/100\n",
      "7735/7735 [==============================] - 3s 364us/sample - loss: 82.2045 - categorical_accuracy: 0.8436 - val_loss: 76.3789 - val_categorical_accuracy: 0.8674\n",
      "Epoch 13/100\n",
      "7735/7735 [==============================] - 3s 366us/sample - loss: 71.5987 - categorical_accuracy: 0.8464 - val_loss: 66.4557 - val_categorical_accuracy: 0.8709\n",
      "Epoch 14/100\n",
      "7735/7735 [==============================] - 3s 363us/sample - loss: 62.2583 - categorical_accuracy: 0.8522 - val_loss: 57.7259 - val_categorical_accuracy: 0.8733\n",
      "Epoch 15/100\n",
      "7735/7735 [==============================] - 3s 363us/sample - loss: 54.0437 - categorical_accuracy: 0.8533 - val_loss: 50.0594 - val_categorical_accuracy: 0.8756\n",
      "Epoch 16/100\n",
      "7735/7735 [==============================] - 3s 363us/sample - loss: 46.8374 - categorical_accuracy: 0.8570 - val_loss: 43.3432 - val_categorical_accuracy: 0.8779\n",
      "Epoch 17/100\n",
      "7735/7735 [==============================] - 3s 365us/sample - loss: 40.5298 - categorical_accuracy: 0.8551 - val_loss: 37.4718 - val_categorical_accuracy: 0.8756\n",
      "Epoch 18/100\n",
      "7735/7735 [==============================] - 3s 364us/sample - loss: 35.0207 - categorical_accuracy: 0.8593 - val_loss: 32.3496 - val_categorical_accuracy: 0.8767\n",
      "Epoch 19/100\n",
      "7735/7735 [==============================] - 3s 363us/sample - loss: 30.2190 - categorical_accuracy: 0.8605 - val_loss: 27.8929 - val_categorical_accuracy: 0.8791\n",
      "Epoch 20/100\n",
      "7735/7735 [==============================] - 3s 364us/sample - loss: 26.0461 - categorical_accuracy: 0.8631 - val_loss: 24.0254 - val_categorical_accuracy: 0.8814\n",
      "Epoch 21/100\n",
      "7735/7735 [==============================] - 3s 372us/sample - loss: 22.4271 - categorical_accuracy: 0.8645 - val_loss: 20.6758 - val_categorical_accuracy: 0.8802\n",
      "Epoch 22/100\n",
      "7735/7735 [==============================] - 3s 383us/sample - loss: 19.2988 - categorical_accuracy: 0.8615 - val_loss: 17.7843 - val_categorical_accuracy: 0.8802\n",
      "Epoch 23/100\n",
      "7735/7735 [==============================] - 3s 362us/sample - loss: 16.5983 - categorical_accuracy: 0.8648 - val_loss: 15.2943 - val_categorical_accuracy: 0.8802\n",
      "Epoch 24/100\n",
      "7735/7735 [==============================] - 3s 364us/sample - loss: 14.2773 - categorical_accuracy: 0.8655 - val_loss: 13.1567 - val_categorical_accuracy: 0.8826\n",
      "Epoch 25/100\n",
      "7735/7735 [==============================] - 3s 363us/sample - loss: 12.2865 - categorical_accuracy: 0.8689 - val_loss: 11.3252 - val_categorical_accuracy: 0.8837\n",
      "Epoch 26/100\n",
      "7735/7735 [==============================] - 3s 371us/sample - loss: 10.5833 - categorical_accuracy: 0.8703 - val_loss: 9.7622 - val_categorical_accuracy: 0.8849\n",
      "Epoch 27/100\n",
      "7735/7735 [==============================] - 3s 367us/sample - loss: 9.1308 - categorical_accuracy: 0.8697 - val_loss: 8.4323 - val_categorical_accuracy: 0.8849\n",
      "Epoch 28/100\n",
      "7735/7735 [==============================] - 3s 368us/sample - loss: 7.8989 - categorical_accuracy: 0.8701 - val_loss: 7.3047 - val_categorical_accuracy: 0.8849\n",
      "Epoch 29/100\n",
      "7735/7735 [==============================] - 3s 365us/sample - loss: 6.8526 - categorical_accuracy: 0.8730 - val_loss: 6.3503 - val_categorical_accuracy: 0.8837\n",
      "Epoch 30/100\n",
      "7735/7735 [==============================] - 3s 362us/sample - loss: 5.9693 - categorical_accuracy: 0.8719 - val_loss: 5.5446 - val_categorical_accuracy: 0.8849\n",
      "Epoch 31/100\n",
      "7735/7735 [==============================] - 3s 360us/sample - loss: 5.2263 - categorical_accuracy: 0.8734 - val_loss: 4.8680 - val_categorical_accuracy: 0.8837\n",
      "Epoch 32/100\n",
      "7735/7735 [==============================] - 3s 359us/sample - loss: 4.6003 - categorical_accuracy: 0.8763 - val_loss: 4.3015 - val_categorical_accuracy: 0.8849\n",
      "Epoch 33/100\n",
      "7735/7735 [==============================] - 3s 363us/sample - loss: 4.0768 - categorical_accuracy: 0.8764 - val_loss: 3.8272 - val_categorical_accuracy: 0.8826\n",
      "Epoch 34/100\n",
      "7735/7735 [==============================] - 3s 360us/sample - loss: 3.6406 - categorical_accuracy: 0.8773 - val_loss: 3.4331 - val_categorical_accuracy: 0.8837\n",
      "Epoch 35/100\n",
      "7735/7735 [==============================] - 3s 362us/sample - loss: 3.2769 - categorical_accuracy: 0.8786 - val_loss: 3.1059 - val_categorical_accuracy: 0.8849\n",
      "Epoch 36/100\n",
      "7735/7735 [==============================] - 3s 366us/sample - loss: 2.9763 - categorical_accuracy: 0.8808 - val_loss: 2.8338 - val_categorical_accuracy: 0.8860\n",
      "Epoch 37/100\n",
      "7735/7735 [==============================] - 3s 361us/sample - loss: 2.7273 - categorical_accuracy: 0.8789 - val_loss: 2.6092 - val_categorical_accuracy: 0.8884\n",
      "Epoch 38/100\n",
      "7735/7735 [==============================] - 3s 360us/sample - loss: 2.5219 - categorical_accuracy: 0.8822 - val_loss: 2.4250 - val_categorical_accuracy: 0.8907\n",
      "Epoch 39/100\n",
      "7735/7735 [==============================] - 3s 362us/sample - loss: 2.3520 - categorical_accuracy: 0.8824 - val_loss: 2.2733 - val_categorical_accuracy: 0.8919\n",
      "Epoch 40/100\n",
      "7735/7735 [==============================] - 3s 366us/sample - loss: 2.2131 - categorical_accuracy: 0.8829 - val_loss: 2.1488 - val_categorical_accuracy: 0.8942\n",
      "Epoch 41/100\n",
      "7735/7735 [==============================] - 3s 362us/sample - loss: 2.0996 - categorical_accuracy: 0.8816 - val_loss: 2.0465 - val_categorical_accuracy: 0.8942\n",
      "Epoch 42/100\n",
      "7735/7735 [==============================] - 3s 363us/sample - loss: 2.0068 - categorical_accuracy: 0.8824 - val_loss: 1.9635 - val_categorical_accuracy: 0.8953\n",
      "Epoch 43/100\n",
      "7735/7735 [==============================] - 3s 368us/sample - loss: 1.9298 - categorical_accuracy: 0.8856 - val_loss: 1.8964 - val_categorical_accuracy: 0.8965\n",
      "Epoch 44/100\n",
      "7735/7735 [==============================] - 3s 362us/sample - loss: 1.8674 - categorical_accuracy: 0.8889 - val_loss: 1.8416 - val_categorical_accuracy: 0.8988\n",
      "Epoch 45/100\n",
      "7735/7735 [==============================] - 3s 364us/sample - loss: 1.8174 - categorical_accuracy: 0.8838 - val_loss: 1.7967 - val_categorical_accuracy: 0.8977\n",
      "Epoch 46/100\n",
      "7735/7735 [==============================] - 3s 369us/sample - loss: 1.7747 - categorical_accuracy: 0.8875 - val_loss: 1.7615 - val_categorical_accuracy: 0.8977\n",
      "Epoch 47/100\n",
      "7735/7735 [==============================] - 3s 364us/sample - loss: 1.7405 - categorical_accuracy: 0.8887 - val_loss: 1.7293 - val_categorical_accuracy: 0.8977\n",
      "Epoch 48/100\n",
      "7735/7735 [==============================] - 3s 362us/sample - loss: 1.7104 - categorical_accuracy: 0.8896 - val_loss: 1.7049 - val_categorical_accuracy: 0.9023\n",
      "Epoch 49/100\n",
      "7735/7735 [==============================] - 3s 363us/sample - loss: 1.6874 - categorical_accuracy: 0.8919 - val_loss: 1.6853 - val_categorical_accuracy: 0.9012\n",
      "Epoch 50/100\n",
      "7735/7735 [==============================] - 3s 363us/sample - loss: 1.6682 - categorical_accuracy: 0.8906 - val_loss: 1.6666 - val_categorical_accuracy: 0.9035\n",
      "Epoch 51/100\n",
      "7735/7735 [==============================] - 3s 362us/sample - loss: 1.6526 - categorical_accuracy: 0.8915 - val_loss: 1.6512 - val_categorical_accuracy: 0.9035\n",
      "Epoch 52/100\n",
      "7735/7735 [==============================] - 3s 363us/sample - loss: 1.6366 - categorical_accuracy: 0.8936 - val_loss: 1.6402 - val_categorical_accuracy: 0.9047\n",
      "Epoch 53/100\n",
      "7735/7735 [==============================] - 3s 363us/sample - loss: 1.6245 - categorical_accuracy: 0.8949 - val_loss: 1.6290 - val_categorical_accuracy: 0.9047\n",
      "Epoch 54/100\n",
      "7735/7735 [==============================] - 3s 361us/sample - loss: 1.6121 - categorical_accuracy: 0.8949 - val_loss: 1.6202 - val_categorical_accuracy: 0.9058\n",
      "Epoch 55/100\n",
      "7735/7735 [==============================] - 3s 363us/sample - loss: 1.6030 - categorical_accuracy: 0.8949 - val_loss: 1.6101 - val_categorical_accuracy: 0.9070\n",
      "Epoch 56/100\n",
      "7735/7735 [==============================] - 3s 362us/sample - loss: 1.5936 - categorical_accuracy: 0.8989 - val_loss: 1.6057 - val_categorical_accuracy: 0.9070\n",
      "Epoch 57/100\n",
      "7735/7735 [==============================] - 3s 359us/sample - loss: 1.5842 - categorical_accuracy: 0.9001 - val_loss: 1.5991 - val_categorical_accuracy: 0.9093\n",
      "Epoch 58/100\n",
      "7735/7735 [==============================] - 3s 364us/sample - loss: 1.5775 - categorical_accuracy: 0.9006 - val_loss: 1.5915 - val_categorical_accuracy: 0.9105\n",
      "Epoch 59/100\n",
      "7735/7735 [==============================] - 3s 363us/sample - loss: 1.5700 - categorical_accuracy: 0.9014 - val_loss: 1.5861 - val_categorical_accuracy: 0.9081\n",
      "Epoch 60/100\n",
      "7735/7735 [==============================] - 3s 361us/sample - loss: 1.5635 - categorical_accuracy: 0.9023 - val_loss: 1.5805 - val_categorical_accuracy: 0.9116\n",
      "Epoch 61/100\n",
      "7735/7735 [==============================] - 3s 363us/sample - loss: 1.5572 - categorical_accuracy: 0.9025 - val_loss: 1.5758 - val_categorical_accuracy: 0.9105\n",
      "Epoch 62/100\n",
      "7735/7735 [==============================] - 3s 365us/sample - loss: 1.5526 - categorical_accuracy: 0.9039 - val_loss: 1.5693 - val_categorical_accuracy: 0.9128\n",
      "Epoch 63/100\n",
      "7735/7735 [==============================] - 3s 360us/sample - loss: 1.5446 - categorical_accuracy: 0.9046 - val_loss: 1.5677 - val_categorical_accuracy: 0.9105\n",
      "Epoch 64/100\n",
      "7735/7735 [==============================] - 3s 363us/sample - loss: 1.5395 - categorical_accuracy: 0.9054 - val_loss: 1.5626 - val_categorical_accuracy: 0.9105\n",
      "Epoch 65/100\n",
      "7735/7735 [==============================] - 3s 368us/sample - loss: 1.5335 - categorical_accuracy: 0.9089 - val_loss: 1.5555 - val_categorical_accuracy: 0.9128\n",
      "Epoch 66/100\n",
      "7735/7735 [==============================] - 3s 366us/sample - loss: 1.5301 - categorical_accuracy: 0.9098 - val_loss: 1.5510 - val_categorical_accuracy: 0.9105\n",
      "Epoch 67/100\n",
      "7735/7735 [==============================] - 3s 362us/sample - loss: 1.5229 - categorical_accuracy: 0.9077 - val_loss: 1.5492 - val_categorical_accuracy: 0.9116\n",
      "Epoch 68/100\n",
      "7735/7735 [==============================] - 3s 361us/sample - loss: 1.5173 - categorical_accuracy: 0.9086 - val_loss: 1.5447 - val_categorical_accuracy: 0.9116\n",
      "Epoch 69/100\n",
      "7735/7735 [==============================] - 3s 365us/sample - loss: 1.5108 - categorical_accuracy: 0.9118 - val_loss: 1.5400 - val_categorical_accuracy: 0.9116\n",
      "Epoch 70/100\n",
      "7735/7735 [==============================] - 3s 364us/sample - loss: 1.5077 - categorical_accuracy: 0.9087 - val_loss: 1.5370 - val_categorical_accuracy: 0.9128\n",
      "Epoch 71/100\n",
      "7735/7735 [==============================] - 3s 368us/sample - loss: 1.5032 - categorical_accuracy: 0.9152 - val_loss: 1.5314 - val_categorical_accuracy: 0.9140\n",
      "Epoch 72/100\n",
      "7735/7735 [==============================] - 3s 366us/sample - loss: 1.4969 - categorical_accuracy: 0.9134 - val_loss: 1.5327 - val_categorical_accuracy: 0.9140\n",
      "Epoch 73/100\n"
     ]
    },
    {
     "name": "stdout",
     "output_type": "stream",
     "text": [
      "7735/7735 [==============================] - 3s 362us/sample - loss: 1.4920 - categorical_accuracy: 0.9154 - val_loss: 1.5261 - val_categorical_accuracy: 0.9151\n",
      "Epoch 74/100\n",
      "7735/7735 [==============================] - 3s 362us/sample - loss: 1.4878 - categorical_accuracy: 0.9138 - val_loss: 1.5229 - val_categorical_accuracy: 0.9163\n",
      "Epoch 75/100\n",
      "7735/7735 [==============================] - 3s 364us/sample - loss: 1.4804 - categorical_accuracy: 0.9144 - val_loss: 1.5201 - val_categorical_accuracy: 0.9163\n",
      "Epoch 76/100\n",
      "7735/7735 [==============================] - 3s 366us/sample - loss: 1.4770 - categorical_accuracy: 0.9144 - val_loss: 1.5161 - val_categorical_accuracy: 0.9174\n",
      "Epoch 77/100\n",
      "7735/7735 [==============================] - 3s 370us/sample - loss: 1.4754 - categorical_accuracy: 0.9136 - val_loss: 1.5128 - val_categorical_accuracy: 0.9186\n",
      "Epoch 78/100\n",
      "7735/7735 [==============================] - 3s 368us/sample - loss: 1.4654 - categorical_accuracy: 0.9197 - val_loss: 1.5109 - val_categorical_accuracy: 0.9174\n",
      "Epoch 79/100\n",
      "7735/7735 [==============================] - 3s 366us/sample - loss: 1.4640 - categorical_accuracy: 0.9180 - val_loss: 1.5068 - val_categorical_accuracy: 0.9151\n",
      "Epoch 80/100\n",
      "7735/7735 [==============================] - 3s 364us/sample - loss: 1.4576 - categorical_accuracy: 0.9204 - val_loss: 1.5046 - val_categorical_accuracy: 0.9198\n",
      "Epoch 81/100\n",
      "7735/7735 [==============================] - 3s 364us/sample - loss: 1.4551 - categorical_accuracy: 0.9180 - val_loss: 1.5008 - val_categorical_accuracy: 0.9174\n",
      "Epoch 82/100\n",
      "7735/7735 [==============================] - 3s 362us/sample - loss: 1.4483 - categorical_accuracy: 0.9195 - val_loss: 1.4972 - val_categorical_accuracy: 0.9198\n",
      "Epoch 83/100\n",
      "7735/7735 [==============================] - 3s 367us/sample - loss: 1.4449 - categorical_accuracy: 0.9240 - val_loss: 1.4962 - val_categorical_accuracy: 0.9209\n",
      "Epoch 84/100\n",
      "7735/7735 [==============================] - 3s 366us/sample - loss: 1.4408 - categorical_accuracy: 0.9232 - val_loss: 1.4929 - val_categorical_accuracy: 0.9198\n",
      "Epoch 85/100\n",
      "7735/7735 [==============================] - 3s 363us/sample - loss: 1.4351 - categorical_accuracy: 0.9241 - val_loss: 1.4906 - val_categorical_accuracy: 0.9198\n",
      "Epoch 86/100\n",
      "7735/7735 [==============================] - 3s 366us/sample - loss: 1.4313 - categorical_accuracy: 0.9241 - val_loss: 1.4892 - val_categorical_accuracy: 0.9151\n",
      "Epoch 87/100\n",
      "7735/7735 [==============================] - 3s 366us/sample - loss: 1.4278 - categorical_accuracy: 0.9263 - val_loss: 1.4848 - val_categorical_accuracy: 0.9198\n",
      "Epoch 88/100\n",
      "7735/7735 [==============================] - 3s 364us/sample - loss: 1.4247 - categorical_accuracy: 0.9263 - val_loss: 1.4833 - val_categorical_accuracy: 0.9198\n",
      "Epoch 89/100\n",
      "7735/7735 [==============================] - 3s 366us/sample - loss: 1.4195 - categorical_accuracy: 0.9267 - val_loss: 1.4787 - val_categorical_accuracy: 0.9209\n",
      "Epoch 90/100\n",
      "7735/7735 [==============================] - 3s 368us/sample - loss: 1.4140 - categorical_accuracy: 0.9281 - val_loss: 1.4802 - val_categorical_accuracy: 0.9186\n",
      "Epoch 91/100\n",
      "7735/7735 [==============================] - 3s 372us/sample - loss: 1.4091 - categorical_accuracy: 0.9294 - val_loss: 1.4760 - val_categorical_accuracy: 0.9233\n",
      "Epoch 92/100\n",
      "7735/7735 [==============================] - 3s 368us/sample - loss: 1.4048 - categorical_accuracy: 0.9323 - val_loss: 1.4709 - val_categorical_accuracy: 0.9198\n",
      "Epoch 93/100\n",
      "7735/7735 [==============================] - 3s 366us/sample - loss: 1.3999 - categorical_accuracy: 0.9297 - val_loss: 1.4696 - val_categorical_accuracy: 0.9209\n",
      "Epoch 94/100\n",
      "7735/7735 [==============================] - 3s 366us/sample - loss: 1.3969 - categorical_accuracy: 0.9307 - val_loss: 1.4697 - val_categorical_accuracy: 0.9174\n",
      "Epoch 95/100\n",
      "7735/7735 [==============================] - 3s 366us/sample - loss: 1.3909 - categorical_accuracy: 0.9343 - val_loss: 1.4673 - val_categorical_accuracy: 0.9163\n",
      "Epoch 96/100\n",
      "7735/7735 [==============================] - 3s 369us/sample - loss: 1.3884 - categorical_accuracy: 0.9333 - val_loss: 1.4659 - val_categorical_accuracy: 0.9174\n",
      "Epoch 97/100\n",
      "7735/7735 [==============================] - 3s 363us/sample - loss: 1.3831 - categorical_accuracy: 0.9343 - val_loss: 1.4628 - val_categorical_accuracy: 0.9198\n",
      "Epoch 98/100\n",
      "7735/7735 [==============================] - 3s 369us/sample - loss: 1.3800 - categorical_accuracy: 0.9342 - val_loss: 1.4623 - val_categorical_accuracy: 0.9186\n",
      "Epoch 99/100\n",
      "7735/7735 [==============================] - 3s 366us/sample - loss: 1.3762 - categorical_accuracy: 0.9346 - val_loss: 1.4618 - val_categorical_accuracy: 0.9209\n",
      "Epoch 100/100\n",
      "7735/7735 [==============================] - 3s 368us/sample - loss: 1.3743 - categorical_accuracy: 0.9343 - val_loss: 1.4572 - val_categorical_accuracy: 0.9174\n",
      "Train on 7735 samples, validate on 860 samples\n",
      "Epoch 1/100\n",
      "7735/7735 [==============================] - 10s 1ms/sample - loss: 339.9114 - categorical_accuracy: 0.3926 - val_loss: 318.5738 - val_categorical_accuracy: 0.5151\n",
      "Epoch 2/100\n",
      "7735/7735 [==============================] - 3s 367us/sample - loss: 300.4771 - categorical_accuracy: 0.6834 - val_loss: 281.5910 - val_categorical_accuracy: 0.7453\n",
      "Epoch 3/100\n",
      "7735/7735 [==============================] - 3s 368us/sample - loss: 265.4193 - categorical_accuracy: 0.7551 - val_loss: 248.6550 - val_categorical_accuracy: 0.8140\n",
      "Epoch 4/100\n",
      "7735/7735 [==============================] - 3s 367us/sample - loss: 234.2525 - categorical_accuracy: 0.7824 - val_loss: 219.3283 - val_categorical_accuracy: 0.8349\n",
      "Epoch 5/100\n",
      "7735/7735 [==============================] - 3s 367us/sample - loss: 206.5269 - categorical_accuracy: 0.8050 - val_loss: 193.2229 - val_categorical_accuracy: 0.8407\n",
      "Epoch 6/100\n",
      "7735/7735 [==============================] - 3s 368us/sample - loss: 181.8632 - categorical_accuracy: 0.8177 - val_loss: 169.9952 - val_categorical_accuracy: 0.8465\n",
      "Epoch 7/100\n",
      "7735/7735 [==============================] - 3s 364us/sample - loss: 159.9306 - categorical_accuracy: 0.8221 - val_loss: 149.3498 - val_categorical_accuracy: 0.8581\n",
      "Epoch 8/100\n",
      "7735/7735 [==============================] - 3s 362us/sample - loss: 140.4333 - categorical_accuracy: 0.8270 - val_loss: 131.0121 - val_categorical_accuracy: 0.8581\n",
      "Epoch 9/100\n",
      "7735/7735 [==============================] - 3s 359us/sample - loss: 123.1240 - categorical_accuracy: 0.8305 - val_loss: 114.7485 - val_categorical_accuracy: 0.8593\n",
      "Epoch 10/100\n",
      "7735/7735 [==============================] - 3s 363us/sample - loss: 107.7796 - categorical_accuracy: 0.8378 - val_loss: 100.3397 - val_categorical_accuracy: 0.8628\n",
      "Epoch 11/100\n",
      "7735/7735 [==============================] - 3s 361us/sample - loss: 94.1878 - categorical_accuracy: 0.8399 - val_loss: 87.5947 - val_categorical_accuracy: 0.8605\n",
      "Epoch 12/100\n",
      "7735/7735 [==============================] - 3s 364us/sample - loss: 82.1725 - categorical_accuracy: 0.8407 - val_loss: 76.3395 - val_categorical_accuracy: 0.8628\n",
      "Epoch 13/100\n",
      "7735/7735 [==============================] - 3s 359us/sample - loss: 71.5665 - categorical_accuracy: 0.8495 - val_loss: 66.4179 - val_categorical_accuracy: 0.8663\n",
      "Epoch 14/100\n",
      "7735/7735 [==============================] - 3s 362us/sample - loss: 62.2279 - categorical_accuracy: 0.8509 - val_loss: 57.6869 - val_categorical_accuracy: 0.8698\n",
      "Epoch 15/100\n",
      "7735/7735 [==============================] - 3s 364us/sample - loss: 54.0127 - categorical_accuracy: 0.8534 - val_loss: 50.0207 - val_categorical_accuracy: 0.8698\n",
      "Epoch 16/100\n",
      "7735/7735 [==============================] - 3s 362us/sample - loss: 46.8073 - categorical_accuracy: 0.8507 - val_loss: 43.3040 - val_categorical_accuracy: 0.8721\n",
      "Epoch 17/100\n",
      "7735/7735 [==============================] - 3s 362us/sample - loss: 40.4992 - categorical_accuracy: 0.8530 - val_loss: 37.4322 - val_categorical_accuracy: 0.8767\n",
      "Epoch 18/100\n",
      "7735/7735 [==============================] - 3s 364us/sample - loss: 34.9876 - categorical_accuracy: 0.8548 - val_loss: 32.3105 - val_categorical_accuracy: 0.8779\n",
      "Epoch 19/100\n",
      "7735/7735 [==============================] - 3s 363us/sample - loss: 30.1855 - categorical_accuracy: 0.8579 - val_loss: 27.8538 - val_categorical_accuracy: 0.8767\n",
      "Epoch 20/100\n",
      "7735/7735 [==============================] - 3s 363us/sample - loss: 26.0130 - categorical_accuracy: 0.8605 - val_loss: 23.9854 - val_categorical_accuracy: 0.8756\n",
      "Epoch 21/100\n",
      "7735/7735 [==============================] - 3s 362us/sample - loss: 22.3932 - categorical_accuracy: 0.8649 - val_loss: 20.6372 - val_categorical_accuracy: 0.8744\n",
      "Epoch 22/100\n",
      "7735/7735 [==============================] - 3s 363us/sample - loss: 19.2687 - categorical_accuracy: 0.8627 - val_loss: 17.7473 - val_categorical_accuracy: 0.8744\n",
      "Epoch 23/100\n",
      "7735/7735 [==============================] - 3s 364us/sample - loss: 16.5700 - categorical_accuracy: 0.8633 - val_loss: 15.2596 - val_categorical_accuracy: 0.8756\n",
      "Epoch 24/100\n",
      "7735/7735 [==============================] - 3s 363us/sample - loss: 14.2493 - categorical_accuracy: 0.8662 - val_loss: 13.1243 - val_categorical_accuracy: 0.8744\n",
      "Epoch 25/100\n",
      "7735/7735 [==============================] - 3s 362us/sample - loss: 12.2602 - categorical_accuracy: 0.8684 - val_loss: 11.2956 - val_categorical_accuracy: 0.8756\n",
      "Epoch 26/100\n",
      "7735/7735 [==============================] - 3s 364us/sample - loss: 10.5602 - categorical_accuracy: 0.8690 - val_loss: 9.7350 - val_categorical_accuracy: 0.8767\n",
      "Epoch 27/100\n",
      "7735/7735 [==============================] - 3s 362us/sample - loss: 9.1115 - categorical_accuracy: 0.8689 - val_loss: 8.4075 - val_categorical_accuracy: 0.8779\n",
      "Epoch 28/100\n",
      "7735/7735 [==============================] - 3s 361us/sample - loss: 7.8777 - categorical_accuracy: 0.8696 - val_loss: 7.2804 - val_categorical_accuracy: 0.8802\n",
      "Epoch 29/100\n",
      "7735/7735 [==============================] - 3s 363us/sample - loss: 6.8349 - categorical_accuracy: 0.8705 - val_loss: 6.3281 - val_categorical_accuracy: 0.8802\n",
      "Epoch 30/100\n",
      "7735/7735 [==============================] - 3s 363us/sample - loss: 5.9527 - categorical_accuracy: 0.8721 - val_loss: 5.5248 - val_categorical_accuracy: 0.8837\n",
      "Epoch 31/100\n",
      "7735/7735 [==============================] - 3s 363us/sample - loss: 5.2109 - categorical_accuracy: 0.8734 - val_loss: 4.8497 - val_categorical_accuracy: 0.8826\n",
      "Epoch 32/100\n",
      "7735/7735 [==============================] - 3s 361us/sample - loss: 4.5870 - categorical_accuracy: 0.8724 - val_loss: 4.2842 - val_categorical_accuracy: 0.8849\n",
      "Epoch 33/100\n",
      "7735/7735 [==============================] - 3s 363us/sample - loss: 4.0642 - categorical_accuracy: 0.8771 - val_loss: 3.8108 - val_categorical_accuracy: 0.8849\n",
      "Epoch 34/100\n",
      "7735/7735 [==============================] - 3s 356us/sample - loss: 3.6311 - categorical_accuracy: 0.8763 - val_loss: 3.4180 - val_categorical_accuracy: 0.8837\n",
      "Epoch 35/100\n",
      "7735/7735 [==============================] - 3s 361us/sample - loss: 3.2701 - categorical_accuracy: 0.8739 - val_loss: 3.0919 - val_categorical_accuracy: 0.8860\n",
      "Epoch 36/100\n",
      "7735/7735 [==============================] - 3s 362us/sample - loss: 2.9663 - categorical_accuracy: 0.8777 - val_loss: 2.8222 - val_categorical_accuracy: 0.8837\n",
      "Epoch 37/100\n",
      "7735/7735 [==============================] - 3s 363us/sample - loss: 2.7208 - categorical_accuracy: 0.8746 - val_loss: 2.5995 - val_categorical_accuracy: 0.8826\n",
      "Epoch 38/100\n",
      "7735/7735 [==============================] - 3s 364us/sample - loss: 2.5145 - categorical_accuracy: 0.8787 - val_loss: 2.4153 - val_categorical_accuracy: 0.8860\n",
      "Epoch 39/100\n",
      "7735/7735 [==============================] - 3s 361us/sample - loss: 2.3448 - categorical_accuracy: 0.8814 - val_loss: 2.2648 - val_categorical_accuracy: 0.8849\n",
      "Epoch 40/100\n",
      "7735/7735 [==============================] - 3s 363us/sample - loss: 2.2078 - categorical_accuracy: 0.8796 - val_loss: 2.1409 - val_categorical_accuracy: 0.8895\n",
      "Epoch 41/100\n",
      "7735/7735 [==============================] - 3s 363us/sample - loss: 2.0954 - categorical_accuracy: 0.8796 - val_loss: 2.0417 - val_categorical_accuracy: 0.8895\n",
      "Epoch 42/100\n",
      "7735/7735 [==============================] - 3s 363us/sample - loss: 2.0028 - categorical_accuracy: 0.8818 - val_loss: 1.9583 - val_categorical_accuracy: 0.8919\n",
      "Epoch 43/100\n",
      "7735/7735 [==============================] - 3s 362us/sample - loss: 1.9260 - categorical_accuracy: 0.8838 - val_loss: 1.8904 - val_categorical_accuracy: 0.8919\n",
      "Epoch 44/100\n",
      "7735/7735 [==============================] - 3s 363us/sample - loss: 1.8646 - categorical_accuracy: 0.8833 - val_loss: 1.8356 - val_categorical_accuracy: 0.8930\n",
      "Epoch 45/100\n",
      "7735/7735 [==============================] - 3s 363us/sample - loss: 1.8110 - categorical_accuracy: 0.8879 - val_loss: 1.7908 - val_categorical_accuracy: 0.8919\n",
      "Epoch 46/100\n",
      "7735/7735 [==============================] - 3s 363us/sample - loss: 1.7706 - categorical_accuracy: 0.8836 - val_loss: 1.7545 - val_categorical_accuracy: 0.8930\n",
      "Epoch 47/100\n",
      "7735/7735 [==============================] - 3s 363us/sample - loss: 1.7352 - categorical_accuracy: 0.8895 - val_loss: 1.7248 - val_categorical_accuracy: 0.8953\n",
      "Epoch 48/100\n",
      "7735/7735 [==============================] - 3s 362us/sample - loss: 1.7081 - categorical_accuracy: 0.8843 - val_loss: 1.6993 - val_categorical_accuracy: 0.8965\n",
      "Epoch 49/100\n",
      "7735/7735 [==============================] - 3s 362us/sample - loss: 1.6838 - categorical_accuracy: 0.8906 - val_loss: 1.6788 - val_categorical_accuracy: 0.8965\n",
      "Epoch 50/100\n",
      "7735/7735 [==============================] - 3s 362us/sample - loss: 1.6635 - categorical_accuracy: 0.8915 - val_loss: 1.6626 - val_categorical_accuracy: 0.8965\n",
      "Epoch 51/100\n",
      "7735/7735 [==============================] - 3s 362us/sample - loss: 1.6479 - categorical_accuracy: 0.8909 - val_loss: 1.6484 - val_categorical_accuracy: 0.8965\n",
      "Epoch 52/100\n",
      "7735/7735 [==============================] - 3s 363us/sample - loss: 1.6322 - categorical_accuracy: 0.8941 - val_loss: 1.6358 - val_categorical_accuracy: 0.8988\n",
      "Epoch 53/100\n",
      "7735/7735 [==============================] - 3s 360us/sample - loss: 1.6215 - categorical_accuracy: 0.8936 - val_loss: 1.6257 - val_categorical_accuracy: 0.9012\n",
      "Epoch 54/100\n",
      "7735/7735 [==============================] - 3s 363us/sample - loss: 1.6096 - categorical_accuracy: 0.8941 - val_loss: 1.6157 - val_categorical_accuracy: 0.9012\n",
      "Epoch 55/100\n",
      "7735/7735 [==============================] - 3s 362us/sample - loss: 1.6006 - categorical_accuracy: 0.8959 - val_loss: 1.6083 - val_categorical_accuracy: 0.9012\n",
      "Epoch 56/100\n",
      "7735/7735 [==============================] - 3s 362us/sample - loss: 1.5910 - categorical_accuracy: 0.8959 - val_loss: 1.6015 - val_categorical_accuracy: 0.9023\n",
      "Epoch 57/100\n",
      "7735/7735 [==============================] - 3s 363us/sample - loss: 1.5834 - categorical_accuracy: 0.8949 - val_loss: 1.5939 - val_categorical_accuracy: 0.9023\n",
      "Epoch 58/100\n",
      "7735/7735 [==============================] - 3s 364us/sample - loss: 1.5738 - categorical_accuracy: 0.9008 - val_loss: 1.5882 - val_categorical_accuracy: 0.9023\n",
      "Epoch 59/100\n",
      "7735/7735 [==============================] - 3s 362us/sample - loss: 1.5697 - categorical_accuracy: 0.8999 - val_loss: 1.5834 - val_categorical_accuracy: 0.9023\n",
      "Epoch 60/100\n",
      "7735/7735 [==============================] - 3s 363us/sample - loss: 1.5633 - categorical_accuracy: 0.9011 - val_loss: 1.5763 - val_categorical_accuracy: 0.9035\n",
      "Epoch 61/100\n",
      "7735/7735 [==============================] - 3s 362us/sample - loss: 1.5568 - categorical_accuracy: 0.9028 - val_loss: 1.5718 - val_categorical_accuracy: 0.9047\n",
      "Epoch 62/100\n",
      "7735/7735 [==============================] - 3s 362us/sample - loss: 1.5510 - categorical_accuracy: 0.8990 - val_loss: 1.5682 - val_categorical_accuracy: 0.9023\n",
      "Epoch 63/100\n",
      "7735/7735 [==============================] - 3s 363us/sample - loss: 1.5436 - categorical_accuracy: 0.9032 - val_loss: 1.5618 - val_categorical_accuracy: 0.9058\n",
      "Epoch 64/100\n",
      "7735/7735 [==============================] - 3s 363us/sample - loss: 1.5392 - categorical_accuracy: 0.9041 - val_loss: 1.5572 - val_categorical_accuracy: 0.9081\n",
      "Epoch 65/100\n",
      "7735/7735 [==============================] - 3s 363us/sample - loss: 1.5331 - categorical_accuracy: 0.9060 - val_loss: 1.5538 - val_categorical_accuracy: 0.9070\n",
      "Epoch 66/100\n"
     ]
    },
    {
     "name": "stdout",
     "output_type": "stream",
     "text": [
      "7735/7735 [==============================] - 3s 361us/sample - loss: 1.5281 - categorical_accuracy: 0.9070 - val_loss: 1.5480 - val_categorical_accuracy: 0.9070\n",
      "Epoch 67/100\n",
      "7735/7735 [==============================] - 3s 363us/sample - loss: 1.5227 - categorical_accuracy: 0.9070 - val_loss: 1.5446 - val_categorical_accuracy: 0.9081\n",
      "Epoch 68/100\n",
      "7735/7735 [==============================] - 3s 362us/sample - loss: 1.5169 - categorical_accuracy: 0.9100 - val_loss: 1.5433 - val_categorical_accuracy: 0.9070\n",
      "Epoch 69/100\n",
      "7735/7735 [==============================] - 3s 363us/sample - loss: 1.5114 - categorical_accuracy: 0.9099 - val_loss: 1.5363 - val_categorical_accuracy: 0.9093\n",
      "Epoch 70/100\n",
      "7735/7735 [==============================] - 3s 362us/sample - loss: 1.5071 - categorical_accuracy: 0.9083 - val_loss: 1.5327 - val_categorical_accuracy: 0.9093\n",
      "Epoch 71/100\n",
      "7735/7735 [==============================] - 3s 362us/sample - loss: 1.5025 - categorical_accuracy: 0.9100 - val_loss: 1.5290 - val_categorical_accuracy: 0.9081\n",
      "Epoch 72/100\n",
      "7735/7735 [==============================] - 3s 361us/sample - loss: 1.4950 - categorical_accuracy: 0.9139 - val_loss: 1.5241 - val_categorical_accuracy: 0.9081\n",
      "Epoch 73/100\n",
      "7735/7735 [==============================] - 3s 362us/sample - loss: 1.4903 - categorical_accuracy: 0.9158 - val_loss: 1.5204 - val_categorical_accuracy: 0.9116\n",
      "Epoch 74/100\n",
      "7735/7735 [==============================] - 3s 362us/sample - loss: 1.4881 - categorical_accuracy: 0.9134 - val_loss: 1.5186 - val_categorical_accuracy: 0.9081\n",
      "Epoch 75/100\n",
      "7735/7735 [==============================] - 3s 361us/sample - loss: 1.4823 - categorical_accuracy: 0.9161 - val_loss: 1.5144 - val_categorical_accuracy: 0.9093\n",
      "Epoch 76/100\n",
      "7735/7735 [==============================] - 3s 359us/sample - loss: 1.4754 - categorical_accuracy: 0.9173 - val_loss: 1.5096 - val_categorical_accuracy: 0.9116\n",
      "Epoch 77/100\n",
      "7735/7735 [==============================] - 3s 362us/sample - loss: 1.4716 - categorical_accuracy: 0.9182 - val_loss: 1.5078 - val_categorical_accuracy: 0.9151\n",
      "Epoch 78/100\n",
      "7735/7735 [==============================] - 3s 362us/sample - loss: 1.4673 - categorical_accuracy: 0.9179 - val_loss: 1.5048 - val_categorical_accuracy: 0.9163\n",
      "Epoch 79/100\n",
      "7735/7735 [==============================] - 3s 362us/sample - loss: 1.4638 - categorical_accuracy: 0.9179 - val_loss: 1.5026 - val_categorical_accuracy: 0.9151\n",
      "Epoch 80/100\n",
      "7735/7735 [==============================] - 3s 362us/sample - loss: 1.4577 - categorical_accuracy: 0.9214 - val_loss: 1.4962 - val_categorical_accuracy: 0.9186\n",
      "Epoch 81/100\n",
      "7735/7735 [==============================] - 3s 363us/sample - loss: 1.4535 - categorical_accuracy: 0.9209 - val_loss: 1.4945 - val_categorical_accuracy: 0.9163\n",
      "Epoch 82/100\n",
      "7735/7735 [==============================] - 3s 363us/sample - loss: 1.4463 - categorical_accuracy: 0.9239 - val_loss: 1.4906 - val_categorical_accuracy: 0.9174\n",
      "Epoch 83/100\n",
      "7735/7735 [==============================] - 3s 362us/sample - loss: 1.4450 - categorical_accuracy: 0.9233 - val_loss: 1.4872 - val_categorical_accuracy: 0.9174\n",
      "Epoch 84/100\n",
      "7735/7735 [==============================] - 3s 360us/sample - loss: 1.4413 - categorical_accuracy: 0.9236 - val_loss: 1.4849 - val_categorical_accuracy: 0.9151\n",
      "Epoch 85/100\n",
      "7735/7735 [==============================] - 3s 366us/sample - loss: 1.4344 - categorical_accuracy: 0.9233 - val_loss: 1.4831 - val_categorical_accuracy: 0.9186\n",
      "Epoch 86/100\n",
      "7735/7735 [==============================] - 3s 365us/sample - loss: 1.4316 - categorical_accuracy: 0.9251 - val_loss: 1.4764 - val_categorical_accuracy: 0.9198\n",
      "Epoch 87/100\n",
      "7735/7735 [==============================] - 3s 362us/sample - loss: 1.4274 - categorical_accuracy: 0.9286 - val_loss: 1.4754 - val_categorical_accuracy: 0.9174\n",
      "Epoch 88/100\n",
      "7735/7735 [==============================] - 3s 362us/sample - loss: 1.4226 - categorical_accuracy: 0.9242 - val_loss: 1.4720 - val_categorical_accuracy: 0.9221\n",
      "Epoch 89/100\n",
      "7735/7735 [==============================] - 3s 363us/sample - loss: 1.4178 - categorical_accuracy: 0.9280 - val_loss: 1.4690 - val_categorical_accuracy: 0.9221\n",
      "Epoch 90/100\n",
      "7735/7735 [==============================] - 3s 363us/sample - loss: 1.4114 - categorical_accuracy: 0.9295 - val_loss: 1.4644 - val_categorical_accuracy: 0.9209\n",
      "Epoch 91/100\n",
      "7735/7735 [==============================] - 3s 363us/sample - loss: 1.4083 - categorical_accuracy: 0.9304 - val_loss: 1.4652 - val_categorical_accuracy: 0.9244\n",
      "Epoch 92/100\n",
      "7735/7735 [==============================] - 3s 361us/sample - loss: 1.4036 - categorical_accuracy: 0.9307 - val_loss: 1.4633 - val_categorical_accuracy: 0.9221\n",
      "Epoch 93/100\n",
      "7735/7735 [==============================] - 3s 361us/sample - loss: 1.4005 - categorical_accuracy: 0.9289 - val_loss: 1.4584 - val_categorical_accuracy: 0.9233\n",
      "Epoch 94/100\n",
      "7735/7735 [==============================] - 3s 362us/sample - loss: 1.3981 - categorical_accuracy: 0.9339 - val_loss: 1.4550 - val_categorical_accuracy: 0.9221\n",
      "Epoch 95/100\n",
      "7735/7735 [==============================] - 3s 362us/sample - loss: 1.3936 - categorical_accuracy: 0.9311 - val_loss: 1.4533 - val_categorical_accuracy: 0.9244\n",
      "Epoch 96/100\n",
      "7735/7735 [==============================] - 3s 343us/sample - loss: 1.3886 - categorical_accuracy: 0.9332 - val_loss: 1.4509 - val_categorical_accuracy: 0.9233\n",
      "Epoch 97/100\n",
      "7735/7735 [==============================] - 3s 355us/sample - loss: 1.3843 - categorical_accuracy: 0.9342 - val_loss: 1.4485 - val_categorical_accuracy: 0.9267\n",
      "Epoch 98/100\n",
      "7735/7735 [==============================] - 3s 362us/sample - loss: 1.3813 - categorical_accuracy: 0.9345 - val_loss: 1.4487 - val_categorical_accuracy: 0.9256\n",
      "Epoch 99/100\n",
      "7735/7735 [==============================] - 3s 363us/sample - loss: 1.3749 - categorical_accuracy: 0.9368 - val_loss: 1.4424 - val_categorical_accuracy: 0.9244\n",
      "Epoch 100/100\n",
      "7735/7735 [==============================] - 3s 362us/sample - loss: 1.3696 - categorical_accuracy: 0.9386 - val_loss: 1.4457 - val_categorical_accuracy: 0.9244\n"
     ]
    }
   ],
   "source": [
    "webtables_test_scores = []\n",
    "kf = model_selection.StratifiedKFold(n_splits=5, random_state=RANDOM_STATE)\n",
    "X = webtables_analysis_features\n",
    "y = webtables_deduplicated_sampled[\"type\"]\n",
    "for fold, (train_index, test_index) in enumerate(kf.split(X, y)):\n",
    "    X_train_web, X_test_web = X.loc[train_index], X.loc[test_index]\n",
    "    y_train_web, y_test_web = y.loc[train_index], y.loc[test_index]\n",
    "    X_train_web, X_val_web, y_train_web, y_val_web = model_selection.train_test_split(X_train_web, y_train_web, test_size=0.1, random_state=RANDOM_STATE)\n",
    "    \n",
    "    sherlock.build_sherlock(\n",
    "        X_train_web[feature_cols_dict[\"char\"]],\n",
    "        X_train_web[feature_cols_dict[\"word\"]],\n",
    "        X_train_web[feature_cols_dict[\"rest\"]],\n",
    "        X_val_web[feature_cols_dict[\"char\"]],\n",
    "        X_val_web[feature_cols_dict[\"word\"]],\n",
    "        X_val_web[feature_cols_dict[\"rest\"]],\n",
    "        y_train_web,\n",
    "        y_val_web,\n",
    "        f\"webtables_{fold}\"\n",
    "    )\n",
    "    \n",
    "    predicted_labels = predict_sherlock(X_test_web, nn_id=f'webtables_{fold}')    \n",
    "    webtables_test_scores.append(f1_score(y_test_web, predicted_labels, average=\"macro\"))"
   ]
  },
  {
   "cell_type": "code",
   "execution_count": 469,
   "metadata": {},
   "outputs": [
    {
     "data": {
      "text/plain": [
       "(0.8970319830205458, 0.005816997183459325)"
      ]
     },
     "execution_count": 469,
     "metadata": {},
     "output_type": "execute_result"
    }
   ],
   "source": [
    "np.mean(webtables_test_scores), np.std(webtables_test_scores)"
   ]
  },
  {
   "cell_type": "markdown",
   "metadata": {},
   "source": [
    "### How well does a WebTables model generalize to GitTables"
   ]
  },
  {
   "cell_type": "code",
   "execution_count": 470,
   "metadata": {},
   "outputs": [],
   "source": [
    "webtables_gittables_test_scores = []\n",
    "\n",
    "for fold in [0,1,2,3,4]:\n",
    "    predicted_labels = predict_sherlock(X_test_git, nn_id=f'webtables_{fold}')\n",
    "    webtables_gittables_test_scores.append(\n",
    "        f1_score(y_test_git, predicted_labels, average=\"macro\")\n",
    "    )"
   ]
  },
  {
   "cell_type": "code",
   "execution_count": 471,
   "metadata": {},
   "outputs": [
    {
     "data": {
      "text/plain": [
       "[0.6577778845689572,\n",
       " 0.6660475896270208,\n",
       " 0.5644084203345683,\n",
       " 0.6572316330220901,\n",
       " 0.544669490878847]"
      ]
     },
     "execution_count": 471,
     "metadata": {},
     "output_type": "execute_result"
    }
   ],
   "source": [
    "webtables_gittables_test_scores"
   ]
  },
  {
   "cell_type": "code",
   "execution_count": 472,
   "metadata": {},
   "outputs": [
    {
     "data": {
      "text/plain": [
       "(0.6180270036862966, 0.05230561983637378)"
      ]
     },
     "execution_count": 472,
     "metadata": {},
     "output_type": "execute_result"
    }
   ],
   "source": [
    "np.mean(webtables_gittables_test_scores), np.std(webtables_gittables_test_scores)"
   ]
  },
  {
   "cell_type": "code",
   "execution_count": 475,
   "metadata": {},
   "outputs": [
    {
     "data": {
      "text/plain": [
       "address        429\n",
       "class          429\n",
       "status         429\n",
       "name           429\n",
       "description    429\n",
       "Name: type, dtype: int64"
      ]
     },
     "execution_count": 475,
     "metadata": {},
     "output_type": "execute_result"
    }
   ],
   "source": [
    "y_test_git.value_counts()"
   ]
  },
  {
   "cell_type": "code",
   "execution_count": null,
   "metadata": {},
   "outputs": [],
   "source": []
  }
 ],
 "metadata": {
  "kernelspec": {
   "display_name": "sherlock-project",
   "language": "python",
   "name": "sherlock-project"
  },
  "language_info": {
   "codemirror_mode": {
    "name": "ipython",
    "version": 3
   },
   "file_extension": ".py",
   "mimetype": "text/x-python",
   "name": "python",
   "nbconvert_exporter": "python",
   "pygments_lexer": "ipython3",
   "version": "3.6.12"
  }
 },
 "nbformat": 4,
 "nbformat_minor": 2
}
