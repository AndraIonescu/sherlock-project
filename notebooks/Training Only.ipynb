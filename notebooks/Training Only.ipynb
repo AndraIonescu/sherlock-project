{
 "cells": [
  {
   "cell_type": "code",
   "execution_count": 1,
   "metadata": {},
   "outputs": [],
   "source": [
    "nn_model_id = 'retrained_sherlock7'"
   ]
  },
  {
   "cell_type": "code",
   "execution_count": 2,
   "metadata": {},
   "outputs": [],
   "source": [
    "import pandas as pd\n",
    "import numpy as np\n",
    "\n",
    "from sherlock.deploy.train_sherlock import train_sherlock\n",
    "from sherlock.deploy.predict_sherlock import predict_sherlock\n",
    "from datetime import datetime\n",
    "from sklearn.metrics import f1_score"
   ]
  },
  {
   "cell_type": "markdown",
   "metadata": {},
   "source": [
    "### Load training and validation sets"
   ]
  },
  {
   "cell_type": "code",
   "execution_count": 3,
   "metadata": {},
   "outputs": [
    {
     "name": "stdout",
     "output_type": "stream",
     "text": [
      "Started at 2021-01-02 11:00:09.972298\n",
      "Load data (train) process took 0:00:03.346182 seconds.\n"
     ]
    }
   ],
   "source": [
    "start = datetime.now()\n",
    "print(f'Started at {start}')\n",
    "\n",
    "X_train = pd.read_parquet('train.parquet')\n",
    "y_train = pd.read_parquet('../data/raw/train_labels.parquet').values.flatten()\n",
    "\n",
    "print(f'Load data (train) process took {datetime.now() - start} seconds.')"
   ]
  },
  {
   "cell_type": "code",
   "execution_count": 4,
   "metadata": {},
   "outputs": [
    {
     "name": "stdout",
     "output_type": "stream",
     "text": [
      "Distinct types for columns in the Dataframe (should be all float32):\n",
      "{dtype('float32')}\n"
     ]
    }
   ],
   "source": [
    "print('Distinct types for columns in the Dataframe (should be all float32):')\n",
    "print(set(X_train.dtypes))"
   ]
  },
  {
   "cell_type": "code",
   "execution_count": 5,
   "metadata": {},
   "outputs": [
    {
     "name": "stdout",
     "output_type": "stream",
     "text": [
      "Started at 2021-01-02 11:00:13.330179\n",
      "Load data (validation) process took 0:00:01.307804 seconds.\n"
     ]
    }
   ],
   "source": [
    "start = datetime.now()\n",
    "print(f'Started at {start}')\n",
    "\n",
    "X_validation = pd.read_parquet('validation.parquet')\n",
    "y_validation = pd.read_parquet('../data/raw/val_labels.parquet').values.flatten()\n",
    "\n",
    "print(f'Load data (validation) process took {datetime.now() - start} seconds.')"
   ]
  },
  {
   "cell_type": "markdown",
   "metadata": {},
   "source": [
    "### Re-train Sherlock"
   ]
  },
  {
   "cell_type": "code",
   "execution_count": 6,
   "metadata": {},
   "outputs": [
    {
     "name": "stdout",
     "output_type": "stream",
     "text": [
      "Started at 2021-01-02 11:00:14.643737\n"
     ]
    },
    {
     "name": "stderr",
     "output_type": "stream",
     "text": [
      "WARNING: Logging before flag parsing goes to stderr.\n",
      "W0102 11:00:14.845481 4733758912 deprecation.py:506] From /Users/lowecg/source/private-github/sherlock-project/venv/lib/python3.7/site-packages/tensorflow_core/python/ops/init_ops.py:97: calling Zeros.__init__ (from tensorflow.python.ops.init_ops) with dtype is deprecated and will be removed in a future version.\n",
      "Instructions for updating:\n",
      "Call initializer instance with the dtype argument instead of passing it to the constructor\n",
      "W0102 11:00:14.846883 4733758912 deprecation.py:506] From /Users/lowecg/source/private-github/sherlock-project/venv/lib/python3.7/site-packages/tensorflow_core/python/ops/init_ops.py:97: calling Ones.__init__ (from tensorflow.python.ops.init_ops) with dtype is deprecated and will be removed in a future version.\n",
      "Instructions for updating:\n",
      "Call initializer instance with the dtype argument instead of passing it to the constructor\n",
      "W0102 11:00:14.851596 4733758912 deprecation.py:506] From /Users/lowecg/source/private-github/sherlock-project/venv/lib/python3.7/site-packages/tensorflow_core/python/ops/init_ops.py:97: calling VarianceScaling.__init__ (from tensorflow.python.ops.init_ops) with dtype is deprecated and will be removed in a future version.\n",
      "Instructions for updating:\n",
      "Call initializer instance with the dtype argument instead of passing it to the constructor\n",
      "W0102 11:00:14.873270 4733758912 deprecation.py:506] From /Users/lowecg/source/private-github/sherlock-project/venv/lib/python3.7/site-packages/tensorflow_core/python/ops/resource_variable_ops.py:1630: calling BaseResourceVariable.__init__ (from tensorflow.python.ops.resource_variable_ops) with constraint is deprecated and will be removed in a future version.\n",
      "Instructions for updating:\n",
      "If using Keras pass *_constraint arguments to layers.\n"
     ]
    },
    {
     "name": "stdout",
     "output_type": "stream",
     "text": [
      "Successfully loaded and compiled model, now fitting model on data.\n",
      "Train on 412059 samples, validate on 137353 samples\n",
      "Epoch 1/100\n",
      "412059/412059 [==============================] - 67s 162us/sample - loss: 1.6090 - categorical_accuracy: 0.6985 - val_loss: 1.0381 - val_categorical_accuracy: 0.8279\n",
      "Epoch 2/100\n",
      "412059/412059 [==============================] - 63s 153us/sample - loss: 0.9621 - categorical_accuracy: 0.8365 - val_loss: 0.9539 - val_categorical_accuracy: 0.8470\n",
      "Epoch 3/100\n",
      "412059/412059 [==============================] - 65s 158us/sample - loss: 0.8502 - categorical_accuracy: 0.8595 - val_loss: 0.8920 - val_categorical_accuracy: 0.8573\n",
      "Epoch 4/100\n",
      "412059/412059 [==============================] - 66s 160us/sample - loss: 0.7853 - categorical_accuracy: 0.8714 - val_loss: 0.8594 - val_categorical_accuracy: 0.8632\n",
      "Epoch 5/100\n",
      "412059/412059 [==============================] - 64s 154us/sample - loss: 0.7380 - categorical_accuracy: 0.8793 - val_loss: 0.8278 - val_categorical_accuracy: 0.8666\n",
      "Epoch 6/100\n",
      "412059/412059 [==============================] - 64s 156us/sample - loss: 0.6987 - categorical_accuracy: 0.8851 - val_loss: 0.7997 - val_categorical_accuracy: 0.8718\n",
      "Epoch 7/100\n",
      "412059/412059 [==============================] - 65s 157us/sample - loss: 0.6669 - categorical_accuracy: 0.8898 - val_loss: 0.7834 - val_categorical_accuracy: 0.8716\n",
      "Epoch 8/100\n",
      "412059/412059 [==============================] - 65s 157us/sample - loss: 0.6392 - categorical_accuracy: 0.8934 - val_loss: 0.7715 - val_categorical_accuracy: 0.8739\n",
      "Epoch 9/100\n",
      "412059/412059 [==============================] - 65s 158us/sample - loss: 0.6144 - categorical_accuracy: 0.8972 - val_loss: 0.7499 - val_categorical_accuracy: 0.8760\n",
      "Epoch 10/100\n",
      "412059/412059 [==============================] - 64s 154us/sample - loss: 0.5923 - categorical_accuracy: 0.8999 - val_loss: 0.7307 - val_categorical_accuracy: 0.8778\n",
      "Epoch 11/100\n",
      "412059/412059 [==============================] - 64s 156us/sample - loss: 0.5712 - categorical_accuracy: 0.9027 - val_loss: 0.7304 - val_categorical_accuracy: 0.8793\n",
      "Epoch 12/100\n",
      "412059/412059 [==============================] - 63s 153us/sample - loss: 0.5540 - categorical_accuracy: 0.9049 - val_loss: 0.7187 - val_categorical_accuracy: 0.8806\n",
      "Epoch 13/100\n",
      "412059/412059 [==============================] - 64s 156us/sample - loss: 0.5369 - categorical_accuracy: 0.9070 - val_loss: 0.7041 - val_categorical_accuracy: 0.8813\n",
      "Epoch 14/100\n",
      "412059/412059 [==============================] - 66s 160us/sample - loss: 0.5203 - categorical_accuracy: 0.9095 - val_loss: 0.6988 - val_categorical_accuracy: 0.8806\n",
      "Epoch 15/100\n",
      "412059/412059 [==============================] - 63s 154us/sample - loss: 0.5065 - categorical_accuracy: 0.9108 - val_loss: 0.6862 - val_categorical_accuracy: 0.8836\n",
      "Epoch 16/100\n",
      "412059/412059 [==============================] - 63s 152us/sample - loss: 0.4951 - categorical_accuracy: 0.9124 - val_loss: 0.6770 - val_categorical_accuracy: 0.8834\n",
      "Epoch 17/100\n",
      "412059/412059 [==============================] - 61s 148us/sample - loss: 0.4817 - categorical_accuracy: 0.9143 - val_loss: 0.6725 - val_categorical_accuracy: 0.8848\n",
      "Epoch 18/100\n",
      "412059/412059 [==============================] - 62s 150us/sample - loss: 0.4710 - categorical_accuracy: 0.9153 - val_loss: 0.6717 - val_categorical_accuracy: 0.8851\n",
      "Epoch 19/100\n",
      "412059/412059 [==============================] - 61s 149us/sample - loss: 0.4607 - categorical_accuracy: 0.9172 - val_loss: 0.6650 - val_categorical_accuracy: 0.8849\n",
      "Epoch 20/100\n",
      "412059/412059 [==============================] - 61s 148us/sample - loss: 0.4503 - categorical_accuracy: 0.9183 - val_loss: 0.6547 - val_categorical_accuracy: 0.8860\n",
      "Epoch 21/100\n",
      "412059/412059 [==============================] - 62s 149us/sample - loss: 0.4402 - categorical_accuracy: 0.9197 - val_loss: 0.6581 - val_categorical_accuracy: 0.8868\n",
      "Epoch 22/100\n",
      "412059/412059 [==============================] - 63s 152us/sample - loss: 0.4323 - categorical_accuracy: 0.9207 - val_loss: 0.6512 - val_categorical_accuracy: 0.8878\n",
      "Epoch 23/100\n",
      "412059/412059 [==============================] - 65s 157us/sample - loss: 0.4236 - categorical_accuracy: 0.9219 - val_loss: 0.6492 - val_categorical_accuracy: 0.8873\n",
      "Epoch 24/100\n",
      "412059/412059 [==============================] - 63s 152us/sample - loss: 0.4167 - categorical_accuracy: 0.9232 - val_loss: 0.6458 - val_categorical_accuracy: 0.8873\n",
      "Epoch 25/100\n",
      "412059/412059 [==============================] - 64s 155us/sample - loss: 0.4100 - categorical_accuracy: 0.9240 - val_loss: 0.6439 - val_categorical_accuracy: 0.8880\n",
      "Epoch 26/100\n",
      "412059/412059 [==============================] - 63s 152us/sample - loss: 0.4036 - categorical_accuracy: 0.9250 - val_loss: 0.6417 - val_categorical_accuracy: 0.8895\n",
      "Epoch 27/100\n",
      "412059/412059 [==============================] - 67s 164us/sample - loss: 0.3972 - categorical_accuracy: 0.9257 - val_loss: 0.6332 - val_categorical_accuracy: 0.8898\n",
      "Epoch 28/100\n",
      "412059/412059 [==============================] - 66s 160us/sample - loss: 0.3918 - categorical_accuracy: 0.9262 - val_loss: 0.6261 - val_categorical_accuracy: 0.8900\n",
      "Epoch 29/100\n",
      "412059/412059 [==============================] - 61s 149us/sample - loss: 0.3863 - categorical_accuracy: 0.9274 - val_loss: 0.6277 - val_categorical_accuracy: 0.8906\n",
      "Epoch 30/100\n",
      "412059/412059 [==============================] - 62s 150us/sample - loss: 0.3811 - categorical_accuracy: 0.9280 - val_loss: 0.6222 - val_categorical_accuracy: 0.8913\n",
      "Epoch 31/100\n",
      "412059/412059 [==============================] - 62s 150us/sample - loss: 0.3756 - categorical_accuracy: 0.9291 - val_loss: 0.6271 - val_categorical_accuracy: 0.8907\n",
      "Epoch 32/100\n",
      "412059/412059 [==============================] - 61s 147us/sample - loss: 0.3705 - categorical_accuracy: 0.9302 - val_loss: 0.6281 - val_categorical_accuracy: 0.8907\n",
      "Epoch 33/100\n",
      "412059/412059 [==============================] - 65s 157us/sample - loss: 0.3660 - categorical_accuracy: 0.9306 - val_loss: 0.6279 - val_categorical_accuracy: 0.8914\n",
      "Epoch 34/100\n",
      "412059/412059 [==============================] - 63s 154us/sample - loss: 0.3623 - categorical_accuracy: 0.9310 - val_loss: 0.6203 - val_categorical_accuracy: 0.8916\n",
      "Epoch 35/100\n",
      "412059/412059 [==============================] - 63s 152us/sample - loss: 0.3583 - categorical_accuracy: 0.9314 - val_loss: 0.6207 - val_categorical_accuracy: 0.8918\n",
      "Epoch 36/100\n",
      "412059/412059 [==============================] - 64s 156us/sample - loss: 0.3535 - categorical_accuracy: 0.9325 - val_loss: 0.6288 - val_categorical_accuracy: 0.8909\n",
      "Epoch 37/100\n",
      "412059/412059 [==============================] - 66s 160us/sample - loss: 0.3515 - categorical_accuracy: 0.9326 - val_loss: 0.6202 - val_categorical_accuracy: 0.8928\n",
      "Epoch 38/100\n",
      "412059/412059 [==============================] - 66s 159us/sample - loss: 0.3480 - categorical_accuracy: 0.9332 - val_loss: 0.6163 - val_categorical_accuracy: 0.8928\n",
      "Epoch 39/100\n",
      "412059/412059 [==============================] - 65s 157us/sample - loss: 0.3451 - categorical_accuracy: 0.9339 - val_loss: 0.6121 - val_categorical_accuracy: 0.8931\n",
      "Epoch 40/100\n",
      "412059/412059 [==============================] - 66s 161us/sample - loss: 0.3404 - categorical_accuracy: 0.9346 - val_loss: 0.6189 - val_categorical_accuracy: 0.8924\n",
      "Epoch 41/100\n",
      "412059/412059 [==============================] - 65s 157us/sample - loss: 0.3394 - categorical_accuracy: 0.9346 - val_loss: 0.6186 - val_categorical_accuracy: 0.8933\n",
      "Epoch 42/100\n",
      "412059/412059 [==============================] - 63s 154us/sample - loss: 0.3357 - categorical_accuracy: 0.9355 - val_loss: 0.6110 - val_categorical_accuracy: 0.8932\n",
      "Epoch 43/100\n",
      "412059/412059 [==============================] - 64s 157us/sample - loss: 0.3331 - categorical_accuracy: 0.9354 - val_loss: 0.6181 - val_categorical_accuracy: 0.8921\n",
      "Epoch 44/100\n",
      "412059/412059 [==============================] - 64s 156us/sample - loss: 0.3300 - categorical_accuracy: 0.9365 - val_loss: 0.6199 - val_categorical_accuracy: 0.8926\n",
      "Epoch 45/100\n",
      "412059/412059 [==============================] - 65s 157us/sample - loss: 0.3290 - categorical_accuracy: 0.9360 - val_loss: 0.6129 - val_categorical_accuracy: 0.8935\n",
      "Epoch 46/100\n"
     ]
    },
    {
     "name": "stdout",
     "output_type": "stream",
     "text": [
      "412059/412059 [==============================] - 65s 158us/sample - loss: 0.3259 - categorical_accuracy: 0.9371 - val_loss: 0.6221 - val_categorical_accuracy: 0.8929\n",
      "Epoch 47/100\n",
      "412059/412059 [==============================] - 67s 162us/sample - loss: 0.3240 - categorical_accuracy: 0.9373 - val_loss: 0.6251 - val_categorical_accuracy: 0.8938\n",
      "Retrained Sherlock.\n",
      "Trained and saved new model.\n",
      "Finished at 2021-01-02 11:50:23.381405, took 0:50:08.737683 seconds\n"
     ]
    }
   ],
   "source": [
    "start = datetime.now()\n",
    "print(f'Started at {start}')\n",
    "\n",
    "train_sherlock(X_train, y_train, X_validation, y_validation, nn_id=nn_model_id);\n",
    "\n",
    "print('Trained and saved new model.')\n",
    "print(f'Finished at {datetime.now()}, took {datetime.now() - start} seconds')"
   ]
  },
  {
   "cell_type": "markdown",
   "metadata": {},
   "source": [
    "### Load test set"
   ]
  },
  {
   "cell_type": "code",
   "execution_count": 7,
   "metadata": {},
   "outputs": [
    {
     "name": "stdout",
     "output_type": "stream",
     "text": [
      "Started at 2021-01-02 11:50:23.386788\n",
      "Trained and saved new model.\n",
      "Finished at 2021-01-02 11:50:25.281776, took 0:00:01.894999 seconds\n"
     ]
    }
   ],
   "source": [
    "start = datetime.now()\n",
    "print(f'Started at {start}')\n",
    "\n",
    "X_test = pd.read_parquet('test.parquet')\n",
    "y_test = pd.read_parquet('../data/raw/test_labels.parquet').values.flatten()\n",
    "\n",
    "print('Trained and saved new model.')\n",
    "print(f'Finished at {datetime.now()}, took {datetime.now() - start} seconds')"
   ]
  },
  {
   "cell_type": "markdown",
   "metadata": {},
   "source": [
    "### Make prediction"
   ]
  },
  {
   "cell_type": "code",
   "execution_count": 8,
   "metadata": {},
   "outputs": [],
   "source": [
    "predicted_labels = predict_sherlock(X_test, nn_id=nn_model_id)"
   ]
  },
  {
   "cell_type": "code",
   "execution_count": 9,
   "metadata": {},
   "outputs": [
    {
     "name": "stdout",
     "output_type": "stream",
     "text": [
      "prediction count 137353, type = <class 'numpy.ndarray'>\n"
     ]
    },
    {
     "data": {
      "text/plain": [
       "0.8941992181577104"
      ]
     },
     "execution_count": 9,
     "metadata": {},
     "output_type": "execute_result"
    }
   ],
   "source": [
    "print(f'prediction count {len(predicted_labels)}, type = {type(predicted_labels)}')\n",
    "\n",
    "size=len(y_test)\n",
    "\n",
    "# Should be fully deterministic too.\n",
    "f1_score(y_test[:size], predicted_labels[:size], average=\"weighted\")"
   ]
  },
  {
   "cell_type": "code",
   "execution_count": 10,
   "metadata": {},
   "outputs": [],
   "source": [
    "# Best results\n",
    "# 0.8946297512938394\n",
    "\n",
    "# LAST\n",
    "# 0.8941992181577104\n",
    "# 0.8661276466591463\n",
    "# 0.8765360861865846\n",
    "# 0.8777825108666634\n",
    "# 0.8709458033528152"
   ]
  },
  {
   "cell_type": "markdown",
   "metadata": {},
   "source": [
    "## Review errors"
   ]
  },
  {
   "cell_type": "code",
   "execution_count": 11,
   "metadata": {},
   "outputs": [
    {
     "name": "stdout",
     "output_type": "stream",
     "text": [
      "Total mismatches: 14497 (F1 score: 0.8941992181577104)\n"
     ]
    },
    {
     "data": {
      "text/plain": [
       "[('name', 788),\n",
       " ('rank', 729),\n",
       " ('position', 548),\n",
       " ('location', 518),\n",
       " ('region', 484),\n",
       " ('description', 464),\n",
       " ('artist', 419),\n",
       " ('team', 406),\n",
       " ('area', 371),\n",
       " ('notes', 357),\n",
       " ('category', 337),\n",
       " ('type', 333),\n",
       " ('album', 314),\n",
       " ('product', 310),\n",
       " ('company', 293),\n",
       " ('gender', 291),\n",
       " ('ranking', 287),\n",
       " ('city', 283),\n",
       " ('code', 275),\n",
       " ('team Name', 275),\n",
       " ('day', 270),\n",
       " ('class', 237),\n",
       " ('owner', 202),\n",
       " ('person', 201),\n",
       " ('country', 200),\n",
       " ('status', 198),\n",
       " ('year', 188),\n",
       " ('credit', 181),\n",
       " ('manufacturer', 180),\n",
       " ('brand', 180),\n",
       " ('result', 178),\n",
       " ('sex', 171),\n",
       " ('service', 171),\n",
       " ('order', 166),\n",
       " ('weight', 166),\n",
       " ('duration', 162),\n",
       " ('address', 162),\n",
       " ('plays', 161),\n",
       " ('sales', 157),\n",
       " ('format', 148),\n",
       " ('component', 147),\n",
       " ('age', 143),\n",
       " ('range', 142),\n",
       " ('origin', 139),\n",
       " ('club', 133),\n",
       " ('state', 124),\n",
       " ('county', 118),\n",
       " ('nationality', 108),\n",
       " ('publisher', 106),\n",
       " ('director', 105),\n",
       " ('capacity', 104),\n",
       " ('symbol', 102),\n",
       " ('command', 91),\n",
       " ('affiliation', 90),\n",
       " ('family', 84),\n",
       " ('classification', 81),\n",
       " ('language', 76),\n",
       " ('operator', 73),\n",
       " ('depth', 72),\n",
       " ('education', 65),\n",
       " ('requirement', 62),\n",
       " ('creator', 58),\n",
       " ('elevation', 56),\n",
       " ('genre', 50),\n",
       " ('organisation', 49),\n",
       " ('file Size', 43),\n",
       " ('industry', 42),\n",
       " ('species', 42),\n",
       " ('affiliate', 37),\n",
       " ('birth Place', 33),\n",
       " ('collection', 31),\n",
       " ('religion', 27),\n",
       " ('continent', 24),\n",
       " ('jockey', 23),\n",
       " ('grades', 15),\n",
       " ('isbn', 15),\n",
       " ('birth Date', 14),\n",
       " ('currency', 12)]"
      ]
     },
     "execution_count": 11,
     "metadata": {},
     "output_type": "execute_result"
    }
   ],
   "source": [
    "from collections import Counter\n",
    "\n",
    "size = len(y_test)\n",
    "mismatches = list()\n",
    "\n",
    "for idx, k1 in enumerate(y_test[:size]):\n",
    "    k2 = predicted_labels[idx]\n",
    "\n",
    "    if k1 != k2:\n",
    "        mismatches.append(k1)\n",
    "#        if k1 in ('brand'):\n",
    "#        print(f'[{idx}] expected \"{k1}\" but predicted \"{k2}\"')\n",
    "        \n",
    "f1 = f1_score(y_test[:size], predicted_labels[:size], average=\"weighted\")\n",
    "print(f'Total mismatches: {len(mismatches)} (F1 score: {f1})')\n",
    "\n",
    "data = Counter(mismatches)\n",
    "data.most_common()   # Returns all unique items and their counts"
   ]
  },
  {
   "cell_type": "code",
   "execution_count": 12,
   "metadata": {},
   "outputs": [],
   "source": [
    "test_samples = pd.read_parquet('../data/raw/test_values.parquet')"
   ]
  },
  {
   "cell_type": "code",
   "execution_count": 13,
   "metadata": {},
   "outputs": [
    {
     "name": "stdout",
     "output_type": "stream",
     "text": [
      "Predicted \"age\", actual label \"position\". Actual values:\n",
      "[[2, 4]]\n"
     ]
    }
   ],
   "source": [
    "from ast import literal_eval\n",
    "\n",
    "idx = 541\n",
    "original = test_samples.iloc[idx]\n",
    "converted = original.apply(literal_eval).to_list()\n",
    "\n",
    "print(f'Predicted \"{predicted_labels[idx]}\", actual label \"{y_test[idx]}\". Actual values:\\n{converted}')"
   ]
  },
  {
   "cell_type": "code",
   "execution_count": null,
   "metadata": {},
   "outputs": [],
   "source": []
  }
 ],
 "metadata": {
  "kernelspec": {
   "display_name": "Python 3",
   "language": "python",
   "name": "python3"
  },
  "language_info": {
   "codemirror_mode": {
    "name": "ipython",
    "version": 3
   },
   "file_extension": ".py",
   "mimetype": "text/x-python",
   "name": "python",
   "nbconvert_exporter": "python",
   "pygments_lexer": "ipython3",
   "version": "3.7.9"
  }
 },
 "nbformat": 4,
 "nbformat_minor": 4
}
