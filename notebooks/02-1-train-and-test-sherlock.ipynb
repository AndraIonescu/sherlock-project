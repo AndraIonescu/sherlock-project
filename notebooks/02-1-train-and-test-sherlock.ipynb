{
 "cells": [
  {
   "cell_type": "markdown",
   "metadata": {},
   "source": [
    "# This notebook enables training and testing of Sherlock.\n",
    "The procedure is:\n",
    "- Load train, val, test datasets (should be preprocessed)\n",
    "- Initialize model using the \"pretrained\" model or by training one from scratch.\n",
    "- Evaluate and analyse the model predictions."
   ]
  },
  {
   "cell_type": "code",
   "execution_count": 1,
   "metadata": {
    "scrolled": true
   },
   "outputs": [],
   "source": [
    "%load_ext autoreload\n",
    "%autoreload 2"
   ]
  },
  {
   "cell_type": "code",
   "execution_count": 2,
   "metadata": {},
   "outputs": [],
   "source": [
    "model_id = 'retrained_sherlock'"
   ]
  },
  {
   "cell_type": "code",
   "execution_count": 3,
   "metadata": {},
   "outputs": [],
   "source": [
    "from ast import literal_eval\n",
    "from collections import Counter\n",
    "from datetime import datetime\n",
    "\n",
    "import numpy as np\n",
    "import pandas as pd\n",
    "\n",
    "from sklearn.metrics import f1_score, classification_report\n",
    "\n",
    "from sherlock.deploy.model import SherlockModel"
   ]
  },
  {
   "cell_type": "markdown",
   "metadata": {},
   "source": [
    "## Load datasets for training, validation, testing"
   ]
  },
  {
   "cell_type": "code",
   "execution_count": 4,
   "metadata": {},
   "outputs": [
    {
     "name": "stdout",
     "output_type": "stream",
     "text": [
      "Started at 2022-02-10 18:47:37.581529\n",
      "Load data (train) process took 0:00:06.286789 seconds.\n"
     ]
    }
   ],
   "source": [
    "start = datetime.now()\n",
    "print(f'Started at {start}')\n",
    "\n",
    "X_train = pd.read_parquet('../data/data/processed/train.parquet')\n",
    "y_train = pd.read_parquet('../data/data/raw/train_labels.parquet').values.flatten()\n",
    "\n",
    "y_train = np.array([x.lower() for x in y_train])\n",
    "\n",
    "print(f'Load data (train) process took {datetime.now() - start} seconds.')"
   ]
  },
  {
   "cell_type": "code",
   "execution_count": 5,
   "metadata": {},
   "outputs": [
    {
     "name": "stdout",
     "output_type": "stream",
     "text": [
      "Distinct types for columns in the Dataframe (should be all float32):\n",
      "{dtype('float32')}\n"
     ]
    }
   ],
   "source": [
    "print('Distinct types for columns in the Dataframe (should be all float32):')\n",
    "print(set(X_train.dtypes))"
   ]
  },
  {
   "cell_type": "code",
   "execution_count": 6,
   "metadata": {},
   "outputs": [
    {
     "name": "stdout",
     "output_type": "stream",
     "text": [
      "Started at 2022-02-10 18:47:44.189431\n",
      "Load data (validation) process took 0:00:01.713314 seconds.\n"
     ]
    }
   ],
   "source": [
    "start = datetime.now()\n",
    "print(f'Started at {start}')\n",
    "\n",
    "X_validation = pd.read_parquet('../data/data/processed/validation.parquet')\n",
    "y_validation = pd.read_parquet('../data/data/raw/val_labels.parquet').values.flatten()\n",
    "\n",
    "y_validation = np.array([x.lower() for x in y_validation])\n",
    "\n",
    "print(f'Load data (validation) process took {datetime.now() - start} seconds.')"
   ]
  },
  {
   "cell_type": "code",
   "execution_count": 7,
   "metadata": {},
   "outputs": [
    {
     "name": "stdout",
     "output_type": "stream",
     "text": [
      "Started at 2022-02-10 18:47:45.963358\n",
      "Finished at 2022-02-10 18:47:48.373023, took 0:00:02.409678 seconds\n"
     ]
    }
   ],
   "source": [
    "start = datetime.now()\n",
    "print(f'Started at {start}')\n",
    "\n",
    "X_test = pd.read_parquet('../data/data/processed/test.parquet')\n",
    "y_test = pd.read_parquet('../data/data/raw/test_labels.parquet').values.flatten()\n",
    "\n",
    "y_test = np.array([x.lower() for x in y_test])\n",
    "\n",
    "print(f'Finished at {datetime.now()}, took {datetime.now() - start} seconds')"
   ]
  },
  {
   "cell_type": "markdown",
   "metadata": {},
   "source": [
    "## Initialize the model\n",
    "Two options:\n",
    "- Load Sherlock model with pretrained weights\n",
    "- Fit Sherlock model from scratch"
   ]
  },
  {
   "cell_type": "markdown",
   "metadata": {},
   "source": [
    "### Load Sherlock with pretrained weights"
   ]
  },
  {
   "cell_type": "code",
   "execution_count": 25,
   "metadata": {
    "scrolled": true
   },
   "outputs": [
    {
     "name": "stdout",
     "output_type": "stream",
     "text": [
      "Started at 2022-02-10 18:55:58.217413\n",
      "Initialized model.\n",
      "Finished at 2022-02-10 18:55:59.172945, took 0:00:00.955544 seconds\n"
     ]
    }
   ],
   "source": [
    "start = datetime.now()\n",
    "print(f'Started at {start}')\n",
    "\n",
    "model = SherlockModel()\n",
    "model.initialize_model_from_json(with_weights=True)\n",
    "\n",
    "print('Initialized model.')\n",
    "print(f'Finished at {datetime.now()}, took {datetime.now() - start} seconds')"
   ]
  },
  {
   "cell_type": "markdown",
   "metadata": {},
   "source": [
    "### Fit Sherlock from scratch (and save for later use)"
   ]
  },
  {
   "cell_type": "code",
   "execution_count": 41,
   "metadata": {
    "scrolled": true
   },
   "outputs": [
    {
     "name": "stdout",
     "output_type": "stream",
     "text": [
      "Started at 2022-02-10 20:48:03.023090\n",
      "Train on 412059 samples, validate on 137353 samples\n",
      "Epoch 1/100\n",
      "412059/412059 [==============================] - 73s 177us/sample - loss: 1.6144 - categorical_accuracy: 0.6971 - val_loss: 1.0390 - val_categorical_accuracy: 0.8300\n",
      "Epoch 2/100\n",
      "412059/412059 [==============================] - 70s 170us/sample - loss: 0.9628 - categorical_accuracy: 0.8359 - val_loss: 0.9472 - val_categorical_accuracy: 0.8491\n",
      "Epoch 3/100\n",
      "412059/412059 [==============================] - 70s 171us/sample - loss: 0.8533 - categorical_accuracy: 0.8586 - val_loss: 0.8953 - val_categorical_accuracy: 0.8580\n",
      "Epoch 4/100\n",
      "412059/412059 [==============================] - 68s 166us/sample - loss: 0.7860 - categorical_accuracy: 0.8715 - val_loss: 0.8617 - val_categorical_accuracy: 0.8637\n",
      "Epoch 5/100\n",
      "412059/412059 [==============================] - 69s 168us/sample - loss: 0.7388 - categorical_accuracy: 0.8789 - val_loss: 0.8268 - val_categorical_accuracy: 0.8682\n",
      "Epoch 6/100\n",
      "412059/412059 [==============================] - 70s 170us/sample - loss: 0.7010 - categorical_accuracy: 0.8852 - val_loss: 0.8113 - val_categorical_accuracy: 0.8699\n",
      "Epoch 7/100\n",
      "412059/412059 [==============================] - 71s 172us/sample - loss: 0.6674 - categorical_accuracy: 0.8896 - val_loss: 0.7839 - val_categorical_accuracy: 0.8720\n",
      "Epoch 8/100\n",
      "412059/412059 [==============================] - 70s 171us/sample - loss: 0.6406 - categorical_accuracy: 0.8939 - val_loss: 0.7652 - val_categorical_accuracy: 0.8754\n",
      "Epoch 9/100\n",
      "412059/412059 [==============================] - 70s 171us/sample - loss: 0.6147 - categorical_accuracy: 0.8970 - val_loss: 0.7455 - val_categorical_accuracy: 0.8763\n",
      "Epoch 10/100\n",
      "412059/412059 [==============================] - 69s 168us/sample - loss: 0.5918 - categorical_accuracy: 0.9005 - val_loss: 0.7366 - val_categorical_accuracy: 0.8781\n",
      "Epoch 11/100\n",
      "412059/412059 [==============================] - 71s 173us/sample - loss: 0.5734 - categorical_accuracy: 0.9022 - val_loss: 0.7283 - val_categorical_accuracy: 0.8807\n",
      "Epoch 12/100\n",
      "412059/412059 [==============================] - 70s 169us/sample - loss: 0.5543 - categorical_accuracy: 0.9051 - val_loss: 0.7156 - val_categorical_accuracy: 0.8799\n",
      "Epoch 13/100\n",
      "412059/412059 [==============================] - 70s 169us/sample - loss: 0.5373 - categorical_accuracy: 0.9069 - val_loss: 0.7066 - val_categorical_accuracy: 0.8812\n",
      "Epoch 14/100\n",
      "412059/412059 [==============================] - 70s 170us/sample - loss: 0.5219 - categorical_accuracy: 0.9093 - val_loss: 0.6935 - val_categorical_accuracy: 0.8824\n",
      "Epoch 15/100\n",
      "412059/412059 [==============================] - 71s 172us/sample - loss: 0.5074 - categorical_accuracy: 0.9109 - val_loss: 0.6861 - val_categorical_accuracy: 0.8837\n",
      "Epoch 16/100\n",
      "412059/412059 [==============================] - 71s 172us/sample - loss: 0.4940 - categorical_accuracy: 0.9128 - val_loss: 0.6828 - val_categorical_accuracy: 0.8859\n",
      "Epoch 17/100\n",
      "412059/412059 [==============================] - 70s 169us/sample - loss: 0.4819 - categorical_accuracy: 0.9147 - val_loss: 0.6756 - val_categorical_accuracy: 0.8857\n",
      "Epoch 18/100\n",
      "412059/412059 [==============================] - 70s 170us/sample - loss: 0.4706 - categorical_accuracy: 0.9159 - val_loss: 0.6664 - val_categorical_accuracy: 0.8861\n",
      "Epoch 19/100\n",
      "412059/412059 [==============================] - 70s 170us/sample - loss: 0.4593 - categorical_accuracy: 0.9172 - val_loss: 0.6627 - val_categorical_accuracy: 0.8868\n",
      "Epoch 20/100\n",
      "412059/412059 [==============================] - 71s 172us/sample - loss: 0.4491 - categorical_accuracy: 0.9186 - val_loss: 0.6623 - val_categorical_accuracy: 0.8867\n",
      "Epoch 21/100\n",
      "412059/412059 [==============================] - 70s 170us/sample - loss: 0.4399 - categorical_accuracy: 0.9198 - val_loss: 0.6573 - val_categorical_accuracy: 0.8883\n",
      "Epoch 22/100\n",
      "412059/412059 [==============================] - 70s 171us/sample - loss: 0.4331 - categorical_accuracy: 0.9207 - val_loss: 0.6486 - val_categorical_accuracy: 0.8884\n",
      "Epoch 23/100\n",
      "412059/412059 [==============================] - 70s 169us/sample - loss: 0.4241 - categorical_accuracy: 0.9221 - val_loss: 0.6499 - val_categorical_accuracy: 0.8889\n",
      "Epoch 24/100\n",
      "412059/412059 [==============================] - 76s 183us/sample - loss: 0.4168 - categorical_accuracy: 0.9230 - val_loss: 0.6432 - val_categorical_accuracy: 0.8906\n",
      "Epoch 25/100\n",
      "412059/412059 [==============================] - 71s 171us/sample - loss: 0.4098 - categorical_accuracy: 0.9241 - val_loss: 0.6417 - val_categorical_accuracy: 0.8896\n",
      "Epoch 26/100\n",
      "412059/412059 [==============================] - 70s 170us/sample - loss: 0.4029 - categorical_accuracy: 0.9246 - val_loss: 0.6344 - val_categorical_accuracy: 0.8901\n",
      "Epoch 27/100\n",
      "412059/412059 [==============================] - 70s 170us/sample - loss: 0.3965 - categorical_accuracy: 0.9261 - val_loss: 0.6409 - val_categorical_accuracy: 0.8911\n",
      "Epoch 28/100\n",
      "412059/412059 [==============================] - 70s 170us/sample - loss: 0.3909 - categorical_accuracy: 0.9266 - val_loss: 0.6341 - val_categorical_accuracy: 0.8901\n",
      "Epoch 29/100\n",
      "412059/412059 [==============================] - 71s 173us/sample - loss: 0.3844 - categorical_accuracy: 0.9275 - val_loss: 0.6272 - val_categorical_accuracy: 0.8906\n",
      "Epoch 30/100\n",
      "412059/412059 [==============================] - 75s 182us/sample - loss: 0.3798 - categorical_accuracy: 0.9283 - val_loss: 0.6249 - val_categorical_accuracy: 0.8915\n",
      "Epoch 31/100\n",
      "412059/412059 [==============================] - 72s 174us/sample - loss: 0.3744 - categorical_accuracy: 0.9297 - val_loss: 0.6229 - val_categorical_accuracy: 0.8920\n",
      "Epoch 32/100\n",
      "412059/412059 [==============================] - 70s 170us/sample - loss: 0.3700 - categorical_accuracy: 0.9302 - val_loss: 0.6198 - val_categorical_accuracy: 0.8920\n",
      "Epoch 33/100\n",
      "412059/412059 [==============================] - 71s 172us/sample - loss: 0.3661 - categorical_accuracy: 0.9307 - val_loss: 0.6238 - val_categorical_accuracy: 0.8919\n",
      "Epoch 34/100\n",
      "412059/412059 [==============================] - 70s 171us/sample - loss: 0.3614 - categorical_accuracy: 0.9311 - val_loss: 0.6186 - val_categorical_accuracy: 0.8926\n",
      "Epoch 35/100\n",
      "412059/412059 [==============================] - 68s 166us/sample - loss: 0.3579 - categorical_accuracy: 0.9320 - val_loss: 0.6219 - val_categorical_accuracy: 0.8924\n",
      "Epoch 36/100\n",
      "412059/412059 [==============================] - 71s 171us/sample - loss: 0.3532 - categorical_accuracy: 0.9326 - val_loss: 0.6191 - val_categorical_accuracy: 0.8922\n",
      "Epoch 37/100\n",
      "412059/412059 [==============================] - 71s 172us/sample - loss: 0.3517 - categorical_accuracy: 0.9328 - val_loss: 0.6137 - val_categorical_accuracy: 0.8932\n",
      "Epoch 38/100\n",
      "412059/412059 [==============================] - 69s 168us/sample - loss: 0.3464 - categorical_accuracy: 0.9336 - val_loss: 0.6201 - val_categorical_accuracy: 0.8937\n",
      "Epoch 39/100\n",
      "412059/412059 [==============================] - 68s 165us/sample - loss: 0.3445 - categorical_accuracy: 0.9340 - val_loss: 0.6211 - val_categorical_accuracy: 0.8929\n",
      "Epoch 40/100\n",
      "412059/412059 [==============================] - 67s 162us/sample - loss: 0.3394 - categorical_accuracy: 0.9350 - val_loss: 0.6199 - val_categorical_accuracy: 0.8934\n",
      "Epoch 41/100\n",
      "412059/412059 [==============================] - 68s 165us/sample - loss: 0.3377 - categorical_accuracy: 0.9351 - val_loss: 0.6216 - val_categorical_accuracy: 0.8934\n",
      "Epoch 42/100\n",
      "412059/412059 [==============================] - 70s 169us/sample - loss: 0.3356 - categorical_accuracy: 0.9352 - val_loss: 0.6155 - val_categorical_accuracy: 0.8939\n",
      "Trained and saved new model.\n",
      "Finished at 2022-02-10 21:37:31.052443, took 0:49:28.030848 seconds\n"
     ]
    }
   ],
   "source": [
    "start = datetime.now()\n",
    "print(f'Started at {start}')\n",
    "\n",
    "sherlock_model = SherlockModel()\n",
    "model.fit(X_train, y_train, X_validation, y_validation, model_id=model_id)\n",
    "\n",
    "print('Trained and saved new model.')\n",
    "print(f'Finished at {datetime.now()}, took {datetime.now() - start} seconds')"
   ]
  },
  {
   "cell_type": "code",
   "execution_count": 42,
   "metadata": {},
   "outputs": [],
   "source": [
    "model.store_weights(model_id=model_id)"
   ]
  },
  {
   "cell_type": "code",
   "execution_count": null,
   "metadata": {},
   "outputs": [],
   "source": []
  },
  {
   "cell_type": "markdown",
   "metadata": {},
   "source": [
    "### Make prediction"
   ]
  },
  {
   "cell_type": "code",
   "execution_count": 50,
   "metadata": {},
   "outputs": [],
   "source": [
    "predicted_labels = model.predict(X_test)\n",
    "predicted_labels = np.array([x.lower() for x in predicted_labels])"
   ]
  },
  {
   "cell_type": "code",
   "execution_count": 51,
   "metadata": {},
   "outputs": [
    {
     "name": "stdout",
     "output_type": "stream",
     "text": [
      "prediction count 137353, type = <class 'numpy.ndarray'>\n"
     ]
    },
    {
     "data": {
      "text/plain": [
       "0.8937685721454983"
      ]
     },
     "execution_count": 51,
     "metadata": {},
     "output_type": "execute_result"
    }
   ],
   "source": [
    "print(f'prediction count {len(predicted_labels)}, type = {type(predicted_labels)}')\n",
    "\n",
    "size=len(y_test)\n",
    "\n",
    "# Should be fully deterministic too.\n",
    "f1_score(y_test[:size], predicted_labels[:size], average=\"weighted\")"
   ]
  },
  {
   "cell_type": "code",
   "execution_count": 52,
   "metadata": {},
   "outputs": [],
   "source": [
    "# If using the original model, model_id should be replaced with \"sherlock\"\n",
    "classes = np.load(f\"../model_files/classes_{model_id}.npy\", allow_pickle=True)\n",
    "\n",
    "report = classification_report(y_test, predicted_labels, output_dict=True)\n",
    "\n",
    "class_scores = list(filter(lambda x: isinstance(x, tuple) and isinstance(x[1], dict) and 'f1-score' in x[1] and x[0] in classes, list(report.items())))\n",
    "\n",
    "class_scores = sorted(class_scores, key=lambda item: item[1]['f1-score'], reverse=True)"
   ]
  },
  {
   "cell_type": "markdown",
   "metadata": {},
   "source": [
    "### Top 5 Types"
   ]
  },
  {
   "cell_type": "code",
   "execution_count": 53,
   "metadata": {},
   "outputs": [
    {
     "name": "stdout",
     "output_type": "stream",
     "text": [
      "\t\tf1-score\tprecision\trecall\t\tsupport\n",
      "grades\t\t0.993\t\t0.994\t\t0.993\t\t1765\n",
      "isbn\t\t0.990\t\t0.992\t\t0.987\t\t1430\n",
      "jockey\t\t0.986\t\t0.980\t\t0.992\t\t2819\n",
      "currency\t0.980\t\t0.987\t\t0.973\t\t405\n",
      "industry\t0.980\t\t0.975\t\t0.985\t\t2958\n"
     ]
    }
   ],
   "source": [
    "print(f\"\\t\\tf1-score\\tprecision\\trecall\\t\\tsupport\")\n",
    "\n",
    "for key, value in class_scores[0:5]:\n",
    "    if len(key) >= 8:\n",
    "        tabs = '\\t' * 1\n",
    "    else:\n",
    "        tabs = '\\t' * 2\n",
    "\n",
    "    print(f\"{key}{tabs}{value['f1-score']:.3f}\\t\\t{value['precision']:.3f}\\t\\t{value['recall']:.3f}\\t\\t{value['support']}\")"
   ]
  },
  {
   "cell_type": "markdown",
   "metadata": {},
   "source": [
    "### Bottom 5 Types"
   ]
  },
  {
   "cell_type": "code",
   "execution_count": 54,
   "metadata": {
    "scrolled": true
   },
   "outputs": [
    {
     "name": "stdout",
     "output_type": "stream",
     "text": [
      "\t\tf1-score\tprecision\trecall\t\tsupport\n",
      "rank\t\t0.706\t\t0.631\t\t0.802\t\t2983\n",
      "person\t\t0.665\t\t0.721\t\t0.617\t\t579\n",
      "director\t0.581\t\t0.673\t\t0.511\t\t225\n",
      "sales\t\t0.555\t\t0.554\t\t0.556\t\t322\n",
      "ranking\t\t0.486\t\t0.722\t\t0.367\t\t439\n"
     ]
    }
   ],
   "source": [
    "print(f\"\\t\\tf1-score\\tprecision\\trecall\\t\\tsupport\")\n",
    "\n",
    "for key, value in class_scores[len(class_scores)-5:len(class_scores)]:\n",
    "    if len(key) >= 8:\n",
    "        tabs = '\\t' * 1\n",
    "    else:\n",
    "        tabs = '\\t' * 2\n",
    "\n",
    "    print(f\"{key}{tabs}{value['f1-score']:.3f}\\t\\t{value['precision']:.3f}\\t\\t{value['recall']:.3f}\\t\\t{value['support']}\")"
   ]
  },
  {
   "cell_type": "markdown",
   "metadata": {},
   "source": [
    "### All Scores"
   ]
  },
  {
   "cell_type": "code",
   "execution_count": 55,
   "metadata": {},
   "outputs": [
    {
     "name": "stdout",
     "output_type": "stream",
     "text": [
      "                precision    recall  f1-score   support\n",
      "\n",
      "       address      0.944     0.936     0.940      3003\n",
      "     affiliate      0.922     0.814     0.865       204\n",
      "   affiliation      0.978     0.951     0.964      1768\n",
      "           age      0.847     0.960     0.900      3033\n",
      "         album      0.863     0.904     0.883      3035\n",
      "          area      0.911     0.802     0.853      1987\n",
      "        artist      0.810     0.870     0.839      3043\n",
      "    birth date      0.979     0.977     0.978       479\n",
      "   birth place      0.970     0.916     0.942       418\n",
      "         brand      0.779     0.707     0.742       574\n",
      "      capacity      0.773     0.715     0.743       362\n",
      "      category      0.915     0.886     0.900      3087\n",
      "          city      0.856     0.889     0.872      2966\n",
      "         class      0.920     0.911     0.915      2971\n",
      "classification      0.924     0.848     0.885       587\n",
      "          club      0.962     0.962     0.962      2977\n",
      "          code      0.931     0.902     0.916      2956\n",
      "    collection      0.982     0.933     0.957       476\n",
      "       command      0.929     0.919     0.924      1045\n",
      "       company      0.895     0.890     0.892      3041\n",
      "     component      0.875     0.878     0.877      1226\n",
      "     continent      0.905     0.877     0.890       227\n",
      "       country      0.894     0.942     0.917      3038\n",
      "        county      0.937     0.960     0.948      2959\n",
      "       creator      0.829     0.827     0.828       347\n",
      "        credit      0.860     0.840     0.849       941\n",
      "      currency      0.987     0.973     0.980       405\n",
      "           day      0.938     0.893     0.915      3038\n",
      "         depth      0.922     0.930     0.926       947\n",
      "   description      0.804     0.861     0.832      3042\n",
      "      director      0.673     0.511     0.581       225\n",
      "      duration      0.945     0.936     0.941      3000\n",
      "     education      0.805     0.789     0.797       313\n",
      "     elevation      0.961     0.944     0.952      1299\n",
      "        family      0.961     0.901     0.930       746\n",
      "     file size      0.913     0.867     0.889       361\n",
      "        format      0.973     0.955     0.964      2956\n",
      "        gender      0.806     0.787     0.797      1030\n",
      "         genre      0.951     0.954     0.953      1163\n",
      "        grades      0.994     0.993     0.993      1765\n",
      "      industry      0.975     0.985     0.980      2958\n",
      "          isbn      0.992     0.987     0.990      1430\n",
      "        jockey      0.980     0.992     0.986      2819\n",
      "      language      0.837     0.963     0.896      1474\n",
      "      location      0.865     0.834     0.849      2949\n",
      "  manufacturer      0.848     0.819     0.833       945\n",
      "          name      0.732     0.748     0.740      3017\n",
      "   nationality      0.823     0.748     0.784       424\n",
      "         notes      0.769     0.842     0.804      2303\n",
      "      operator      0.808     0.832     0.820       404\n",
      "         order      0.949     0.826     0.883      1462\n",
      "  organisation      0.844     0.828     0.836       262\n",
      "        origin      0.957     0.887     0.921      1439\n",
      "         owner      0.939     0.874     0.905      1673\n",
      "        person      0.721     0.617     0.665       579\n",
      "         plays      0.842     0.900     0.870      1513\n",
      "      position      0.831     0.820     0.826      3057\n",
      "       product      0.890     0.864     0.877      2647\n",
      "     publisher      0.943     0.881     0.911       880\n",
      "         range      0.839     0.766     0.801       577\n",
      "          rank      0.631     0.802     0.706      2983\n",
      "       ranking      0.722     0.367     0.486       439\n",
      "        region      0.831     0.827     0.829      2740\n",
      "      religion      0.963     0.909     0.935       340\n",
      "   requirement      0.949     0.800     0.868       300\n",
      "        result      0.969     0.934     0.951      2920\n",
      "         sales      0.554     0.556     0.555       322\n",
      "       service      0.972     0.921     0.946      2222\n",
      "           sex      0.921     0.915     0.918      2997\n",
      "       species      0.921     0.951     0.936       819\n",
      "         state      0.922     0.961     0.941      3030\n",
      "        status      0.951     0.930     0.940      3100\n",
      "        symbol      0.952     0.952     0.952      1752\n",
      "          team      0.867     0.858     0.863      3011\n",
      "     team name      0.899     0.828     0.862      1639\n",
      "          type      0.871     0.882     0.877      2909\n",
      "        weight      0.954     0.930     0.942      2963\n",
      "          year      0.964     0.936     0.950      3015\n",
      "\n",
      "      accuracy                          0.894    137353\n",
      "     macro avg      0.887     0.866     0.875    137353\n",
      "  weighted avg      0.896     0.894     0.894    137353\n",
      "\n"
     ]
    }
   ],
   "source": [
    "print(classification_report(y_test, predicted_labels, digits=3))"
   ]
  },
  {
   "cell_type": "markdown",
   "metadata": {},
   "source": [
    "## Review errors"
   ]
  },
  {
   "cell_type": "code",
   "execution_count": 56,
   "metadata": {},
   "outputs": [
    {
     "name": "stdout",
     "output_type": "stream",
     "text": [
      "[1116] expected \"address\" but predicted \"name\"\n",
      "[1578] expected \"address\" but predicted \"language\"\n",
      "[2420] expected \"address\" but predicted \"club\"\n",
      "[2616] expected \"address\" but predicted \"city\"\n",
      "[3398] expected \"address\" but predicted \"city\"\n",
      "[4380] expected \"address\" but predicted \"county\"\n",
      "[4422] expected \"address\" but predicted \"city\"\n",
      "[5112] expected \"address\" but predicted \"location\"\n",
      "[5546] expected \"address\" but predicted \"name\"\n",
      "[5647] expected \"address\" but predicted \"team name\"\n",
      "[7119] expected \"address\" but predicted \"day\"\n",
      "[8797] expected \"address\" but predicted \"location\"\n",
      "[9354] expected \"address\" but predicted \"location\"\n",
      "[9574] expected \"address\" but predicted \"location\"\n",
      "[9806] expected \"address\" but predicted \"city\"\n",
      "[10035] expected \"address\" but predicted \"creator\"\n",
      "[10067] expected \"address\" but predicted \"education\"\n",
      "[11055] expected \"address\" but predicted \"city\"\n",
      "[11902] expected \"address\" but predicted \"location\"\n",
      "[12072] expected \"address\" but predicted \"artist\"\n",
      "[12639] expected \"address\" but predicted \"location\"\n",
      "[14677] expected \"address\" but predicted \"location\"\n",
      "[15232] expected \"address\" but predicted \"city\"\n",
      "[15461] expected \"address\" but predicted \"location\"\n",
      "[15496] expected \"address\" but predicted \"city\"\n",
      "[16212] expected \"address\" but predicted \"location\"\n",
      "[19953] expected \"address\" but predicted \"county\"\n",
      "[20829] expected \"address\" but predicted \"language\"\n",
      "[21408] expected \"address\" but predicted \"description\"\n",
      "[22148] expected \"address\" but predicted \"location\"\n",
      "[22355] expected \"address\" but predicted \"location\"\n",
      "[23915] expected \"address\" but predicted \"location\"\n",
      "[24636] expected \"address\" but predicted \"team name\"\n",
      "[24803] expected \"address\" but predicted \"day\"\n",
      "[26171] expected \"address\" but predicted \"name\"\n",
      "[26184] expected \"address\" but predicted \"name\"\n",
      "[26210] expected \"address\" but predicted \"state\"\n",
      "[26296] expected \"address\" but predicted \"file size\"\n",
      "[26559] expected \"address\" but predicted \"location\"\n",
      "[26872] expected \"address\" but predicted \"command\"\n",
      "[30403] expected \"address\" but predicted \"language\"\n",
      "[31391] expected \"address\" but predicted \"location\"\n",
      "[31515] expected \"address\" but predicted \"location\"\n",
      "[31830] expected \"address\" but predicted \"location\"\n",
      "[31836] expected \"address\" but predicted \"language\"\n",
      "[31976] expected \"address\" but predicted \"location\"\n",
      "[32429] expected \"address\" but predicted \"artist\"\n",
      "[32551] expected \"address\" but predicted \"city\"\n",
      "[32634] expected \"address\" but predicted \"location\"\n",
      "[32762] expected \"address\" but predicted \"name\"\n",
      "[33207] expected \"address\" but predicted \"region\"\n",
      "[33975] expected \"address\" but predicted \"location\"\n",
      "[34547] expected \"address\" but predicted \"location\"\n",
      "[34849] expected \"address\" but predicted \"location\"\n",
      "[35467] expected \"address\" but predicted \"location\"\n",
      "[35756] expected \"address\" but predicted \"city\"\n",
      "[35907] expected \"address\" but predicted \"county\"\n",
      "[35938] expected \"address\" but predicted \"language\"\n",
      "[36033] expected \"address\" but predicted \"name\"\n",
      "[37084] expected \"address\" but predicted \"person\"\n",
      "[37318] expected \"address\" but predicted \"language\"\n",
      "[37536] expected \"address\" but predicted \"language\"\n",
      "[38118] expected \"address\" but predicted \"location\"\n",
      "[40184] expected \"address\" but predicted \"notes\"\n",
      "[40457] expected \"address\" but predicted \"country\"\n",
      "[41540] expected \"address\" but predicted \"location\"\n",
      "[42439] expected \"address\" but predicted \"description\"\n",
      "[44906] expected \"address\" but predicted \"location\"\n",
      "[44918] expected \"address\" but predicted \"area\"\n",
      "[46430] expected \"address\" but predicted \"location\"\n",
      "[46463] expected \"address\" but predicted \"notes\"\n",
      "[47140] expected \"address\" but predicted \"team name\"\n",
      "[47249] expected \"address\" but predicted \"language\"\n",
      "[47497] expected \"address\" but predicted \"location\"\n",
      "[47636] expected \"address\" but predicted \"location\"\n",
      "[47713] expected \"address\" but predicted \"city\"\n",
      "[47810] expected \"address\" but predicted \"category\"\n",
      "[48016] expected \"address\" but predicted \"location\"\n",
      "[48289] expected \"address\" but predicted \"location\"\n",
      "[48631] expected \"address\" but predicted \"location\"\n",
      "[50317] expected \"address\" but predicted \"name\"\n",
      "[50329] expected \"address\" but predicted \"location\"\n",
      "[50783] expected \"address\" but predicted \"city\"\n",
      "[51643] expected \"address\" but predicted \"city\"\n",
      "[51897] expected \"address\" but predicted \"location\"\n",
      "[52120] expected \"address\" but predicted \"city\"\n",
      "[54248] expected \"address\" but predicted \"area\"\n",
      "[55535] expected \"address\" but predicted \"language\"\n",
      "[56030] expected \"address\" but predicted \"description\"\n",
      "[57015] expected \"address\" but predicted \"location\"\n",
      "[57851] expected \"address\" but predicted \"location\"\n",
      "[58524] expected \"address\" but predicted \"location\"\n",
      "[59506] expected \"address\" but predicted \"name\"\n",
      "[59632] expected \"address\" but predicted \"location\"\n",
      "[59734] expected \"address\" but predicted \"location\"\n",
      "[60105] expected \"address\" but predicted \"location\"\n",
      "[60225] expected \"address\" but predicted \"language\"\n",
      "[60441] expected \"address\" but predicted \"location\"\n",
      "[60565] expected \"address\" but predicted \"region\"\n",
      "[61783] expected \"address\" but predicted \"location\"\n",
      "[61894] expected \"address\" but predicted \"language\"\n",
      "[61975] expected \"address\" but predicted \"capacity\"\n",
      "[64427] expected \"address\" but predicted \"region\"\n",
      "[67142] expected \"address\" but predicted \"code\"\n",
      "[68698] expected \"address\" but predicted \"area\"\n",
      "[69794] expected \"address\" but predicted \"city\"\n",
      "[70071] expected \"address\" but predicted \"location\"\n",
      "[71228] expected \"address\" but predicted \"location\"\n",
      "[71784] expected \"address\" but predicted \"symbol\"\n",
      "[72226] expected \"address\" but predicted \"notes\"\n",
      "[73451] expected \"address\" but predicted \"name\"\n",
      "[73573] expected \"address\" but predicted \"name\"\n",
      "[74228] expected \"address\" but predicted \"elevation\"\n",
      "[75861] expected \"address\" but predicted \"location\"\n",
      "[75893] expected \"address\" but predicted \"notes\"\n",
      "[76551] expected \"address\" but predicted \"language\"\n",
      "[77502] expected \"address\" but predicted \"location\"\n",
      "[77796] expected \"address\" but predicted \"city\"\n",
      "[78437] expected \"address\" but predicted \"location\"\n",
      "[80712] expected \"address\" but predicted \"name\"\n",
      "[81288] expected \"address\" but predicted \"city\"\n",
      "[82082] expected \"address\" but predicted \"artist\"\n",
      "[82779] expected \"address\" but predicted \"range\"\n",
      "[83204] expected \"address\" but predicted \"name\"\n",
      "[84979] expected \"address\" but predicted \"country\"\n",
      "[85206] expected \"address\" but predicted \"location\"\n",
      "[85353] expected \"address\" but predicted \"creator\"\n",
      "[85752] expected \"address\" but predicted \"language\"\n",
      "[85930] expected \"address\" but predicted \"language\"\n",
      "[85971] expected \"address\" but predicted \"location\"\n",
      "[86084] expected \"address\" but predicted \"name\"\n",
      "[86891] expected \"address\" but predicted \"rank\"\n",
      "[87332] expected \"address\" but predicted \"capacity\"\n",
      "[87413] expected \"address\" but predicted \"location\"\n",
      "[87891] expected \"address\" but predicted \"sales\"\n",
      "[87958] expected \"address\" but predicted \"affiliation\"\n",
      "[89058] expected \"address\" but predicted \"city\"\n",
      "[89800] expected \"address\" but predicted \"location\"\n",
      "[90054] expected \"address\" but predicted \"name\"\n",
      "[90466] expected \"address\" but predicted \"location\"\n",
      "[90582] expected \"address\" but predicted \"city\"\n",
      "[92393] expected \"address\" but predicted \"location\"\n",
      "[93361] expected \"address\" but predicted \"city\"\n",
      "[93557] expected \"address\" but predicted \"country\"\n",
      "[95411] expected \"address\" but predicted \"location\"\n",
      "[95748] expected \"address\" but predicted \"location\"\n",
      "[95769] expected \"address\" but predicted \"city\"\n",
      "[96379] expected \"address\" but predicted \"location\"\n",
      "[96640] expected \"address\" but predicted \"product\"\n",
      "[96728] expected \"address\" but predicted \"state\"\n",
      "[99038] expected \"address\" but predicted \"name\"\n",
      "[99237] expected \"address\" but predicted \"location\"\n",
      "[100797] expected \"address\" but predicted \"symbol\"\n",
      "[101634] expected \"address\" but predicted \"area\"\n",
      "[102060] expected \"address\" but predicted \"name\"\n",
      "[103165] expected \"address\" but predicted \"language\"\n",
      "[103681] expected \"address\" but predicted \"location\"\n",
      "[105085] expected \"address\" but predicted \"city\"\n",
      "[107281] expected \"address\" but predicted \"location\"\n",
      "[108550] expected \"address\" but predicted \"grades\"\n",
      "[109367] expected \"address\" but predicted \"region\"\n",
      "[109427] expected \"address\" but predicted \"result\"\n",
      "[109740] expected \"address\" but predicted \"city\"\n",
      "[111142] expected \"address\" but predicted \"location\"\n",
      "[113711] expected \"address\" but predicted \"location\"\n",
      "[114356] expected \"address\" but predicted \"day\"\n",
      "[114372] expected \"address\" but predicted \"area\"\n",
      "[114485] expected \"address\" but predicted \"description\"\n",
      "[115607] expected \"address\" but predicted \"region\"\n",
      "[116630] expected \"address\" but predicted \"county\"\n",
      "[118623] expected \"address\" but predicted \"language\"\n",
      "[120003] expected \"address\" but predicted \"owner\"\n",
      "[120180] expected \"address\" but predicted \"description\"\n",
      "[122561] expected \"address\" but predicted \"language\"\n",
      "[123013] expected \"address\" but predicted \"rank\"\n",
      "[123713] expected \"address\" but predicted \"location\"\n",
      "[124794] expected \"address\" but predicted \"company\"\n",
      "[124809] expected \"address\" but predicted \"location\"\n",
      "[125936] expected \"address\" but predicted \"location\"\n",
      "[126147] expected \"address\" but predicted \"location\"\n",
      "[126442] expected \"address\" but predicted \"capacity\"\n",
      "[126729] expected \"address\" but predicted \"location\"\n",
      "[127753] expected \"address\" but predicted \"education\"\n",
      "[131254] expected \"address\" but predicted \"company\"\n",
      "[131693] expected \"address\" but predicted \"location\"\n",
      "[132446] expected \"address\" but predicted \"location\"\n",
      "[132881] expected \"address\" but predicted \"artist\"\n",
      "[132989] expected \"address\" but predicted \"location\"\n",
      "[133669] expected \"address\" but predicted \"album\"\n",
      "[133805] expected \"address\" but predicted \"name\"\n",
      "[136727] expected \"address\" but predicted \"status\"\n",
      "[136771] expected \"address\" but predicted \"location\"\n",
      "[137027] expected \"address\" but predicted \"location\"\n"
     ]
    },
    {
     "name": "stdout",
     "output_type": "stream",
     "text": [
      "Total mismatches: 14623 (F1 score: 0.8937685721454983)\n"
     ]
    },
    {
     "data": {
      "text/plain": [
       "[('name', 761),\n",
       " ('rank', 592),\n",
       " ('position', 551),\n",
       " ('location', 489),\n",
       " ('region', 473),\n",
       " ('team', 428),\n",
       " ('description', 422),\n",
       " ('artist', 395),\n",
       " ('area', 394),\n",
       " ('notes', 364),\n",
       " ('product', 361),\n",
       " ('category', 353),\n",
       " ('type', 342),\n",
       " ('company', 335),\n",
       " ('city', 330),\n",
       " ('day', 326),\n",
       " ('album', 292),\n",
       " ('code', 290),\n",
       " ('team name', 282),\n",
       " ('ranking', 278),\n",
       " ('class', 264),\n",
       " ('order', 254),\n",
       " ('sex', 254),\n",
       " ('person', 222),\n",
       " ('gender', 219),\n",
       " ('status', 217),\n",
       " ('owner', 211),\n",
       " ('weight', 206),\n",
       " ('result', 194),\n",
       " ('year', 193),\n",
       " ('address', 193),\n",
       " ('duration', 191),\n",
       " ('country', 177),\n",
       " ('service', 176),\n",
       " ('manufacturer', 171),\n",
       " ('brand', 168),\n",
       " ('origin', 162),\n",
       " ('plays', 152),\n",
       " ('credit', 151),\n",
       " ('component', 149),\n",
       " ('sales', 143),\n",
       " ('range', 135),\n",
       " ('format', 133),\n",
       " ('age', 122),\n",
       " ('county', 118),\n",
       " ('state', 117),\n",
       " ('club', 113),\n",
       " ('director', 110),\n",
       " ('nationality', 107),\n",
       " ('publisher', 105),\n",
       " ('capacity', 103),\n",
       " ('classification', 89),\n",
       " ('affiliation', 87),\n",
       " ('command', 85),\n",
       " ('symbol', 84),\n",
       " ('family', 74),\n",
       " ('elevation', 73),\n",
       " ('operator', 68),\n",
       " ('education', 66),\n",
       " ('depth', 66),\n",
       " ('creator', 60),\n",
       " ('requirement', 60),\n",
       " ('language', 54),\n",
       " ('genre', 53),\n",
       " ('file size', 48),\n",
       " ('organisation', 45),\n",
       " ('industry', 43),\n",
       " ('species', 40),\n",
       " ('affiliate', 38),\n",
       " ('birth place', 35),\n",
       " ('collection', 32),\n",
       " ('religion', 31),\n",
       " ('continent', 28),\n",
       " ('jockey', 23),\n",
       " ('isbn', 18),\n",
       " ('grades', 13),\n",
       " ('currency', 11),\n",
       " ('birth date', 11)]"
      ]
     },
     "execution_count": 56,
     "metadata": {},
     "output_type": "execute_result"
    }
   ],
   "source": [
    "size = len(y_test)\n",
    "mismatches = list()\n",
    "\n",
    "for idx, k1 in enumerate(y_test[:size]):\n",
    "    k2 = predicted_labels[idx]\n",
    "\n",
    "    if k1 != k2:\n",
    "        mismatches.append(k1)\n",
    "        \n",
    "        # zoom in to specific errors. Use the index in the next step\n",
    "        if k1 in ('address'):\n",
    "            print(f'[{idx}] expected \"{k1}\" but predicted \"{k2}\"')\n",
    "        \n",
    "f1 = f1_score(y_test[:size], predicted_labels[:size], average=\"weighted\")\n",
    "print(f'Total mismatches: {len(mismatches)} (F1 score: {f1})')\n",
    "\n",
    "data = Counter(mismatches)\n",
    "data.most_common()   # Returns all unique items and their counts"
   ]
  },
  {
   "cell_type": "code",
   "execution_count": 57,
   "metadata": {},
   "outputs": [],
   "source": [
    "test_samples = pd.read_parquet('../data/data/raw/test_values.parquet')"
   ]
  },
  {
   "cell_type": "code",
   "execution_count": 58,
   "metadata": {},
   "outputs": [
    {
     "name": "stdout",
     "output_type": "stream",
     "text": [
      "Predicted \"address\", actual label \"address\". Actual values:\n",
      "[['Cabot House', 'Cabot House', '5 Hill Rd.', '5 Hill Rd.', '9 Cabot Rd.', '9 Cabot Rd.', 'Cabot House', '22 Bank Rd.', '22 Bank Rd.', 'Cabot House', '31 Bank Rd.', '31 Bank Rd.', 'Bairds Hotel', '11 Cabot Rd.', '11 Cabot Rd.', '10 Hill Rd.', '10 Hill Rd.', '10 Hill Rd.', '10 Hill Rd.', '7A Church Rd.', '1 Cabot Rd.', '1 Cabot Rd.', '1 Cabot Rd.', '1 Cabot Rd.', '2 Coronation St.', '2 Coronation St.', '7A Church Rd.', '12 Hill Rd.', '12 Hill Rd.', '12 Hill Rd.', 'Cabot House', '19 Bank Rd.', '19 Bank Rd.', '19 Bank Rd.', '19 Bank Rd.', '19 Bank Rd.', '7A Church Rd.', '18 Mill Rd.', '17 Hill Rd.', '17 Hill Rd.', 'Cabot House', 'Cabot House', '25 Bank Rd.', '10 Coronation St.', '6 Cabot Rd.', '6 Cabot Rd.', '8 Hill Rd.', '8 Hill Rd.', '4 Mill Rd.', '4 Mill Rd.', '12 Sulva Rd.', '4 Haig Rd.', '13 Botwood Rd.', '13 Botwood Rd.', '8 Botwood Rd.', '8 Botwood Rd.', '16 Botwood Rd.', '16 Botwood Rd.', '16 Botwood Rd.', '16 Botwood Rd.', '56 Beaumont Ave.', '8 Botwood Rd.', '56 Beaumont Ave.', '61 Botwood Rd.', '8 Botwood Rd.', '8 Botwood Rd.', '41 Beaumont Ave.', '41 Beaumont Ave.', '1 Polygon Rd.', '1 Polygon Rd.', '1 Polygon Rd.', '8 Botwood Rd.', '8 Botwood Rd.', '40 Botwood Rd.', '40 Botwood Rd.', '11 Haig Rd.', '11 Haig Rd.', '40 Botwood Rd.', '43 Botwood Rd.', '56 Botwood Rd.', '56 Botwood Rd.', '56 Botwood Rd.', '56 Botwood Rd.', '55 Botwood Rd.', '55 Botwood Rd.', '55 Botwood Rd.', '55 Botwood Rd.', '9 Botwood Rd.', '9 Botwood Rd.', '51 Botwood Rd.', '51 Botwood Rd.', '33 Botwood Rd.', '33 Botwood Rd.', '33 Botwood Rd.', '33 Botwood Rd.', '17 Sulva Rd.', '17 Sulva Rd.', '1 Sulva Rd.', '1 Sulva Rd.', '5B Botwood Rd.', '21 Monchy Rd.', '15 Junction Rd.', '15 Junction Rd.', '15 Junction Rd.', '15 Junction Rd.', '11 Monchy Rd.', '49 Queen St.', '17 Monchy Rd.', '17 Monchy Rd.', '49 Queen St.', '49 Junction Rd.', '49 Junction Rd.', '1 Queen St.', '1 Queen St.', '37 Monchy Rd.', '37 Monchy Rd.', 'Pine Ave Apt. 5', 'Pine Ave Apt. 5', '6 Peronne Rd.', '2 Peronne Rd.', '6 Peronne Rd.', '7 Peronne Rd.', '7 Peronne Rd.', '7 Peronne Rd.', 'Pine Ave. Apt. 19', '13 Queen St.', 'Pine Ave. Apt. 19', '41 Junction Rd.', '13 Queen St.', '4 Pine Ave.', '51 Junction Rd.', '51 Junction Rd.', '6 Monchy Rd.', '6 Monchy Rd.', '1 Peronne Rd.', '1 Peronne Rd.', 'Pine Ave. Apt. 6', 'Pine Ave. Apt. 6', '50 Junction Rd.', '20 Junction Rd.', '20 Junction Rd.', '20 Junction Rd.', 'Pine Ave. Apt. 15', 'Pine Ave. Apt. 15', '23 Monchy Rd.', '23 Monchy Rd.', '5 Peronne Rd.', '15 Queen St.', '15 Queen St.', '15 Queen St.', '24 East St.', '13 East St.', '13 East St.', '4 Railway Rd.', '4 Railway Rd.', '12 Fourth Ave.', '12 Fourth Ave.', '8 Circular Rd.', '8 Circular Rd.', '8 Circular Rd.', '17 Circular Rd.', '17 Circular Rd.', '1A Valley Rd.', '28 Fourth Ave.', '28 Fourth Ave.', '22 East St.', '22 East St.', '15 Fourth Ave.', '11 Third Ave.', '15 Fourth Ave.', '15 Fourth Ave.', '15 Fourth Ave.', '11 Third Ave.', '15 Fourth Ave.', '4 Railway Rd.', '6 Valley Rd.', '4 Railway Rd.', '6 Valley Rd.', '7 West St.', '7 West St.', '22 Circular Rd.', '25 Fourth Ave.', '5 Valley Rd.', '25 Fourth Ave.', '5 Valley Rd.', '5 Fourth Ave.', '5 Fourth Ave.', '15 Valley Rd.', '1 Third Ave.', '1 Third Ave.', '1 Third Ave.', '20 Fourth Ave.', '10 Valley Rd.', '20 Fourth Ave.', '20 Fourth Ave.', '11 East St.', '20 Fourth Ave.', '11 East St.', '2 Railway Rd.', '20 Fourth Ave.', '10 Valley Rd.', '11 East St.', '2 Railway Rd.', '20 East St.', '20 East St.', '20 East St.', '20 East St.', '20 East St.', '10 East St.', '10 East St.', '10 East St.', '11 Railway Rd.', '7 Circular Rd.', '11 Railway Rd.', '11 Railway Rd.', '7 Circular Rd.', '11 Railway Rd.', '3 Fourth Ave.', '13 Fourth Ave.', '4 Third Ave.', '3 Fourth Ave.', '13 Fourth Ave.', '13 Fourth Ave.', '13 Fourth Ave.', '11 Third Ave.', '11 Third Ave.', '13 Fourth Ave.', '3 Fourth Ave.', '10 Circular Rd.', '10 Circular Rd.', '12 Third Ave.', '10 Circular Rd.', '10 Circular Rd.', '12 Third Ave.', '10 Circular Rd.', '5 Railway Rd.', '5 Railway Rd.', '7 Third Ave.', '14 Fourth Ave.', '14 Fourth Ave.', '14 Fourth Ave.', '7 Third Ave.', '14 Fourth Ave.', '14 Fourth Ave.', '14 Fourth Ave.', '26 East St.', '26 East St.', '5 East St.', '5 East St.', '5 East St.', '16 East St.', '15 Third Ave.', '7 Valley Rd.', '15 Third Ave.', '15 Third Ave.', '7 Valley Rd.', '1 Railway Rd.', '1 Railway Rd.', '33 Circular Rd.', '33 Circular Rd.', '33 Circular Rd.', '18 East St.', '18 East St.', '6 Third Ave.', '6 Third Ave.', '25 Circular Rd.', '5 Valley Rd.', '23 Fourth Ave.', '23 Fourth Ave.', '1A Valley Rd.', '37 Circular Rd.', '23 Fourth Ave.', '37 Circular Rd.', '1A Valley Rd.', '24A Fourth Ave.', '24A Fourth Ave.', '1 Fourth Ave.', '1 Fourth Ave.', '1 Fourth Ave.', '2A Valley Rd.', '2A Valley Rd.', '6 Valley Rd.', '30 Fourth Ave.', '30 Fourth Ave.', '19 Fourth Ave.', '19 Fourth Ave.', '3 Valley Rd.', '3 Valley Rd.']]\n"
     ]
    }
   ],
   "source": [
    "idx = 1001\n",
    "original = test_samples.iloc[idx]\n",
    "converted = original.apply(literal_eval).to_list()\n",
    "\n",
    "print(f'Predicted \"{predicted_labels[idx]}\", actual label \"{y_test[idx]}\". Actual values:\\n{converted}')"
   ]
  },
  {
   "cell_type": "code",
   "execution_count": null,
   "metadata": {},
   "outputs": [],
   "source": []
  }
 ],
 "metadata": {
  "kernelspec": {
   "display_name": "Python 3",
   "language": "python",
   "name": "python3"
  },
  "language_info": {
   "codemirror_mode": {
    "name": "ipython",
    "version": 3
   },
   "file_extension": ".py",
   "mimetype": "text/x-python",
   "name": "python",
   "nbconvert_exporter": "python",
   "pygments_lexer": "ipython3",
   "version": "3.6.12"
  }
 },
 "nbformat": 4,
 "nbformat_minor": 4
}
